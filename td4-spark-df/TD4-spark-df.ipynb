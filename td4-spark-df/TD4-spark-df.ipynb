{
  "cells": [
    {
      "cell_type": "markdown",
      "metadata": {
        "id": "lAYjSVXIM66w"
      },
      "source": [
        "<h1><center>Cloud Computing  et informatique distribuée</center></h1>\n",
        "\n",
        "<h2>\n",
        "<hr style=\" border:none; height:3px;\">\n",
        "<center>Exercises: Introduction to Dataframes</center>\n",
        "<hr style=\" border:none; height:3px;\">\n",
        "</h2>"
      ]
    },
    {
      "cell_type": "markdown",
      "metadata": {
        "id": "53PEaLt6Nb5n"
      },
      "source": [
        "# Dataframes\n",
        "\n",
        "In this little set of exercises you'll learn basic of dataframes, in Pandas and Spark.\n",
        "\n",
        "The assignment is presented in  this __Jupyter Notebook__, an interface that offers support for text, code, images and other media. Essentially, a Jupyter Notebook consists of multiple _cells_, either containing some text, like the one that you are reading, or code that you can execute."
      ]
    },
    {
      "cell_type": "markdown",
      "metadata": {
        "id": "glFbySjKjlce"
      },
      "source": [
        "# Pandas Dataframes\n",
        "\n"
      ]
    },
    {
      "cell_type": "code",
      "execution_count": 35,
      "metadata": {
        "id": "1WExUOeCjlch"
      },
      "outputs": [],
      "source": [
        "import pandas as pd\n",
        "import numpy as np\n",
        "df = pd.read_csv('./data/movies_metadata.csv',header=0)"
      ]
    },
    {
      "cell_type": "markdown",
      "metadata": {
        "id": "N8C8-Hn6xK6U"
      },
      "source": [
        "As first step we can explore the columns of the dataframe and looking at the schema:"
      ]
    },
    {
      "cell_type": "code",
      "execution_count": 36,
      "metadata": {
        "colab": {
          "base_uri": "https://localhost:8080/"
        },
        "id": "okVGMrdcxQQR",
        "outputId": "5ce9c228-15af-43b4-df53-25066bea5a6e"
      },
      "outputs": [
        {
          "name": "stdout",
          "output_type": "stream",
          "text": [
            "Columns of the DataFrame:\n",
            "Index(['adult', 'belongs_to_collection', 'budget', 'genres', 'homepage', 'id',\n",
            "       'imdb_id', 'original_language', 'original_title', 'overview',\n",
            "       'popularity', 'poster_path', 'production_companies',\n",
            "       'production_countries', 'release_date', 'revenue', 'runtime',\n",
            "       'spoken_languages', 'status', 'tagline', 'title', 'video',\n",
            "       'vote_average', 'vote_count'],\n",
            "      dtype='object')\n"
          ]
        }
      ],
      "source": [
        "print(\"Columns of the DataFrame:\")\n",
        "print(df.columns)"
      ]
    },
    {
      "cell_type": "markdown",
      "metadata": {
        "id": "Ls4aNWhnxpyw"
      },
      "source": [
        "And we can explore data composition: the data types and the number of elements."
      ]
    },
    {
      "cell_type": "code",
      "execution_count": 37,
      "metadata": {
        "colab": {
          "base_uri": "https://localhost:8080/"
        },
        "id": "2BTCRbNsxwGj",
        "outputId": "a7123091-76fb-4030-b250-18d76499fce8"
      },
      "outputs": [
        {
          "name": "stdout",
          "output_type": "stream",
          "text": [
            "<class 'pandas.core.frame.DataFrame'>\n",
            "RangeIndex: 50 entries, 0 to 49\n",
            "Data columns (total 24 columns):\n",
            " #   Column                 Non-Null Count  Dtype  \n",
            "---  ------                 --------------  -----  \n",
            " 0   adult                  50 non-null     bool   \n",
            " 1   belongs_to_collection  10 non-null     object \n",
            " 2   budget                 50 non-null     int64  \n",
            " 3   genres                 50 non-null     object \n",
            " 4   homepage               5 non-null      object \n",
            " 5   id                     50 non-null     int64  \n",
            " 6   imdb_id                50 non-null     object \n",
            " 7   original_language      50 non-null     object \n",
            " 8   original_title         50 non-null     object \n",
            " 9   overview               49 non-null     object \n",
            " 10  popularity             50 non-null     float64\n",
            " 11  poster_path            50 non-null     object \n",
            " 12  production_companies   50 non-null     object \n",
            " 13  production_countries   50 non-null     object \n",
            " 14  release_date           50 non-null     object \n",
            " 15  revenue                50 non-null     int64  \n",
            " 16  runtime                50 non-null     float64\n",
            " 17  spoken_languages       50 non-null     object \n",
            " 18  status                 50 non-null     object \n",
            " 19  tagline                41 non-null     object \n",
            " 20  title                  50 non-null     object \n",
            " 21  video                  50 non-null     bool   \n",
            " 22  vote_average           50 non-null     float64\n",
            " 23  vote_count             50 non-null     int64  \n",
            "dtypes: bool(2), float64(3), int64(4), object(15)\n",
            "memory usage: 8.8+ KB\n",
            "Details of the DataFrame:\n",
            "None\n"
          ]
        }
      ],
      "source": [
        "result = df.info()\n",
        "print(\"Details of the DataFrame:\")\n",
        "print(result)"
      ]
    },
    {
      "cell_type": "markdown",
      "metadata": {
        "id": "IoLZ45d3x2oT"
      },
      "source": [
        "AS you can see we do not have many url in the dataset: just 5 are specified."
      ]
    },
    {
      "cell_type": "markdown",
      "metadata": {
        "id": "_ZgXH1qPxVaU"
      },
      "source": [
        "We can also look at the content of the first set of columns:"
      ]
    },
    {
      "cell_type": "code",
      "execution_count": 38,
      "metadata": {
        "colab": {
          "base_uri": "https://localhost:8080/",
          "height": 751
        },
        "id": "qLBdXxDZtnPu",
        "outputId": "87e1bb8d-4f89-464e-be55-005ed5e50a1d"
      },
      "outputs": [
        {
          "data": {
            "text/html": [
              "<div>\n",
              "<style scoped>\n",
              "    .dataframe tbody tr th:only-of-type {\n",
              "        vertical-align: middle;\n",
              "    }\n",
              "\n",
              "    .dataframe tbody tr th {\n",
              "        vertical-align: top;\n",
              "    }\n",
              "\n",
              "    .dataframe thead th {\n",
              "        text-align: right;\n",
              "    }\n",
              "</style>\n",
              "<table border=\"1\" class=\"dataframe\">\n",
              "  <thead>\n",
              "    <tr style=\"text-align: right;\">\n",
              "      <th></th>\n",
              "      <th>adult</th>\n",
              "      <th>belongs_to_collection</th>\n",
              "      <th>budget</th>\n",
              "      <th>genres</th>\n",
              "      <th>homepage</th>\n",
              "      <th>id</th>\n",
              "      <th>imdb_id</th>\n",
              "      <th>original_language</th>\n",
              "      <th>original_title</th>\n",
              "      <th>overview</th>\n",
              "      <th>...</th>\n",
              "      <th>release_date</th>\n",
              "      <th>revenue</th>\n",
              "      <th>runtime</th>\n",
              "      <th>spoken_languages</th>\n",
              "      <th>status</th>\n",
              "      <th>tagline</th>\n",
              "      <th>title</th>\n",
              "      <th>video</th>\n",
              "      <th>vote_average</th>\n",
              "      <th>vote_count</th>\n",
              "    </tr>\n",
              "  </thead>\n",
              "  <tbody>\n",
              "    <tr>\n",
              "      <th>0</th>\n",
              "      <td>False</td>\n",
              "      <td>{'id': 10194, 'name': 'Toy Story Collection', ...</td>\n",
              "      <td>30000000</td>\n",
              "      <td>[{'id': 16, 'name': 'Animation'}, {'id': 35, '...</td>\n",
              "      <td>http://toystory.disney.com/toy-story</td>\n",
              "      <td>862</td>\n",
              "      <td>tt0114709</td>\n",
              "      <td>en</td>\n",
              "      <td>Toy Story</td>\n",
              "      <td>Led by Woody, Andy's toys live happily in his ...</td>\n",
              "      <td>...</td>\n",
              "      <td>1995-10-30</td>\n",
              "      <td>373554033</td>\n",
              "      <td>81.0</td>\n",
              "      <td>[{'iso_639_1': 'en', 'name': 'English'}]</td>\n",
              "      <td>Released</td>\n",
              "      <td>NaN</td>\n",
              "      <td>Toy Story</td>\n",
              "      <td>False</td>\n",
              "      <td>7.7</td>\n",
              "      <td>5415</td>\n",
              "    </tr>\n",
              "    <tr>\n",
              "      <th>1</th>\n",
              "      <td>False</td>\n",
              "      <td>NaN</td>\n",
              "      <td>65000000</td>\n",
              "      <td>[{'id': 12, 'name': 'Adventure'}, {'id': 14, '...</td>\n",
              "      <td>NaN</td>\n",
              "      <td>8844</td>\n",
              "      <td>tt0113497</td>\n",
              "      <td>en</td>\n",
              "      <td>Jumanji</td>\n",
              "      <td>When siblings Judy and Peter discover an encha...</td>\n",
              "      <td>...</td>\n",
              "      <td>1995-12-15</td>\n",
              "      <td>262797249</td>\n",
              "      <td>104.0</td>\n",
              "      <td>[{'iso_639_1': 'en', 'name': 'English'}, {'iso...</td>\n",
              "      <td>Released</td>\n",
              "      <td>Roll the dice and unleash the excitement!</td>\n",
              "      <td>Jumanji</td>\n",
              "      <td>False</td>\n",
              "      <td>6.9</td>\n",
              "      <td>2413</td>\n",
              "    </tr>\n",
              "    <tr>\n",
              "      <th>2</th>\n",
              "      <td>False</td>\n",
              "      <td>{'id': 119050, 'name': 'Grumpy Old Men Collect...</td>\n",
              "      <td>0</td>\n",
              "      <td>[{'id': 10749, 'name': 'Romance'}, {'id': 35, ...</td>\n",
              "      <td>NaN</td>\n",
              "      <td>15602</td>\n",
              "      <td>tt0113228</td>\n",
              "      <td>en</td>\n",
              "      <td>Grumpier Old Men</td>\n",
              "      <td>A family wedding reignites the ancient feud be...</td>\n",
              "      <td>...</td>\n",
              "      <td>1995-12-22</td>\n",
              "      <td>0</td>\n",
              "      <td>101.0</td>\n",
              "      <td>[{'iso_639_1': 'en', 'name': 'English'}]</td>\n",
              "      <td>Released</td>\n",
              "      <td>Still Yelling. Still Fighting. Still Ready for...</td>\n",
              "      <td>Grumpier Old Men</td>\n",
              "      <td>False</td>\n",
              "      <td>6.5</td>\n",
              "      <td>92</td>\n",
              "    </tr>\n",
              "    <tr>\n",
              "      <th>3</th>\n",
              "      <td>False</td>\n",
              "      <td>NaN</td>\n",
              "      <td>16000000</td>\n",
              "      <td>[{'id': 35, 'name': 'Comedy'}, {'id': 18, 'nam...</td>\n",
              "      <td>NaN</td>\n",
              "      <td>31357</td>\n",
              "      <td>tt0114885</td>\n",
              "      <td>en</td>\n",
              "      <td>Waiting to Exhale</td>\n",
              "      <td>Cheated on, mistreated and stepped on, the wom...</td>\n",
              "      <td>...</td>\n",
              "      <td>1995-12-22</td>\n",
              "      <td>81452156</td>\n",
              "      <td>127.0</td>\n",
              "      <td>[{'iso_639_1': 'en', 'name': 'English'}]</td>\n",
              "      <td>Released</td>\n",
              "      <td>Friends are the people who let you be yourself...</td>\n",
              "      <td>Waiting to Exhale</td>\n",
              "      <td>False</td>\n",
              "      <td>6.1</td>\n",
              "      <td>34</td>\n",
              "    </tr>\n",
              "    <tr>\n",
              "      <th>4</th>\n",
              "      <td>False</td>\n",
              "      <td>{'id': 96871, 'name': 'Father of the Bride Col...</td>\n",
              "      <td>0</td>\n",
              "      <td>[{'id': 35, 'name': 'Comedy'}]</td>\n",
              "      <td>NaN</td>\n",
              "      <td>11862</td>\n",
              "      <td>tt0113041</td>\n",
              "      <td>en</td>\n",
              "      <td>Father of the Bride Part II</td>\n",
              "      <td>Just when George Banks has recovered from his ...</td>\n",
              "      <td>...</td>\n",
              "      <td>1995-02-10</td>\n",
              "      <td>76578911</td>\n",
              "      <td>106.0</td>\n",
              "      <td>[{'iso_639_1': 'en', 'name': 'English'}]</td>\n",
              "      <td>Released</td>\n",
              "      <td>Just When His World Is Back To Normal... He's ...</td>\n",
              "      <td>Father of the Bride Part II</td>\n",
              "      <td>False</td>\n",
              "      <td>5.7</td>\n",
              "      <td>173</td>\n",
              "    </tr>\n",
              "  </tbody>\n",
              "</table>\n",
              "<p>5 rows × 24 columns</p>\n",
              "</div>"
            ],
            "text/plain": [
              "   adult                              belongs_to_collection    budget  \\\n",
              "0  False  {'id': 10194, 'name': 'Toy Story Collection', ...  30000000   \n",
              "1  False                                                NaN  65000000   \n",
              "2  False  {'id': 119050, 'name': 'Grumpy Old Men Collect...         0   \n",
              "3  False                                                NaN  16000000   \n",
              "4  False  {'id': 96871, 'name': 'Father of the Bride Col...         0   \n",
              "\n",
              "                                              genres  \\\n",
              "0  [{'id': 16, 'name': 'Animation'}, {'id': 35, '...   \n",
              "1  [{'id': 12, 'name': 'Adventure'}, {'id': 14, '...   \n",
              "2  [{'id': 10749, 'name': 'Romance'}, {'id': 35, ...   \n",
              "3  [{'id': 35, 'name': 'Comedy'}, {'id': 18, 'nam...   \n",
              "4                     [{'id': 35, 'name': 'Comedy'}]   \n",
              "\n",
              "                               homepage     id    imdb_id original_language  \\\n",
              "0  http://toystory.disney.com/toy-story    862  tt0114709                en   \n",
              "1                                   NaN   8844  tt0113497                en   \n",
              "2                                   NaN  15602  tt0113228                en   \n",
              "3                                   NaN  31357  tt0114885                en   \n",
              "4                                   NaN  11862  tt0113041                en   \n",
              "\n",
              "                original_title  \\\n",
              "0                    Toy Story   \n",
              "1                      Jumanji   \n",
              "2             Grumpier Old Men   \n",
              "3            Waiting to Exhale   \n",
              "4  Father of the Bride Part II   \n",
              "\n",
              "                                            overview  ...  release_date  \\\n",
              "0  Led by Woody, Andy's toys live happily in his ...  ...    1995-10-30   \n",
              "1  When siblings Judy and Peter discover an encha...  ...    1995-12-15   \n",
              "2  A family wedding reignites the ancient feud be...  ...    1995-12-22   \n",
              "3  Cheated on, mistreated and stepped on, the wom...  ...    1995-12-22   \n",
              "4  Just when George Banks has recovered from his ...  ...    1995-02-10   \n",
              "\n",
              "     revenue runtime                                   spoken_languages  \\\n",
              "0  373554033    81.0           [{'iso_639_1': 'en', 'name': 'English'}]   \n",
              "1  262797249   104.0  [{'iso_639_1': 'en', 'name': 'English'}, {'iso...   \n",
              "2          0   101.0           [{'iso_639_1': 'en', 'name': 'English'}]   \n",
              "3   81452156   127.0           [{'iso_639_1': 'en', 'name': 'English'}]   \n",
              "4   76578911   106.0           [{'iso_639_1': 'en', 'name': 'English'}]   \n",
              "\n",
              "     status                                            tagline  \\\n",
              "0  Released                                                NaN   \n",
              "1  Released          Roll the dice and unleash the excitement!   \n",
              "2  Released  Still Yelling. Still Fighting. Still Ready for...   \n",
              "3  Released  Friends are the people who let you be yourself...   \n",
              "4  Released  Just When His World Is Back To Normal... He's ...   \n",
              "\n",
              "                         title  video vote_average vote_count  \n",
              "0                    Toy Story  False          7.7       5415  \n",
              "1                      Jumanji  False          6.9       2413  \n",
              "2             Grumpier Old Men  False          6.5         92  \n",
              "3            Waiting to Exhale  False          6.1         34  \n",
              "4  Father of the Bride Part II  False          5.7        173  \n",
              "\n",
              "[5 rows x 24 columns]"
            ]
          },
          "execution_count": 38,
          "metadata": {},
          "output_type": "execute_result"
        }
      ],
      "source": [
        "df.head()"
      ]
    },
    {
      "cell_type": "markdown",
      "metadata": {
        "id": "OVTUtYXotePw"
      },
      "source": [
        "We can also explore data selecting a specific line by its position in the dataframe, for example the 9th one. Pay attention: the indexes of the rows and of the columns start from 0. This number is an index, that is in Pandas a label associated with each row.\n",
        "\n",
        "This operation is possible because we can access data using the value of the label.  By default, an index is created on the data creation step and associate an index value to the relative position of each row.\n",
        "\n",
        "If you look at data before you can see that there is a number (the index) near each row."
      ]
    },
    {
      "cell_type": "code",
      "execution_count": 39,
      "metadata": {
        "colab": {
          "base_uri": "https://localhost:8080/"
        },
        "id": "LspSMGZWwxX3",
        "outputId": "9d7d28ea-53fc-49aa-924c-17df91112ab7"
      },
      "outputs": [
        {
          "name": "stdout",
          "output_type": "stream",
          "text": [
            "Details of the 9th moviee:\n",
            "adult                                                                False\n",
            "belongs_to_collection                                                  NaN\n",
            "budget                                                            35000000\n",
            "genres                   [{'id': 28, 'name': 'Action'}, {'id': 12, 'nam...\n",
            "homepage                                                               NaN\n",
            "id                                                                    9091\n",
            "imdb_id                                                          tt0114576\n",
            "original_language                                                       en\n",
            "original_title                                                Sudden Death\n",
            "overview                 International action superstar Jean Claude Van...\n",
            "popularity                                                         5.23158\n",
            "poster_path                               /eoWvKD60lT95Ss1MYNgVExpo5iU.jpg\n",
            "production_companies     [{'name': 'Universal Pictures', 'id': 33}, {'n...\n",
            "production_countries     [{'iso_3166_1': 'US', 'name': 'United States o...\n",
            "release_date                                                    1995-12-22\n",
            "revenue                                                           64350171\n",
            "runtime                                                              106.0\n",
            "spoken_languages                  [{'iso_639_1': 'en', 'name': 'English'}]\n",
            "status                                                            Released\n",
            "tagline                                         Terror goes into overtime.\n",
            "title                                                         Sudden Death\n",
            "video                                                                False\n",
            "vote_average                                                           5.5\n",
            "vote_count                                                             174\n",
            "Name: 8, dtype: object\n"
          ]
        }
      ],
      "source": [
        "movieByPosition = df.iloc[8]\n",
        "print(\"Details of the 9th moviee:\")\n",
        "print(movieByPosition)"
      ]
    },
    {
      "cell_type": "markdown",
      "metadata": {
        "id": "QhGGUoyvyFQ-"
      },
      "source": [
        "It is possible also to create new dataframes containing just a subsect of the columns (projection operation in relational databases).\n",
        "\n",
        "Here we select the columns <code> title </code> and <code>genre</code>"
      ]
    },
    {
      "cell_type": "code",
      "execution_count": 40,
      "metadata": {
        "colab": {
          "base_uri": "https://localhost:8080/"
        },
        "id": "uAePkNctyP9M",
        "outputId": "5ce5b68d-b5f5-4bbe-f94d-04479b5bb93e"
      },
      "outputs": [
        {
          "name": "stdout",
          "output_type": "stream",
          "text": [
            "Details of title and genres:\n",
            "                             title  \\\n",
            "0                        Toy Story   \n",
            "1                          Jumanji   \n",
            "2                 Grumpier Old Men   \n",
            "3                Waiting to Exhale   \n",
            "4      Father of the Bride Part II   \n",
            "5                             Heat   \n",
            "6                          Sabrina   \n",
            "7                     Tom and Huck   \n",
            "8                     Sudden Death   \n",
            "9                        GoldenEye   \n",
            "10          The American President   \n",
            "11     Dracula: Dead and Loving It   \n",
            "12                           Balto   \n",
            "13                           Nixon   \n",
            "14                Cutthroat Island   \n",
            "15                          Casino   \n",
            "16           Sense and Sensibility   \n",
            "17                      Four Rooms   \n",
            "18  Ace Ventura: When Nature Calls   \n",
            "19                     Money Train   \n",
            "20                      Get Shorty   \n",
            "21                         Copycat   \n",
            "22                       Assassins   \n",
            "23                          Powder   \n",
            "24               Leaving Las Vegas   \n",
            "25                         Othello   \n",
            "26                    Now and Then   \n",
            "27                      Persuasion   \n",
            "28       The City of Lost Children   \n",
            "29                  Shanghai Triad   \n",
            "30                 Dangerous Minds   \n",
            "31                  Twelve Monkeys   \n",
            "32                Wings of Courage   \n",
            "33                            Babe   \n",
            "34                      Carrington   \n",
            "35                Dead Man Walking   \n",
            "36          Across the Sea of Time   \n",
            "37                    It Takes Two   \n",
            "38                        Clueless   \n",
            "39        Cry, the Beloved Country   \n",
            "40                     Richard III   \n",
            "41                 Dead Presidents   \n",
            "42                     Restoration   \n",
            "43                   Mortal Kombat   \n",
            "44                      To Die For   \n",
            "45   How To Make An American Quilt   \n",
            "46                           Se7en   \n",
            "47                      Pocahontas   \n",
            "48           When Night Is Falling   \n",
            "49              The Usual Suspects   \n",
            "\n",
            "                                               genres  \n",
            "0   [{'id': 16, 'name': 'Animation'}, {'id': 35, '...  \n",
            "1   [{'id': 12, 'name': 'Adventure'}, {'id': 14, '...  \n",
            "2   [{'id': 10749, 'name': 'Romance'}, {'id': 35, ...  \n",
            "3   [{'id': 35, 'name': 'Comedy'}, {'id': 18, 'nam...  \n",
            "4                      [{'id': 35, 'name': 'Comedy'}]  \n",
            "5   [{'id': 28, 'name': 'Action'}, {'id': 80, 'nam...  \n",
            "6   [{'id': 35, 'name': 'Comedy'}, {'id': 10749, '...  \n",
            "7   [{'id': 28, 'name': 'Action'}, {'id': 12, 'nam...  \n",
            "8   [{'id': 28, 'name': 'Action'}, {'id': 12, 'nam...  \n",
            "9   [{'id': 12, 'name': 'Adventure'}, {'id': 28, '...  \n",
            "10  [{'id': 35, 'name': 'Comedy'}, {'id': 18, 'nam...  \n",
            "11  [{'id': 35, 'name': 'Comedy'}, {'id': 27, 'nam...  \n",
            "12  [{'id': 10751, 'name': 'Family'}, {'id': 16, '...  \n",
            "13  [{'id': 36, 'name': 'History'}, {'id': 18, 'na...  \n",
            "14  [{'id': 28, 'name': 'Action'}, {'id': 12, 'nam...  \n",
            "15  [{'id': 18, 'name': 'Drama'}, {'id': 80, 'name...  \n",
            "16  [{'id': 18, 'name': 'Drama'}, {'id': 10749, 'n...  \n",
            "17  [{'id': 80, 'name': 'Crime'}, {'id': 35, 'name...  \n",
            "18  [{'id': 80, 'name': 'Crime'}, {'id': 35, 'name...  \n",
            "19  [{'id': 28, 'name': 'Action'}, {'id': 35, 'nam...  \n",
            "20  [{'id': 35, 'name': 'Comedy'}, {'id': 53, 'nam...  \n",
            "21  [{'id': 18, 'name': 'Drama'}, {'id': 53, 'name...  \n",
            "22  [{'id': 28, 'name': 'Action'}, {'id': 12, 'nam...  \n",
            "23  [{'id': 18, 'name': 'Drama'}, {'id': 14, 'name...  \n",
            "24  [{'id': 18, 'name': 'Drama'}, {'id': 10749, 'n...  \n",
            "25                      [{'id': 18, 'name': 'Drama'}]  \n",
            "26  [{'id': 35, 'name': 'Comedy'}, {'id': 18, 'nam...  \n",
            "27  [{'id': 18, 'name': 'Drama'}, {'id': 10749, 'n...  \n",
            "28  [{'id': 14, 'name': 'Fantasy'}, {'id': 878, 'n...  \n",
            "29  [{'id': 18, 'name': 'Drama'}, {'id': 80, 'name...  \n",
            "30  [{'id': 18, 'name': 'Drama'}, {'id': 80, 'name...  \n",
            "31  [{'id': 878, 'name': 'Science Fiction'}, {'id'...  \n",
            "32  [{'id': 10749, 'name': 'Romance'}, {'id': 12, ...  \n",
            "33  [{'id': 14, 'name': 'Fantasy'}, {'id': 18, 'na...  \n",
            "34  [{'id': 36, 'name': 'History'}, {'id': 18, 'na...  \n",
            "35                      [{'id': 18, 'name': 'Drama'}]  \n",
            "36  [{'id': 12, 'name': 'Adventure'}, {'id': 36, '...  \n",
            "37  [{'id': 35, 'name': 'Comedy'}, {'id': 10751, '...  \n",
            "38  [{'id': 35, 'name': 'Comedy'}, {'id': 18, 'nam...  \n",
            "39                      [{'id': 18, 'name': 'Drama'}]  \n",
            "40  [{'id': 18, 'name': 'Drama'}, {'id': 10752, 'n...  \n",
            "41  [{'id': 28, 'name': 'Action'}, {'id': 80, 'nam...  \n",
            "42  [{'id': 18, 'name': 'Drama'}, {'id': 10749, 'n...  \n",
            "43  [{'id': 28, 'name': 'Action'}, {'id': 14, 'nam...  \n",
            "44  [{'id': 14, 'name': 'Fantasy'}, {'id': 18, 'na...  \n",
            "45  [{'id': 18, 'name': 'Drama'}, {'id': 10749, 'n...  \n",
            "46  [{'id': 80, 'name': 'Crime'}, {'id': 9648, 'na...  \n",
            "47  [{'id': 12, 'name': 'Adventure'}, {'id': 16, '...  \n",
            "48  [{'id': 18, 'name': 'Drama'}, {'id': 10749, 'n...  \n",
            "49  [{'id': 18, 'name': 'Drama'}, {'id': 80, 'name...  \n"
          ]
        }
      ],
      "source": [
        "result = df[['title', 'genres']]\n",
        "print(\"Details of title and genres:\")\n",
        "print(result)"
      ]
    },
    {
      "cell_type": "markdown",
      "metadata": {
        "id": "5YHrwTwiyt6z"
      },
      "source": [
        "You can ask for data using a value of a column as a research key. \n",
        "\n",
        "For executing this operation you can create an index on the column and  access data by the research key.\n",
        "\n",
        "Coming from relational usage of data you can be tempted to run the selection directly. If you try the following code it will not work: Pandas is matching the index (0,1,2, ) with yoru search value \"Pocahontas\".\n",
        "\n",
        "Notice that the <code>loc</code> operation accesses a group of rows and columns by a label (that by default is associated with the index)."
      ]
    },
    {
      "cell_type": "code",
      "execution_count": null,
      "metadata": {
        "colab": {
          "base_uri": "https://localhost:8080/",
          "height": 371
        },
        "id": "aaoxd1GEy9so",
        "outputId": "3db5e0e4-e92f-428a-970d-f9f0fbd9a33f"
      },
      "outputs": [],
      "source": [
        "#Details of the movie 'Pocahontas'\n",
        "result = df.loc['Pocahontas'] #Gives an error\n",
        "print(\"Details of the movie 'Pocahontas:\")\n",
        "print(result)"
      ]
    },
    {
      "cell_type": "markdown",
      "metadata": {
        "id": "qwj4dqQ-54ig"
      },
      "source": [
        "In order to make the operation run you must create an index on your query/columns:"
      ]
    },
    {
      "cell_type": "code",
      "execution_count": 42,
      "metadata": {
        "id": "8ghYWQa86BEN"
      },
      "outputs": [],
      "source": [
        "#Create the index to the title\n",
        "df = df.set_index('title')"
      ]
    },
    {
      "cell_type": "markdown",
      "metadata": {
        "id": "MTkeuvk16QLd"
      },
      "source": [
        "You can now see that the index previously present disapeared and now the title column is treated as the index:"
      ]
    },
    {
      "cell_type": "code",
      "execution_count": 43,
      "metadata": {
        "colab": {
          "base_uri": "https://localhost:8080/",
          "height": 782
        },
        "id": "7LPR7gZr6X8x",
        "outputId": "5207021a-49ec-4d94-ac38-339741996224"
      },
      "outputs": [
        {
          "data": {
            "text/html": [
              "<div>\n",
              "<style scoped>\n",
              "    .dataframe tbody tr th:only-of-type {\n",
              "        vertical-align: middle;\n",
              "    }\n",
              "\n",
              "    .dataframe tbody tr th {\n",
              "        vertical-align: top;\n",
              "    }\n",
              "\n",
              "    .dataframe thead th {\n",
              "        text-align: right;\n",
              "    }\n",
              "</style>\n",
              "<table border=\"1\" class=\"dataframe\">\n",
              "  <thead>\n",
              "    <tr style=\"text-align: right;\">\n",
              "      <th></th>\n",
              "      <th>adult</th>\n",
              "      <th>belongs_to_collection</th>\n",
              "      <th>budget</th>\n",
              "      <th>genres</th>\n",
              "      <th>homepage</th>\n",
              "      <th>id</th>\n",
              "      <th>imdb_id</th>\n",
              "      <th>original_language</th>\n",
              "      <th>original_title</th>\n",
              "      <th>overview</th>\n",
              "      <th>...</th>\n",
              "      <th>production_countries</th>\n",
              "      <th>release_date</th>\n",
              "      <th>revenue</th>\n",
              "      <th>runtime</th>\n",
              "      <th>spoken_languages</th>\n",
              "      <th>status</th>\n",
              "      <th>tagline</th>\n",
              "      <th>video</th>\n",
              "      <th>vote_average</th>\n",
              "      <th>vote_count</th>\n",
              "    </tr>\n",
              "    <tr>\n",
              "      <th>title</th>\n",
              "      <th></th>\n",
              "      <th></th>\n",
              "      <th></th>\n",
              "      <th></th>\n",
              "      <th></th>\n",
              "      <th></th>\n",
              "      <th></th>\n",
              "      <th></th>\n",
              "      <th></th>\n",
              "      <th></th>\n",
              "      <th></th>\n",
              "      <th></th>\n",
              "      <th></th>\n",
              "      <th></th>\n",
              "      <th></th>\n",
              "      <th></th>\n",
              "      <th></th>\n",
              "      <th></th>\n",
              "      <th></th>\n",
              "      <th></th>\n",
              "      <th></th>\n",
              "    </tr>\n",
              "  </thead>\n",
              "  <tbody>\n",
              "    <tr>\n",
              "      <th>Toy Story</th>\n",
              "      <td>False</td>\n",
              "      <td>{'id': 10194, 'name': 'Toy Story Collection', ...</td>\n",
              "      <td>30000000</td>\n",
              "      <td>[{'id': 16, 'name': 'Animation'}, {'id': 35, '...</td>\n",
              "      <td>http://toystory.disney.com/toy-story</td>\n",
              "      <td>862</td>\n",
              "      <td>tt0114709</td>\n",
              "      <td>en</td>\n",
              "      <td>Toy Story</td>\n",
              "      <td>Led by Woody, Andy's toys live happily in his ...</td>\n",
              "      <td>...</td>\n",
              "      <td>[{'iso_3166_1': 'US', 'name': 'United States o...</td>\n",
              "      <td>1995-10-30</td>\n",
              "      <td>373554033</td>\n",
              "      <td>81.0</td>\n",
              "      <td>[{'iso_639_1': 'en', 'name': 'English'}]</td>\n",
              "      <td>Released</td>\n",
              "      <td>NaN</td>\n",
              "      <td>False</td>\n",
              "      <td>7.7</td>\n",
              "      <td>5415</td>\n",
              "    </tr>\n",
              "    <tr>\n",
              "      <th>Jumanji</th>\n",
              "      <td>False</td>\n",
              "      <td>NaN</td>\n",
              "      <td>65000000</td>\n",
              "      <td>[{'id': 12, 'name': 'Adventure'}, {'id': 14, '...</td>\n",
              "      <td>NaN</td>\n",
              "      <td>8844</td>\n",
              "      <td>tt0113497</td>\n",
              "      <td>en</td>\n",
              "      <td>Jumanji</td>\n",
              "      <td>When siblings Judy and Peter discover an encha...</td>\n",
              "      <td>...</td>\n",
              "      <td>[{'iso_3166_1': 'US', 'name': 'United States o...</td>\n",
              "      <td>1995-12-15</td>\n",
              "      <td>262797249</td>\n",
              "      <td>104.0</td>\n",
              "      <td>[{'iso_639_1': 'en', 'name': 'English'}, {'iso...</td>\n",
              "      <td>Released</td>\n",
              "      <td>Roll the dice and unleash the excitement!</td>\n",
              "      <td>False</td>\n",
              "      <td>6.9</td>\n",
              "      <td>2413</td>\n",
              "    </tr>\n",
              "    <tr>\n",
              "      <th>Grumpier Old Men</th>\n",
              "      <td>False</td>\n",
              "      <td>{'id': 119050, 'name': 'Grumpy Old Men Collect...</td>\n",
              "      <td>0</td>\n",
              "      <td>[{'id': 10749, 'name': 'Romance'}, {'id': 35, ...</td>\n",
              "      <td>NaN</td>\n",
              "      <td>15602</td>\n",
              "      <td>tt0113228</td>\n",
              "      <td>en</td>\n",
              "      <td>Grumpier Old Men</td>\n",
              "      <td>A family wedding reignites the ancient feud be...</td>\n",
              "      <td>...</td>\n",
              "      <td>[{'iso_3166_1': 'US', 'name': 'United States o...</td>\n",
              "      <td>1995-12-22</td>\n",
              "      <td>0</td>\n",
              "      <td>101.0</td>\n",
              "      <td>[{'iso_639_1': 'en', 'name': 'English'}]</td>\n",
              "      <td>Released</td>\n",
              "      <td>Still Yelling. Still Fighting. Still Ready for...</td>\n",
              "      <td>False</td>\n",
              "      <td>6.5</td>\n",
              "      <td>92</td>\n",
              "    </tr>\n",
              "    <tr>\n",
              "      <th>Waiting to Exhale</th>\n",
              "      <td>False</td>\n",
              "      <td>NaN</td>\n",
              "      <td>16000000</td>\n",
              "      <td>[{'id': 35, 'name': 'Comedy'}, {'id': 18, 'nam...</td>\n",
              "      <td>NaN</td>\n",
              "      <td>31357</td>\n",
              "      <td>tt0114885</td>\n",
              "      <td>en</td>\n",
              "      <td>Waiting to Exhale</td>\n",
              "      <td>Cheated on, mistreated and stepped on, the wom...</td>\n",
              "      <td>...</td>\n",
              "      <td>[{'iso_3166_1': 'US', 'name': 'United States o...</td>\n",
              "      <td>1995-12-22</td>\n",
              "      <td>81452156</td>\n",
              "      <td>127.0</td>\n",
              "      <td>[{'iso_639_1': 'en', 'name': 'English'}]</td>\n",
              "      <td>Released</td>\n",
              "      <td>Friends are the people who let you be yourself...</td>\n",
              "      <td>False</td>\n",
              "      <td>6.1</td>\n",
              "      <td>34</td>\n",
              "    </tr>\n",
              "    <tr>\n",
              "      <th>Father of the Bride Part II</th>\n",
              "      <td>False</td>\n",
              "      <td>{'id': 96871, 'name': 'Father of the Bride Col...</td>\n",
              "      <td>0</td>\n",
              "      <td>[{'id': 35, 'name': 'Comedy'}]</td>\n",
              "      <td>NaN</td>\n",
              "      <td>11862</td>\n",
              "      <td>tt0113041</td>\n",
              "      <td>en</td>\n",
              "      <td>Father of the Bride Part II</td>\n",
              "      <td>Just when George Banks has recovered from his ...</td>\n",
              "      <td>...</td>\n",
              "      <td>[{'iso_3166_1': 'US', 'name': 'United States o...</td>\n",
              "      <td>1995-02-10</td>\n",
              "      <td>76578911</td>\n",
              "      <td>106.0</td>\n",
              "      <td>[{'iso_639_1': 'en', 'name': 'English'}]</td>\n",
              "      <td>Released</td>\n",
              "      <td>Just When His World Is Back To Normal... He's ...</td>\n",
              "      <td>False</td>\n",
              "      <td>5.7</td>\n",
              "      <td>173</td>\n",
              "    </tr>\n",
              "  </tbody>\n",
              "</table>\n",
              "<p>5 rows × 23 columns</p>\n",
              "</div>"
            ],
            "text/plain": [
              "                             adult  \\\n",
              "title                                \n",
              "Toy Story                    False   \n",
              "Jumanji                      False   \n",
              "Grumpier Old Men             False   \n",
              "Waiting to Exhale            False   \n",
              "Father of the Bride Part II  False   \n",
              "\n",
              "                                                         belongs_to_collection  \\\n",
              "title                                                                            \n",
              "Toy Story                    {'id': 10194, 'name': 'Toy Story Collection', ...   \n",
              "Jumanji                                                                    NaN   \n",
              "Grumpier Old Men             {'id': 119050, 'name': 'Grumpy Old Men Collect...   \n",
              "Waiting to Exhale                                                          NaN   \n",
              "Father of the Bride Part II  {'id': 96871, 'name': 'Father of the Bride Col...   \n",
              "\n",
              "                               budget  \\\n",
              "title                                   \n",
              "Toy Story                    30000000   \n",
              "Jumanji                      65000000   \n",
              "Grumpier Old Men                    0   \n",
              "Waiting to Exhale            16000000   \n",
              "Father of the Bride Part II         0   \n",
              "\n",
              "                                                                        genres  \\\n",
              "title                                                                            \n",
              "Toy Story                    [{'id': 16, 'name': 'Animation'}, {'id': 35, '...   \n",
              "Jumanji                      [{'id': 12, 'name': 'Adventure'}, {'id': 14, '...   \n",
              "Grumpier Old Men             [{'id': 10749, 'name': 'Romance'}, {'id': 35, ...   \n",
              "Waiting to Exhale            [{'id': 35, 'name': 'Comedy'}, {'id': 18, 'nam...   \n",
              "Father of the Bride Part II                     [{'id': 35, 'name': 'Comedy'}]   \n",
              "\n",
              "                                                         homepage     id  \\\n",
              "title                                                                      \n",
              "Toy Story                    http://toystory.disney.com/toy-story    862   \n",
              "Jumanji                                                       NaN   8844   \n",
              "Grumpier Old Men                                              NaN  15602   \n",
              "Waiting to Exhale                                             NaN  31357   \n",
              "Father of the Bride Part II                                   NaN  11862   \n",
              "\n",
              "                               imdb_id original_language  \\\n",
              "title                                                      \n",
              "Toy Story                    tt0114709                en   \n",
              "Jumanji                      tt0113497                en   \n",
              "Grumpier Old Men             tt0113228                en   \n",
              "Waiting to Exhale            tt0114885                en   \n",
              "Father of the Bride Part II  tt0113041                en   \n",
              "\n",
              "                                          original_title  \\\n",
              "title                                                      \n",
              "Toy Story                                      Toy Story   \n",
              "Jumanji                                          Jumanji   \n",
              "Grumpier Old Men                        Grumpier Old Men   \n",
              "Waiting to Exhale                      Waiting to Exhale   \n",
              "Father of the Bride Part II  Father of the Bride Part II   \n",
              "\n",
              "                                                                      overview  \\\n",
              "title                                                                            \n",
              "Toy Story                    Led by Woody, Andy's toys live happily in his ...   \n",
              "Jumanji                      When siblings Judy and Peter discover an encha...   \n",
              "Grumpier Old Men             A family wedding reignites the ancient feud be...   \n",
              "Waiting to Exhale            Cheated on, mistreated and stepped on, the wom...   \n",
              "Father of the Bride Part II  Just when George Banks has recovered from his ...   \n",
              "\n",
              "                             ...  \\\n",
              "title                        ...   \n",
              "Toy Story                    ...   \n",
              "Jumanji                      ...   \n",
              "Grumpier Old Men             ...   \n",
              "Waiting to Exhale            ...   \n",
              "Father of the Bride Part II  ...   \n",
              "\n",
              "                                                          production_countries  \\\n",
              "title                                                                            \n",
              "Toy Story                    [{'iso_3166_1': 'US', 'name': 'United States o...   \n",
              "Jumanji                      [{'iso_3166_1': 'US', 'name': 'United States o...   \n",
              "Grumpier Old Men             [{'iso_3166_1': 'US', 'name': 'United States o...   \n",
              "Waiting to Exhale            [{'iso_3166_1': 'US', 'name': 'United States o...   \n",
              "Father of the Bride Part II  [{'iso_3166_1': 'US', 'name': 'United States o...   \n",
              "\n",
              "                            release_date    revenue runtime  \\\n",
              "title                                                         \n",
              "Toy Story                     1995-10-30  373554033    81.0   \n",
              "Jumanji                       1995-12-15  262797249   104.0   \n",
              "Grumpier Old Men              1995-12-22          0   101.0   \n",
              "Waiting to Exhale             1995-12-22   81452156   127.0   \n",
              "Father of the Bride Part II   1995-02-10   76578911   106.0   \n",
              "\n",
              "                                                              spoken_languages  \\\n",
              "title                                                                            \n",
              "Toy Story                             [{'iso_639_1': 'en', 'name': 'English'}]   \n",
              "Jumanji                      [{'iso_639_1': 'en', 'name': 'English'}, {'iso...   \n",
              "Grumpier Old Men                      [{'iso_639_1': 'en', 'name': 'English'}]   \n",
              "Waiting to Exhale                     [{'iso_639_1': 'en', 'name': 'English'}]   \n",
              "Father of the Bride Part II           [{'iso_639_1': 'en', 'name': 'English'}]   \n",
              "\n",
              "                               status  \\\n",
              "title                                   \n",
              "Toy Story                    Released   \n",
              "Jumanji                      Released   \n",
              "Grumpier Old Men             Released   \n",
              "Waiting to Exhale            Released   \n",
              "Father of the Bride Part II  Released   \n",
              "\n",
              "                                                                       tagline  \\\n",
              "title                                                                            \n",
              "Toy Story                                                                  NaN   \n",
              "Jumanji                              Roll the dice and unleash the excitement!   \n",
              "Grumpier Old Men             Still Yelling. Still Fighting. Still Ready for...   \n",
              "Waiting to Exhale            Friends are the people who let you be yourself...   \n",
              "Father of the Bride Part II  Just When His World Is Back To Normal... He's ...   \n",
              "\n",
              "                             video vote_average vote_count  \n",
              "title                                                       \n",
              "Toy Story                    False          7.7       5415  \n",
              "Jumanji                      False          6.9       2413  \n",
              "Grumpier Old Men             False          6.5         92  \n",
              "Waiting to Exhale            False          6.1         34  \n",
              "Father of the Bride Part II  False          5.7        173  \n",
              "\n",
              "[5 rows x 23 columns]"
            ]
          },
          "execution_count": 43,
          "metadata": {},
          "output_type": "execute_result"
        }
      ],
      "source": [
        "df.head()"
      ]
    },
    {
      "cell_type": "markdown",
      "metadata": {
        "id": "xXMjfaHw6CSL"
      },
      "source": [
        "And after run the selection:"
      ]
    },
    {
      "cell_type": "code",
      "execution_count": 44,
      "metadata": {
        "colab": {
          "base_uri": "https://localhost:8080/"
        },
        "id": "b_Cy8VGI6H-A",
        "outputId": "e31b98ee-9402-4dd3-87fc-774a271ef988"
      },
      "outputs": [
        {
          "name": "stdout",
          "output_type": "stream",
          "text": [
            "Details of the movie 'Pocahontas:\n",
            "            adult                              belongs_to_collection  \\\n",
            "title                                                                  \n",
            "Pocahontas  False  {'id': 136214, 'name': 'Pocahontas Collection'...   \n",
            "\n",
            "              budget                                             genres  \\\n",
            "title                                                                     \n",
            "Pocahontas  55000000  [{'id': 12, 'name': 'Adventure'}, {'id': 16, '...   \n",
            "\n",
            "           homepage     id    imdb_id original_language original_title  \\\n",
            "title                                                                    \n",
            "Pocahontas      NaN  10530  tt0114148                en     Pocahontas   \n",
            "\n",
            "                                                     overview  ...  \\\n",
            "title                                                          ...   \n",
            "Pocahontas  History comes gloriously to life in Disney's e...  ...   \n",
            "\n",
            "                                         production_countries release_date  \\\n",
            "title                                                                        \n",
            "Pocahontas  [{'iso_3166_1': 'US', 'name': 'United States o...   1995-06-14   \n",
            "\n",
            "              revenue runtime                          spoken_languages  \\\n",
            "title                                                                     \n",
            "Pocahontas  346079773    81.0  [{'iso_639_1': 'en', 'name': 'English'}]   \n",
            "\n",
            "              status                            tagline  video vote_average  \\\n",
            "title                                                                         \n",
            "Pocahontas  Released  An American legend comes to life.  False          6.7   \n",
            "\n",
            "           vote_count  \n",
            "title                  \n",
            "Pocahontas       1509  \n",
            "\n",
            "[1 rows x 23 columns]\n"
          ]
        }
      ],
      "source": [
        "#Details of the movie 'Pocahontas'\n",
        "result = df.loc[['Pocahontas']]\n",
        "print(\"Details of the movie 'Pocahontas:\")\n",
        "print(result)"
      ]
    },
    {
      "cell_type": "markdown",
      "metadata": {
        "id": "9dFgOu5O6f_U"
      },
      "source": [
        "You can also remove your indexes:\n",
        "\n"
      ]
    },
    {
      "cell_type": "code",
      "execution_count": 45,
      "metadata": {
        "id": "JcuYp6yX6fA5"
      },
      "outputs": [],
      "source": [
        "df.reset_index(inplace=True)"
      ]
    },
    {
      "cell_type": "markdown",
      "metadata": {
        "id": "LnkuCPPm6srV"
      },
      "source": [
        "Notice that, if you did not notice this before, each operation on the dataframe returns a new dataframe.\n",
        "If you want to modify directly the reference of your variable and avoiding to write <code>df = df.( ... )</code> you must specify the option <code>inplace=True</code>.\n",
        "\n",
        "In the operation creating a new dataframe deleting the index and is going to re-initialize the <code>df</code> variable with the result.\n",
        "\n",
        "In practice this operation is equivalent to:"
      ]
    },
    {
      "cell_type": "code",
      "execution_count": null,
      "metadata": {
        "id": "QNpASeGH71mL"
      },
      "outputs": [],
      "source": [
        "df = df.reset_index()"
      ]
    },
    {
      "cell_type": "markdown",
      "metadata": {
        "id": "c7Xlzeo-7-e6"
      },
      "source": [
        "You can see that we have back our index-by-position."
      ]
    },
    {
      "cell_type": "code",
      "execution_count": 46,
      "metadata": {
        "colab": {
          "base_uri": "https://localhost:8080/",
          "height": 629
        },
        "id": "OMIUeONf7508",
        "outputId": "fbc77da4-e314-4a1b-9a74-25d5a3b8b1d1"
      },
      "outputs": [
        {
          "data": {
            "text/html": [
              "<div>\n",
              "<style scoped>\n",
              "    .dataframe tbody tr th:only-of-type {\n",
              "        vertical-align: middle;\n",
              "    }\n",
              "\n",
              "    .dataframe tbody tr th {\n",
              "        vertical-align: top;\n",
              "    }\n",
              "\n",
              "    .dataframe thead th {\n",
              "        text-align: right;\n",
              "    }\n",
              "</style>\n",
              "<table border=\"1\" class=\"dataframe\">\n",
              "  <thead>\n",
              "    <tr style=\"text-align: right;\">\n",
              "      <th></th>\n",
              "      <th>title</th>\n",
              "      <th>adult</th>\n",
              "      <th>belongs_to_collection</th>\n",
              "      <th>budget</th>\n",
              "      <th>genres</th>\n",
              "      <th>homepage</th>\n",
              "      <th>id</th>\n",
              "      <th>imdb_id</th>\n",
              "      <th>original_language</th>\n",
              "      <th>original_title</th>\n",
              "      <th>...</th>\n",
              "      <th>production_countries</th>\n",
              "      <th>release_date</th>\n",
              "      <th>revenue</th>\n",
              "      <th>runtime</th>\n",
              "      <th>spoken_languages</th>\n",
              "      <th>status</th>\n",
              "      <th>tagline</th>\n",
              "      <th>video</th>\n",
              "      <th>vote_average</th>\n",
              "      <th>vote_count</th>\n",
              "    </tr>\n",
              "  </thead>\n",
              "  <tbody>\n",
              "    <tr>\n",
              "      <th>0</th>\n",
              "      <td>Toy Story</td>\n",
              "      <td>False</td>\n",
              "      <td>{'id': 10194, 'name': 'Toy Story Collection', ...</td>\n",
              "      <td>30000000</td>\n",
              "      <td>[{'id': 16, 'name': 'Animation'}, {'id': 35, '...</td>\n",
              "      <td>http://toystory.disney.com/toy-story</td>\n",
              "      <td>862</td>\n",
              "      <td>tt0114709</td>\n",
              "      <td>en</td>\n",
              "      <td>Toy Story</td>\n",
              "      <td>...</td>\n",
              "      <td>[{'iso_3166_1': 'US', 'name': 'United States o...</td>\n",
              "      <td>1995-10-30</td>\n",
              "      <td>373554033</td>\n",
              "      <td>81.0</td>\n",
              "      <td>[{'iso_639_1': 'en', 'name': 'English'}]</td>\n",
              "      <td>Released</td>\n",
              "      <td>NaN</td>\n",
              "      <td>False</td>\n",
              "      <td>7.7</td>\n",
              "      <td>5415</td>\n",
              "    </tr>\n",
              "    <tr>\n",
              "      <th>1</th>\n",
              "      <td>Jumanji</td>\n",
              "      <td>False</td>\n",
              "      <td>NaN</td>\n",
              "      <td>65000000</td>\n",
              "      <td>[{'id': 12, 'name': 'Adventure'}, {'id': 14, '...</td>\n",
              "      <td>NaN</td>\n",
              "      <td>8844</td>\n",
              "      <td>tt0113497</td>\n",
              "      <td>en</td>\n",
              "      <td>Jumanji</td>\n",
              "      <td>...</td>\n",
              "      <td>[{'iso_3166_1': 'US', 'name': 'United States o...</td>\n",
              "      <td>1995-12-15</td>\n",
              "      <td>262797249</td>\n",
              "      <td>104.0</td>\n",
              "      <td>[{'iso_639_1': 'en', 'name': 'English'}, {'iso...</td>\n",
              "      <td>Released</td>\n",
              "      <td>Roll the dice and unleash the excitement!</td>\n",
              "      <td>False</td>\n",
              "      <td>6.9</td>\n",
              "      <td>2413</td>\n",
              "    </tr>\n",
              "    <tr>\n",
              "      <th>2</th>\n",
              "      <td>Grumpier Old Men</td>\n",
              "      <td>False</td>\n",
              "      <td>{'id': 119050, 'name': 'Grumpy Old Men Collect...</td>\n",
              "      <td>0</td>\n",
              "      <td>[{'id': 10749, 'name': 'Romance'}, {'id': 35, ...</td>\n",
              "      <td>NaN</td>\n",
              "      <td>15602</td>\n",
              "      <td>tt0113228</td>\n",
              "      <td>en</td>\n",
              "      <td>Grumpier Old Men</td>\n",
              "      <td>...</td>\n",
              "      <td>[{'iso_3166_1': 'US', 'name': 'United States o...</td>\n",
              "      <td>1995-12-22</td>\n",
              "      <td>0</td>\n",
              "      <td>101.0</td>\n",
              "      <td>[{'iso_639_1': 'en', 'name': 'English'}]</td>\n",
              "      <td>Released</td>\n",
              "      <td>Still Yelling. Still Fighting. Still Ready for...</td>\n",
              "      <td>False</td>\n",
              "      <td>6.5</td>\n",
              "      <td>92</td>\n",
              "    </tr>\n",
              "    <tr>\n",
              "      <th>3</th>\n",
              "      <td>Waiting to Exhale</td>\n",
              "      <td>False</td>\n",
              "      <td>NaN</td>\n",
              "      <td>16000000</td>\n",
              "      <td>[{'id': 35, 'name': 'Comedy'}, {'id': 18, 'nam...</td>\n",
              "      <td>NaN</td>\n",
              "      <td>31357</td>\n",
              "      <td>tt0114885</td>\n",
              "      <td>en</td>\n",
              "      <td>Waiting to Exhale</td>\n",
              "      <td>...</td>\n",
              "      <td>[{'iso_3166_1': 'US', 'name': 'United States o...</td>\n",
              "      <td>1995-12-22</td>\n",
              "      <td>81452156</td>\n",
              "      <td>127.0</td>\n",
              "      <td>[{'iso_639_1': 'en', 'name': 'English'}]</td>\n",
              "      <td>Released</td>\n",
              "      <td>Friends are the people who let you be yourself...</td>\n",
              "      <td>False</td>\n",
              "      <td>6.1</td>\n",
              "      <td>34</td>\n",
              "    </tr>\n",
              "    <tr>\n",
              "      <th>4</th>\n",
              "      <td>Father of the Bride Part II</td>\n",
              "      <td>False</td>\n",
              "      <td>{'id': 96871, 'name': 'Father of the Bride Col...</td>\n",
              "      <td>0</td>\n",
              "      <td>[{'id': 35, 'name': 'Comedy'}]</td>\n",
              "      <td>NaN</td>\n",
              "      <td>11862</td>\n",
              "      <td>tt0113041</td>\n",
              "      <td>en</td>\n",
              "      <td>Father of the Bride Part II</td>\n",
              "      <td>...</td>\n",
              "      <td>[{'iso_3166_1': 'US', 'name': 'United States o...</td>\n",
              "      <td>1995-02-10</td>\n",
              "      <td>76578911</td>\n",
              "      <td>106.0</td>\n",
              "      <td>[{'iso_639_1': 'en', 'name': 'English'}]</td>\n",
              "      <td>Released</td>\n",
              "      <td>Just When His World Is Back To Normal... He's ...</td>\n",
              "      <td>False</td>\n",
              "      <td>5.7</td>\n",
              "      <td>173</td>\n",
              "    </tr>\n",
              "  </tbody>\n",
              "</table>\n",
              "<p>5 rows × 24 columns</p>\n",
              "</div>"
            ],
            "text/plain": [
              "                         title  adult  \\\n",
              "0                    Toy Story  False   \n",
              "1                      Jumanji  False   \n",
              "2             Grumpier Old Men  False   \n",
              "3            Waiting to Exhale  False   \n",
              "4  Father of the Bride Part II  False   \n",
              "\n",
              "                               belongs_to_collection    budget  \\\n",
              "0  {'id': 10194, 'name': 'Toy Story Collection', ...  30000000   \n",
              "1                                                NaN  65000000   \n",
              "2  {'id': 119050, 'name': 'Grumpy Old Men Collect...         0   \n",
              "3                                                NaN  16000000   \n",
              "4  {'id': 96871, 'name': 'Father of the Bride Col...         0   \n",
              "\n",
              "                                              genres  \\\n",
              "0  [{'id': 16, 'name': 'Animation'}, {'id': 35, '...   \n",
              "1  [{'id': 12, 'name': 'Adventure'}, {'id': 14, '...   \n",
              "2  [{'id': 10749, 'name': 'Romance'}, {'id': 35, ...   \n",
              "3  [{'id': 35, 'name': 'Comedy'}, {'id': 18, 'nam...   \n",
              "4                     [{'id': 35, 'name': 'Comedy'}]   \n",
              "\n",
              "                               homepage     id    imdb_id original_language  \\\n",
              "0  http://toystory.disney.com/toy-story    862  tt0114709                en   \n",
              "1                                   NaN   8844  tt0113497                en   \n",
              "2                                   NaN  15602  tt0113228                en   \n",
              "3                                   NaN  31357  tt0114885                en   \n",
              "4                                   NaN  11862  tt0113041                en   \n",
              "\n",
              "                original_title  ...  \\\n",
              "0                    Toy Story  ...   \n",
              "1                      Jumanji  ...   \n",
              "2             Grumpier Old Men  ...   \n",
              "3            Waiting to Exhale  ...   \n",
              "4  Father of the Bride Part II  ...   \n",
              "\n",
              "                                production_countries  release_date    revenue  \\\n",
              "0  [{'iso_3166_1': 'US', 'name': 'United States o...    1995-10-30  373554033   \n",
              "1  [{'iso_3166_1': 'US', 'name': 'United States o...    1995-12-15  262797249   \n",
              "2  [{'iso_3166_1': 'US', 'name': 'United States o...    1995-12-22          0   \n",
              "3  [{'iso_3166_1': 'US', 'name': 'United States o...    1995-12-22   81452156   \n",
              "4  [{'iso_3166_1': 'US', 'name': 'United States o...    1995-02-10   76578911   \n",
              "\n",
              "  runtime                                   spoken_languages    status  \\\n",
              "0    81.0           [{'iso_639_1': 'en', 'name': 'English'}]  Released   \n",
              "1   104.0  [{'iso_639_1': 'en', 'name': 'English'}, {'iso...  Released   \n",
              "2   101.0           [{'iso_639_1': 'en', 'name': 'English'}]  Released   \n",
              "3   127.0           [{'iso_639_1': 'en', 'name': 'English'}]  Released   \n",
              "4   106.0           [{'iso_639_1': 'en', 'name': 'English'}]  Released   \n",
              "\n",
              "                                             tagline  video vote_average  \\\n",
              "0                                                NaN  False          7.7   \n",
              "1          Roll the dice and unleash the excitement!  False          6.9   \n",
              "2  Still Yelling. Still Fighting. Still Ready for...  False          6.5   \n",
              "3  Friends are the people who let you be yourself...  False          6.1   \n",
              "4  Just When His World Is Back To Normal... He's ...  False          5.7   \n",
              "\n",
              "  vote_count  \n",
              "0       5415  \n",
              "1       2413  \n",
              "2         92  \n",
              "3         34  \n",
              "4        173  \n",
              "\n",
              "[5 rows x 24 columns]"
            ]
          },
          "execution_count": 46,
          "metadata": {},
          "output_type": "execute_result"
        }
      ],
      "source": [
        "df.head()"
      ]
    },
    {
      "cell_type": "markdown",
      "metadata": {
        "id": "YGwFhc9Ulq5J"
      },
      "source": [
        "We could alse have run the same operation creating a new df selecting the rows that have the column value equal to 'Pochaontas' and returning the result:"
      ]
    },
    {
      "cell_type": "code",
      "execution_count": 47,
      "metadata": {
        "colab": {
          "base_uri": "https://localhost:8080/"
        },
        "id": "Qet6sl-j-tEy",
        "outputId": "e44c92d9-7fae-46d3-b32e-6c05decdb52d"
      },
      "outputs": [
        {
          "name": "stdout",
          "output_type": "stream",
          "text": [
            "         title  adult                              belongs_to_collection  \\\n",
            "47  Pocahontas  False  {'id': 136214, 'name': 'Pocahontas Collection'...   \n",
            "\n",
            "      budget                                             genres homepage  \\\n",
            "47  55000000  [{'id': 12, 'name': 'Adventure'}, {'id': 16, '...      NaN   \n",
            "\n",
            "       id    imdb_id original_language original_title  ...  \\\n",
            "47  10530  tt0114148                en     Pocahontas  ...   \n",
            "\n",
            "                                 production_countries  release_date  \\\n",
            "47  [{'iso_3166_1': 'US', 'name': 'United States o...    1995-06-14   \n",
            "\n",
            "      revenue runtime                          spoken_languages    status  \\\n",
            "47  346079773    81.0  [{'iso_639_1': 'en', 'name': 'English'}]  Released   \n",
            "\n",
            "                              tagline  video vote_average vote_count  \n",
            "47  An American legend comes to life.  False          6.7       1509  \n",
            "\n",
            "[1 rows x 24 columns]\n"
          ]
        }
      ],
      "source": [
        "result = df[df['title']=='Pocahontas']\n",
        "\n",
        "print(result)"
      ]
    },
    {
      "cell_type": "markdown",
      "metadata": {
        "id": "GFG5W5-m_G6o"
      },
      "source": [
        "Remark that this way of chaining operations give an equal output but conceptually is different: we are creating a new dataframe."
      ]
    },
    {
      "cell_type": "markdown",
      "metadata": {
        "id": "eb09wpek0Dks"
      },
      "source": [
        "## 1 Pandas exercises\n",
        "\n",
        "Referring to the [Pandas dataframes documentation](https://pandas.pydata.org/docs/reference/api/pandas.DataFrame.html) implement the following exercises.\n",
        "\n"
      ]
    },
    {
      "cell_type": "markdown",
      "metadata": {
        "id": "D3Rei7xQ0ei-"
      },
      "source": [
        "### 1.1 Create a smaller dataframe\n",
        "\n",
        "Create a smaller dataframe having as columns <code> title, release_date, runtime</code> and sort by <code>release_date</code>"
      ]
    },
    {
      "cell_type": "code",
      "execution_count": 48,
      "metadata": {
        "colab": {
          "base_uri": "https://localhost:8080/"
        },
        "id": "eCKN-DGb2q7e",
        "outputId": "46d00444-170e-4428-bbe2-6b50a68c97e3"
      },
      "outputs": [
        {
          "name": "stdout",
          "output_type": "stream",
          "text": [
            "DataFrame based on release date.\n",
            "                             title release_date  runtime\n",
            "4      Father of the Bride Part II   1995-02-10    106.0\n",
            "29                  Shanghai Triad   1995-04-30    108.0\n",
            "48           When Night Is Falling   1995-05-05     96.0\n",
            "28       The City of Lost Children   1995-05-16    108.0\n",
            "44                      To Die For   1995-05-20    106.0\n",
            "47                      Pocahontas   1995-06-14     81.0\n",
            "33                            Babe   1995-07-18     89.0\n",
            "38                        Clueless   1995-07-19     97.0\n",
            "49              The Usual Suspects   1995-07-19    106.0\n",
            "30                 Dangerous Minds   1995-08-11     99.0\n",
            "43                   Mortal Kombat   1995-08-18    101.0\n",
            "46                           Se7en   1995-09-22    127.0\n",
            "27                      Persuasion   1995-09-27    104.0\n",
            "45   How To Make An American Quilt   1995-10-06    116.0\n",
            "22                       Assassins   1995-10-06    132.0\n",
            "41                 Dead Presidents   1995-10-06    119.0\n",
            "36          Across the Sea of Time   1995-10-20     51.0\n",
            "26                    Now and Then   1995-10-20    100.0\n",
            "20                      Get Shorty   1995-10-20    105.0\n",
            "21                         Copycat   1995-10-27    124.0\n",
            "23                          Powder   1995-10-27    111.0\n",
            "24               Leaving Las Vegas   1995-10-27    112.0\n",
            "0                        Toy Story   1995-10-30     81.0\n",
            "34                      Carrington   1995-11-08    121.0\n",
            "18  Ace Ventura: When Nature Calls   1995-11-10     90.0\n",
            "9                        GoldenEye   1995-11-16    130.0\n",
            "37                    It Takes Two   1995-11-17    101.0\n",
            "10          The American President   1995-11-17    106.0\n",
            "19                     Money Train   1995-11-21    103.0\n",
            "15                          Casino   1995-11-22    178.0\n",
            "17                      Four Rooms   1995-12-09     98.0\n",
            "16           Sense and Sensibility   1995-12-13    136.0\n",
            "1                          Jumanji   1995-12-15    104.0\n",
            "5                             Heat   1995-12-15    170.0\n",
            "6                          Sabrina   1995-12-15    127.0\n",
            "39        Cry, the Beloved Country   1995-12-15    106.0\n",
            "25                         Othello   1995-12-15    123.0\n",
            "8                     Sudden Death   1995-12-22    106.0\n",
            "11     Dracula: Dead and Loving It   1995-12-22     88.0\n",
            "7                     Tom and Huck   1995-12-22     97.0\n",
            "12                           Balto   1995-12-22     78.0\n",
            "13                           Nixon   1995-12-22    192.0\n",
            "3                Waiting to Exhale   1995-12-22    127.0\n",
            "2                 Grumpier Old Men   1995-12-22    101.0\n",
            "14                Cutthroat Island   1995-12-22    119.0\n",
            "31                  Twelve Monkeys   1995-12-29    129.0\n",
            "40                     Richard III   1995-12-29    104.0\n",
            "42                     Restoration   1995-12-29    117.0\n",
            "35                Dead Man Walking   1995-12-29    122.0\n",
            "32                Wings of Courage   1996-09-18     50.0\n"
          ]
        }
      ],
      "source": [
        "# Create a smaller dataframe with just \n",
        "\n",
        "'''############## WRITE YOUR CODE HERE ##############'''\n",
        "small_df = df[['title', 'release_date', 'runtime']]\n",
        "sorted_result = small_df.sort_values(by=['release_date'])\n",
        "\n",
        "'''############## END OF THE EXERCISE ##############'''\n",
        "\n",
        "print(\"DataFrame based on release date.\")\n",
        "print(sorted_result)"
      ]
    },
    {
      "cell_type": "markdown",
      "metadata": {
        "id": "a3ef82P9KfYN"
      },
      "source": [
        "### 1.2 Check how many lines the small dataframe has:"
      ]
    },
    {
      "cell_type": "code",
      "execution_count": 49,
      "metadata": {
        "colab": {
          "base_uri": "https://localhost:8080/",
          "height": 35
        },
        "id": "zh_bJBP-KY6y",
        "outputId": "ccccacf7-c75c-4a56-e184-8e2ed67196b9"
      },
      "outputs": [
        {
          "name": "stdout",
          "output_type": "stream",
          "text": [
            "<class 'pandas.core.frame.DataFrame'>\n",
            "RangeIndex: 50 entries, 0 to 49\n",
            "Data columns (total 3 columns):\n",
            " #   Column        Non-Null Count  Dtype  \n",
            "---  ------        --------------  -----  \n",
            " 0   title         50 non-null     object \n",
            " 1   release_date  50 non-null     object \n",
            " 2   runtime       50 non-null     float64\n",
            "dtypes: float64(1), object(2)\n",
            "memory usage: 1.3+ KB\n"
          ]
        },
        {
          "data": {
            "text/plain": [
              "'############## END OF THE EXERCISE ##############'"
            ]
          },
          "execution_count": 49,
          "metadata": {},
          "output_type": "execute_result"
        }
      ],
      "source": [
        "'''############## WRITE YOUR CODE HERE ##############'''\n",
        "\n",
        "small_df.info()\n",
        "\n",
        "'''############## END OF THE EXERCISE ##############'''"
      ]
    },
    {
      "cell_type": "markdown",
      "metadata": {
        "id": "KlCPkSftKijw"
      },
      "source": [
        "### 1.3 Check the number of lines and columns:"
      ]
    },
    {
      "cell_type": "code",
      "execution_count": 50,
      "metadata": {
        "colab": {
          "base_uri": "https://localhost:8080/",
          "height": 35
        },
        "id": "uJm4x9hfKeit",
        "outputId": "a1a3b59c-bc8d-46b5-a044-e3137e374611"
      },
      "outputs": [
        {
          "name": "stdout",
          "output_type": "stream",
          "text": [
            "There is: 50 rows and 24 cols;\n"
          ]
        },
        {
          "data": {
            "text/plain": [
              "'############## END OF THE EXERCISE ##############'"
            ]
          },
          "execution_count": 50,
          "metadata": {},
          "output_type": "execute_result"
        }
      ],
      "source": [
        "'''############## WRITE YOUR CODE HERE ##############'''\n",
        "\n",
        "nb_rows, nb_cols = df.shape\n",
        "print(\"There is:\", nb_rows, \"rows and\", nb_cols, \"cols;\")\n",
        "\n",
        "'''############## END OF THE EXERCISE ##############'''"
      ]
    },
    {
      "cell_type": "markdown",
      "metadata": {
        "id": "6L7sX1_j8FLM"
      },
      "source": [
        "###1.4 Sort the movies by **runtime**"
      ]
    },
    {
      "cell_type": "code",
      "execution_count": 51,
      "metadata": {
        "colab": {
          "base_uri": "https://localhost:8080/",
          "height": 206
        },
        "id": "pfhJ1zPd8nay",
        "outputId": "34ef018e-d55f-4aa2-d47f-fc5331623dd8"
      },
      "outputs": [
        {
          "data": {
            "text/html": [
              "<div>\n",
              "<style scoped>\n",
              "    .dataframe tbody tr th:only-of-type {\n",
              "        vertical-align: middle;\n",
              "    }\n",
              "\n",
              "    .dataframe tbody tr th {\n",
              "        vertical-align: top;\n",
              "    }\n",
              "\n",
              "    .dataframe thead th {\n",
              "        text-align: right;\n",
              "    }\n",
              "</style>\n",
              "<table border=\"1\" class=\"dataframe\">\n",
              "  <thead>\n",
              "    <tr style=\"text-align: right;\">\n",
              "      <th></th>\n",
              "      <th>title</th>\n",
              "      <th>release_date</th>\n",
              "      <th>runtime</th>\n",
              "    </tr>\n",
              "  </thead>\n",
              "  <tbody>\n",
              "    <tr>\n",
              "      <th>13</th>\n",
              "      <td>Nixon</td>\n",
              "      <td>1995-12-22</td>\n",
              "      <td>192.0</td>\n",
              "    </tr>\n",
              "    <tr>\n",
              "      <th>15</th>\n",
              "      <td>Casino</td>\n",
              "      <td>1995-11-22</td>\n",
              "      <td>178.0</td>\n",
              "    </tr>\n",
              "    <tr>\n",
              "      <th>5</th>\n",
              "      <td>Heat</td>\n",
              "      <td>1995-12-15</td>\n",
              "      <td>170.0</td>\n",
              "    </tr>\n",
              "    <tr>\n",
              "      <th>16</th>\n",
              "      <td>Sense and Sensibility</td>\n",
              "      <td>1995-12-13</td>\n",
              "      <td>136.0</td>\n",
              "    </tr>\n",
              "    <tr>\n",
              "      <th>22</th>\n",
              "      <td>Assassins</td>\n",
              "      <td>1995-10-06</td>\n",
              "      <td>132.0</td>\n",
              "    </tr>\n",
              "  </tbody>\n",
              "</table>\n",
              "</div>"
            ],
            "text/plain": [
              "                    title release_date  runtime\n",
              "13                  Nixon   1995-12-22    192.0\n",
              "15                 Casino   1995-11-22    178.0\n",
              "5                    Heat   1995-12-15    170.0\n",
              "16  Sense and Sensibility   1995-12-13    136.0\n",
              "22              Assassins   1995-10-06    132.0"
            ]
          },
          "execution_count": 51,
          "metadata": {},
          "output_type": "execute_result"
        }
      ],
      "source": [
        "\n",
        "'''############## WRITE YOUR CODE HERE ##############'''\n",
        "\n",
        "result = small_df.sort_values(by=['runtime'], ascending=False)\n",
        "\n",
        "\n",
        "'''############## END OF THE EXERCISE ##############'''\n",
        "\n",
        "result.head()"
      ]
    },
    {
      "cell_type": "markdown",
      "metadata": {
        "id": "M1E42ohp9Cl2"
      },
      "source": [
        "###1.5 Give the film with the shortest runtime"
      ]
    },
    {
      "cell_type": "code",
      "execution_count": 52,
      "metadata": {
        "colab": {
          "base_uri": "https://localhost:8080/"
        },
        "id": "qzYfJI479PC-",
        "outputId": "3eda70aa-95d9-4b38-e00f-111efac81c37"
      },
      "outputs": [
        {
          "name": "stdout",
          "output_type": "stream",
          "text": [
            "title           Wings of Courage\n",
            "release_date          1996-09-18\n",
            "runtime                     50.0\n",
            "Name: 32, dtype: object\n"
          ]
        }
      ],
      "source": [
        "\n",
        "'''############## WRITE YOUR CODE HERE ##############'''\n",
        "\n",
        "result_min = result.iloc[-1]\n",
        "\n",
        "'''############## END OF THE EXERCISE ##############'''\n",
        "\n",
        "\n",
        "print(result_min)"
      ]
    },
    {
      "cell_type": "markdown",
      "metadata": {
        "id": "3K0WVR3-9XyM"
      },
      "source": [
        "### 1.6 Print the movies with runtime equal to 132"
      ]
    },
    {
      "cell_type": "code",
      "execution_count": 53,
      "metadata": {
        "id": "Ko5q4yW09fL1"
      },
      "outputs": [
        {
          "name": "stdout",
          "output_type": "stream",
          "text": [
            "        title release_date  runtime\n",
            "22  Assassins   1995-10-06    132.0\n"
          ]
        }
      ],
      "source": [
        "\n",
        "\n",
        "'''############## WRITE YOUR CODE HERE ##############'''\n",
        "\n",
        "result = small_df[small_df['runtime'] == 132]\n",
        "\n",
        "'''############## END OF THE EXERCISE ##############'''\n",
        "\n",
        "print(result)\n",
        "\n"
      ]
    },
    {
      "cell_type": "markdown",
      "metadata": {
        "id": "a0FLeaTUnAgg"
      },
      "source": [
        "# Spark dataframe\n",
        "\n",
        "A DataFrame in Spark is a programming abstraction in the Spark SQL module. DataFrames resemble relational database tables: the data resides in rows and columns of different datatypes."
      ]
    },
    {
      "cell_type": "markdown",
      "metadata": {
        "id": "VKeRM0rgnNRy"
      },
      "source": [
        "The information for distributed data is structured into schemas. Every column in a DataFrame contains the column name, datatype, and nullable properties. When nullable is set to true, a column accepts null properties as well."
      ]
    },
    {
      "cell_type": "markdown",
      "metadata": {
        "id": "Ggte9YHWnTF9"
      },
      "source": [
        "The DataFrame API is a part of the Spark SQL module. The API provides an easy way to work with data within the Spark SQL."
      ]
    },
    {
      "cell_type": "markdown",
      "metadata": {
        "id": "mBfebCuxnYVT"
      },
      "source": [
        "AS you will see the Spark DataFrame code looks familiar to the one used for Pandas dataframes. \n",
        "\n",
        "But since Spark uses RDDs offers processing optimization opportunities."
      ]
    },
    {
      "cell_type": "code",
      "execution_count": 54,
      "metadata": {
        "id": "ZQ-OnuZunvP3"
      },
      "outputs": [
        {
          "name": "stderr",
          "output_type": "stream",
          "text": [
            "25/07/25 16:37:44 WARN Utils: Your hostname, MacBook-Pro-de-Alex.local resolves to a loopback address: 127.0.0.1; using 10.0.0.25 instead (on interface en0)\n",
            "25/07/25 16:37:44 WARN Utils: Set SPARK_LOCAL_IP if you need to bind to another address\n",
            "Setting default log level to \"WARN\".\n",
            "To adjust logging level use sc.setLogLevel(newLevel). For SparkR, use setLogLevel(newLevel).\n",
            "25/07/25 16:37:44 WARN NativeCodeLoader: Unable to load native-hadoop library for your platform... using builtin-java classes where applicable\n"
          ]
        },
        {
          "name": "stdout",
          "output_type": "stream",
          "text": [
            "initialization successful\n"
          ]
        }
      ],
      "source": [
        "#import of the SparkSession\n",
        "from pyspark.sql import SparkSession\n",
        "\n",
        "#inizialization of the Spark Session\n",
        "spark = SparkSession \\\n",
        "    .builder \\\n",
        "    .appName(\"intro_dataframe\") \\\n",
        "    .getOrCreate()\n",
        "\n",
        "print(\"initialization successful\")"
      ]
    },
    {
      "cell_type": "markdown",
      "metadata": {
        "id": "3gT8Ltk0n7J-"
      },
      "source": [
        "You can create your dataframe on the fly from data structures in the code (for example if you have to run some essays)."
      ]
    },
    {
      "cell_type": "code",
      "execution_count": 55,
      "metadata": {
        "id": "P6J27V1nrCjC"
      },
      "outputs": [],
      "source": [
        "data = [{\"Category\": 'Crime', \"ID\": 1, \"Truth\": True},\n",
        "        {\"Category\": 'Romance', \"ID\": 2, \"Truth\": False},\n",
        "        {\"Category\": 'Triller', \"ID\": 3, \"Truth\": None},\n",
        "        {\"Category\": 'Documentary', \"ID\": 4, \"Truth\": True}\n",
        "        ]"
      ]
    },
    {
      "cell_type": "markdown",
      "metadata": {
        "id": "vVCDnLRWr52D"
      },
      "source": [
        "And read with the help of the <code>pyspark.sql.Row</code> structure:\n",
        "<ul>\n",
        "<li> parse the dictionary item</li>\n",
        "<li> use <code>**</code> to unpack keywords in each dictionary. </li>\n",
        "</ul>"
      ]
    },
    {
      "cell_type": "code",
      "execution_count": 56,
      "metadata": {
        "id": "XPJYGo4jrTv4"
      },
      "outputs": [],
      "source": [
        "from pyspark.sql import Row\n",
        "\n",
        "#Create a DataFrame from the data list\n",
        "movie_categories = spark.createDataFrame([Row(**i) for i in data])"
      ]
    },
    {
      "cell_type": "markdown",
      "metadata": {
        "id": "QEo0LKUuq4IA"
      },
      "source": [
        "We can also read data from csv files, here we read the same movie small dataframe that is provided as sample."
      ]
    },
    {
      "cell_type": "code",
      "execution_count": 58,
      "metadata": {
        "id": "pSk6_-3JoYUx"
      },
      "outputs": [],
      "source": [
        "dfspark = spark.read.option(\"header\", \"true\").csv(\"./data/movies_metadata.csv\")"
      ]
    },
    {
      "cell_type": "markdown",
      "metadata": {
        "id": "I7rq-lxxshqC"
      },
      "source": [
        "It is possible to print the schema\n",
        "\n"
      ]
    },
    {
      "cell_type": "code",
      "execution_count": 59,
      "metadata": {
        "colab": {
          "base_uri": "https://localhost:8080/"
        },
        "id": "0L0fD-nLsm7F",
        "outputId": "4d7f9075-3816-405d-dbc2-4aa5c6c27cb0"
      },
      "outputs": [
        {
          "name": "stdout",
          "output_type": "stream",
          "text": [
            "root\n",
            " |-- adult: string (nullable = true)\n",
            " |-- belongs_to_collection: string (nullable = true)\n",
            " |-- budget: string (nullable = true)\n",
            " |-- genres: string (nullable = true)\n",
            " |-- homepage: string (nullable = true)\n",
            " |-- id: string (nullable = true)\n",
            " |-- imdb_id: string (nullable = true)\n",
            " |-- original_language: string (nullable = true)\n",
            " |-- original_title: string (nullable = true)\n",
            " |-- overview: string (nullable = true)\n",
            " |-- popularity: string (nullable = true)\n",
            " |-- poster_path: string (nullable = true)\n",
            " |-- production_companies: string (nullable = true)\n",
            " |-- production_countries: string (nullable = true)\n",
            " |-- release_date: string (nullable = true)\n",
            " |-- revenue: string (nullable = true)\n",
            " |-- runtime: string (nullable = true)\n",
            " |-- spoken_languages: string (nullable = true)\n",
            " |-- status: string (nullable = true)\n",
            " |-- tagline: string (nullable = true)\n",
            " |-- title: string (nullable = true)\n",
            " |-- video: string (nullable = true)\n",
            " |-- vote_average: string (nullable = true)\n",
            " |-- vote_count: string (nullable = true)\n",
            "\n"
          ]
        }
      ],
      "source": [
        "dfspark.printSchema()\n"
      ]
    },
    {
      "cell_type": "markdown",
      "metadata": {
        "id": "Kv305PLJsnlE"
      },
      "source": [
        "And the table to view the created Spark DataFrame:"
      ]
    },
    {
      "cell_type": "code",
      "execution_count": 60,
      "metadata": {
        "colab": {
          "base_uri": "https://localhost:8080/"
        },
        "id": "uuOvju71syh6",
        "outputId": "68d33c41-78b2-4618-9830-46142065a202"
      },
      "outputs": [
        {
          "name": "stdout",
          "output_type": "stream",
          "text": [
            "+-----+---------------------+--------+--------------------+--------------------+-----+---------+-----------------+--------------------+--------------------+----------+--------------------+--------------------+--------------------+--------------------+--------------------+--------------------+--------------------+--------+--------------------+--------------------+--------+--------------------+-----------------+\n",
            "|adult|belongs_to_collection|  budget|              genres|            homepage|   id|  imdb_id|original_language|      original_title|            overview|popularity|         poster_path|production_companies|production_countries|        release_date|             revenue|             runtime|    spoken_languages|  status|             tagline|               title|   video|        vote_average|       vote_count|\n",
            "+-----+---------------------+--------+--------------------+--------------------+-----+---------+-----------------+--------------------+--------------------+----------+--------------------+--------------------+--------------------+--------------------+--------------------+--------------------+--------------------+--------+--------------------+--------------------+--------+--------------------+-----------------+\n",
            "|False| {'id': 10194, 'na...|30000000|[{'id': 16, 'name...|http://toystory.d...|  862|tt0114709|               en|           Toy Story|Led by Woody, And...| 21.946943|/rhIRbceoE9lR4veE...|[{'name': 'Pixar ...|[{'iso_3166_1': '...|          1995-10-30|           373554033|                81.0|[{'iso_639_1': 'e...|Released|                NULL|           Toy Story|   False|                 7.7|             5415|\n",
            "|False|                 NULL|65000000|[{'id': 12, 'name...|                NULL| 8844|tt0113497|               en|             Jumanji|When siblings Jud...| 17.015539|/vzmL6fP7aPKNKPRT...|[{'name': 'TriSta...|[{'iso_3166_1': '...|          1995-12-15|           262797249|               104.0|[{'iso_639_1': 'e...|Released|Roll the dice and...|             Jumanji|   False|                 6.9|             2413|\n",
            "|False| {'id': 119050, 'n...|       0|[{'id': 10749, 'n...|                NULL|15602|tt0113228|               en|    Grumpier Old Men|A family wedding ...|   11.7129|/6ksm1sjKMFLbO7UY...|[{'name': 'Warner...|[{'iso_3166_1': '...|          1995-12-22|                   0|               101.0|[{'iso_639_1': 'e...|Released|Still Yelling. St...|    Grumpier Old Men|   False|                 6.5|               92|\n",
            "|False|                 NULL|16000000|[{'id': 35, 'name...|                NULL|31357|tt0114885|               en|   Waiting to Exhale|\"Cheated on, mist...|    Bernie| Glo and Robin ta...| determined to fi...|            3.859495|/16XOMpEaLWkrcPqS...|[{'name': 'Twenti...|[{'iso_3166_1': '...|          1995-12-22|81452156|               127.0|[{'iso_639_1': 'e...|Released|Friends are the p...|Waiting to Exhale|\n",
            "|False| {'id': 96871, 'na...|       0|[{'id': 35, 'name...|                NULL|11862|tt0113041|               en|Father of the Bri...|Just when George ...|  8.387519|/e64sOI48hQXyru7n...|[{'name': 'Sandol...|[{'iso_3166_1': '...|          1995-02-10|            76578911|               106.0|[{'iso_639_1': 'e...|Released|Just When His Wor...|Father of the Bri...|   False|                 5.7|              173|\n",
            "|False|                 NULL|60000000|[{'id': 28, 'name...|                NULL|  949|tt0113277|               en|                Heat|Obsessive master ...| 17.924927|/zMyfPUelumio3tiD...|[{'name': 'Regenc...|[{'iso_3166_1': '...|          1995-12-15|           187436818|               170.0|[{'iso_639_1': 'e...|Released|A Los Angeles Cri...|                Heat|   False|                 7.7|             1886|\n",
            "|False|                 NULL|58000000|[{'id': 35, 'name...|                NULL|11860|tt0114319|               en|             Sabrina|An ugly duckling ...|  6.677277|/jQh15y5YB7bWz1Nt...|[{'name': 'Paramo...|[{'iso_3166_1': '...|          1995-12-15|                   0|               127.0|[{'iso_639_1': 'f...|Released|You are cordially...|             Sabrina|   False|                 6.2|              141|\n",
            "|False|                 NULL|       0|[{'id': 28, 'name...|                NULL|45325|tt0112302|               en|        Tom and Huck|A mischievous you...|  2.561161|/sGO5Qa55p7wTu7FJ...|[{'name': 'Walt D...|[{'iso_3166_1': '...|          1995-12-22|                   0|                97.0|[{'iso_639_1': 'e...|Released|The Original Bad ...|        Tom and Huck|   False|                 5.4|               45|\n",
            "|False|                 NULL|35000000|[{'id': 28, 'name...|                NULL| 9091|tt0114576|               en|        Sudden Death|International act...|   5.23158|/eoWvKD60lT95Ss1M...|[{'name': 'Univer...|[{'iso_3166_1': '...|          1995-12-22|            64350171|               106.0|[{'iso_639_1': 'e...|Released|Terror goes into ...|        Sudden Death|   False|                 5.5|              174|\n",
            "|False| {'id': 645, 'name...|58000000|[{'id': 12, 'name...|http://www.mgm.co...|  710|tt0113189|               en|           GoldenEye|James Bond must u...| 14.686036|/5c0ovjT41KnYIHYu...|[{'name': 'United...|[{'iso_3166_1': '...|          1995-11-16|           352194034|               130.0|[{'iso_639_1': 'e...|Released|No limits. No fea...|           GoldenEye|   False|                 6.6|             1194|\n",
            "|False|                 NULL|62000000|[{'id': 35, 'name...|                NULL| 9087|tt0112346|               en|The American Pres...|Widowed U.S. pres...|  6.318445|/lymPNGLZgPHuqM29...|[{'name': 'Columb...|[{'iso_3166_1': '...|          1995-11-17|           107879496|               106.0|[{'iso_639_1': 'e...|Released|Why can't the mos...|The American Pres...|   False|                 6.5|              199|\n",
            "|False|                 NULL|       0|[{'id': 35, 'name...|                NULL|12110|tt0112896|               en|Dracula: Dead and...|When a lawyer sho...|  5.430331|/xve4cgfYItnOhtzL...|[{'name': 'Columb...|[{'iso_3166_1': '...|          1995-12-22|                   0|                88.0|[{'iso_639_1': 'e...|Released|                NULL|Dracula: Dead and...|   False|                 5.7|              210|\n",
            "|False| {'id': 117693, 'n...|       0|[{'id': 10751, 'n...|                NULL|21032|tt0112453|               en|               Balto|An outcast half-w...| 12.140733|/gV5PCAVCPNxlOLFM...|[{'name': 'Univer...|[{'iso_3166_1': '...|          1995-12-22|            11348324|                78.0|[{'iso_639_1': 'e...|Released|Part Dog. Part Wo...|               Balto|   False|                 7.1|              423|\n",
            "|False|                 NULL|44000000|[{'id': 36, 'name...|                NULL|10858|tt0113987|               en|               Nixon|An all-star cast ...|     5.092|/cICkmCEiXRhvZmbu...|[{'name': 'Hollyw...|[{'iso_3166_1': '...|          1995-12-22|            13681765|               192.0|[{'iso_639_1': 'e...|Released|Triumphant in Vic...|               Nixon|   False|                 7.1|               72|\n",
            "|False|                 NULL|98000000|[{'id': 28, 'name...|                NULL| 1408|tt0112760|               en|    Cutthroat Island|Morgan Adams and ...|  7.284477|/odM9973kIv9hcjfH...|[{'name': 'Le Stu...|[{'iso_3166_1': '...|          1995-12-22|            10017322|               119.0|[{'iso_639_1': 'e...|Released|The Course Has Be...|    Cutthroat Island|   False|                 5.7|              137|\n",
            "|False|                 NULL|52000000|[{'id': 18, 'name...|                NULL|  524|tt0112641|               en|              Casino|The life of the g...| 10.137389|/xo517ibXBDdYQY81...|[{'name': 'Univer...|[{'iso_3166_1': '...|          1995-11-22|           116112375|               178.0|[{'iso_639_1': 'e...|Released|No one stays at t...|              Casino|   False|                 7.8|             1343|\n",
            "|False|                 NULL|16500000|[{'id': 18, 'name...|                NULL| 4584|tt0114388|               en|Sense and Sensibi...|Rich Mr. Dashwood...| 10.673167|/lA9HTy84Bb6ZwNey...|[{'name': 'Columb...|[{'iso_3166_1': '...|          1995-12-13|           135000000|               136.0|[{'iso_639_1': 'e...|Released|Lose your heart a...|Sense and Sensibi...|   False|                 7.2|              364|\n",
            "|False|                 NULL| 4000000|[{'id': 80, 'name...|                NULL|    5|tt0113101|               en|          Four Rooms|It's Ted the Bell...|  9.026586|/eQs5hh9rxrk1m4xH...|[{'name': 'Mirama...|[{'iso_3166_1': '...|          1995-12-09|             4300000|                98.0|[{'iso_639_1': 'e...|Released|Twelve outrageous...|          Four Rooms|   False|                 6.5|              539|\n",
            "|False| {'id': 3167, 'nam...|30000000|[{'id': 80, 'name...|                NULL| 9273|tt0112281|               en|Ace Ventura: When...|Summoned from an ...|  8.205448|/wRlGnJhEzcxBjvWt...|[{'name': 'O Ente...|[{'iso_3166_1': '...|          1995-11-10|           212385533|                90.0|[{'iso_639_1': 'e...|Released|New animals. New ...|Ace Ventura: When...|   False|                 6.1|             1128|\n",
            "|False|                 NULL|60000000|[{'id': 28, 'name...|                NULL|11517|tt0113845|               en|         Money Train|A vengeful New Yo...|  7.337906|/jSozzzVOR2kfXgTU...|[{'name': 'Columb...|[{'iso_3166_1': '...|          1995-11-21|            35431113|               103.0|[{'iso_639_1': 'e...|Released|Get on, or GET OU...|         Money Train|   False|                 5.4|              224|\n",
            "+-----+---------------------+--------+--------------------+--------------------+-----+---------+-----------------+--------------------+--------------------+----------+--------------------+--------------------+--------------------+--------------------+--------------------+--------------------+--------------------+--------+--------------------+--------------------+--------+--------------------+-----------------+\n",
            "only showing top 20 rows\n",
            "\n"
          ]
        }
      ],
      "source": [
        "dfspark.show()"
      ]
    },
    {
      "cell_type": "markdown",
      "metadata": {
        "id": "HP6QAZqeK1Bp"
      },
      "source": [
        "Using spark operation we can analyze the dataframe. For example we can filter the movies that have a runtime equal to 136:"
      ]
    },
    {
      "cell_type": "code",
      "execution_count": 61,
      "metadata": {
        "colab": {
          "base_uri": "https://localhost:8080/"
        },
        "id": "fayKeszILFRl",
        "outputId": "10458167-ca44-49b4-a120-a978d4238c58"
      },
      "outputs": [
        {
          "name": "stdout",
          "output_type": "stream",
          "text": [
            "+-----+---------------------+--------+--------------------+--------+----+---------+-----------------+--------------------+--------------------+----------+--------------------+--------------------+--------------------+------------+---------+-------+--------------------+--------+--------------------+--------------------+-----+------------+----------+\n",
            "|adult|belongs_to_collection|  budget|              genres|homepage|  id|  imdb_id|original_language|      original_title|            overview|popularity|         poster_path|production_companies|production_countries|release_date|  revenue|runtime|    spoken_languages|  status|             tagline|               title|video|vote_average|vote_count|\n",
            "+-----+---------------------+--------+--------------------+--------+----+---------+-----------------+--------------------+--------------------+----------+--------------------+--------------------+--------------------+------------+---------+-------+--------------------+--------+--------------------+--------------------+-----+------------+----------+\n",
            "|False|                 NULL|16500000|[{'id': 18, 'name...|    NULL|4584|tt0114388|               en|Sense and Sensibi...|Rich Mr. Dashwood...| 10.673167|/lA9HTy84Bb6ZwNey...|[{'name': 'Columb...|[{'iso_3166_1': '...|  1995-12-13|135000000|  136.0|[{'iso_639_1': 'e...|Released|Lose your heart a...|Sense and Sensibi...|False|         7.2|       364|\n",
            "+-----+---------------------+--------+--------------------+--------+----+---------+-----------------+--------------------+--------------------+----------+--------------------+--------------------+--------------------+------------+---------+-------+--------------------+--------+--------------------+--------------------+-----+------------+----------+\n",
            "\n"
          ]
        }
      ],
      "source": [
        "dfspark.filter(dfspark.runtime == 136).show()"
      ]
    },
    {
      "cell_type": "markdown",
      "metadata": {
        "id": "tCWH3NzcMN_5"
      },
      "source": [
        "You can select some columns of the dataframe, in this example the title"
      ]
    },
    {
      "cell_type": "code",
      "execution_count": 62,
      "metadata": {
        "colab": {
          "base_uri": "https://localhost:8080/"
        },
        "id": "cmELOjPyMLYR",
        "outputId": "761ea61f-1226-436e-ba61-c126593da465"
      },
      "outputs": [
        {
          "name": "stdout",
          "output_type": "stream",
          "text": [
            "+--------------------+\n",
            "|               title|\n",
            "+--------------------+\n",
            "|           Toy Story|\n",
            "|             Jumanji|\n",
            "|    Grumpier Old Men|\n",
            "|[{'iso_639_1': 'e...|\n",
            "|Father of the Bri...|\n",
            "|                Heat|\n",
            "|             Sabrina|\n",
            "|        Tom and Huck|\n",
            "|        Sudden Death|\n",
            "|           GoldenEye|\n",
            "|The American Pres...|\n",
            "|Dracula: Dead and...|\n",
            "|               Balto|\n",
            "|               Nixon|\n",
            "|    Cutthroat Island|\n",
            "|              Casino|\n",
            "|Sense and Sensibi...|\n",
            "|          Four Rooms|\n",
            "|Ace Ventura: When...|\n",
            "|         Money Train|\n",
            "+--------------------+\n",
            "only showing top 20 rows\n",
            "\n"
          ]
        }
      ],
      "source": [
        "dfSparksmall = dfspark.select(\"title\").show()"
      ]
    },
    {
      "cell_type": "markdown",
      "metadata": {
        "id": "EcD3yCgrMk4f"
      },
      "source": [
        "You can group by the value of a column and count the results:"
      ]
    },
    {
      "cell_type": "code",
      "execution_count": 63,
      "metadata": {
        "colab": {
          "base_uri": "https://localhost:8080/"
        },
        "id": "Zy9VQ8myMkSa",
        "outputId": "8cb06754-3b86-4ee7-b1fb-d0119661b207"
      },
      "outputs": [
        {
          "name": "stdout",
          "output_type": "stream",
          "text": [
            "+--------------------+-----+\n",
            "|             runtime|count|\n",
            "+--------------------+-----+\n",
            "|               116.0|    1|\n",
            "|               127.0|    1|\n",
            "|                50.0|    1|\n",
            "|               170.0|    1|\n",
            "|                90.0|    1|\n",
            "|               132.0|    1|\n",
            "|[{'iso_3166_1': '...|    3|\n",
            "|               108.0|    1|\n",
            "|                78.0|    1|\n",
            "|                51.0|    1|\n",
            "|               104.0|    3|\n",
            "|               106.0|    6|\n",
            "|               111.0|    1|\n",
            "|               121.0|    1|\n",
            "|               101.0|    3|\n",
            "|               100.0|    1|\n",
            "|                81.0|    2|\n",
            "|               112.0|    1|\n",
            "|                99.0|    1|\n",
            "|               192.0|    1|\n",
            "+--------------------+-----+\n",
            "only showing top 20 rows\n",
            "\n"
          ]
        }
      ],
      "source": [
        "dfspark.groupBy(\"runtime\").count().show()"
      ]
    },
    {
      "cell_type": "markdown",
      "metadata": {
        "id": "2y1WVdz6Licf"
      },
      "source": [
        "## 2. Spark Dataframes exercises\n",
        "\n",
        "Referring to [Spark dataframe documentation](https://spark.apache.org/docs/latest/sql-getting-started.html)"
      ]
    },
    {
      "cell_type": "markdown",
      "metadata": {
        "id": "4LO9KuPTL5CC"
      },
      "source": [
        "##2.1 Find the movies having title equal to 'Pochaontas'"
      ]
    },
    {
      "cell_type": "code",
      "execution_count": 64,
      "metadata": {
        "colab": {
          "base_uri": "https://localhost:8080/",
          "height": 163
        },
        "id": "JVp6kV2FLh2B",
        "outputId": "dcfa3de9-5c65-4cf0-da1f-2cc91d0ee01c"
      },
      "outputs": [
        {
          "name": "stdout",
          "output_type": "stream",
          "text": [
            "+-----+---------------------+--------+--------------------+--------+-----+---------+-----------------+--------------+--------------------+----------+--------------------+--------------------+--------------------+------------+---------+-------+--------------------+--------+--------------------+----------+-----+------------+----------+\n",
            "|adult|belongs_to_collection|  budget|              genres|homepage|   id|  imdb_id|original_language|original_title|            overview|popularity|         poster_path|production_companies|production_countries|release_date|  revenue|runtime|    spoken_languages|  status|             tagline|     title|video|vote_average|vote_count|\n",
            "+-----+---------------------+--------+--------------------+--------+-----+---------+-----------------+--------------+--------------------+----------+--------------------+--------------------+--------------------+------------+---------+-------+--------------------+--------+--------------------+----------+-----+------------+----------+\n",
            "|False| {'id': 136214, 'n...|55000000|[{'id': 12, 'name...|    NULL|10530|tt0114148|               en|    Pocahontas|History comes glo...| 13.280069|/qk95miOV8wDABbO5...|[{'name': 'Walt D...|[{'iso_3166_1': '...|  1995-06-14|346079773|   81.0|[{'iso_639_1': 'e...|Released|An American legen...|Pocahontas|False|         6.7|      1509|\n",
            "+-----+---------------------+--------+--------------------+--------+-----+---------+-----------------+--------------+--------------------+----------+--------------------+--------------------+--------------------+------------+---------+-------+--------------------+--------+--------------------+----------+-----+------------+----------+\n",
            "\n"
          ]
        },
        {
          "data": {
            "text/plain": [
              "'############## END OF THE EXERCISE ##############'"
            ]
          },
          "execution_count": 64,
          "metadata": {},
          "output_type": "execute_result"
        }
      ],
      "source": [
        "\n",
        "'''############## WRITE YOUR CODE HERE ##############'''\n",
        "\n",
        "dfspark.filter(dfspark.title == 'Pocahontas').show()\n",
        "\n",
        "'''############## END OF THE EXERCISE ##############'''"
      ]
    },
    {
      "cell_type": "markdown",
      "metadata": {
        "id": "b4yMcw3VOMcE"
      },
      "source": [
        "## 2.2 Create a Spark dataframe with only the columns <code> title\trelease_date\truntime </code>\n",
        "\n"
      ]
    },
    {
      "cell_type": "code",
      "execution_count": 65,
      "metadata": {
        "colab": {
          "base_uri": "https://localhost:8080/"
        },
        "id": "HA6jp8f7Oo3W",
        "outputId": "199e1525-b73d-489f-a84d-f9f088ce8e2e"
      },
      "outputs": [
        {
          "name": "stdout",
          "output_type": "stream",
          "text": [
            "+--------------------+--------------------+--------------------+\n",
            "|               title|        release_date|             runtime|\n",
            "+--------------------+--------------------+--------------------+\n",
            "|           Toy Story|          1995-10-30|                81.0|\n",
            "|             Jumanji|          1995-12-15|               104.0|\n",
            "|    Grumpier Old Men|          1995-12-22|               101.0|\n",
            "|[{'iso_639_1': 'e...|/16XOMpEaLWkrcPqS...|[{'iso_3166_1': '...|\n",
            "|Father of the Bri...|          1995-02-10|               106.0|\n",
            "|                Heat|          1995-12-15|               170.0|\n",
            "|             Sabrina|          1995-12-15|               127.0|\n",
            "|        Tom and Huck|          1995-12-22|                97.0|\n",
            "|        Sudden Death|          1995-12-22|               106.0|\n",
            "|           GoldenEye|          1995-11-16|               130.0|\n",
            "|The American Pres...|          1995-11-17|               106.0|\n",
            "|Dracula: Dead and...|          1995-12-22|                88.0|\n",
            "|               Balto|          1995-12-22|                78.0|\n",
            "|               Nixon|          1995-12-22|               192.0|\n",
            "|    Cutthroat Island|          1995-12-22|               119.0|\n",
            "|              Casino|          1995-11-22|               178.0|\n",
            "|Sense and Sensibi...|          1995-12-13|               136.0|\n",
            "|          Four Rooms|          1995-12-09|                98.0|\n",
            "|Ace Ventura: When...|          1995-11-10|                90.0|\n",
            "|         Money Train|          1995-11-21|               103.0|\n",
            "+--------------------+--------------------+--------------------+\n",
            "only showing top 20 rows\n",
            "\n"
          ]
        }
      ],
      "source": [
        "'''############## WRITE YOUR CODE HERE ##############'''\n",
        "\n",
        "dfsparksmall = dfspark.select('title', 'release_date', 'runtime')\n",
        "\n",
        "'''############## END OF THE EXERCISE ##############'''\n",
        "dfsparksmall.show()"
      ]
    }
  ],
  "metadata": {
    "colab": {
      "collapsed_sections": [],
      "name": "intro_dataframes.ipynb",
      "provenance": [],
      "toc_visible": true
    },
    "kernelspec": {
      "display_name": "spark",
      "language": "python",
      "name": "python3"
    },
    "language_info": {
      "codemirror_mode": {
        "name": "ipython",
        "version": 3
      },
      "file_extension": ".py",
      "mimetype": "text/x-python",
      "name": "python",
      "nbconvert_exporter": "python",
      "pygments_lexer": "ipython3",
      "version": "3.10.12"
    }
  },
  "nbformat": 4,
  "nbformat_minor": 0
}
