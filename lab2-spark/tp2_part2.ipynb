{
  "cells": [
    {
      "cell_type": "markdown",
      "metadata": {
        "id": "rbuZfFWZVXpn"
      },
      "source": [
        "<h1><center>Big Data Algorithms Techniques & Platforms</center></h1>\n",
        "<h2>\n",
        "<hr style=\" border:none; height:3px;\">\n",
        "<center>Spark and DataFrames</center>\n",
        "<hr style=\" border:none; height:3px;\">\n",
        "</h2>"
      ]
    },
    {
      "cell_type": "markdown",
      "metadata": {
        "id": "ZBLI_qUSVXpq"
      },
      "source": [
        "## Objectives\n",
        "\n",
        "<strong> Dataframes: </strong>\n",
        "<ul>\n",
        "    <li>  Pyspark </li>\n",
        "    <li>  Pandas library on Spark</li>\n",
        "</ul>"
      ]
    },
    {
      "cell_type": "markdown",
      "metadata": {
        "id": "42q0jiKKVXpr"
      },
      "source": [
        "# A. Context\n",
        "\n",
        "<p align=\"justify\">\n",
        "<font size=\"3\">\n",
        "For running this serie of exercises we are going to use a quite big dataset containing data on Bitcoin made available from <a href=\"https://www.kaggle.com/mczielinski/bitcoin-historical-data\">Kaggle</a>.\n",
        "\n",
        "As stated in the description of the dataset:\n",
        "\"Bitcoin is the longest running and most well known cryptocurrency, first released as open source in 2009 by the anonymous Satoshi Nakamoto. Bitcoin serves as a decentralized medium of digital exchange, with transactions verified and recorded in a public distributed ledger (the blockchain) without the need for a trusted record keeping authority or central intermediary.\"\n",
        "</font>\n",
        "</p>\n",
        "\n",
        "\n",
        "### The dataset\n",
        "\n",
        "<p align=\"justify\">\n",
        "<font size=\"3\">\n",
        "The dataset is in a .csv file:\n",
        "\n",
        "$btcusd\\_1-min\\_data.csv $\n",
        "\n",
        "CSV files for select bitcoin exchanges for the time period of Jan 2012 to December March 2021, with minute to minute updates of OHLC (Open, High, Low, Close), Volume in BTC and indicated currency, and weighted bitcoin price.\n",
        "\n",
        "Notice that:\n",
        "<ul>\n",
        "    <li> Timestamps are in Unix time.</li>\n",
        "<li> Timestamps without any trades or activity have their data fields filled with NaNs. </li>\n",
        "<li>  If a timestamp is missing, or if there are jumps, this may be because the exchange (or its API) was down, the exchange (or its API) did not exist, or some other unforeseen technical error in data reporting or gathering. </li>\n",
        "</ul>\n",
        "As stated by the authors \"all effort has been made to deduplicate entries and verify the contents are correct and complete to the best of my ability, but obviously trust at your own risk\".\n",
        "</p>\n",
        "</font>"
      ]
    },
    {
      "cell_type": "code",
      "execution_count": 1,
      "metadata": {
        "id": "wVZaAkIgVXps"
      },
      "outputs": [],
      "source": [
        "# import of Pandas library\n",
        "import pandas as pa\n"
      ]
    },
    {
      "cell_type": "markdown",
      "metadata": {
        "id": "Zd5y1A2BVXpr"
      },
      "source": [
        "# B. Environment set-up\n",
        "\n",
        "<p align=\"justify\">\n",
        "<font size=\"3\">\n",
        "As first step you must include your dataset in your environment.\n",
        "\n",
        "You can folllow the procedure that includes Kaggle data into colab working folders or simply download and re-upload the file on your Colab space.\n",
        "\n",
        "\n",
        "$btcusd\\_1-min\\_data.csv $\n",
        "    \n",
        "and upload it in the folder where your notebook is supposed to read the input.\n",
        "\n",
        "</font>\n",
        "</p>\n",
        "\n",
        "<p align=\"justify\">\n",
        "<font size=\"3\">\n",
        "As second step you must prepare your environment running the following two cells that:\n",
        "<ul>\n",
        "    <li> Import the Pandas library.</li>\n",
        "<li> Set the Spark environment and return a SparkSession (acting as was acting the SparkContext in the previous exercises). </li>\n",
        "</ul>    \n",
        "    \n",
        "\n",
        "</font>\n",
        "</p>"
      ]
    },
    {
      "cell_type": "code",
      "execution_count": 2,
      "metadata": {
        "id": "YnIAJZrfVXps"
      },
      "outputs": [
        {
          "name": "stderr",
          "output_type": "stream",
          "text": [
            "25/07/26 17:59:24 WARN Utils: Your hostname, MacBook-Pro-de-Alex.local resolves to a loopback address: 127.0.0.1; using 10.0.0.25 instead (on interface en0)\n",
            "25/07/26 17:59:24 WARN Utils: Set SPARK_LOCAL_IP if you need to bind to another address\n",
            "Setting default log level to \"WARN\".\n",
            "To adjust logging level use sc.setLogLevel(newLevel). For SparkR, use setLogLevel(newLevel).\n",
            "25/07/26 17:59:24 WARN NativeCodeLoader: Unable to load native-hadoop library for your platform... using builtin-java classes where applicable\n",
            "25/07/26 17:59:24 WARN Utils: Service 'SparkUI' could not bind on port 4040. Attempting port 4041.\n"
          ]
        },
        {
          "name": "stdout",
          "output_type": "stream",
          "text": [
            "initialization successful\n"
          ]
        }
      ],
      "source": [
        "#import of the SparkSession\n",
        "from pyspark.sql import SparkSession\n",
        "\n",
        "#inizialization of the Spark Session\n",
        "spark = SparkSession \\\n",
        "    .builder \\\n",
        "    .appName(\"tp2\") \\\n",
        "    .getOrCreate()\n",
        "\n",
        "print(\"initialization successful\")"
      ]
    },
    {
      "cell_type": "code",
      "execution_count": 3,
      "metadata": {
        "colab": {
          "base_uri": "https://localhost:8080/"
        },
        "id": "nOcFr4uSV03u",
        "outputId": "149c3140-1245-42dc-e385-43ec386a769d"
      },
      "outputs": [
        {
          "name": "stdout",
          "output_type": "stream",
          "text": [
            "Requirement already satisfied: kaggle in /Users/alexandregravereaux/.pyenv/versions/3.10.12/envs/spark/lib/python3.10/site-packages (1.7.4.5)\n",
            "Requirement already satisfied: six>=1.10 in /Users/alexandregravereaux/.pyenv/versions/3.10.12/envs/spark/lib/python3.10/site-packages (from kaggle) (1.17.0)\n",
            "Requirement already satisfied: tqdm in /Users/alexandregravereaux/.pyenv/versions/3.10.12/envs/spark/lib/python3.10/site-packages (from kaggle) (4.67.1)\n",
            "Requirement already satisfied: certifi>=14.05.14 in /Users/alexandregravereaux/.pyenv/versions/3.10.12/envs/spark/lib/python3.10/site-packages (from kaggle) (2025.4.26)\n",
            "Requirement already satisfied: urllib3>=1.15.1 in /Users/alexandregravereaux/.pyenv/versions/3.10.12/envs/spark/lib/python3.10/site-packages (from kaggle) (2.4.0)\n",
            "Requirement already satisfied: python-dateutil>=2.5.3 in /Users/alexandregravereaux/.pyenv/versions/3.10.12/envs/spark/lib/python3.10/site-packages (from kaggle) (2.9.0.post0)\n",
            "Requirement already satisfied: protobuf in /Users/alexandregravereaux/.pyenv/versions/3.10.12/envs/spark/lib/python3.10/site-packages (from kaggle) (6.31.1)\n",
            "Requirement already satisfied: python-slugify in /Users/alexandregravereaux/.pyenv/versions/3.10.12/envs/spark/lib/python3.10/site-packages (from kaggle) (8.0.4)\n",
            "Requirement already satisfied: charset-normalizer in /Users/alexandregravereaux/.pyenv/versions/3.10.12/envs/spark/lib/python3.10/site-packages (from kaggle) (3.4.2)\n",
            "Requirement already satisfied: webencodings in /Users/alexandregravereaux/.pyenv/versions/3.10.12/envs/spark/lib/python3.10/site-packages (from kaggle) (0.5.1)\n",
            "Requirement already satisfied: idna in /Users/alexandregravereaux/.pyenv/versions/3.10.12/envs/spark/lib/python3.10/site-packages (from kaggle) (3.10)\n",
            "Requirement already satisfied: text-unidecode in /Users/alexandregravereaux/.pyenv/versions/3.10.12/envs/spark/lib/python3.10/site-packages (from kaggle) (1.3)\n",
            "Requirement already satisfied: setuptools>=21.0.0 in /Users/alexandregravereaux/.pyenv/versions/3.10.12/envs/spark/lib/python3.10/site-packages (from kaggle) (65.5.0)\n",
            "Requirement already satisfied: requests in /Users/alexandregravereaux/.pyenv/versions/3.10.12/envs/spark/lib/python3.10/site-packages (from kaggle) (2.32.3)\n",
            "Requirement already satisfied: bleach in /Users/alexandregravereaux/.pyenv/versions/3.10.12/envs/spark/lib/python3.10/site-packages (from kaggle) (6.2.0)\n",
            "\n",
            "\u001b[1m[\u001b[0m\u001b[34;49mnotice\u001b[0m\u001b[1;39;49m]\u001b[0m\u001b[39;49m A new release of pip is available: \u001b[0m\u001b[31;49m23.0.1\u001b[0m\u001b[39;49m -> \u001b[0m\u001b[32;49m25.1.1\u001b[0m\n",
            "\u001b[1m[\u001b[0m\u001b[34;49mnotice\u001b[0m\u001b[1;39;49m]\u001b[0m\u001b[39;49m To update, run: \u001b[0m\u001b[32;49mpip install --upgrade pip\u001b[0m\n",
            "mkdir: /Users/alexandregravereaux/.kaggle: File exists\n",
            "cp: kaggle.json: No such file or directory\n",
            "chmod: /Users/alexandregravereaux/.kaggle/kaggle.json: No such file or directory\n"
          ]
        }
      ],
      "source": [
        "! pip install kaggle\n",
        "\n",
        "! mkdir ~/.kaggle\n",
        "\n",
        "! cp kaggle.json ~/.kaggle/\n",
        "\n",
        "! chmod 600 ~/.kaggle/kaggle.json"
      ]
    },
    {
      "cell_type": "code",
      "execution_count": 8,
      "metadata": {
        "colab": {
          "base_uri": "https://localhost:8080/"
        },
        "id": "YQvY75dFIB6X",
        "outputId": "13bddfa1-e5a7-4c6c-f03a-b0d58a6e1959"
      },
      "outputs": [
        {
          "name": "stdout",
          "output_type": "stream",
          "text": [
            "Dataset URL: https://www.kaggle.com/datasets/mczielinski/bitcoin-historical-data\n",
            "License(s): CC-BY-SA-4.0\n",
            "Downloading bitcoin-historical-data.zip to /Users/alexandregravereaux/Desktop/sg8-cloud-computing-labs/lab2-spark\n",
            "  0%|                                               | 0.00/95.4M [00:00<?, ?B/s]\n",
            "100%|██████████████████████████████████████| 95.4M/95.4M [00:00<00:00, 5.84GB/s]\n"
          ]
        }
      ],
      "source": [
        "import os\n",
        "\n",
        "os.environ['KAGGLE_USERNAME'] = 'username'\n",
        "os.environ['KAGGLE_KEY'] = 'key'\n",
        "\n",
        "! kaggle datasets download mczielinski/bitcoin-historical-data"
      ]
    },
    {
      "cell_type": "code",
      "execution_count": 9,
      "metadata": {
        "colab": {
          "base_uri": "https://localhost:8080/"
        },
        "id": "wz5ryymqZ1GJ",
        "outputId": "81e85ce3-2d11-4c98-b7f9-63782a7a5fd5"
      },
      "outputs": [
        {
          "name": "stdout",
          "output_type": "stream",
          "text": [
            "Archive:  bitcoin-historical-data.zip\n",
            "  inflating: btcusd_1-min_data.csv   \n"
          ]
        }
      ],
      "source": [
        "! unzip -o bitcoin-historical-data.zip"
      ]
    },
    {
      "cell_type": "markdown",
      "metadata": {
        "id": "SQZN4xiqVXpt"
      },
      "source": [
        "### <strong> Exercise 1.</strong> First import\n",
        "    \n",
        "<p align=\"justify\">\n",
        "<font size=\"3\">\n",
        "Import the csv file in Spark DataFrame. If you have any doubt you can always refer to the Spark 3.1.1 documentation:\n",
        "\n",
        "<a href=\"https://spark.apache.org/docs/3.1.1/\">Spark Reference Documentation</a>\n",
        "\n",
        "</font>\n",
        "</p>"
      ]
    },
    {
      "cell_type": "code",
      "execution_count": 10,
      "metadata": {
        "id": "imMeOHQmVXpu"
      },
      "outputs": [
        {
          "data": {
            "text/plain": [
              "DataFrame[Timestamp: double, Open: double, High: double, Low: double, Close: double, Volume: double]"
            ]
          },
          "execution_count": 10,
          "metadata": {},
          "output_type": "execute_result"
        }
      ],
      "source": [
        "# Write the command that creates (reads) a Spark DataFrame and stores the reference in the dfs variable\n",
        "\n",
        "#'''############## WRITE YOUR CODE HERE ##############'''\"\n",
        "schema = \"Timestamp double, Open double, High double, Low double, Close double, Volume double\"\n",
        "dfs = spark.read.option(\"header\", \"true\").schema(schema).csv(\"btcusd_1-min_data.csv\")\n",
        "#'''############## END OF THE EXERCISE ##############'''\n",
        "\n",
        "#show the DataFrame schema\n",
        "dfs\n",
        "\n",
        "\n",
        "#######################\n",
        "# EXPECTED OUTPUT:\n",
        "# DataFrame[Timestamp: int, Open: double, High: double, Low: double, Close: double, Volume: double]</font>\n",
        "#\n",
        "# Notice that if you have something like:\n",
        "# DataFrame[_c0: string, _c1: string, _c2: string, _c3: string, _c4: string, _c5: string, _c6: string, _c7: string]\n",
        "# you forgot a step: you did not include the schema of the columns\n",
        "#\n",
        "# Notice also that if you have:\n",
        "# DataFrame[Timestamp: string, Open: string, High: string, Low: string, Close: string, Volume_(BTC): string]\n",
        "# you also forgot a step: the type of the Timestamp must be a String\n",
        "###########################"
      ]
    },
    {
      "cell_type": "markdown",
      "metadata": {
        "id": "CdYKtVF_VXpt"
      },
      "source": [
        "## B.1  File import\n",
        "    \n",
        "<p align=\"justify\">\n",
        "<font size=\"3\">\n",
        "In this exercise the goal is to create a Spark DataFrame from the csv file in imput.\n",
        "\n",
        "Recall that in Spark DataFrame the type of the columns is very important for the definition of the internal data representation.\n",
        "    \n",
        "For this step you the target set of typed columns is the following one:\n",
        "<ul>\n",
        "    <li>    $Date\\_Time: Timestamp$ </li>\n",
        "     <li>   $Open: double$ </li>\n",
        "     <li>   $High: double$ </li>\n",
        "    <li>    $Low: double$ </li>\n",
        "    <li>    $Close: double$ </li>\n",
        "    <li>    $Volume: double$ </li>\n",
        "</ul>\n",
        "    \n",
        "We will arrive to define the schema in 3 guided steps described in the following sections.\n",
        "</font>\n",
        "</p>\n",
        "\n",
        "<p align=\"justify\">\n",
        "<font size=\"3\">\n",
        "Notice that the header of the $csv$ file contains the data description and that the simple import of the\n",
        "file treats the timestamp column as a String.\n",
        "</font>\n",
        "</p>\n",
        "\n",
        "<p align=\"justify\">\n",
        "<font size=\"3\">\n",
        "In data import you must check that:\n",
        "<ul>\n",
        "    <li>  the types of the imported data (the ones read from the file using the operation you choose) are equal to the types in the given schema</li>\n",
        "    <li>  the names of columns correspond (and make transofrmations if necessary). </li>\n",
        "</ul>\n",
        "    \n",
        "</font>\n",
        "</p>"
      ]
    },
    {
      "cell_type": "code",
      "execution_count": 11,
      "metadata": {
        "id": "XTbhA1Aip4mM"
      },
      "outputs": [
        {
          "data": {
            "text/plain": [
              "[Row(Timestamp=1325412060.0, Open=4.58, High=4.58, Low=4.58, Close=4.58, Volume=0.0),\n",
              " Row(Timestamp=1325412120.0, Open=4.58, High=4.58, Low=4.58, Close=4.58, Volume=0.0),\n",
              " Row(Timestamp=1325412180.0, Open=4.58, High=4.58, Low=4.58, Close=4.58, Volume=0.0),\n",
              " Row(Timestamp=1325412240.0, Open=4.58, High=4.58, Low=4.58, Close=4.58, Volume=0.0),\n",
              " Row(Timestamp=1325412300.0, Open=4.58, High=4.58, Low=4.58, Close=4.58, Volume=0.0)]"
            ]
          },
          "execution_count": 11,
          "metadata": {},
          "output_type": "execute_result"
        }
      ],
      "source": [
        "# the following command is going to show 5 rows of the DataFrame\n",
        "dfs.take(5)"
      ]
    },
    {
      "cell_type": "markdown",
      "metadata": {
        "id": "OUS9JWIcVXpv"
      },
      "source": [
        "### <strong> Exercise 2. </strong> Timestamp column\n",
        "    \n",
        "<p align=\"justify\">\n",
        "<font size=\"3\">\n",
        "Refine the import of the csv file and convert the \"timestamp\" column in the proper $Timestamp$ type:\n",
        "    <ul>\n",
        "        <li>   Create a new column <code>Date\\_Time</code> that is the conversion of the $String$ column $Timestamp$ in $Timestamp$ type  </li>\n",
        "</ul>\n",
        "The Dataframe are immutable structure, then your procedure will use a command (discussed in the slides) that will create a new Spark $DataFrame$ from the $dfs$ $DataFrame$ having a different schema.\n",
        "\n",
        "</font>\n",
        "</p>\n",
        "\n",
        "<p align=\"justify\">\n",
        "<font size=\"3\">\n",
        "Look at the timestamp column of the csv file and from the imported DataFrame\n",
        "</font>\n",
        "</p>"
      ]
    },
    {
      "cell_type": "markdown",
      "metadata": {
        "id": "fkQ8aYX-VXpv"
      },
      "source": [
        "<p align=\"justify\">\n",
        "<font size=\"3\">\n",
        "Look again at the target schema:\n",
        "    \n",
        "<ul>\n",
        "    <li>    $Date\\_Time: Timestamp$ </li>\n",
        "     <li>   $Open: double$ </li>\n",
        "     <li>   $High: double$ </li>\n",
        "    <li>    $Low: double$ </li>\n",
        "    <li>    $Close: double$ </li>\n",
        "    <li>    $Volume: double$ </li>\n",
        "    <li>    $Weighted\\_Price: double$ </li>\n",
        "</ul>\n",
        "    \n",
        "You notice that the import data has three problems with respect to the target schema:\n",
        "    \n",
        "    \n",
        "<ul>\n",
        "    <li> the $Date\\_Time$ column is not present in the original file </li>\n",
        "    <li> there is an $int$ column $Timestamp$ that can be converted and transformed to a $Date$</li>\n",
        "    <li> some of the column names contain not required parentesis. </li>\n",
        "</ul>     \n",
        "</font>\n",
        "</p>\n",
        "\n",
        "\n"
      ]
    },
    {
      "cell_type": "code",
      "execution_count": 12,
      "metadata": {
        "id": "Pj8BeALtVXpv"
      },
      "outputs": [
        {
          "data": {
            "text/plain": [
              "DataFrame[Timestamp: double, Open: double, High: double, Low: double, Close: double, Volume: double, Date_Time: timestamp]"
            ]
          },
          "execution_count": 12,
          "metadata": {},
          "output_type": "execute_result"
        }
      ],
      "source": [
        "# write the command that creates a new Data Frame Spark with Date_Time column\n",
        "# and stores the reference in the dfsdt variable (it must be a DataFrame Spark with Date_Time column)\n",
        "from pyspark.sql.functions import from_unixtime, col\n",
        "\n",
        "#'''############## WRITE YOUR CODE HERE ##############'''\n",
        "\n",
        "dfsdt = dfs.withColumn(\"Date_Time\", from_unixtime(col(\"Timestamp\")).cast('timestamp'))\n",
        "\n",
        "#'''############## END OF THE EXERCISE ##############'''\n",
        "\n",
        "#show the DataFrame schema\n",
        "dfsdt\n",
        "\n",
        "#######################\n",
        "# EXPECTED OUTPUT:\n",
        "# DataFrame[Timestamp: double, Open: double, High: double,\n",
        "# Low: double, Close: double, Volume: double, Date_Time: timestamp]\n",
        "#######################"
      ]
    },
    {
      "cell_type": "code",
      "execution_count": 13,
      "metadata": {
        "id": "iBcoKytNVXpw"
      },
      "outputs": [
        {
          "data": {
            "text/plain": [
              "[Row(Timestamp=1325412060.0, Open=4.58, High=4.58, Low=4.58, Close=4.58, Volume=0.0, Date_Time=datetime.datetime(2012, 1, 1, 11, 1)),\n",
              " Row(Timestamp=1325412120.0, Open=4.58, High=4.58, Low=4.58, Close=4.58, Volume=0.0, Date_Time=datetime.datetime(2012, 1, 1, 11, 2)),\n",
              " Row(Timestamp=1325412180.0, Open=4.58, High=4.58, Low=4.58, Close=4.58, Volume=0.0, Date_Time=datetime.datetime(2012, 1, 1, 11, 3)),\n",
              " Row(Timestamp=1325412240.0, Open=4.58, High=4.58, Low=4.58, Close=4.58, Volume=0.0, Date_Time=datetime.datetime(2012, 1, 1, 11, 4)),\n",
              " Row(Timestamp=1325412300.0, Open=4.58, High=4.58, Low=4.58, Close=4.58, Volume=0.0, Date_Time=datetime.datetime(2012, 1, 1, 11, 5))]"
            ]
          },
          "execution_count": 13,
          "metadata": {},
          "output_type": "execute_result"
        }
      ],
      "source": [
        "#show 5 rows of the DataFrame\n",
        "dfsdt.take(5)"
      ]
    },
    {
      "cell_type": "markdown",
      "metadata": {
        "id": "vWEJTFojVXpw"
      },
      "source": [
        "### <strong> Exercise 3.</strong> Column names\n",
        "\n",
        "\n",
        "<p align=\"justify\">\n",
        "<font size=\"3\">\n",
        "As you can see from the output of the previous exercise the names of the columns still present some problems since there are some parentesis that are not required.\n",
        "    <ul>\n",
        "     <li> Remove the not required parentesis from the colum names </li>\n",
        "     <li> Hint: look at the documentation of DataFrame API and check the operation for column renaming </li>\n",
        "</ul>\n",
        "</font>\n",
        "</p>\n"
      ]
    },
    {
      "cell_type": "code",
      "execution_count": 14,
      "metadata": {
        "id": "yRv_VbgYVXpw"
      },
      "outputs": [
        {
          "data": {
            "text/plain": [
              "DataFrame[Timestamp: double, Open: double, High: double, Low: double, Close: double, Volume_BTC: double, Date_Time: timestamp]"
            ]
          },
          "execution_count": 14,
          "metadata": {},
          "output_type": "execute_result"
        }
      ],
      "source": [
        "# write the command that creates a new Data Frame Spark with Volume_BTC as name for Volume\n",
        "# and store the reference in the dfscr variable (Data Frame Spark with Correct Names)\n",
        "\n",
        "#'''############## WRITE YOUR CODE HERE ##############'''\n",
        "\n",
        "dfscr = dfsdt.withColumnRenamed(\"Volume\", \"Volume_BTC\")\n",
        "\n",
        "#'''############## END OF THE EXERCISE ##############'''\n",
        "\n",
        "#show the DataFrame schema\n",
        "dfscr\n",
        "\n",
        "#######################\n",
        "# EXPECTED OUTPUT:\n",
        "#DataFrame[Timestamp: int, Open: double, High: double, Low: double, Close: double,\n",
        "#          Volume_BTC: double]\n",
        "#######################"
      ]
    },
    {
      "cell_type": "code",
      "execution_count": 9,
      "metadata": {
        "id": "YU2SFo0UVXpw"
      },
      "outputs": [
        {
          "name": "stdout",
          "output_type": "stream",
          "text": [
            "+------------+----+----+----+-----+----------+-------------------+\n",
            "|   Timestamp|Open|High| Low|Close|Volume_BTC|          Date_Time|\n",
            "+------------+----+----+----+-----+----------+-------------------+\n",
            "|1.32541206E9|4.58|4.58|4.58| 4.58|       0.0|2012-01-01 11:01:00|\n",
            "|1.32541212E9|4.58|4.58|4.58| 4.58|       0.0|2012-01-01 11:02:00|\n",
            "|1.32541218E9|4.58|4.58|4.58| 4.58|       0.0|2012-01-01 11:03:00|\n",
            "|1.32541224E9|4.58|4.58|4.58| 4.58|       0.0|2012-01-01 11:04:00|\n",
            "| 1.3254123E9|4.58|4.58|4.58| 4.58|       0.0|2012-01-01 11:05:00|\n",
            "+------------+----+----+----+-----+----------+-------------------+\n",
            "only showing top 5 rows\n",
            "\n"
          ]
        }
      ],
      "source": [
        "#show 5 rows of the DataFrame\n",
        "dfscr.show(5)\n",
        "\n",
        "#######################\n",
        "# Expected output:\n",
        "#+------------+----+----+----+-----+----------+-------------------+\n",
        "#|   Timestamp|Open|High| Low|Close|Volume_BTC|          Date_Time|\n",
        "#+------------+----+----+----+-----+----------+-------------------+\n",
        "#|1.32541206E9|4.58|4.58|4.58| 4.58|       0.0|2012-01-01 10:01:00|\n",
        "#|1.32541212E9|4.58|4.58|4.58| 4.58|       0.0|2012-01-01 10:02:00|\n",
        "#|1.32541218E9|4.58|4.58|4.58| 4.58|       0.0|2012-01-01 10:03:00|\n",
        "#|1.32541224E9|4.58|4.58|4.58| 4.58|       0.0|2012-01-01 10:04:00|\n",
        "#| 1.3254123E9|4.58|4.58|4.58| 4.58|       0.0|2012-01-01 10:05:00|\n",
        "#+------------+----+----+----+-----+----------+-------------------+#"
      ]
    },
    {
      "cell_type": "markdown",
      "metadata": {
        "id": "lw7ktEJKVXpx"
      },
      "source": [
        "## B.2 DataFrame columns\n",
        "\n",
        "\n",
        "<p align=\"justify\">\n",
        "<font size=\"3\">\n",
        "    \n",
        "In this part of the exercise we are going continue to  modify in the Spark DataFrames.\n",
        "\n",
        "    \n",
        "Remember that using  PySpark, it's possible to access a DataFrame's columns either by attribute (<code>df.attributeName</code>) or by indexing <code>(df['attributeName'])</code>.\n",
        "</font>\n",
        "</p>\n",
        "\n",
        "\n",
        "<p align=\"justify\">\n",
        "<font size=\"3\">\n",
        "    \n",
        "Loook at the list of the functions to get familiar with the documentation: some functions that can be of help to manipulate the schema:\n",
        "    \n",
        "<ul>\n",
        "     <li>    <a href=\"https://spark.apache.org/docs/latest/api/python/reference/pyspark.sql.html#functions\">Spark Functions</a>.  </li>\n",
        "</ul>    \n",
        "    \n",
        "    \n",
        "</font>\n",
        "</p>\n",
        "\n"
      ]
    },
    {
      "cell_type": "markdown",
      "metadata": {
        "id": "ZBgUaY_oVXpx"
      },
      "source": [
        "### <strong> Exercise 4.</strong>  Add two new columns to the DataFrame\n",
        "    \n",
        "<p align=\"justify\">\n",
        "<font size=\"3\">\n",
        "We want to extend the DataFrame with two other columns: given the $Date\\_Time$ column create two new columns ($Year$ and $Month$) that contain\n",
        "    <ul>\n",
        "     <li> the year </li>\n",
        "     <li> the month of the year </li>\n",
        "</ul>\n",
        "    \n",
        "</font>\n",
        "</p>\n",
        "    \n",
        "    \n",
        "    "
      ]
    },
    {
      "cell_type": "markdown",
      "metadata": {
        "id": "oDH7YsSeVXpx"
      },
      "source": [
        "<p align=\"justify\">\n",
        "<font size=\"3\">    \n",
        "Look at the documentation of Spark functions and find the two functions that are convenient for this use case (hint: the name of the columns can help: <a href=\"https://spark.apache.org/docs/latest/api/python/reference/pyspark.sql.html#functions\">Spark Functions</a>)\n",
        "</font>\n",
        "</p>"
      ]
    },
    {
      "cell_type": "code",
      "execution_count": 15,
      "metadata": {
        "id": "mpL3519cVXpx",
        "scrolled": true
      },
      "outputs": [],
      "source": [
        "#import the functions that you will use\n",
        "\n",
        "############## WRITE YOUR CODE HERE ##############\n",
        "\n",
        "from pyspark.sql.functions import year, month\n",
        "\n",
        "############## END OF THE EXERCISE ##############"
      ]
    },
    {
      "cell_type": "code",
      "execution_count": 16,
      "metadata": {
        "id": "zsehHsySVXpz"
      },
      "outputs": [],
      "source": [
        "# write the command that creates a new Data Frame Spark with the two additional columns\n",
        "# and store the reference in the dfsym variable (Data Frame Spark with Correct Names)\n",
        "\n",
        "#'''############## WRITE YOUR CODE HERE ##############'''\n",
        "\n",
        "dfsym = dfscr.withColumn(\"Year\", year(\"Date_Time\")) \\\n",
        "       .withColumn(\"Month\", month(\"Date_Time\"))\n",
        "\n",
        "#'''############## END OF THE EXERCISE ##############'''\n",
        "\n",
        "\n"
      ]
    },
    {
      "cell_type": "code",
      "execution_count": 17,
      "metadata": {
        "id": "U7TU1RHfPgDl"
      },
      "outputs": [
        {
          "name": "stdout",
          "output_type": "stream",
          "text": [
            "+------------+----+----+----+-----+----------+-------------------+----+-----+\n",
            "|   Timestamp|Open|High| Low|Close|Volume_BTC|          Date_Time|Year|Month|\n",
            "+------------+----+----+----+-----+----------+-------------------+----+-----+\n",
            "|1.32541206E9|4.58|4.58|4.58| 4.58|       0.0|2012-01-01 11:01:00|2012|    1|\n",
            "|1.32541212E9|4.58|4.58|4.58| 4.58|       0.0|2012-01-01 11:02:00|2012|    1|\n",
            "|1.32541218E9|4.58|4.58|4.58| 4.58|       0.0|2012-01-01 11:03:00|2012|    1|\n",
            "|1.32541224E9|4.58|4.58|4.58| 4.58|       0.0|2012-01-01 11:04:00|2012|    1|\n",
            "| 1.3254123E9|4.58|4.58|4.58| 4.58|       0.0|2012-01-01 11:05:00|2012|    1|\n",
            "+------------+----+----+----+-----+----------+-------------------+----+-----+\n",
            "only showing top 5 rows\n",
            "\n"
          ]
        }
      ],
      "source": [
        "# Drop the lines having year or month equal to null and store in dfsc\n",
        "\n",
        "#'''############## WRITE YOUR CODE HERE ##############'''\n",
        "dfsc = dfsym.na.drop()\n",
        "#'''############## END OF THE EXERCISE ##############'''\n",
        "\n",
        "dfsc.show(5)\n",
        "\n",
        "#######################\n",
        "# Expected output:\n",
        "#+----+----+----+-----+----------+-------------------+----+-----+\n",
        "#|Open|High| Low|Close|Volume_BTC|          Date_Time|Year|Month|\n",
        "#+----+----+----+-----+----------+-------------------+----+-----+\n",
        "#|4.58|4.58|4.58| 4.58|       0.0|2012-01-01 10:01:00|2012|    1|\n",
        "#|4.58|4.58|4.58| 4.58|       0.0|2012-01-01 10:02:00|2012|    1|\n",
        "#|4.58|4.58|4.58| 4.58|       0.0|2012-01-01 10:03:00|2012|    1|\n",
        "#|4.58|4.58|4.58| 4.58|       0.0|2012-01-01 10:04:00|2012|    1|\n",
        "#|4.58|4.58|4.58| 4.58|       0.0|2012-01-01 10:05:00|2012|    1|\n",
        "#+----+----+----+-----+----------+-------------------+----+-----+"
      ]
    },
    {
      "cell_type": "markdown",
      "metadata": {
        "id": "sDMJbhTbVXpz"
      },
      "source": [
        "###  <strong>Exercise 5.</strong>  Drop Timestamp\n",
        "    \n",
        "<p align=\"justify\">\n",
        "<font size=\"3\">\n",
        "Finally we clean the schema and we can remove the the $Timestamp$ column.\n",
        "</font>\n",
        "</p>\n"
      ]
    },
    {
      "cell_type": "code",
      "execution_count": 18,
      "metadata": {
        "id": "Qm8I1zhzVXp0"
      },
      "outputs": [
        {
          "name": "stdout",
          "output_type": "stream",
          "text": [
            "+----+----+----+-----+----------+-------------------+----+-----+\n",
            "|Open|High| Low|Close|Volume_BTC|          Date_Time|Year|Month|\n",
            "+----+----+----+-----+----------+-------------------+----+-----+\n",
            "|4.58|4.58|4.58| 4.58|       0.0|2012-01-01 11:01:00|2012|    1|\n",
            "|4.58|4.58|4.58| 4.58|       0.0|2012-01-01 11:02:00|2012|    1|\n",
            "|4.58|4.58|4.58| 4.58|       0.0|2012-01-01 11:03:00|2012|    1|\n",
            "|4.58|4.58|4.58| 4.58|       0.0|2012-01-01 11:04:00|2012|    1|\n",
            "|4.58|4.58|4.58| 4.58|       0.0|2012-01-01 11:05:00|2012|    1|\n",
            "+----+----+----+-----+----------+-------------------+----+-----+\n",
            "only showing top 5 rows\n",
            "\n"
          ]
        }
      ],
      "source": [
        "# write the command that creates a new DataFrame Spark from the dfsym without the Timestamp column\n",
        "# and store the reference in the dfmc variable (Data Frame Spark Clean)\n",
        "#'''############## WRITE YOUR CODE HERE ##############'''\n",
        "dfsmc = dfsc.drop(\"Timestamp\")\n",
        "#'''############## END OF THE EXERCISE ##############'''\n",
        "\n",
        "\n",
        "dfsmc.show(5)\n",
        "\n",
        "#+----+----+----+-----+----------+-------------------+----+-----+\n",
        "#|Open|High| Low|Close|Volume_BTC|          Date_Time|Year|Month|\n",
        "#+----+----+----+-----+----------+-------------------+----+-----+\n",
        "#|4.58|4.58|4.58| 4.58|       0.0|2012-01-01 10:01:00|2012|    1|\n",
        "#|4.58|4.58|4.58| 4.58|       0.0|2012-01-01 10:02:00|2012|    1|\n",
        "#|4.58|4.58|4.58| 4.58|       0.0|2012-01-01 10:03:00|2012|    1|\n",
        "#|4.58|4.58|4.58| 4.58|       0.0|2012-01-01 10:04:00|2012|    1|\n",
        "#|4.58|4.58|4.58| 4.58|       0.0|2012-01-01 10:05:00|2012|    1|\n",
        "#+----+----+----+-----+----------+-------------------+----+-----+\n"
      ]
    },
    {
      "cell_type": "markdown",
      "metadata": {
        "id": "8dm-ovIcVXp0"
      },
      "source": [
        "#  C. Using Parquet\n",
        "\n",
        "<p align=\"justify\">\n",
        "<font size=\"3\">\n",
        "In order to gain in performance in the following it is a good idea, as we have seen at lesson, to use a NoSQL structure, here Parquet, that will\n",
        "    allow\n",
        "to partition the SparkDataframe and to store it in multiple Parquet files.\n",
        "</font>\n",
        "</p>\n",
        "\n",
        "<p align=\"justify\">\n",
        "<font size=\"3\">\n",
        "Parquet is a columnar storage format available to any project in the Hadoop ecosystem, regardless of the choice of data processing framework, data model or programming language.\n",
        "</font>\n",
        "</p>"
      ]
    },
    {
      "cell_type": "markdown",
      "metadata": {
        "id": "WicAuWMfA9xo"
      },
      "source": [
        "## C.1 Saving data in Parquet\n",
        "    \n",
        "For this first example partition the file according to:\n",
        "    \n",
        " <ul>\n",
        "     <li> the year </li>\n",
        "             <li> the month of the year </li>\n",
        "</ul>\n",
        "The $partitionBy()$ operation can help for this step (Documentation of reference: <a href=\"https://spark.apache.org/docs/latest/sql-data-sources-parquet.html\">Spark Functions</a>).\n",
        "</font>\n",
        "</p>\n",
        "\n"
      ]
    },
    {
      "cell_type": "code",
      "execution_count": 19,
      "metadata": {
        "id": "84UNDFHiVXp0"
      },
      "outputs": [
        {
          "data": {
            "text/plain": [
              "DataFrame[Open: double, High: double, Low: double, Close: double, Volume_BTC: double, Date_Time: timestamp, Year: int, Month: int]"
            ]
          },
          "execution_count": 19,
          "metadata": {},
          "output_type": "execute_result"
        }
      ],
      "source": [
        "dfsmc"
      ]
    },
    {
      "cell_type": "code",
      "execution_count": 20,
      "metadata": {
        "id": "vTR8AxS2VXp0"
      },
      "outputs": [
        {
          "name": "stderr",
          "output_type": "stream",
          "text": [
            "25/07/26 18:01:16 WARN MemoryManager: Total allocation exceeds 95.00% (1,020,054,720 bytes) of heap memory\n",
            "Scaling row group sizes to 95.00% for 8 writers\n",
            "25/07/26 18:01:16 WARN MemoryManager: Total allocation exceeds 95.00% (1,020,054,720 bytes) of heap memory\n",
            "Scaling row group sizes to 84.44% for 9 writers\n",
            "25/07/26 18:01:17 WARN MemoryManager: Total allocation exceeds 95.00% (1,020,054,720 bytes) of heap memory\n",
            "Scaling row group sizes to 95.00% for 8 writers\n",
            "25/07/26 18:01:17 WARN MemoryManager: Total allocation exceeds 95.00% (1,020,054,720 bytes) of heap memory\n",
            "Scaling row group sizes to 95.00% for 8 writers\n",
            "25/07/26 18:01:17 WARN MemoryManager: Total allocation exceeds 95.00% (1,020,054,720 bytes) of heap memory\n",
            "Scaling row group sizes to 84.44% for 9 writers\n",
            "25/07/26 18:01:17 WARN MemoryManager: Total allocation exceeds 95.00% (1,020,054,720 bytes) of heap memory\n",
            "Scaling row group sizes to 95.00% for 8 writers\n",
            "25/07/26 18:01:17 WARN MemoryManager: Total allocation exceeds 95.00% (1,020,054,720 bytes) of heap memory\n",
            "Scaling row group sizes to 95.00% for 8 writers\n",
            "25/07/26 18:01:17 WARN MemoryManager: Total allocation exceeds 95.00% (1,020,054,720 bytes) of heap memory\n",
            "Scaling row group sizes to 84.44% for 9 writers\n",
            "25/07/26 18:01:17 WARN MemoryManager: Total allocation exceeds 95.00% (1,020,054,720 bytes) of heap memory\n",
            "Scaling row group sizes to 95.00% for 8 writers\n",
            "25/07/26 18:01:17 WARN MemoryManager: Total allocation exceeds 95.00% (1,020,054,720 bytes) of heap memory\n",
            "Scaling row group sizes to 84.44% for 9 writers\n",
            "25/07/26 18:01:17 WARN MemoryManager: Total allocation exceeds 95.00% (1,020,054,720 bytes) of heap memory\n",
            "Scaling row group sizes to 76.00% for 10 writers\n",
            "25/07/26 18:01:17 WARN MemoryManager: Total allocation exceeds 95.00% (1,020,054,720 bytes) of heap memory\n",
            "Scaling row group sizes to 84.44% for 9 writers\n",
            "25/07/26 18:01:17 WARN MemoryManager: Total allocation exceeds 95.00% (1,020,054,720 bytes) of heap memory\n",
            "Scaling row group sizes to 76.00% for 10 writers\n",
            "25/07/26 18:01:17 WARN MemoryManager: Total allocation exceeds 95.00% (1,020,054,720 bytes) of heap memory\n",
            "Scaling row group sizes to 84.44% for 9 writers\n",
            "25/07/26 18:01:17 WARN MemoryManager: Total allocation exceeds 95.00% (1,020,054,720 bytes) of heap memory\n",
            "Scaling row group sizes to 95.00% for 8 writers\n",
            "25/07/26 18:01:17 WARN MemoryManager: Total allocation exceeds 95.00% (1,020,054,720 bytes) of heap memory\n",
            "Scaling row group sizes to 95.00% for 8 writers\n",
            "25/07/26 18:01:17 WARN MemoryManager: Total allocation exceeds 95.00% (1,020,054,720 bytes) of heap memory\n",
            "Scaling row group sizes to 95.00% for 8 writers\n",
            "25/07/26 18:01:17 WARN MemoryManager: Total allocation exceeds 95.00% (1,020,054,720 bytes) of heap memory\n",
            "Scaling row group sizes to 95.00% for 8 writers\n",
            "25/07/26 18:01:17 WARN MemoryManager: Total allocation exceeds 95.00% (1,020,054,720 bytes) of heap memory\n",
            "Scaling row group sizes to 84.44% for 9 writers\n",
            "25/07/26 18:01:17 WARN MemoryManager: Total allocation exceeds 95.00% (1,020,054,720 bytes) of heap memory\n",
            "Scaling row group sizes to 76.00% for 10 writers\n",
            "25/07/26 18:01:17 WARN MemoryManager: Total allocation exceeds 95.00% (1,020,054,720 bytes) of heap memory\n",
            "Scaling row group sizes to 84.44% for 9 writers\n",
            "25/07/26 18:01:17 WARN MemoryManager: Total allocation exceeds 95.00% (1,020,054,720 bytes) of heap memory\n",
            "Scaling row group sizes to 95.00% for 8 writers\n",
            "25/07/26 18:01:17 WARN MemoryManager: Total allocation exceeds 95.00% (1,020,054,720 bytes) of heap memory\n",
            "Scaling row group sizes to 95.00% for 8 writers\n",
            "25/07/26 18:01:17 WARN MemoryManager: Total allocation exceeds 95.00% (1,020,054,720 bytes) of heap memory\n",
            "Scaling row group sizes to 84.44% for 9 writers\n",
            "25/07/26 18:01:17 WARN MemoryManager: Total allocation exceeds 95.00% (1,020,054,720 bytes) of heap memory\n",
            "Scaling row group sizes to 95.00% for 8 writers\n",
            "25/07/26 18:01:17 WARN MemoryManager: Total allocation exceeds 95.00% (1,020,054,720 bytes) of heap memory\n",
            "Scaling row group sizes to 95.00% for 8 writers\n",
            "25/07/26 18:01:18 WARN MemoryManager: Total allocation exceeds 95.00% (1,020,054,720 bytes) of heap memory\n",
            "Scaling row group sizes to 95.00% for 8 writers\n",
            "25/07/26 18:01:18 WARN MemoryManager: Total allocation exceeds 95.00% (1,020,054,720 bytes) of heap memory\n",
            "Scaling row group sizes to 84.44% for 9 writers\n",
            "25/07/26 18:01:18 WARN MemoryManager: Total allocation exceeds 95.00% (1,020,054,720 bytes) of heap memory\n",
            "Scaling row group sizes to 76.00% for 10 writers\n",
            "25/07/26 18:01:18 WARN MemoryManager: Total allocation exceeds 95.00% (1,020,054,720 bytes) of heap memory\n",
            "Scaling row group sizes to 84.44% for 9 writers\n",
            "25/07/26 18:01:18 WARN MemoryManager: Total allocation exceeds 95.00% (1,020,054,720 bytes) of heap memory\n",
            "Scaling row group sizes to 95.00% for 8 writers\n",
            "25/07/26 18:01:18 WARN MemoryManager: Total allocation exceeds 95.00% (1,020,054,720 bytes) of heap memory\n",
            "Scaling row group sizes to 95.00% for 8 writers\n",
            "25/07/26 18:01:18 WARN MemoryManager: Total allocation exceeds 95.00% (1,020,054,720 bytes) of heap memory\n",
            "Scaling row group sizes to 95.00% for 8 writers\n",
            "25/07/26 18:01:18 WARN MemoryManager: Total allocation exceeds 95.00% (1,020,054,720 bytes) of heap memory\n",
            "Scaling row group sizes to 95.00% for 8 writers\n",
            "25/07/26 18:01:18 WARN MemoryManager: Total allocation exceeds 95.00% (1,020,054,720 bytes) of heap memory\n",
            "Scaling row group sizes to 95.00% for 8 writers\n",
            "25/07/26 18:01:18 WARN MemoryManager: Total allocation exceeds 95.00% (1,020,054,720 bytes) of heap memory\n",
            "Scaling row group sizes to 84.44% for 9 writers\n",
            "25/07/26 18:01:18 WARN MemoryManager: Total allocation exceeds 95.00% (1,020,054,720 bytes) of heap memory\n",
            "Scaling row group sizes to 95.00% for 8 writers\n",
            "25/07/26 18:01:18 WARN MemoryManager: Total allocation exceeds 95.00% (1,020,054,720 bytes) of heap memory\n",
            "Scaling row group sizes to 95.00% for 8 writers\n",
            "25/07/26 18:01:18 WARN MemoryManager: Total allocation exceeds 95.00% (1,020,054,720 bytes) of heap memory\n",
            "Scaling row group sizes to 84.44% for 9 writers\n",
            "25/07/26 18:01:18 WARN MemoryManager: Total allocation exceeds 95.00% (1,020,054,720 bytes) of heap memory\n",
            "Scaling row group sizes to 76.00% for 10 writers\n",
            "25/07/26 18:01:18 WARN MemoryManager: Total allocation exceeds 95.00% (1,020,054,720 bytes) of heap memory\n",
            "Scaling row group sizes to 84.44% for 9 writers\n",
            "25/07/26 18:01:18 WARN MemoryManager: Total allocation exceeds 95.00% (1,020,054,720 bytes) of heap memory\n",
            "Scaling row group sizes to 95.00% for 8 writers\n",
            "25/07/26 18:01:18 WARN MemoryManager: Total allocation exceeds 95.00% (1,020,054,720 bytes) of heap memory\n",
            "Scaling row group sizes to 95.00% for 8 writers\n",
            "25/07/26 18:01:18 WARN MemoryManager: Total allocation exceeds 95.00% (1,020,054,720 bytes) of heap memory\n",
            "Scaling row group sizes to 84.44% for 9 writers\n",
            "25/07/26 18:01:18 WARN MemoryManager: Total allocation exceeds 95.00% (1,020,054,720 bytes) of heap memory\n",
            "Scaling row group sizes to 95.00% for 8 writers\n",
            "25/07/26 18:01:18 WARN MemoryManager: Total allocation exceeds 95.00% (1,020,054,720 bytes) of heap memory\n",
            "Scaling row group sizes to 84.44% for 9 writers\n",
            "25/07/26 18:01:18 WARN MemoryManager: Total allocation exceeds 95.00% (1,020,054,720 bytes) of heap memory\n",
            "Scaling row group sizes to 95.00% for 8 writers\n",
            "25/07/26 18:01:18 WARN MemoryManager: Total allocation exceeds 95.00% (1,020,054,720 bytes) of heap memory\n",
            "Scaling row group sizes to 84.44% for 9 writers\n",
            "25/07/26 18:01:18 WARN MemoryManager: Total allocation exceeds 95.00% (1,020,054,720 bytes) of heap memory\n",
            "Scaling row group sizes to 95.00% for 8 writers\n",
            "25/07/26 18:01:18 WARN MemoryManager: Total allocation exceeds 95.00% (1,020,054,720 bytes) of heap memory\n",
            "Scaling row group sizes to 95.00% for 8 writers\n",
            "25/07/26 18:01:18 WARN MemoryManager: Total allocation exceeds 95.00% (1,020,054,720 bytes) of heap memory\n",
            "Scaling row group sizes to 84.44% for 9 writers\n",
            "25/07/26 18:01:18 WARN MemoryManager: Total allocation exceeds 95.00% (1,020,054,720 bytes) of heap memory\n",
            "Scaling row group sizes to 95.00% for 8 writers\n",
            "25/07/26 18:01:18 WARN MemoryManager: Total allocation exceeds 95.00% (1,020,054,720 bytes) of heap memory\n",
            "Scaling row group sizes to 84.44% for 9 writers\n",
            "25/07/26 18:01:18 WARN MemoryManager: Total allocation exceeds 95.00% (1,020,054,720 bytes) of heap memory\n",
            "Scaling row group sizes to 76.00% for 10 writers\n",
            "25/07/26 18:01:18 WARN MemoryManager: Total allocation exceeds 95.00% (1,020,054,720 bytes) of heap memory\n",
            "Scaling row group sizes to 84.44% for 9 writers\n",
            "25/07/26 18:01:18 WARN MemoryManager: Total allocation exceeds 95.00% (1,020,054,720 bytes) of heap memory\n",
            "Scaling row group sizes to 95.00% for 8 writers\n",
            "25/07/26 18:01:18 WARN MemoryManager: Total allocation exceeds 95.00% (1,020,054,720 bytes) of heap memory\n",
            "Scaling row group sizes to 84.44% for 9 writers\n",
            "25/07/26 18:01:18 WARN MemoryManager: Total allocation exceeds 95.00% (1,020,054,720 bytes) of heap memory\n",
            "Scaling row group sizes to 95.00% for 8 writers\n",
            "25/07/26 18:01:18 WARN MemoryManager: Total allocation exceeds 95.00% (1,020,054,720 bytes) of heap memory\n",
            "Scaling row group sizes to 95.00% for 8 writers\n",
            "25/07/26 18:01:18 WARN MemoryManager: Total allocation exceeds 95.00% (1,020,054,720 bytes) of heap memory\n",
            "Scaling row group sizes to 84.44% for 9 writers\n",
            "25/07/26 18:01:18 WARN MemoryManager: Total allocation exceeds 95.00% (1,020,054,720 bytes) of heap memory\n",
            "Scaling row group sizes to 95.00% for 8 writers\n",
            "25/07/26 18:01:18 WARN MemoryManager: Total allocation exceeds 95.00% (1,020,054,720 bytes) of heap memory\n",
            "Scaling row group sizes to 84.44% for 9 writers\n",
            "25/07/26 18:01:18 WARN MemoryManager: Total allocation exceeds 95.00% (1,020,054,720 bytes) of heap memory\n",
            "Scaling row group sizes to 95.00% for 8 writers\n",
            "25/07/26 18:01:18 WARN MemoryManager: Total allocation exceeds 95.00% (1,020,054,720 bytes) of heap memory\n",
            "Scaling row group sizes to 95.00% for 8 writers\n",
            "25/07/26 18:01:18 WARN MemoryManager: Total allocation exceeds 95.00% (1,020,054,720 bytes) of heap memory\n",
            "Scaling row group sizes to 84.44% for 9 writers\n",
            "25/07/26 18:01:18 WARN MemoryManager: Total allocation exceeds 95.00% (1,020,054,720 bytes) of heap memory\n",
            "Scaling row group sizes to 95.00% for 8 writers\n",
            "25/07/26 18:01:18 WARN MemoryManager: Total allocation exceeds 95.00% (1,020,054,720 bytes) of heap memory\n",
            "Scaling row group sizes to 95.00% for 8 writers\n",
            "25/07/26 18:01:18 WARN MemoryManager: Total allocation exceeds 95.00% (1,020,054,720 bytes) of heap memory\n",
            "Scaling row group sizes to 95.00% for 8 writers\n",
            "25/07/26 18:01:18 WARN MemoryManager: Total allocation exceeds 95.00% (1,020,054,720 bytes) of heap memory\n",
            "Scaling row group sizes to 95.00% for 8 writers\n",
            "25/07/26 18:01:18 WARN MemoryManager: Total allocation exceeds 95.00% (1,020,054,720 bytes) of heap memory\n",
            "Scaling row group sizes to 84.44% for 9 writers\n",
            "25/07/26 18:01:18 WARN MemoryManager: Total allocation exceeds 95.00% (1,020,054,720 bytes) of heap memory\n",
            "Scaling row group sizes to 95.00% for 8 writers\n",
            "25/07/26 18:01:19 WARN MemoryManager: Total allocation exceeds 95.00% (1,020,054,720 bytes) of heap memory\n",
            "Scaling row group sizes to 95.00% for 8 writers\n",
            "25/07/26 18:01:19 WARN MemoryManager: Total allocation exceeds 95.00% (1,020,054,720 bytes) of heap memory\n",
            "Scaling row group sizes to 95.00% for 8 writers\n",
            "25/07/26 18:01:19 WARN MemoryManager: Total allocation exceeds 95.00% (1,020,054,720 bytes) of heap memory\n",
            "Scaling row group sizes to 95.00% for 8 writers\n",
            "25/07/26 18:01:19 WARN MemoryManager: Total allocation exceeds 95.00% (1,020,054,720 bytes) of heap memory\n",
            "Scaling row group sizes to 95.00% for 8 writers\n",
            "25/07/26 18:01:19 WARN MemoryManager: Total allocation exceeds 95.00% (1,020,054,720 bytes) of heap memory\n",
            "Scaling row group sizes to 84.44% for 9 writers\n",
            "25/07/26 18:01:19 WARN MemoryManager: Total allocation exceeds 95.00% (1,020,054,720 bytes) of heap memory\n",
            "Scaling row group sizes to 95.00% for 8 writers\n",
            "25/07/26 18:01:19 WARN MemoryManager: Total allocation exceeds 95.00% (1,020,054,720 bytes) of heap memory\n",
            "Scaling row group sizes to 95.00% for 8 writers\n",
            "25/07/26 18:01:19 WARN MemoryManager: Total allocation exceeds 95.00% (1,020,054,720 bytes) of heap memory\n",
            "Scaling row group sizes to 95.00% for 8 writers\n",
            "25/07/26 18:01:19 WARN MemoryManager: Total allocation exceeds 95.00% (1,020,054,720 bytes) of heap memory\n",
            "Scaling row group sizes to 84.44% for 9 writers\n",
            "25/07/26 18:01:19 WARN MemoryManager: Total allocation exceeds 95.00% (1,020,054,720 bytes) of heap memory\n",
            "Scaling row group sizes to 76.00% for 10 writers\n",
            "25/07/26 18:01:19 WARN MemoryManager: Total allocation exceeds 95.00% (1,020,054,720 bytes) of heap memory\n",
            "Scaling row group sizes to 84.44% for 9 writers\n",
            "25/07/26 18:01:19 WARN MemoryManager: Total allocation exceeds 95.00% (1,020,054,720 bytes) of heap memory\n",
            "Scaling row group sizes to 95.00% for 8 writers\n",
            "25/07/26 18:01:19 WARN MemoryManager: Total allocation exceeds 95.00% (1,020,054,720 bytes) of heap memory\n",
            "Scaling row group sizes to 95.00% for 8 writers\n",
            "25/07/26 18:01:19 WARN MemoryManager: Total allocation exceeds 95.00% (1,020,054,720 bytes) of heap memory\n",
            "Scaling row group sizes to 84.44% for 9 writers\n",
            "25/07/26 18:01:19 WARN MemoryManager: Total allocation exceeds 95.00% (1,020,054,720 bytes) of heap memory\n",
            "Scaling row group sizes to 76.00% for 10 writers\n",
            "25/07/26 18:01:19 WARN MemoryManager: Total allocation exceeds 95.00% (1,020,054,720 bytes) of heap memory\n",
            "Scaling row group sizes to 84.44% for 9 writers\n",
            "25/07/26 18:01:19 WARN MemoryManager: Total allocation exceeds 95.00% (1,020,054,720 bytes) of heap memory\n",
            "Scaling row group sizes to 95.00% for 8 writers\n",
            "25/07/26 18:01:19 WARN MemoryManager: Total allocation exceeds 95.00% (1,020,054,720 bytes) of heap memory\n",
            "Scaling row group sizes to 95.00% for 8 writers\n",
            "25/07/26 18:01:19 WARN MemoryManager: Total allocation exceeds 95.00% (1,020,054,720 bytes) of heap memory\n",
            "Scaling row group sizes to 84.44% for 9 writers\n",
            "25/07/26 18:01:19 WARN MemoryManager: Total allocation exceeds 95.00% (1,020,054,720 bytes) of heap memory\n",
            "Scaling row group sizes to 95.00% for 8 writers\n",
            "25/07/26 18:01:19 WARN MemoryManager: Total allocation exceeds 95.00% (1,020,054,720 bytes) of heap memory\n",
            "Scaling row group sizes to 84.44% for 9 writers\n",
            "25/07/26 18:01:19 WARN MemoryManager: Total allocation exceeds 95.00% (1,020,054,720 bytes) of heap memory\n",
            "Scaling row group sizes to 95.00% for 8 writers\n",
            "25/07/26 18:01:19 WARN MemoryManager: Total allocation exceeds 95.00% (1,020,054,720 bytes) of heap memory\n",
            "Scaling row group sizes to 84.44% for 9 writers\n",
            "25/07/26 18:01:19 WARN MemoryManager: Total allocation exceeds 95.00% (1,020,054,720 bytes) of heap memory\n",
            "Scaling row group sizes to 95.00% for 8 writers\n",
            "25/07/26 18:01:19 WARN MemoryManager: Total allocation exceeds 95.00% (1,020,054,720 bytes) of heap memory\n",
            "Scaling row group sizes to 84.44% for 9 writers\n",
            "25/07/26 18:01:19 WARN MemoryManager: Total allocation exceeds 95.00% (1,020,054,720 bytes) of heap memory\n",
            "Scaling row group sizes to 95.00% for 8 writers\n",
            "25/07/26 18:01:19 WARN MemoryManager: Total allocation exceeds 95.00% (1,020,054,720 bytes) of heap memory\n",
            "Scaling row group sizes to 95.00% for 8 writers\n",
            "25/07/26 18:01:19 WARN MemoryManager: Total allocation exceeds 95.00% (1,020,054,720 bytes) of heap memory\n",
            "Scaling row group sizes to 95.00% for 8 writers\n",
            "25/07/26 18:01:19 WARN MemoryManager: Total allocation exceeds 95.00% (1,020,054,720 bytes) of heap memory\n",
            "Scaling row group sizes to 95.00% for 8 writers\n",
            "[Stage 4:=======================>                                  (4 + 6) / 10]\r"
          ]
        },
        {
          "name": "stdout",
          "output_type": "stream",
          "text": [
            "write to Parquet done\n"
          ]
        },
        {
          "name": "stderr",
          "output_type": "stream",
          "text": [
            "                                                                                \r"
          ]
        }
      ],
      "source": [
        "# here you can see and check the command that saves the dfsc DataFrame in Parquet\n",
        "\n",
        "dfsmc.write.partitionBy([\"Year\", \"Month\"]).parquet(\"BTC/\",mode='overwrite')\n",
        "\n",
        "\n",
        "print(\"write to Parquet done\")\n"
      ]
    },
    {
      "cell_type": "markdown",
      "metadata": {
        "id": "Ic-eLcr0VXp0"
      },
      "source": [
        "##  C.2 Check the folder Structure\n",
        "\n",
        "\n",
        "<p align=\"justify\">\n",
        "<font size=\"3\">\n",
        "Look at the folder structure that has been created for the storage of the file. You see how the partitioning stategy of Parquet and the data distribution of Spark can be used, explicitely or implicitely, to improve performance.\n",
        "\n",
        "While you navigate (and the folder structure) data remember that in the data access:\n",
        "    \n",
        " <ul>\n",
        "     <li> the navigation is done using Parquet </li>\n",
        "     <li> the leaf contain the encoded Parquet files </li>\n",
        "</ul>\n",
        "</font>\n",
        "</p>\n",
        "\n",
        "\n"
      ]
    },
    {
      "cell_type": "code",
      "execution_count": 21,
      "metadata": {
        "id": "dC1C75uIVXp1"
      },
      "outputs": [],
      "source": [
        "#BTC\n",
        "#        ├── Year=2012\n",
        "#        │   ├── ...\n",
        "#        │   │\n",
        "#        │   ├── month=12\n",
        "#        ├── Year=2013\n",
        "#        │   ├── month=1\n",
        "#        │   ├── ...\n",
        "#        │   │\n",
        "#       ...\n",
        "\n"
      ]
    },
    {
      "cell_type": "markdown",
      "metadata": {
        "id": "4JeyD03ipig_"
      },
      "source": [
        "This folder structure correspond to a phisical and logical data partition and"
      ]
    },
    {
      "cell_type": "markdown",
      "metadata": {
        "id": "gMCbaNcPVXp1"
      },
      "source": [
        "# D. Pandas\n",
        "\n",
        "\n",
        "<p align=\"justify\">\n",
        "<font size=\"3\">\n",
        "This data organization opens the opportunity to read data also using Pandas and not using Parquet.\n",
        "    \n",
        "Look at the documentation and check how you can read a Parquet structure and store it in a Pandas DataFrame:\n",
        "<a href=\"https://pandas.pydata.org/pandas-docs/stable/reference/api/pandas.read_parquet.html\">Pandas and Parquet</a>\n",
        "\n",
        "Notice how at the data-exchange base there is the presence of Arrow (thanks to $pyarrow$).\n",
        "</font>\n",
        "</p>\n",
        "\n",
        "\n",
        "<p align=\"justify\">\n",
        "<font size=\"3\">\n",
        "Write the command that using Pandas read the data for the year 2012.\n",
        "    \n",
        "</font>\n",
        "</p>"
      ]
    },
    {
      "cell_type": "code",
      "execution_count": 22,
      "metadata": {
        "id": "B11RsK9YVXp1"
      },
      "outputs": [],
      "source": [
        "#import of pandas\n",
        "import pandas as pa"
      ]
    },
    {
      "cell_type": "code",
      "execution_count": 23,
      "metadata": {
        "id": "jlRYuW0hVXp1",
        "scrolled": true
      },
      "outputs": [
        {
          "data": {
            "text/html": [
              "<div>\n",
              "<style scoped>\n",
              "    .dataframe tbody tr th:only-of-type {\n",
              "        vertical-align: middle;\n",
              "    }\n",
              "\n",
              "    .dataframe tbody tr th {\n",
              "        vertical-align: top;\n",
              "    }\n",
              "\n",
              "    .dataframe thead th {\n",
              "        text-align: right;\n",
              "    }\n",
              "</style>\n",
              "<table border=\"1\" class=\"dataframe\">\n",
              "  <thead>\n",
              "    <tr style=\"text-align: right;\">\n",
              "      <th></th>\n",
              "      <th>Open</th>\n",
              "      <th>High</th>\n",
              "      <th>Low</th>\n",
              "      <th>Close</th>\n",
              "      <th>Volume_BTC</th>\n",
              "      <th>Date_Time</th>\n",
              "      <th>Month</th>\n",
              "    </tr>\n",
              "  </thead>\n",
              "  <tbody>\n",
              "    <tr>\n",
              "      <th>0</th>\n",
              "      <td>4.58</td>\n",
              "      <td>4.58</td>\n",
              "      <td>4.58</td>\n",
              "      <td>4.58</td>\n",
              "      <td>0.0</td>\n",
              "      <td>2012-01-01 10:01:00</td>\n",
              "      <td>1</td>\n",
              "    </tr>\n",
              "    <tr>\n",
              "      <th>1</th>\n",
              "      <td>4.58</td>\n",
              "      <td>4.58</td>\n",
              "      <td>4.58</td>\n",
              "      <td>4.58</td>\n",
              "      <td>0.0</td>\n",
              "      <td>2012-01-01 10:02:00</td>\n",
              "      <td>1</td>\n",
              "    </tr>\n",
              "    <tr>\n",
              "      <th>2</th>\n",
              "      <td>4.58</td>\n",
              "      <td>4.58</td>\n",
              "      <td>4.58</td>\n",
              "      <td>4.58</td>\n",
              "      <td>0.0</td>\n",
              "      <td>2012-01-01 10:03:00</td>\n",
              "      <td>1</td>\n",
              "    </tr>\n",
              "    <tr>\n",
              "      <th>3</th>\n",
              "      <td>4.58</td>\n",
              "      <td>4.58</td>\n",
              "      <td>4.58</td>\n",
              "      <td>4.58</td>\n",
              "      <td>0.0</td>\n",
              "      <td>2012-01-01 10:04:00</td>\n",
              "      <td>1</td>\n",
              "    </tr>\n",
              "    <tr>\n",
              "      <th>4</th>\n",
              "      <td>4.58</td>\n",
              "      <td>4.58</td>\n",
              "      <td>4.58</td>\n",
              "      <td>4.58</td>\n",
              "      <td>0.0</td>\n",
              "      <td>2012-01-01 10:05:00</td>\n",
              "      <td>1</td>\n",
              "    </tr>\n",
              "    <tr>\n",
              "      <th>...</th>\n",
              "      <td>...</td>\n",
              "      <td>...</td>\n",
              "      <td>...</td>\n",
              "      <td>...</td>\n",
              "      <td>...</td>\n",
              "      <td>...</td>\n",
              "      <td>...</td>\n",
              "    </tr>\n",
              "    <tr>\n",
              "      <th>526374</th>\n",
              "      <td>12.17</td>\n",
              "      <td>12.17</td>\n",
              "      <td>12.17</td>\n",
              "      <td>12.17</td>\n",
              "      <td>0.0</td>\n",
              "      <td>2012-09-30 21:55:00</td>\n",
              "      <td>9</td>\n",
              "    </tr>\n",
              "    <tr>\n",
              "      <th>526375</th>\n",
              "      <td>12.17</td>\n",
              "      <td>12.17</td>\n",
              "      <td>12.17</td>\n",
              "      <td>12.17</td>\n",
              "      <td>0.0</td>\n",
              "      <td>2012-09-30 21:56:00</td>\n",
              "      <td>9</td>\n",
              "    </tr>\n",
              "    <tr>\n",
              "      <th>526376</th>\n",
              "      <td>12.17</td>\n",
              "      <td>12.17</td>\n",
              "      <td>12.17</td>\n",
              "      <td>12.17</td>\n",
              "      <td>0.0</td>\n",
              "      <td>2012-09-30 21:57:00</td>\n",
              "      <td>9</td>\n",
              "    </tr>\n",
              "    <tr>\n",
              "      <th>526377</th>\n",
              "      <td>12.17</td>\n",
              "      <td>12.17</td>\n",
              "      <td>12.17</td>\n",
              "      <td>12.17</td>\n",
              "      <td>0.0</td>\n",
              "      <td>2012-09-30 21:58:00</td>\n",
              "      <td>9</td>\n",
              "    </tr>\n",
              "    <tr>\n",
              "      <th>526378</th>\n",
              "      <td>12.17</td>\n",
              "      <td>12.17</td>\n",
              "      <td>12.17</td>\n",
              "      <td>12.17</td>\n",
              "      <td>0.0</td>\n",
              "      <td>2012-09-30 21:59:00</td>\n",
              "      <td>9</td>\n",
              "    </tr>\n",
              "  </tbody>\n",
              "</table>\n",
              "<p>526379 rows × 7 columns</p>\n",
              "</div>"
            ],
            "text/plain": [
              "         Open   High    Low  Close  Volume_BTC           Date_Time Month\n",
              "0        4.58   4.58   4.58   4.58         0.0 2012-01-01 10:01:00     1\n",
              "1        4.58   4.58   4.58   4.58         0.0 2012-01-01 10:02:00     1\n",
              "2        4.58   4.58   4.58   4.58         0.0 2012-01-01 10:03:00     1\n",
              "3        4.58   4.58   4.58   4.58         0.0 2012-01-01 10:04:00     1\n",
              "4        4.58   4.58   4.58   4.58         0.0 2012-01-01 10:05:00     1\n",
              "...       ...    ...    ...    ...         ...                 ...   ...\n",
              "526374  12.17  12.17  12.17  12.17         0.0 2012-09-30 21:55:00     9\n",
              "526375  12.17  12.17  12.17  12.17         0.0 2012-09-30 21:56:00     9\n",
              "526376  12.17  12.17  12.17  12.17         0.0 2012-09-30 21:57:00     9\n",
              "526377  12.17  12.17  12.17  12.17         0.0 2012-09-30 21:58:00     9\n",
              "526378  12.17  12.17  12.17  12.17         0.0 2012-09-30 21:59:00     9\n",
              "\n",
              "[526379 rows x 7 columns]"
            ]
          },
          "execution_count": 23,
          "metadata": {},
          "output_type": "execute_result"
        }
      ],
      "source": [
        "# Here we show you how we can create DataFrame using Pandas functions and reading from Parquet the data only for the year 2012/\n",
        "\n",
        "df = pa.read_parquet(\"BTC/Year=2012\")\n",
        "\n",
        "df\n",
        "#######################\n",
        "# Check the expected output:\n",
        "#index,Open,High,Low,Close,Volume_BTC,Date_Time,Month\n",
        "#0,4.58,4.58,4.58,4.58,0.0,2012-01-01 10:01:00,1\n",
        "#1,4.58,4.58,4.58,4.58,0.0,2012-01-01 10:02:00,1\n",
        "#...\n",
        "#..."
      ]
    },
    {
      "cell_type": "markdown",
      "metadata": {
        "id": "GAYamKaEVXp1"
      },
      "source": [
        "###  D.1 Read Parquet file\n",
        "    \n",
        "<p align=\"justify\">\n",
        "<font size=\"3\">\n",
        "Here you can see now the the Spark DataFrame is created from Parquet data.\n",
        "</font>\n",
        "</p>"
      ]
    },
    {
      "cell_type": "code",
      "execution_count": 24,
      "metadata": {
        "id": "6C0iA8SqVXp2"
      },
      "outputs": [
        {
          "name": "stdout",
          "output_type": "stream",
          "text": [
            "read done\n"
          ]
        }
      ],
      "source": [
        "# And here how we can create a DataFrame using Spark and reading the whole data/\n",
        "\n",
        "dfs_parquet = spark.read.parquet(\"BTC/\")\n",
        "\n",
        "print(\"read done\")"
      ]
    },
    {
      "cell_type": "markdown",
      "metadata": {
        "id": "cjH0cqC5VXp2"
      },
      "source": [
        "## <strong>Exercise 6</strong>. Verify number of column and count the number of rows\n",
        "    \n",
        "<p align=\"justify\">\n",
        "Maybe you have not noticed that the volume of data we are treating is not so small as it seems.\n",
        "Count how many rows we are manipulating in the dataframe <code>dfs</code>\n",
        "<font size=\"3\">\n",
        "</font>\n",
        "</p>"
      ]
    },
    {
      "cell_type": "code",
      "execution_count": 25,
      "metadata": {
        "id": "nYqK9VD8VXp2"
      },
      "outputs": [
        {
          "name": "stdout",
          "output_type": "stream",
          "text": [
            "7133489\n"
          ]
        }
      ],
      "source": [
        "# Write the command that returns the number of rows of the DataFrame\n",
        "\n",
        "#'''############## WRITE YOUR ANSWER HERE ##############'''\n",
        "count = dfs_parquet.count()\n",
        "#'''############## END OF THE EXERCISE ##############'''\n",
        "\n",
        "print(count)\n",
        "\n",
        "#######################\n",
        "# Expected output:\n",
        "# 7045648"
      ]
    },
    {
      "cell_type": "code",
      "execution_count": 26,
      "metadata": {
        "id": "ZJVbEunCVXp2"
      },
      "outputs": [
        {
          "name": "stdout",
          "output_type": "stream",
          "text": [
            "root\n",
            " |-- Open: double (nullable = true)\n",
            " |-- High: double (nullable = true)\n",
            " |-- Low: double (nullable = true)\n",
            " |-- Close: double (nullable = true)\n",
            " |-- Volume_BTC: double (nullable = true)\n",
            " |-- Date_Time: timestamp (nullable = true)\n",
            " |-- Year: integer (nullable = true)\n",
            " |-- Month: integer (nullable = true)\n",
            "\n"
          ]
        }
      ],
      "source": [
        "#We can also check and verify the schema of the DataFrame\n",
        "dfs_parquet.printSchema()"
      ]
    },
    {
      "cell_type": "markdown",
      "metadata": {
        "id": "SoAfjdAuVXp3"
      },
      "source": [
        "# E. Statistics\n",
        "\n",
        "<p align=\"justify\">\n",
        "<font size=\"3\">\n",
        "We want to calculate the statistics of the bitcoin by month for all the years.\n",
        "\n",
        "The computed statistics will be stored in a DataFrame having this schema\n",
        "<ul>\n",
        "     <li>   Mean_Vol  : double </li>\n",
        "     <li>   Std_Vol   : double </li>\n",
        "     <li>   Min_Vol   : double </li>\n",
        "     <li>   Max_vol   : double </li>\n",
        "     <li>   Year      : int </li>\n",
        "     <li>   Month     : int </li>\n",
        "  \n",
        "</ul>\n",
        "\n",
        "In this exercise you will have two develop different methodologies to compute the statistics:\n",
        "<ul>\n",
        "    <li>   using the <code>applyInPandas()</code> Pyspark function and the Pandas functions </li>\n",
        "     <li>  only using the Pyspark functionnalities </li>\n",
        "</ul>\n",
        "The statistics computed should be stored in a Pandas DataFrame with both the two approaches.\n",
        "</font>\n",
        "</p>"
      ]
    },
    {
      "cell_type": "markdown",
      "metadata": {
        "id": "Gts_hy5HVXp4"
      },
      "source": [
        "## E.1. Spark applyinPandas\n",
        "<p align=\"justify\">\n",
        "<font size=\"3\">\n",
        "The solution with $applyinPandas$\n",
        "</font>\n",
        "</p>"
      ]
    },
    {
      "cell_type": "code",
      "execution_count": 27,
      "metadata": {
        "id": "icjKlPHcVXp4"
      },
      "outputs": [],
      "source": [
        "\n",
        "# the Python function that must be used.\n",
        "\n",
        "def compute_stats(key,df):\n",
        "    res = df[\"Volume_BTC\"].describe()\n",
        "\n",
        "    res_dict = {}\n",
        "    for index, value in res.items():\n",
        "\n",
        "        if index == \"mean\":\n",
        "            res_dict[\"Mean_Vol\"] = value\n",
        "        elif index == \"std\":\n",
        "            res_dict[\"Std_Vol\"] = value\n",
        "        elif index == \"min\":\n",
        "            res_dict[\"Min_Vol\"] = value\n",
        "        elif index == \"max\":\n",
        "            res_dict[\"Max_Vol\"] = value\n",
        "\n",
        "    final =  pa.DataFrame([res_dict])\n",
        "    final[\"Year\"]  = key[0]\n",
        "    final[\"Month\"] = key[1]\n",
        "\n",
        "    return final"
      ]
    },
    {
      "cell_type": "markdown",
      "metadata": {
        "id": "JsqKcxxNVXp4"
      },
      "source": [
        "### <strong>Exercise 7</strong>. The two parameters of the Python function\n",
        "The two parameters of the Python <code>applyinPandas(funct,schema)</code> function\n",
        "<p align=\"justify\">\n",
        "<font size=\"3\">\n",
        "    Look at the documentation of the <code>applyinPandas(funct,schema)</code> (<a href=\"https://spark.apache.org/docs/latest/api/python/reference/api/pyspark.sql.GroupedData.applyInPandas.html\">click here to go to the documentation of <code>applyinpandas</code></a>) and describe how it works in detail from the DataFrame point of view in our example (what the $key$ and the $df$ will contain in our example).\n",
        "\n",
        "</font>\n",
        "</p>"
      ]
    },
    {
      "cell_type": "markdown",
      "metadata": {
        "id": "99_WnUHTVXp5"
      },
      "source": [
        "#### WRITE YOUR ANSWER HERE ###\n",
        "\n",
        "We have to indicate the function and the schema. The function is the python function, and the schema is the string description of the DataTypes.\n",
        "In our case:\n",
        "\n",
        "key = (year, month) --> the groupby key\n",
        "\n",
        "df = the df grouped by (year, month)\n",
        "\n",
        "Example:\n",
        "df.groupby(\"id\").applyInPandas(\n",
        "    normalize, schema=\"id long, v double\").show()  "
      ]
    },
    {
      "cell_type": "markdown",
      "metadata": {
        "id": "shVh5lBcVXp5"
      },
      "source": [
        "### <strong>Exercise 8</strong>. The two parameters in action\n",
        "<p align=\"justify\">\n",
        "<font size=\"3\">\n",
        "Compute the statistics using then the $applyInPandas$ and the provided functions.\n",
        "\n",
        "</font>\n",
        "</p>"
      ]
    },
    {
      "cell_type": "code",
      "execution_count": 28,
      "metadata": {
        "id": "IebDul7NVXp6"
      },
      "outputs": [
        {
          "name": "stderr",
          "output_type": "stream",
          "text": [
            "[Stage 11:>                                                         (0 + 1) / 1]\r"
          ]
        },
        {
          "name": "stdout",
          "output_type": "stream",
          "text": [
            "+------------------+------------------+-------+-------------+----+-----+\n",
            "|          Mean_Vol|           Std_Vol|Min_Vol|      Max_Vol|Year|Month|\n",
            "+------------------+------------------+-------+-------------+----+-----+\n",
            "|1.8581678891096196|17.444529026776845|    0.0|2258.82314049|2012|   10|\n",
            "|11.973132482290511|50.208006597831286|    0.0|4111.87610626|2014|    4|\n",
            "| 8.724308122807043| 38.13396448398607|    0.0|2037.22390381|2015|    2|\n",
            "|  9.46905688541241|29.596392308584278|    0.0|1041.54305324|2015|   12|\n",
            "| 2.650074683146505|12.702303333399795|    0.0|  530.1407849|2016|    7|\n",
            "+------------------+------------------+-------+-------------+----+-----+\n",
            "only showing top 5 rows\n",
            "\n",
            "<class 'pyspark.sql.dataframe.DataFrame'>\n"
          ]
        },
        {
          "name": "stderr",
          "output_type": "stream",
          "text": [
            "                                                                                \r"
          ]
        }
      ],
      "source": [
        "schema = \"Mean_Vol double, Std_Vol double, Min_Vol double, Max_Vol double, Year int, Month int\"\n",
        "\n",
        "# Write the command that will store in the variable statsdf the DataFrame\n",
        "\n",
        "#'''############## WRITE YOUR ANSWER HERE ##############'''\n",
        "\n",
        "statsdf = dfsmc.groupby([\"Year\", \"Month\"]).applyInPandas(compute_stats, schema)\n",
        "\n",
        "#'''############## END OF THE EXERCISE ##############'''\n",
        "\n",
        "statsdf.show(5)\n",
        "\n",
        "\n",
        "####### EXPECTED OUTPUT\n",
        "#+-------------------+------------------+-------+-------------+----+-----+\n",
        "#|           Mean_Vol|           Std_Vol|Min_Vol|      Max_Vol|Year|Month|\n",
        "#+-------------------+------------------+-------+-------------+----+-----+\n",
        "#|0.38157795769537034| 5.603393348899759|    0.0| 300.51609759|2012|    4|\n",
        "#| 1.8559290136413529|14.854252197789647|    0.0|  876.5767966|2012|    8|\n",
        "#| 1.8616498090071685|17.456999674520247|    0.0|2258.82314049|2012|   10|\n",
        "#|  2.046982322757616|16.594671862785212|    0.0| 876.09948429|2012|   12|\n",
        "#| 3.0632658169813984|24.861354787399602|    0.0|1306.36619719|2013|    2|\n",
        "#+-------------------+------------------+-------+-------------+----+-----+#\n",
        "\n",
        "print(type(statsdf))"
      ]
    },
    {
      "cell_type": "markdown",
      "metadata": {
        "id": "C6Pdf1N-VXp6"
      },
      "source": [
        "### <strong>Exercise 9</strong>. The statsdf DataFrame\n",
        "<p align=\"justify\">\n",
        "<font size=\"3\">\n",
        "Which kind of DataFrame is statsdf?\n",
        "</font>\n",
        "</p>"
      ]
    },
    {
      "cell_type": "markdown",
      "metadata": {
        "id": "RbXKRuBEVXp6"
      },
      "source": [
        "#### WRITE YOUR ANSWER HERE ###\n",
        "\n",
        "It is a Spark DataFrame"
      ]
    },
    {
      "cell_type": "markdown",
      "metadata": {
        "id": "lgGmWPhSVXp7"
      },
      "source": [
        "\n",
        "### <strong>Exercise 10</strong>. DataFrame in Pandas\n",
        "\n",
        "\n",
        "<p align=\"justify\">\n",
        "<font size=\"3\">\n",
        "Since we computed a stat by month the results will be small (we will have only one row by month)\n",
        "we can get and handle all the results in memory in Pandas.  \n",
        "    \n",
        "Notice that Spark is lazy so the $toPandas$ action will trigger the computation.\n",
        "    \n",
        "Write the command that will do the operation.\n",
        "    \n",
        "</font>\n",
        "</p>\n",
        "\n"
      ]
    },
    {
      "cell_type": "code",
      "execution_count": 29,
      "metadata": {
        "id": "Wupi4CTgVXp7"
      },
      "outputs": [
        {
          "name": "stderr",
          "output_type": "stream",
          "text": [
            "[Stage 14:=====>                                                  (1 + 10) / 11]\r"
          ]
        },
        {
          "name": "stdout",
          "output_type": "stream",
          "text": [
            "CPU times: user 10.9 ms, sys: 7.28 ms, total: 18.2 ms\n",
            "Wall time: 5.26 s\n"
          ]
        },
        {
          "name": "stderr",
          "output_type": "stream",
          "text": [
            "                                                                                \r"
          ]
        }
      ],
      "source": [
        "%%time\n",
        "\n",
        "# Write the command that will store in the variable stats_dfp the outoput DataFrame\n",
        "\n",
        "#'''############## WRITE YOUR ANSWER HERE ##############'''\n",
        "stats_dfp = statsdf.toPandas()\n",
        "#'''############## END OF THE EXERCISE ##############'''"
      ]
    },
    {
      "cell_type": "code",
      "execution_count": 30,
      "metadata": {
        "id": "Ve6u_nzSVXp8"
      },
      "outputs": [
        {
          "data": {
            "text/html": [
              "<div>\n",
              "<style scoped>\n",
              "    .dataframe tbody tr th:only-of-type {\n",
              "        vertical-align: middle;\n",
              "    }\n",
              "\n",
              "    .dataframe tbody tr th {\n",
              "        vertical-align: top;\n",
              "    }\n",
              "\n",
              "    .dataframe thead th {\n",
              "        text-align: right;\n",
              "    }\n",
              "</style>\n",
              "<table border=\"1\" class=\"dataframe\">\n",
              "  <thead>\n",
              "    <tr style=\"text-align: right;\">\n",
              "      <th></th>\n",
              "      <th>Mean_Vol</th>\n",
              "      <th>Std_Vol</th>\n",
              "      <th>Min_Vol</th>\n",
              "      <th>Max_Vol</th>\n",
              "      <th>Year</th>\n",
              "      <th>Month</th>\n",
              "    </tr>\n",
              "  </thead>\n",
              "  <tbody>\n",
              "    <tr>\n",
              "      <th>0</th>\n",
              "      <td>1.858168</td>\n",
              "      <td>17.444529</td>\n",
              "      <td>0.0</td>\n",
              "      <td>2258.823140</td>\n",
              "      <td>2012</td>\n",
              "      <td>10</td>\n",
              "    </tr>\n",
              "    <tr>\n",
              "      <th>1</th>\n",
              "      <td>11.973132</td>\n",
              "      <td>50.208007</td>\n",
              "      <td>0.0</td>\n",
              "      <td>4111.876106</td>\n",
              "      <td>2014</td>\n",
              "      <td>4</td>\n",
              "    </tr>\n",
              "    <tr>\n",
              "      <th>2</th>\n",
              "      <td>8.724308</td>\n",
              "      <td>38.133964</td>\n",
              "      <td>0.0</td>\n",
              "      <td>2037.223904</td>\n",
              "      <td>2015</td>\n",
              "      <td>2</td>\n",
              "    </tr>\n",
              "    <tr>\n",
              "      <th>3</th>\n",
              "      <td>9.469057</td>\n",
              "      <td>29.596392</td>\n",
              "      <td>0.0</td>\n",
              "      <td>1041.543053</td>\n",
              "      <td>2015</td>\n",
              "      <td>12</td>\n",
              "    </tr>\n",
              "    <tr>\n",
              "      <th>4</th>\n",
              "      <td>2.650075</td>\n",
              "      <td>12.702303</td>\n",
              "      <td>0.0</td>\n",
              "      <td>530.140785</td>\n",
              "      <td>2016</td>\n",
              "      <td>7</td>\n",
              "    </tr>\n",
              "    <tr>\n",
              "      <th>5</th>\n",
              "      <td>7.183424</td>\n",
              "      <td>26.878504</td>\n",
              "      <td>0.0</td>\n",
              "      <td>1616.060001</td>\n",
              "      <td>2017</td>\n",
              "      <td>3</td>\n",
              "    </tr>\n",
              "    <tr>\n",
              "      <th>6</th>\n",
              "      <td>8.445264</td>\n",
              "      <td>17.653730</td>\n",
              "      <td>0.0</td>\n",
              "      <td>533.100783</td>\n",
              "      <td>2017</td>\n",
              "      <td>8</td>\n",
              "    </tr>\n",
              "    <tr>\n",
              "      <th>7</th>\n",
              "      <td>8.346753</td>\n",
              "      <td>18.559923</td>\n",
              "      <td>0.0</td>\n",
              "      <td>602.282607</td>\n",
              "      <td>2017</td>\n",
              "      <td>10</td>\n",
              "    </tr>\n",
              "    <tr>\n",
              "      <th>8</th>\n",
              "      <td>2.649536</td>\n",
              "      <td>9.968894</td>\n",
              "      <td>0.0</td>\n",
              "      <td>582.564185</td>\n",
              "      <td>2018</td>\n",
              "      <td>10</td>\n",
              "    </tr>\n",
              "    <tr>\n",
              "      <th>9</th>\n",
              "      <td>8.272884</td>\n",
              "      <td>18.311089</td>\n",
              "      <td>0.0</td>\n",
              "      <td>806.636224</td>\n",
              "      <td>2019</td>\n",
              "      <td>5</td>\n",
              "    </tr>\n",
              "  </tbody>\n",
              "</table>\n",
              "</div>"
            ],
            "text/plain": [
              "    Mean_Vol    Std_Vol  Min_Vol      Max_Vol  Year  Month\n",
              "0   1.858168  17.444529      0.0  2258.823140  2012     10\n",
              "1  11.973132  50.208007      0.0  4111.876106  2014      4\n",
              "2   8.724308  38.133964      0.0  2037.223904  2015      2\n",
              "3   9.469057  29.596392      0.0  1041.543053  2015     12\n",
              "4   2.650075  12.702303      0.0   530.140785  2016      7\n",
              "5   7.183424  26.878504      0.0  1616.060001  2017      3\n",
              "6   8.445264  17.653730      0.0   533.100783  2017      8\n",
              "7   8.346753  18.559923      0.0   602.282607  2017     10\n",
              "8   2.649536   9.968894      0.0   582.564185  2018     10\n",
              "9   8.272884  18.311089      0.0   806.636224  2019      5"
            ]
          },
          "execution_count": 30,
          "metadata": {},
          "output_type": "execute_result"
        }
      ],
      "source": [
        "#results\n",
        "stats_dfp.head(10)\n",
        "\n",
        "#######################\n",
        "# Expected output:\n",
        "# Mean_Vol\tStd_Vol\tMin_Vol\tMax_Vol\tYear\tMonth\n",
        "# 0\t21.683913\t36.393538\t1.275510e-03\t300.516098\t2012\t4\n",
        "# 1\t21.108184\t46.034723\t0.000000e+00\t876.576797\t2012\t8\n",
        "# 2\t20.396136\t54.246996\t9.400000e-05\t2258.823141\t2012\t10\n",
        "# 3\t25.393412\t53.167923\t9.559000e-04\t876.099484\t2012\t12\n",
        "# 4\t19.510576\t60.025050\t1.000000e-08\t1306.366197\t2013\t2\n",
        "# 5\t13.141915\t35.899066\t0.000000e+00\t1330.568747\t2013\t3\n",
        "# 6\t8.802936\t29.688012\t0.000000e+00\t1000.041575\t2013\t6\n",
        "# 7\t11.753656\t39.856527\t1.000000e-08\t1138.049014\t2013\t9\n",
        "# 8\t18.445597\t58.566351\t0.000000e+00\t1699.510865\t2013\t10\n",
        "# 9\t22.860416\t57.255573\t4.442000e-05\t2196.866405\t2013\t12\n"
      ]
    },
    {
      "cell_type": "markdown",
      "metadata": {
        "id": "LX4X2ioqVXp8"
      },
      "source": [
        "###  <strong>Exercise 11</strong>. Show the stats of the stats\n",
        "\n",
        "\n",
        "<p align=\"justify\">\n",
        "<font size=\"3\">\n",
        "We want to calculate the statistics of the bitcoin by month for all the years.\n",
        "\n",
        "The computed statistics will be stored in a DataFrame having this schema\n",
        "<ul>\n",
        "     <li>   the min of the set min values </li>\n",
        "     <li>   the mean of the set of mean values </li>\n",
        "     <li>   ... </li>\n",
        "</ul>\n",
        "\n",
        "\n",
        "    \n",
        "</font>\n",
        "</p>\n"
      ]
    },
    {
      "cell_type": "code",
      "execution_count": 31,
      "metadata": {
        "id": "4FFQDxOyVXp8"
      },
      "outputs": [
        {
          "name": "stderr",
          "output_type": "stream",
          "text": [
            "25/07/26 18:02:02 WARN SparkStringUtils: Truncated the string representation of a plan since it was too large. This behavior can be adjusted by setting 'spark.sql.debug.maxToStringFields'.\n",
            "[Stage 17:====================>                                    (4 + 7) / 11]\r"
          ]
        },
        {
          "name": "stdout",
          "output_type": "stream",
          "text": [
            "+-------+-------------------+------------------+-------+-----------------+------------------+-----------------+\n",
            "|summary|           Mean_Vol|           Std_Vol|Min_Vol|          Max_Vol|              Year|            Month|\n",
            "+-------+-------------------+------------------+-------+-----------------+------------------+-----------------+\n",
            "|  count|                163|               163|    163|              163|               163|              163|\n",
            "|   mean|  5.224481594014435|16.925689954544897|    0.0| 802.547053819816|2018.3006134969326|6.392638036809816|\n",
            "| stddev|  4.508721487188216|13.944503183296401|    0.0|846.9727336037818| 3.937999381344645|3.450595909927153|\n",
            "|    min|0.04573099515427818|0.8360619319727159|    0.0|      43.31219578|              2012|                1|\n",
            "|    max|  22.37783345623565| 72.91283698037434|    0.0|    5853.85216588|              2025|               12|\n",
            "+-------+-------------------+------------------+-------+-----------------+------------------+-----------------+\n",
            "\n"
          ]
        },
        {
          "name": "stderr",
          "output_type": "stream",
          "text": [
            "                                                                                \r"
          ]
        }
      ],
      "source": [
        "# Write the command that will show and compute the stats on the numerical columns of the statsdf DataFrame\n",
        "\n",
        "#'''############## WRITE YOUR ANSWER HERE ##############'''\n",
        "statsdf.describe().show()\n",
        "#'''############## END OF THE EXERCISE ##############'''\n",
        "\n",
        "\n",
        "\n",
        "#######################\n",
        "# Expected output:\n",
        "#+-------+------------------+------------------+--------------------+------------------+------------------+------------------+\n",
        "#|summary|          Mean_Vol|           Std_Vol|             Min_Vol|           Max_Vol|              Year|             Month|\n",
        "#+-------+------------------+------------------+--------------------+------------------+------------------+------------------+\n",
        "#|  count|               112|               112|                 112|               112|               112|               112|\n",
        "#|   mean|10.782191354847754|28.871463944232485|0.004551177678571...|1067.2847720235718|2016.0892857142858| 6.428571428571429|\n",
        "#| stddev| 6.488551661205522| 18.11344145463867|0.043048607639448476| 895.8083462469303|2.7164947320662614|3.5252353718985097|\n",
        "#|    min| 2.929999689326444| 6.490701567379118|                 0.0|       43.31219578|              2011|                 1|\n",
        "#|    max|31.504423573146152|106.97606692383131|          0.45558087|      5853.8521659|              2021|                12|\n",
        "#+-------+------------------+------------------+--------------------+------------------+------------------+------------------+\n"
      ]
    },
    {
      "cell_type": "markdown",
      "metadata": {
        "id": "_wtYR3CaVXp8"
      },
      "source": [
        "# F. Plotting and equivalence\n",
        "<p align=\"justify\">\n",
        "<font size=\"3\">\n",
        "We want to plot the resutls of the statistics by year and month (that will be in the $x$ orizontal axis of the plot).\n",
        "\n",
        "$Plotly$ will be used for the plotting\n",
        "    \n",
        "\n",
        "This provided version of the code is fully working in Python.\n",
        "    \n",
        "\n",
        "A Python routine converts the two columns $Year$ and $Month$ into a $DateTime$ column 'Date' (in order to plot the data in relation with the date).\n",
        "    \n",
        "</font>\n",
        "</p>\n",
        "\n"
      ]
    },
    {
      "cell_type": "code",
      "execution_count": 32,
      "metadata": {
        "id": "5E1eQmpJVXp9"
      },
      "outputs": [
        {
          "data": {
            "text/html": [
              "        <script type=\"text/javascript\">\n",
              "        window.PlotlyConfig = {MathJaxConfig: 'local'};\n",
              "        if (window.MathJax && window.MathJax.Hub && window.MathJax.Hub.Config) {window.MathJax.Hub.Config({SVG: {font: \"STIX-Web\"}});}\n",
              "        </script>\n",
              "        <script type=\"module\">import \"https://cdn.plot.ly/plotly-3.0.1.min\"</script>\n",
              "        "
            ]
          },
          "metadata": {},
          "output_type": "display_data"
        }
      ],
      "source": [
        "#install plotly and import the libraries\n",
        "\n",
        "from plotly.offline import iplot,init_notebook_mode\n",
        "import plotly.graph_objects as go\n",
        "\n",
        "init_notebook_mode(connected=True)"
      ]
    },
    {
      "cell_type": "code",
      "execution_count": 33,
      "metadata": {
        "id": "wlyn4HLZVXp9"
      },
      "outputs": [],
      "source": [
        "#Helper function that converts the Year Month of our data into Date type\n",
        "\n",
        "def get_date_from_year_month(df):\n",
        "    df[\"Date\"] = pa.to_datetime(df['Year'].astype(str) + '-' + df['Month'].astype(str), format='%Y-%m')\n",
        "    return df\n"
      ]
    },
    {
      "cell_type": "code",
      "execution_count": 34,
      "metadata": {
        "id": "mS9hH6hHVXp9"
      },
      "outputs": [
        {
          "data": {
            "text/html": [
              "<div>\n",
              "<style scoped>\n",
              "    .dataframe tbody tr th:only-of-type {\n",
              "        vertical-align: middle;\n",
              "    }\n",
              "\n",
              "    .dataframe tbody tr th {\n",
              "        vertical-align: top;\n",
              "    }\n",
              "\n",
              "    .dataframe thead th {\n",
              "        text-align: right;\n",
              "    }\n",
              "</style>\n",
              "<table border=\"1\" class=\"dataframe\">\n",
              "  <thead>\n",
              "    <tr style=\"text-align: right;\">\n",
              "      <th></th>\n",
              "      <th>Mean_Vol</th>\n",
              "      <th>Std_Vol</th>\n",
              "      <th>Min_Vol</th>\n",
              "      <th>Max_Vol</th>\n",
              "      <th>Year</th>\n",
              "      <th>Month</th>\n",
              "      <th>Date</th>\n",
              "    </tr>\n",
              "  </thead>\n",
              "  <tbody>\n",
              "    <tr>\n",
              "      <th>110</th>\n",
              "      <td>0.045731</td>\n",
              "      <td>0.836062</td>\n",
              "      <td>0.0</td>\n",
              "      <td>43.312196</td>\n",
              "      <td>2012</td>\n",
              "      <td>1</td>\n",
              "      <td>2012-01-01</td>\n",
              "    </tr>\n",
              "    <tr>\n",
              "      <th>111</th>\n",
              "      <td>0.114048</td>\n",
              "      <td>1.697511</td>\n",
              "      <td>0.0</td>\n",
              "      <td>92.654874</td>\n",
              "      <td>2012</td>\n",
              "      <td>2</td>\n",
              "      <td>2012-02-01</td>\n",
              "    </tr>\n",
              "    <tr>\n",
              "      <th>125</th>\n",
              "      <td>0.202970</td>\n",
              "      <td>3.518784</td>\n",
              "      <td>0.0</td>\n",
              "      <td>247.560124</td>\n",
              "      <td>2012</td>\n",
              "      <td>3</td>\n",
              "      <td>2012-03-01</td>\n",
              "    </tr>\n",
              "    <tr>\n",
              "      <th>15</th>\n",
              "      <td>0.380452</td>\n",
              "      <td>5.602053</td>\n",
              "      <td>0.0</td>\n",
              "      <td>300.516098</td>\n",
              "      <td>2012</td>\n",
              "      <td>4</td>\n",
              "      <td>2012-04-01</td>\n",
              "    </tr>\n",
              "    <tr>\n",
              "      <th>126</th>\n",
              "      <td>0.415684</td>\n",
              "      <td>5.743854</td>\n",
              "      <td>0.0</td>\n",
              "      <td>384.988000</td>\n",
              "      <td>2012</td>\n",
              "      <td>5</td>\n",
              "      <td>2012-05-01</td>\n",
              "    </tr>\n",
              "    <tr>\n",
              "      <th>...</th>\n",
              "      <td>...</td>\n",
              "      <td>...</td>\n",
              "      <td>...</td>\n",
              "      <td>...</td>\n",
              "      <td>...</td>\n",
              "      <td>...</td>\n",
              "      <td>...</td>\n",
              "    </tr>\n",
              "    <tr>\n",
              "      <th>94</th>\n",
              "      <td>1.234611</td>\n",
              "      <td>4.228104</td>\n",
              "      <td>0.0</td>\n",
              "      <td>137.016185</td>\n",
              "      <td>2025</td>\n",
              "      <td>3</td>\n",
              "      <td>2025-03-01</td>\n",
              "    </tr>\n",
              "    <tr>\n",
              "      <th>109</th>\n",
              "      <td>1.137380</td>\n",
              "      <td>3.744627</td>\n",
              "      <td>0.0</td>\n",
              "      <td>116.672235</td>\n",
              "      <td>2025</td>\n",
              "      <td>4</td>\n",
              "      <td>2025-04-01</td>\n",
              "    </tr>\n",
              "    <tr>\n",
              "      <th>30</th>\n",
              "      <td>0.823152</td>\n",
              "      <td>2.669474</td>\n",
              "      <td>0.0</td>\n",
              "      <td>82.260283</td>\n",
              "      <td>2025</td>\n",
              "      <td>5</td>\n",
              "      <td>2025-05-01</td>\n",
              "    </tr>\n",
              "    <tr>\n",
              "      <th>31</th>\n",
              "      <td>0.636281</td>\n",
              "      <td>2.119212</td>\n",
              "      <td>0.0</td>\n",
              "      <td>59.014533</td>\n",
              "      <td>2025</td>\n",
              "      <td>6</td>\n",
              "      <td>2025-06-01</td>\n",
              "    </tr>\n",
              "    <tr>\n",
              "      <th>61</th>\n",
              "      <td>0.998291</td>\n",
              "      <td>3.334322</td>\n",
              "      <td>0.0</td>\n",
              "      <td>122.751398</td>\n",
              "      <td>2025</td>\n",
              "      <td>7</td>\n",
              "      <td>2025-07-01</td>\n",
              "    </tr>\n",
              "  </tbody>\n",
              "</table>\n",
              "<p>163 rows × 7 columns</p>\n",
              "</div>"
            ],
            "text/plain": [
              "     Mean_Vol   Std_Vol  Min_Vol     Max_Vol  Year  Month       Date\n",
              "110  0.045731  0.836062      0.0   43.312196  2012      1 2012-01-01\n",
              "111  0.114048  1.697511      0.0   92.654874  2012      2 2012-02-01\n",
              "125  0.202970  3.518784      0.0  247.560124  2012      3 2012-03-01\n",
              "15   0.380452  5.602053      0.0  300.516098  2012      4 2012-04-01\n",
              "126  0.415684  5.743854      0.0  384.988000  2012      5 2012-05-01\n",
              "..        ...       ...      ...         ...   ...    ...        ...\n",
              "94   1.234611  4.228104      0.0  137.016185  2025      3 2025-03-01\n",
              "109  1.137380  3.744627      0.0  116.672235  2025      4 2025-04-01\n",
              "30   0.823152  2.669474      0.0   82.260283  2025      5 2025-05-01\n",
              "31   0.636281  2.119212      0.0   59.014533  2025      6 2025-06-01\n",
              "61   0.998291  3.334322      0.0  122.751398  2025      7 2025-07-01\n",
              "\n",
              "[163 rows x 7 columns]"
            ]
          },
          "execution_count": 34,
          "metadata": {},
          "output_type": "execute_result"
        }
      ],
      "source": [
        "# In this phase we need to sort by the date to allow parallelisation of shuffled the results\n",
        "\n",
        "stats_dfp = get_date_from_year_month(stats_dfp)\n",
        "stats_dfp.sort_values(by = 'Date',inplace = True)\n",
        "stats_dfp"
      ]
    },
    {
      "cell_type": "code",
      "execution_count": 35,
      "metadata": {
        "id": "UunBZ10kVXp-"
      },
      "outputs": [
        {
          "data": {
            "application/vnd.plotly.v1+json": {
              "config": {
                "plotlyServerURL": "https://plot.ly"
              },
              "data": [
                {
                  "type": "scatter",
                  "x": [
                    "2012-01-01T00:00:00.000000000",
                    "2012-02-01T00:00:00.000000000",
                    "2012-03-01T00:00:00.000000000",
                    "2012-04-01T00:00:00.000000000",
                    "2012-05-01T00:00:00.000000000",
                    "2012-06-01T00:00:00.000000000",
                    "2012-07-01T00:00:00.000000000",
                    "2012-08-01T00:00:00.000000000",
                    "2012-09-01T00:00:00.000000000",
                    "2012-10-01T00:00:00.000000000",
                    "2012-11-01T00:00:00.000000000",
                    "2012-12-01T00:00:00.000000000",
                    "2013-01-01T00:00:00.000000000",
                    "2013-02-01T00:00:00.000000000",
                    "2013-03-01T00:00:00.000000000",
                    "2013-04-01T00:00:00.000000000",
                    "2013-05-01T00:00:00.000000000",
                    "2013-06-01T00:00:00.000000000",
                    "2013-07-01T00:00:00.000000000",
                    "2013-08-01T00:00:00.000000000",
                    "2013-09-01T00:00:00.000000000",
                    "2013-10-01T00:00:00.000000000",
                    "2013-11-01T00:00:00.000000000",
                    "2013-12-01T00:00:00.000000000",
                    "2014-01-01T00:00:00.000000000",
                    "2014-02-01T00:00:00.000000000",
                    "2014-03-01T00:00:00.000000000",
                    "2014-04-01T00:00:00.000000000",
                    "2014-05-01T00:00:00.000000000",
                    "2014-06-01T00:00:00.000000000",
                    "2014-07-01T00:00:00.000000000",
                    "2014-08-01T00:00:00.000000000",
                    "2014-09-01T00:00:00.000000000",
                    "2014-10-01T00:00:00.000000000",
                    "2014-11-01T00:00:00.000000000",
                    "2014-12-01T00:00:00.000000000",
                    "2015-01-01T00:00:00.000000000",
                    "2015-02-01T00:00:00.000000000",
                    "2015-03-01T00:00:00.000000000",
                    "2015-04-01T00:00:00.000000000",
                    "2015-05-01T00:00:00.000000000",
                    "2015-06-01T00:00:00.000000000",
                    "2015-07-01T00:00:00.000000000",
                    "2015-08-01T00:00:00.000000000",
                    "2015-09-01T00:00:00.000000000",
                    "2015-10-01T00:00:00.000000000",
                    "2015-11-01T00:00:00.000000000",
                    "2015-12-01T00:00:00.000000000",
                    "2016-01-01T00:00:00.000000000",
                    "2016-02-01T00:00:00.000000000",
                    "2016-03-01T00:00:00.000000000",
                    "2016-04-01T00:00:00.000000000",
                    "2016-05-01T00:00:00.000000000",
                    "2016-06-01T00:00:00.000000000",
                    "2016-07-01T00:00:00.000000000",
                    "2016-08-01T00:00:00.000000000",
                    "2016-09-01T00:00:00.000000000",
                    "2016-10-01T00:00:00.000000000",
                    "2016-11-01T00:00:00.000000000",
                    "2016-12-01T00:00:00.000000000",
                    "2017-01-01T00:00:00.000000000",
                    "2017-02-01T00:00:00.000000000",
                    "2017-03-01T00:00:00.000000000",
                    "2017-04-01T00:00:00.000000000",
                    "2017-05-01T00:00:00.000000000",
                    "2017-06-01T00:00:00.000000000",
                    "2017-07-01T00:00:00.000000000",
                    "2017-08-01T00:00:00.000000000",
                    "2017-09-01T00:00:00.000000000",
                    "2017-10-01T00:00:00.000000000",
                    "2017-11-01T00:00:00.000000000",
                    "2017-12-01T00:00:00.000000000",
                    "2018-01-01T00:00:00.000000000",
                    "2018-02-01T00:00:00.000000000",
                    "2018-03-01T00:00:00.000000000",
                    "2018-04-01T00:00:00.000000000",
                    "2018-05-01T00:00:00.000000000",
                    "2018-06-01T00:00:00.000000000",
                    "2018-07-01T00:00:00.000000000",
                    "2018-08-01T00:00:00.000000000",
                    "2018-09-01T00:00:00.000000000",
                    "2018-10-01T00:00:00.000000000",
                    "2018-11-01T00:00:00.000000000",
                    "2018-12-01T00:00:00.000000000",
                    "2019-01-01T00:00:00.000000000",
                    "2019-02-01T00:00:00.000000000",
                    "2019-03-01T00:00:00.000000000",
                    "2019-04-01T00:00:00.000000000",
                    "2019-05-01T00:00:00.000000000",
                    "2019-06-01T00:00:00.000000000",
                    "2019-07-01T00:00:00.000000000",
                    "2019-08-01T00:00:00.000000000",
                    "2019-09-01T00:00:00.000000000",
                    "2019-10-01T00:00:00.000000000",
                    "2019-11-01T00:00:00.000000000",
                    "2019-12-01T00:00:00.000000000",
                    "2020-01-01T00:00:00.000000000",
                    "2020-02-01T00:00:00.000000000",
                    "2020-03-01T00:00:00.000000000",
                    "2020-04-01T00:00:00.000000000",
                    "2020-05-01T00:00:00.000000000",
                    "2020-06-01T00:00:00.000000000",
                    "2020-07-01T00:00:00.000000000",
                    "2020-08-01T00:00:00.000000000",
                    "2020-09-01T00:00:00.000000000",
                    "2020-10-01T00:00:00.000000000",
                    "2020-11-01T00:00:00.000000000",
                    "2020-12-01T00:00:00.000000000",
                    "2021-01-01T00:00:00.000000000",
                    "2021-02-01T00:00:00.000000000",
                    "2021-03-01T00:00:00.000000000",
                    "2021-04-01T00:00:00.000000000",
                    "2021-05-01T00:00:00.000000000",
                    "2021-06-01T00:00:00.000000000",
                    "2021-07-01T00:00:00.000000000",
                    "2021-08-01T00:00:00.000000000",
                    "2021-09-01T00:00:00.000000000",
                    "2021-10-01T00:00:00.000000000",
                    "2021-11-01T00:00:00.000000000",
                    "2021-12-01T00:00:00.000000000",
                    "2022-01-01T00:00:00.000000000",
                    "2022-02-01T00:00:00.000000000",
                    "2022-03-01T00:00:00.000000000",
                    "2022-04-01T00:00:00.000000000",
                    "2022-05-01T00:00:00.000000000",
                    "2022-06-01T00:00:00.000000000",
                    "2022-07-01T00:00:00.000000000",
                    "2022-08-01T00:00:00.000000000",
                    "2022-09-01T00:00:00.000000000",
                    "2022-10-01T00:00:00.000000000",
                    "2022-11-01T00:00:00.000000000",
                    "2022-12-01T00:00:00.000000000",
                    "2023-01-01T00:00:00.000000000",
                    "2023-02-01T00:00:00.000000000",
                    "2023-03-01T00:00:00.000000000",
                    "2023-04-01T00:00:00.000000000",
                    "2023-05-01T00:00:00.000000000",
                    "2023-06-01T00:00:00.000000000",
                    "2023-07-01T00:00:00.000000000",
                    "2023-08-01T00:00:00.000000000",
                    "2023-09-01T00:00:00.000000000",
                    "2023-10-01T00:00:00.000000000",
                    "2023-11-01T00:00:00.000000000",
                    "2023-12-01T00:00:00.000000000",
                    "2024-01-01T00:00:00.000000000",
                    "2024-02-01T00:00:00.000000000",
                    "2024-03-01T00:00:00.000000000",
                    "2024-04-01T00:00:00.000000000",
                    "2024-05-01T00:00:00.000000000",
                    "2024-06-01T00:00:00.000000000",
                    "2024-07-01T00:00:00.000000000",
                    "2024-08-01T00:00:00.000000000",
                    "2024-09-01T00:00:00.000000000",
                    "2024-10-01T00:00:00.000000000",
                    "2024-11-01T00:00:00.000000000",
                    "2024-12-01T00:00:00.000000000",
                    "2025-01-01T00:00:00.000000000",
                    "2025-02-01T00:00:00.000000000",
                    "2025-03-01T00:00:00.000000000",
                    "2025-04-01T00:00:00.000000000",
                    "2025-05-01T00:00:00.000000000",
                    "2025-06-01T00:00:00.000000000",
                    "2025-07-01T00:00:00.000000000"
                  ],
                  "y": {
                    "bdata": "JcszkQ1qpz9SoObLRTK9P52zKbHt+sk/JekgSFFZ2D91DI++kJraP+T+tU6ulfc/ULZRQLkg8j+rj9b2FJf9P0n7ixSX7PQ/MECjQA67/T/vV0Kt3m8AQKdA6j61YQBAhTzlvwNHBkBOfWQg+YMIQHHyE6n3/A9AHxYtPhEzJECCaoyvDucaQLHIi0p2UxdArJKHI0q9IkCLhmzcOm0dQPUJOA+i+B1AOqrzXzzzK0Dk3YGxuWA2QEdYpjhIXDVA+L2MYIDsI0ADWBvf3UY0QK0qZGMcXyZA4Tm0az7yJ0Cmo7zdoB0bQI+h+TWumxpAQXDpxIA4DUCmNkwkJi4cQF7lHXOjeh9AznLvmrb/KkDKUF+u2l4kQLvnNv2YZxpAQDMogER5MUDnXaeD2HIhQE5XAPNOqRpAPMWWQm6QF0DMYtihiRoSQLkpk1GYWBVAGEtHdkjjIUCzvbyJdL8iQBj0KH+6WypATAq66WDpL0DjiF4+J400QK6eXTko8CJA6tf+aXXbGUDwMGgrgL8UQBaXdeylMAxAAnF094WLBkDe/GlAkSYIQGzseIU0nxpADZMAW1ozBUCpy+mqIYwKQDkiXji4CgFA4joaTmoSAkDap0qYb44MQFwhAC7R9A5APIYgRVn5HUDkN8c1ztQUQDM2RYzTuxxAjHWqxJ5eDkAcN2cyda8kQJJNLAiLyiRAGLZ94NPFI0BveE6y+eMgQAj4n+LI/ydAFFeuj4mxIECfS08WZFkmQJjGhqTAXClAMiT2g03PJED7Tcw6k7gsQMEadsTWciVAQhzGciK9IUBVUM6KsEMcQMDBRC16vhZAa8UFMF6mFUCXLV4WHJUVQG/JWSC1Fg5AaXwqyz8yBUAVuKacFLkfQChcLiO6JSBAzyLqNruAEkApt9uR0SwUQM/mUKNqgw1AO8/uVmxIG0DcMWN1t4sgQNwbQ4bP7B5Ahvw2fseqIECYchtRpmgWQBDx2YcvnxNAfdNPYb5fGEDnSMgwMV4RQICbszAkLAdAhji+KBQfEkDxY93rrlwQQJrW6zohmCVAsf4gQma0GkA+hoQMwYshQGJy2F5ifhNAlJuSUWyGEUA6iWs4doQRQFfyewOphxNAbrnZyXxbEECK0GTLZpEaQAiFBEAV5BZAEEWhwYGNJEBr3KIxqMIXQKlw3PtvfQxA8ML1MOTcCUDzRlPmzMoSQKeNyRYeuwpAVyLdE3ni/D+6RPgWKsr8P2iGmaOy5/k/W08uIWpq/D829tZSEKr6P7uK8uRQwPk/e4RjetTJ+T9KJt32y8P2P4vIbeb4EvU//mEDF6Ba8D8DuK7Tbx4CQHWTX6eQuwNAFZ2JQbKe+j/QVCXK4TTxP7prpVnH5fk/jtsRyBS87T810NtzKEcDQIoiLuXPQvQ/wEGDtO689z+w3R1fXeX0P/VhUG4xXgBArVS6Y/EV9D9UUCIpnkr0P7gi5PC0c/o/pDk71HTE7j/I4DftYLPxP8OjzAkE++4/gC1VuieY8z9oX9nvMY/xP3dG3J9u9vI/41cC4ltx+z/9OvCNyjj3P8etsC+tdABAQ218ka4s9z8DjAgkhS/yP016p8nMpvE/zVUxuTlv9j8RdJG/1Lv8P+2+yQktF/M/WqRiCCQL8j+cMt7afDUEQHHWM5BN/vY/63Rtlexw8z/RjRc15J3yP1NO9+/3wPM/4x1+RLUy8j9cO+YZQlfqP28zeKhqXOQ/Z5E0Jf/x7z8=",
                    "dtype": "f8"
                  }
                }
              ],
              "layout": {
                "height": 1000,
                "showlegend": true,
                "template": {
                  "data": {
                    "bar": [
                      {
                        "error_x": {
                          "color": "#2a3f5f"
                        },
                        "error_y": {
                          "color": "#2a3f5f"
                        },
                        "marker": {
                          "line": {
                            "color": "#E5ECF6",
                            "width": 0.5
                          },
                          "pattern": {
                            "fillmode": "overlay",
                            "size": 10,
                            "solidity": 0.2
                          }
                        },
                        "type": "bar"
                      }
                    ],
                    "barpolar": [
                      {
                        "marker": {
                          "line": {
                            "color": "#E5ECF6",
                            "width": 0.5
                          },
                          "pattern": {
                            "fillmode": "overlay",
                            "size": 10,
                            "solidity": 0.2
                          }
                        },
                        "type": "barpolar"
                      }
                    ],
                    "carpet": [
                      {
                        "aaxis": {
                          "endlinecolor": "#2a3f5f",
                          "gridcolor": "white",
                          "linecolor": "white",
                          "minorgridcolor": "white",
                          "startlinecolor": "#2a3f5f"
                        },
                        "baxis": {
                          "endlinecolor": "#2a3f5f",
                          "gridcolor": "white",
                          "linecolor": "white",
                          "minorgridcolor": "white",
                          "startlinecolor": "#2a3f5f"
                        },
                        "type": "carpet"
                      }
                    ],
                    "choropleth": [
                      {
                        "colorbar": {
                          "outlinewidth": 0,
                          "ticks": ""
                        },
                        "type": "choropleth"
                      }
                    ],
                    "contour": [
                      {
                        "colorbar": {
                          "outlinewidth": 0,
                          "ticks": ""
                        },
                        "colorscale": [
                          [
                            0,
                            "#0d0887"
                          ],
                          [
                            0.1111111111111111,
                            "#46039f"
                          ],
                          [
                            0.2222222222222222,
                            "#7201a8"
                          ],
                          [
                            0.3333333333333333,
                            "#9c179e"
                          ],
                          [
                            0.4444444444444444,
                            "#bd3786"
                          ],
                          [
                            0.5555555555555556,
                            "#d8576b"
                          ],
                          [
                            0.6666666666666666,
                            "#ed7953"
                          ],
                          [
                            0.7777777777777778,
                            "#fb9f3a"
                          ],
                          [
                            0.8888888888888888,
                            "#fdca26"
                          ],
                          [
                            1,
                            "#f0f921"
                          ]
                        ],
                        "type": "contour"
                      }
                    ],
                    "contourcarpet": [
                      {
                        "colorbar": {
                          "outlinewidth": 0,
                          "ticks": ""
                        },
                        "type": "contourcarpet"
                      }
                    ],
                    "heatmap": [
                      {
                        "colorbar": {
                          "outlinewidth": 0,
                          "ticks": ""
                        },
                        "colorscale": [
                          [
                            0,
                            "#0d0887"
                          ],
                          [
                            0.1111111111111111,
                            "#46039f"
                          ],
                          [
                            0.2222222222222222,
                            "#7201a8"
                          ],
                          [
                            0.3333333333333333,
                            "#9c179e"
                          ],
                          [
                            0.4444444444444444,
                            "#bd3786"
                          ],
                          [
                            0.5555555555555556,
                            "#d8576b"
                          ],
                          [
                            0.6666666666666666,
                            "#ed7953"
                          ],
                          [
                            0.7777777777777778,
                            "#fb9f3a"
                          ],
                          [
                            0.8888888888888888,
                            "#fdca26"
                          ],
                          [
                            1,
                            "#f0f921"
                          ]
                        ],
                        "type": "heatmap"
                      }
                    ],
                    "histogram": [
                      {
                        "marker": {
                          "pattern": {
                            "fillmode": "overlay",
                            "size": 10,
                            "solidity": 0.2
                          }
                        },
                        "type": "histogram"
                      }
                    ],
                    "histogram2d": [
                      {
                        "colorbar": {
                          "outlinewidth": 0,
                          "ticks": ""
                        },
                        "colorscale": [
                          [
                            0,
                            "#0d0887"
                          ],
                          [
                            0.1111111111111111,
                            "#46039f"
                          ],
                          [
                            0.2222222222222222,
                            "#7201a8"
                          ],
                          [
                            0.3333333333333333,
                            "#9c179e"
                          ],
                          [
                            0.4444444444444444,
                            "#bd3786"
                          ],
                          [
                            0.5555555555555556,
                            "#d8576b"
                          ],
                          [
                            0.6666666666666666,
                            "#ed7953"
                          ],
                          [
                            0.7777777777777778,
                            "#fb9f3a"
                          ],
                          [
                            0.8888888888888888,
                            "#fdca26"
                          ],
                          [
                            1,
                            "#f0f921"
                          ]
                        ],
                        "type": "histogram2d"
                      }
                    ],
                    "histogram2dcontour": [
                      {
                        "colorbar": {
                          "outlinewidth": 0,
                          "ticks": ""
                        },
                        "colorscale": [
                          [
                            0,
                            "#0d0887"
                          ],
                          [
                            0.1111111111111111,
                            "#46039f"
                          ],
                          [
                            0.2222222222222222,
                            "#7201a8"
                          ],
                          [
                            0.3333333333333333,
                            "#9c179e"
                          ],
                          [
                            0.4444444444444444,
                            "#bd3786"
                          ],
                          [
                            0.5555555555555556,
                            "#d8576b"
                          ],
                          [
                            0.6666666666666666,
                            "#ed7953"
                          ],
                          [
                            0.7777777777777778,
                            "#fb9f3a"
                          ],
                          [
                            0.8888888888888888,
                            "#fdca26"
                          ],
                          [
                            1,
                            "#f0f921"
                          ]
                        ],
                        "type": "histogram2dcontour"
                      }
                    ],
                    "mesh3d": [
                      {
                        "colorbar": {
                          "outlinewidth": 0,
                          "ticks": ""
                        },
                        "type": "mesh3d"
                      }
                    ],
                    "parcoords": [
                      {
                        "line": {
                          "colorbar": {
                            "outlinewidth": 0,
                            "ticks": ""
                          }
                        },
                        "type": "parcoords"
                      }
                    ],
                    "pie": [
                      {
                        "automargin": true,
                        "type": "pie"
                      }
                    ],
                    "scatter": [
                      {
                        "fillpattern": {
                          "fillmode": "overlay",
                          "size": 10,
                          "solidity": 0.2
                        },
                        "type": "scatter"
                      }
                    ],
                    "scatter3d": [
                      {
                        "line": {
                          "colorbar": {
                            "outlinewidth": 0,
                            "ticks": ""
                          }
                        },
                        "marker": {
                          "colorbar": {
                            "outlinewidth": 0,
                            "ticks": ""
                          }
                        },
                        "type": "scatter3d"
                      }
                    ],
                    "scattercarpet": [
                      {
                        "marker": {
                          "colorbar": {
                            "outlinewidth": 0,
                            "ticks": ""
                          }
                        },
                        "type": "scattercarpet"
                      }
                    ],
                    "scattergeo": [
                      {
                        "marker": {
                          "colorbar": {
                            "outlinewidth": 0,
                            "ticks": ""
                          }
                        },
                        "type": "scattergeo"
                      }
                    ],
                    "scattergl": [
                      {
                        "marker": {
                          "colorbar": {
                            "outlinewidth": 0,
                            "ticks": ""
                          }
                        },
                        "type": "scattergl"
                      }
                    ],
                    "scattermap": [
                      {
                        "marker": {
                          "colorbar": {
                            "outlinewidth": 0,
                            "ticks": ""
                          }
                        },
                        "type": "scattermap"
                      }
                    ],
                    "scattermapbox": [
                      {
                        "marker": {
                          "colorbar": {
                            "outlinewidth": 0,
                            "ticks": ""
                          }
                        },
                        "type": "scattermapbox"
                      }
                    ],
                    "scatterpolar": [
                      {
                        "marker": {
                          "colorbar": {
                            "outlinewidth": 0,
                            "ticks": ""
                          }
                        },
                        "type": "scatterpolar"
                      }
                    ],
                    "scatterpolargl": [
                      {
                        "marker": {
                          "colorbar": {
                            "outlinewidth": 0,
                            "ticks": ""
                          }
                        },
                        "type": "scatterpolargl"
                      }
                    ],
                    "scatterternary": [
                      {
                        "marker": {
                          "colorbar": {
                            "outlinewidth": 0,
                            "ticks": ""
                          }
                        },
                        "type": "scatterternary"
                      }
                    ],
                    "surface": [
                      {
                        "colorbar": {
                          "outlinewidth": 0,
                          "ticks": ""
                        },
                        "colorscale": [
                          [
                            0,
                            "#0d0887"
                          ],
                          [
                            0.1111111111111111,
                            "#46039f"
                          ],
                          [
                            0.2222222222222222,
                            "#7201a8"
                          ],
                          [
                            0.3333333333333333,
                            "#9c179e"
                          ],
                          [
                            0.4444444444444444,
                            "#bd3786"
                          ],
                          [
                            0.5555555555555556,
                            "#d8576b"
                          ],
                          [
                            0.6666666666666666,
                            "#ed7953"
                          ],
                          [
                            0.7777777777777778,
                            "#fb9f3a"
                          ],
                          [
                            0.8888888888888888,
                            "#fdca26"
                          ],
                          [
                            1,
                            "#f0f921"
                          ]
                        ],
                        "type": "surface"
                      }
                    ],
                    "table": [
                      {
                        "cells": {
                          "fill": {
                            "color": "#EBF0F8"
                          },
                          "line": {
                            "color": "white"
                          }
                        },
                        "header": {
                          "fill": {
                            "color": "#C8D4E3"
                          },
                          "line": {
                            "color": "white"
                          }
                        },
                        "type": "table"
                      }
                    ]
                  },
                  "layout": {
                    "annotationdefaults": {
                      "arrowcolor": "#2a3f5f",
                      "arrowhead": 0,
                      "arrowwidth": 1
                    },
                    "autotypenumbers": "strict",
                    "coloraxis": {
                      "colorbar": {
                        "outlinewidth": 0,
                        "ticks": ""
                      }
                    },
                    "colorscale": {
                      "diverging": [
                        [
                          0,
                          "#8e0152"
                        ],
                        [
                          0.1,
                          "#c51b7d"
                        ],
                        [
                          0.2,
                          "#de77ae"
                        ],
                        [
                          0.3,
                          "#f1b6da"
                        ],
                        [
                          0.4,
                          "#fde0ef"
                        ],
                        [
                          0.5,
                          "#f7f7f7"
                        ],
                        [
                          0.6,
                          "#e6f5d0"
                        ],
                        [
                          0.7,
                          "#b8e186"
                        ],
                        [
                          0.8,
                          "#7fbc41"
                        ],
                        [
                          0.9,
                          "#4d9221"
                        ],
                        [
                          1,
                          "#276419"
                        ]
                      ],
                      "sequential": [
                        [
                          0,
                          "#0d0887"
                        ],
                        [
                          0.1111111111111111,
                          "#46039f"
                        ],
                        [
                          0.2222222222222222,
                          "#7201a8"
                        ],
                        [
                          0.3333333333333333,
                          "#9c179e"
                        ],
                        [
                          0.4444444444444444,
                          "#bd3786"
                        ],
                        [
                          0.5555555555555556,
                          "#d8576b"
                        ],
                        [
                          0.6666666666666666,
                          "#ed7953"
                        ],
                        [
                          0.7777777777777778,
                          "#fb9f3a"
                        ],
                        [
                          0.8888888888888888,
                          "#fdca26"
                        ],
                        [
                          1,
                          "#f0f921"
                        ]
                      ],
                      "sequentialminus": [
                        [
                          0,
                          "#0d0887"
                        ],
                        [
                          0.1111111111111111,
                          "#46039f"
                        ],
                        [
                          0.2222222222222222,
                          "#7201a8"
                        ],
                        [
                          0.3333333333333333,
                          "#9c179e"
                        ],
                        [
                          0.4444444444444444,
                          "#bd3786"
                        ],
                        [
                          0.5555555555555556,
                          "#d8576b"
                        ],
                        [
                          0.6666666666666666,
                          "#ed7953"
                        ],
                        [
                          0.7777777777777778,
                          "#fb9f3a"
                        ],
                        [
                          0.8888888888888888,
                          "#fdca26"
                        ],
                        [
                          1,
                          "#f0f921"
                        ]
                      ]
                    },
                    "colorway": [
                      "#636efa",
                      "#EF553B",
                      "#00cc96",
                      "#ab63fa",
                      "#FFA15A",
                      "#19d3f3",
                      "#FF6692",
                      "#B6E880",
                      "#FF97FF",
                      "#FECB52"
                    ],
                    "font": {
                      "color": "#2a3f5f"
                    },
                    "geo": {
                      "bgcolor": "white",
                      "lakecolor": "white",
                      "landcolor": "#E5ECF6",
                      "showlakes": true,
                      "showland": true,
                      "subunitcolor": "white"
                    },
                    "hoverlabel": {
                      "align": "left"
                    },
                    "hovermode": "closest",
                    "mapbox": {
                      "style": "light"
                    },
                    "paper_bgcolor": "white",
                    "plot_bgcolor": "#E5ECF6",
                    "polar": {
                      "angularaxis": {
                        "gridcolor": "white",
                        "linecolor": "white",
                        "ticks": ""
                      },
                      "bgcolor": "#E5ECF6",
                      "radialaxis": {
                        "gridcolor": "white",
                        "linecolor": "white",
                        "ticks": ""
                      }
                    },
                    "scene": {
                      "xaxis": {
                        "backgroundcolor": "#E5ECF6",
                        "gridcolor": "white",
                        "gridwidth": 2,
                        "linecolor": "white",
                        "showbackground": true,
                        "ticks": "",
                        "zerolinecolor": "white"
                      },
                      "yaxis": {
                        "backgroundcolor": "#E5ECF6",
                        "gridcolor": "white",
                        "gridwidth": 2,
                        "linecolor": "white",
                        "showbackground": true,
                        "ticks": "",
                        "zerolinecolor": "white"
                      },
                      "zaxis": {
                        "backgroundcolor": "#E5ECF6",
                        "gridcolor": "white",
                        "gridwidth": 2,
                        "linecolor": "white",
                        "showbackground": true,
                        "ticks": "",
                        "zerolinecolor": "white"
                      }
                    },
                    "shapedefaults": {
                      "line": {
                        "color": "#2a3f5f"
                      }
                    },
                    "ternary": {
                      "aaxis": {
                        "gridcolor": "white",
                        "linecolor": "white",
                        "ticks": ""
                      },
                      "baxis": {
                        "gridcolor": "white",
                        "linecolor": "white",
                        "ticks": ""
                      },
                      "bgcolor": "#E5ECF6",
                      "caxis": {
                        "gridcolor": "white",
                        "linecolor": "white",
                        "ticks": ""
                      }
                    },
                    "title": {
                      "x": 0.05
                    },
                    "xaxis": {
                      "automargin": true,
                      "gridcolor": "white",
                      "linecolor": "white",
                      "ticks": "",
                      "title": {
                        "standoff": 15
                      },
                      "zerolinecolor": "white",
                      "zerolinewidth": 2
                    },
                    "yaxis": {
                      "automargin": true,
                      "gridcolor": "white",
                      "linecolor": "white",
                      "ticks": "",
                      "title": {
                        "standoff": 15
                      },
                      "zerolinecolor": "white",
                      "zerolinewidth": 2
                    }
                  }
                },
                "title": {
                  "text": "Average Volume by Month of BTC"
                }
              }
            },
            "text/html": [
              "<div>            <script src=\"https://cdnjs.cloudflare.com/ajax/libs/mathjax/2.7.5/MathJax.js?config=TeX-AMS-MML_SVG\"></script><script type=\"text/javascript\">if (window.MathJax && window.MathJax.Hub && window.MathJax.Hub.Config) {window.MathJax.Hub.Config({SVG: {font: \"STIX-Web\"}});}</script>                <script type=\"text/javascript\">window.PlotlyConfig = {MathJaxConfig: 'local'};</script>\n",
              "        <script charset=\"utf-8\" src=\"https://cdn.plot.ly/plotly-3.0.1.min.js\"></script>                <div id=\"01f11db6-947d-4287-8030-c430eb684f6e\" class=\"plotly-graph-div\" style=\"height:1000px; width:100%;\"></div>            <script type=\"text/javascript\">                window.PLOTLYENV=window.PLOTLYENV || {};                                if (document.getElementById(\"01f11db6-947d-4287-8030-c430eb684f6e\")) {                    Plotly.newPlot(                        \"01f11db6-947d-4287-8030-c430eb684f6e\",                        [{\"x\":[\"2012-01-01T00:00:00.000000000\",\"2012-02-01T00:00:00.000000000\",\"2012-03-01T00:00:00.000000000\",\"2012-04-01T00:00:00.000000000\",\"2012-05-01T00:00:00.000000000\",\"2012-06-01T00:00:00.000000000\",\"2012-07-01T00:00:00.000000000\",\"2012-08-01T00:00:00.000000000\",\"2012-09-01T00:00:00.000000000\",\"2012-10-01T00:00:00.000000000\",\"2012-11-01T00:00:00.000000000\",\"2012-12-01T00:00:00.000000000\",\"2013-01-01T00:00:00.000000000\",\"2013-02-01T00:00:00.000000000\",\"2013-03-01T00:00:00.000000000\",\"2013-04-01T00:00:00.000000000\",\"2013-05-01T00:00:00.000000000\",\"2013-06-01T00:00:00.000000000\",\"2013-07-01T00:00:00.000000000\",\"2013-08-01T00:00:00.000000000\",\"2013-09-01T00:00:00.000000000\",\"2013-10-01T00:00:00.000000000\",\"2013-11-01T00:00:00.000000000\",\"2013-12-01T00:00:00.000000000\",\"2014-01-01T00:00:00.000000000\",\"2014-02-01T00:00:00.000000000\",\"2014-03-01T00:00:00.000000000\",\"2014-04-01T00:00:00.000000000\",\"2014-05-01T00:00:00.000000000\",\"2014-06-01T00:00:00.000000000\",\"2014-07-01T00:00:00.000000000\",\"2014-08-01T00:00:00.000000000\",\"2014-09-01T00:00:00.000000000\",\"2014-10-01T00:00:00.000000000\",\"2014-11-01T00:00:00.000000000\",\"2014-12-01T00:00:00.000000000\",\"2015-01-01T00:00:00.000000000\",\"2015-02-01T00:00:00.000000000\",\"2015-03-01T00:00:00.000000000\",\"2015-04-01T00:00:00.000000000\",\"2015-05-01T00:00:00.000000000\",\"2015-06-01T00:00:00.000000000\",\"2015-07-01T00:00:00.000000000\",\"2015-08-01T00:00:00.000000000\",\"2015-09-01T00:00:00.000000000\",\"2015-10-01T00:00:00.000000000\",\"2015-11-01T00:00:00.000000000\",\"2015-12-01T00:00:00.000000000\",\"2016-01-01T00:00:00.000000000\",\"2016-02-01T00:00:00.000000000\",\"2016-03-01T00:00:00.000000000\",\"2016-04-01T00:00:00.000000000\",\"2016-05-01T00:00:00.000000000\",\"2016-06-01T00:00:00.000000000\",\"2016-07-01T00:00:00.000000000\",\"2016-08-01T00:00:00.000000000\",\"2016-09-01T00:00:00.000000000\",\"2016-10-01T00:00:00.000000000\",\"2016-11-01T00:00:00.000000000\",\"2016-12-01T00:00:00.000000000\",\"2017-01-01T00:00:00.000000000\",\"2017-02-01T00:00:00.000000000\",\"2017-03-01T00:00:00.000000000\",\"2017-04-01T00:00:00.000000000\",\"2017-05-01T00:00:00.000000000\",\"2017-06-01T00:00:00.000000000\",\"2017-07-01T00:00:00.000000000\",\"2017-08-01T00:00:00.000000000\",\"2017-09-01T00:00:00.000000000\",\"2017-10-01T00:00:00.000000000\",\"2017-11-01T00:00:00.000000000\",\"2017-12-01T00:00:00.000000000\",\"2018-01-01T00:00:00.000000000\",\"2018-02-01T00:00:00.000000000\",\"2018-03-01T00:00:00.000000000\",\"2018-04-01T00:00:00.000000000\",\"2018-05-01T00:00:00.000000000\",\"2018-06-01T00:00:00.000000000\",\"2018-07-01T00:00:00.000000000\",\"2018-08-01T00:00:00.000000000\",\"2018-09-01T00:00:00.000000000\",\"2018-10-01T00:00:00.000000000\",\"2018-11-01T00:00:00.000000000\",\"2018-12-01T00:00:00.000000000\",\"2019-01-01T00:00:00.000000000\",\"2019-02-01T00:00:00.000000000\",\"2019-03-01T00:00:00.000000000\",\"2019-04-01T00:00:00.000000000\",\"2019-05-01T00:00:00.000000000\",\"2019-06-01T00:00:00.000000000\",\"2019-07-01T00:00:00.000000000\",\"2019-08-01T00:00:00.000000000\",\"2019-09-01T00:00:00.000000000\",\"2019-10-01T00:00:00.000000000\",\"2019-11-01T00:00:00.000000000\",\"2019-12-01T00:00:00.000000000\",\"2020-01-01T00:00:00.000000000\",\"2020-02-01T00:00:00.000000000\",\"2020-03-01T00:00:00.000000000\",\"2020-04-01T00:00:00.000000000\",\"2020-05-01T00:00:00.000000000\",\"2020-06-01T00:00:00.000000000\",\"2020-07-01T00:00:00.000000000\",\"2020-08-01T00:00:00.000000000\",\"2020-09-01T00:00:00.000000000\",\"2020-10-01T00:00:00.000000000\",\"2020-11-01T00:00:00.000000000\",\"2020-12-01T00:00:00.000000000\",\"2021-01-01T00:00:00.000000000\",\"2021-02-01T00:00:00.000000000\",\"2021-03-01T00:00:00.000000000\",\"2021-04-01T00:00:00.000000000\",\"2021-05-01T00:00:00.000000000\",\"2021-06-01T00:00:00.000000000\",\"2021-07-01T00:00:00.000000000\",\"2021-08-01T00:00:00.000000000\",\"2021-09-01T00:00:00.000000000\",\"2021-10-01T00:00:00.000000000\",\"2021-11-01T00:00:00.000000000\",\"2021-12-01T00:00:00.000000000\",\"2022-01-01T00:00:00.000000000\",\"2022-02-01T00:00:00.000000000\",\"2022-03-01T00:00:00.000000000\",\"2022-04-01T00:00:00.000000000\",\"2022-05-01T00:00:00.000000000\",\"2022-06-01T00:00:00.000000000\",\"2022-07-01T00:00:00.000000000\",\"2022-08-01T00:00:00.000000000\",\"2022-09-01T00:00:00.000000000\",\"2022-10-01T00:00:00.000000000\",\"2022-11-01T00:00:00.000000000\",\"2022-12-01T00:00:00.000000000\",\"2023-01-01T00:00:00.000000000\",\"2023-02-01T00:00:00.000000000\",\"2023-03-01T00:00:00.000000000\",\"2023-04-01T00:00:00.000000000\",\"2023-05-01T00:00:00.000000000\",\"2023-06-01T00:00:00.000000000\",\"2023-07-01T00:00:00.000000000\",\"2023-08-01T00:00:00.000000000\",\"2023-09-01T00:00:00.000000000\",\"2023-10-01T00:00:00.000000000\",\"2023-11-01T00:00:00.000000000\",\"2023-12-01T00:00:00.000000000\",\"2024-01-01T00:00:00.000000000\",\"2024-02-01T00:00:00.000000000\",\"2024-03-01T00:00:00.000000000\",\"2024-04-01T00:00:00.000000000\",\"2024-05-01T00:00:00.000000000\",\"2024-06-01T00:00:00.000000000\",\"2024-07-01T00:00:00.000000000\",\"2024-08-01T00:00:00.000000000\",\"2024-09-01T00:00:00.000000000\",\"2024-10-01T00:00:00.000000000\",\"2024-11-01T00:00:00.000000000\",\"2024-12-01T00:00:00.000000000\",\"2025-01-01T00:00:00.000000000\",\"2025-02-01T00:00:00.000000000\",\"2025-03-01T00:00:00.000000000\",\"2025-04-01T00:00:00.000000000\",\"2025-05-01T00:00:00.000000000\",\"2025-06-01T00:00:00.000000000\",\"2025-07-01T00:00:00.000000000\"],\"y\":{\"dtype\":\"f8\",\"bdata\":\"JcszkQ1qpz9SoObLRTK9P52zKbHt+sk\\u002fJekgSFFZ2D91DI++kJraP+T+tU6ulfc\\u002fULZRQLkg8j+rj9b2FJf9P0n7ixSX7PQ\\u002fMECjQA67\\u002fT\\u002fvV0Kt3m8AQKdA6j61YQBAhTzlvwNHBkBOfWQg+YMIQHHyE6n3\\u002fA9AHxYtPhEzJECCaoyvDucaQLHIi0p2UxdArJKHI0q9IkCLhmzcOm0dQPUJOA+i+B1AOqrzXzzzK0Dk3YGxuWA2QEdYpjhIXDVA+L2MYIDsI0ADWBvf3UY0QK0qZGMcXyZA4Tm0az7yJ0Cmo7zdoB0bQI+h+TWumxpAQXDpxIA4DUCmNkwkJi4cQF7lHXOjeh9AznLvmrb\\u002fKkDKUF+u2l4kQLvnNv2YZxpAQDMogER5MUDnXaeD2HIhQE5XAPNOqRpAPMWWQm6QF0DMYtihiRoSQLkpk1GYWBVAGEtHdkjjIUCzvbyJdL8iQBj0KH+6WypATAq66WDpL0DjiF4+J400QK6eXTko8CJA6tf+aXXbGUDwMGgrgL8UQBaXdeylMAxAAnF094WLBkDe\\u002fGlAkSYIQGzseIU0nxpADZMAW1ozBUCpy+mqIYwKQDkiXji4CgFA4joaTmoSAkDap0qYb44MQFwhAC7R9A5APIYgRVn5HUDkN8c1ztQUQDM2RYzTuxxAjHWqxJ5eDkAcN2cyda8kQJJNLAiLyiRAGLZ94NPFI0BveE6y+eMgQAj4n+LI\\u002fydAFFeuj4mxIECfS08WZFkmQJjGhqTAXClAMiT2g03PJED7Tcw6k7gsQMEadsTWciVAQhzGciK9IUBVUM6KsEMcQMDBRC16vhZAa8UFMF6mFUCXLV4WHJUVQG\\u002fJWSC1Fg5AaXwqyz8yBUAVuKacFLkfQChcLiO6JSBAzyLqNruAEkApt9uR0SwUQM\\u002fmUKNqgw1AO8\\u002fuVmxIG0DcMWN1t4sgQNwbQ4bP7B5Ahvw2fseqIECYchtRpmgWQBDx2YcvnxNAfdNPYb5fGEDnSMgwMV4RQICbszAkLAdAhji+KBQfEkDxY93rrlwQQJrW6zohmCVAsf4gQma0GkA+hoQMwYshQGJy2F5ifhNAlJuSUWyGEUA6iWs4doQRQFfyewOphxNAbrnZyXxbEECK0GTLZpEaQAiFBEAV5BZAEEWhwYGNJEBr3KIxqMIXQKlw3PtvfQxA8ML1MOTcCUDzRlPmzMoSQKeNyRYeuwpAVyLdE3ni\\u002fD+6RPgWKsr8P2iGmaOy5\\u002fk\\u002fW08uIWpq\\u002fD829tZSEKr6P7uK8uRQwPk\\u002fe4RjetTJ+T9KJt32y8P2P4vIbeb4EvU\\u002f\\u002fmEDF6Ba8D8DuK7Tbx4CQHWTX6eQuwNAFZ2JQbKe+j\\u002fQVCXK4TTxP7prpVnH5fk\\u002fjtsRyBS87T810NtzKEcDQIoiLuXPQvQ\\u002fwEGDtO689z+w3R1fXeX0P\\u002fVhUG4xXgBArVS6Y\\u002fEV9D9UUCIpnkr0P7gi5PC0c\\u002fo\\u002fpDk71HTE7j\\u002fI4DftYLPxP8OjzAkE++4\\u002fgC1VuieY8z9oX9nvMY\\u002fxP3dG3J9u9vI\\u002f41cC4ltx+z\\u002f9OvCNyjj3P8etsC+tdABAQ218ka4s9z8DjAgkhS\\u002fyP016p8nMpvE\\u002fzVUxuTlv9j8RdJG\\u002f1Lv8P+2+yQktF\\u002fM\\u002fWqRiCCQL8j+cMt7afDUEQHHWM5BN\\u002fvY\\u002f63Rtlexw8z\\u002fRjRc15J3yP1NO9+\\u002f3wPM\\u002f4x1+RLUy8j9cO+YZQlfqP28zeKhqXOQ\\u002fZ5E0Jf\\u002fx7z8=\"},\"type\":\"scatter\"}],                        {\"height\":1000,\"showlegend\":true,\"title\":{\"text\":\"Average Volume by Month of BTC\"},\"template\":{\"data\":{\"histogram2dcontour\":[{\"type\":\"histogram2dcontour\",\"colorbar\":{\"outlinewidth\":0,\"ticks\":\"\"},\"colorscale\":[[0.0,\"#0d0887\"],[0.1111111111111111,\"#46039f\"],[0.2222222222222222,\"#7201a8\"],[0.3333333333333333,\"#9c179e\"],[0.4444444444444444,\"#bd3786\"],[0.5555555555555556,\"#d8576b\"],[0.6666666666666666,\"#ed7953\"],[0.7777777777777778,\"#fb9f3a\"],[0.8888888888888888,\"#fdca26\"],[1.0,\"#f0f921\"]]}],\"choropleth\":[{\"type\":\"choropleth\",\"colorbar\":{\"outlinewidth\":0,\"ticks\":\"\"}}],\"histogram2d\":[{\"type\":\"histogram2d\",\"colorbar\":{\"outlinewidth\":0,\"ticks\":\"\"},\"colorscale\":[[0.0,\"#0d0887\"],[0.1111111111111111,\"#46039f\"],[0.2222222222222222,\"#7201a8\"],[0.3333333333333333,\"#9c179e\"],[0.4444444444444444,\"#bd3786\"],[0.5555555555555556,\"#d8576b\"],[0.6666666666666666,\"#ed7953\"],[0.7777777777777778,\"#fb9f3a\"],[0.8888888888888888,\"#fdca26\"],[1.0,\"#f0f921\"]]}],\"heatmap\":[{\"type\":\"heatmap\",\"colorbar\":{\"outlinewidth\":0,\"ticks\":\"\"},\"colorscale\":[[0.0,\"#0d0887\"],[0.1111111111111111,\"#46039f\"],[0.2222222222222222,\"#7201a8\"],[0.3333333333333333,\"#9c179e\"],[0.4444444444444444,\"#bd3786\"],[0.5555555555555556,\"#d8576b\"],[0.6666666666666666,\"#ed7953\"],[0.7777777777777778,\"#fb9f3a\"],[0.8888888888888888,\"#fdca26\"],[1.0,\"#f0f921\"]]}],\"contourcarpet\":[{\"type\":\"contourcarpet\",\"colorbar\":{\"outlinewidth\":0,\"ticks\":\"\"}}],\"contour\":[{\"type\":\"contour\",\"colorbar\":{\"outlinewidth\":0,\"ticks\":\"\"},\"colorscale\":[[0.0,\"#0d0887\"],[0.1111111111111111,\"#46039f\"],[0.2222222222222222,\"#7201a8\"],[0.3333333333333333,\"#9c179e\"],[0.4444444444444444,\"#bd3786\"],[0.5555555555555556,\"#d8576b\"],[0.6666666666666666,\"#ed7953\"],[0.7777777777777778,\"#fb9f3a\"],[0.8888888888888888,\"#fdca26\"],[1.0,\"#f0f921\"]]}],\"surface\":[{\"type\":\"surface\",\"colorbar\":{\"outlinewidth\":0,\"ticks\":\"\"},\"colorscale\":[[0.0,\"#0d0887\"],[0.1111111111111111,\"#46039f\"],[0.2222222222222222,\"#7201a8\"],[0.3333333333333333,\"#9c179e\"],[0.4444444444444444,\"#bd3786\"],[0.5555555555555556,\"#d8576b\"],[0.6666666666666666,\"#ed7953\"],[0.7777777777777778,\"#fb9f3a\"],[0.8888888888888888,\"#fdca26\"],[1.0,\"#f0f921\"]]}],\"mesh3d\":[{\"type\":\"mesh3d\",\"colorbar\":{\"outlinewidth\":0,\"ticks\":\"\"}}],\"scatter\":[{\"fillpattern\":{\"fillmode\":\"overlay\",\"size\":10,\"solidity\":0.2},\"type\":\"scatter\"}],\"parcoords\":[{\"type\":\"parcoords\",\"line\":{\"colorbar\":{\"outlinewidth\":0,\"ticks\":\"\"}}}],\"scatterpolargl\":[{\"type\":\"scatterpolargl\",\"marker\":{\"colorbar\":{\"outlinewidth\":0,\"ticks\":\"\"}}}],\"bar\":[{\"error_x\":{\"color\":\"#2a3f5f\"},\"error_y\":{\"color\":\"#2a3f5f\"},\"marker\":{\"line\":{\"color\":\"#E5ECF6\",\"width\":0.5},\"pattern\":{\"fillmode\":\"overlay\",\"size\":10,\"solidity\":0.2}},\"type\":\"bar\"}],\"scattergeo\":[{\"type\":\"scattergeo\",\"marker\":{\"colorbar\":{\"outlinewidth\":0,\"ticks\":\"\"}}}],\"scatterpolar\":[{\"type\":\"scatterpolar\",\"marker\":{\"colorbar\":{\"outlinewidth\":0,\"ticks\":\"\"}}}],\"histogram\":[{\"marker\":{\"pattern\":{\"fillmode\":\"overlay\",\"size\":10,\"solidity\":0.2}},\"type\":\"histogram\"}],\"scattergl\":[{\"type\":\"scattergl\",\"marker\":{\"colorbar\":{\"outlinewidth\":0,\"ticks\":\"\"}}}],\"scatter3d\":[{\"type\":\"scatter3d\",\"line\":{\"colorbar\":{\"outlinewidth\":0,\"ticks\":\"\"}},\"marker\":{\"colorbar\":{\"outlinewidth\":0,\"ticks\":\"\"}}}],\"scattermap\":[{\"type\":\"scattermap\",\"marker\":{\"colorbar\":{\"outlinewidth\":0,\"ticks\":\"\"}}}],\"scattermapbox\":[{\"type\":\"scattermapbox\",\"marker\":{\"colorbar\":{\"outlinewidth\":0,\"ticks\":\"\"}}}],\"scatterternary\":[{\"type\":\"scatterternary\",\"marker\":{\"colorbar\":{\"outlinewidth\":0,\"ticks\":\"\"}}}],\"scattercarpet\":[{\"type\":\"scattercarpet\",\"marker\":{\"colorbar\":{\"outlinewidth\":0,\"ticks\":\"\"}}}],\"carpet\":[{\"aaxis\":{\"endlinecolor\":\"#2a3f5f\",\"gridcolor\":\"white\",\"linecolor\":\"white\",\"minorgridcolor\":\"white\",\"startlinecolor\":\"#2a3f5f\"},\"baxis\":{\"endlinecolor\":\"#2a3f5f\",\"gridcolor\":\"white\",\"linecolor\":\"white\",\"minorgridcolor\":\"white\",\"startlinecolor\":\"#2a3f5f\"},\"type\":\"carpet\"}],\"table\":[{\"cells\":{\"fill\":{\"color\":\"#EBF0F8\"},\"line\":{\"color\":\"white\"}},\"header\":{\"fill\":{\"color\":\"#C8D4E3\"},\"line\":{\"color\":\"white\"}},\"type\":\"table\"}],\"barpolar\":[{\"marker\":{\"line\":{\"color\":\"#E5ECF6\",\"width\":0.5},\"pattern\":{\"fillmode\":\"overlay\",\"size\":10,\"solidity\":0.2}},\"type\":\"barpolar\"}],\"pie\":[{\"automargin\":true,\"type\":\"pie\"}]},\"layout\":{\"autotypenumbers\":\"strict\",\"colorway\":[\"#636efa\",\"#EF553B\",\"#00cc96\",\"#ab63fa\",\"#FFA15A\",\"#19d3f3\",\"#FF6692\",\"#B6E880\",\"#FF97FF\",\"#FECB52\"],\"font\":{\"color\":\"#2a3f5f\"},\"hovermode\":\"closest\",\"hoverlabel\":{\"align\":\"left\"},\"paper_bgcolor\":\"white\",\"plot_bgcolor\":\"#E5ECF6\",\"polar\":{\"bgcolor\":\"#E5ECF6\",\"angularaxis\":{\"gridcolor\":\"white\",\"linecolor\":\"white\",\"ticks\":\"\"},\"radialaxis\":{\"gridcolor\":\"white\",\"linecolor\":\"white\",\"ticks\":\"\"}},\"ternary\":{\"bgcolor\":\"#E5ECF6\",\"aaxis\":{\"gridcolor\":\"white\",\"linecolor\":\"white\",\"ticks\":\"\"},\"baxis\":{\"gridcolor\":\"white\",\"linecolor\":\"white\",\"ticks\":\"\"},\"caxis\":{\"gridcolor\":\"white\",\"linecolor\":\"white\",\"ticks\":\"\"}},\"coloraxis\":{\"colorbar\":{\"outlinewidth\":0,\"ticks\":\"\"}},\"colorscale\":{\"sequential\":[[0.0,\"#0d0887\"],[0.1111111111111111,\"#46039f\"],[0.2222222222222222,\"#7201a8\"],[0.3333333333333333,\"#9c179e\"],[0.4444444444444444,\"#bd3786\"],[0.5555555555555556,\"#d8576b\"],[0.6666666666666666,\"#ed7953\"],[0.7777777777777778,\"#fb9f3a\"],[0.8888888888888888,\"#fdca26\"],[1.0,\"#f0f921\"]],\"sequentialminus\":[[0.0,\"#0d0887\"],[0.1111111111111111,\"#46039f\"],[0.2222222222222222,\"#7201a8\"],[0.3333333333333333,\"#9c179e\"],[0.4444444444444444,\"#bd3786\"],[0.5555555555555556,\"#d8576b\"],[0.6666666666666666,\"#ed7953\"],[0.7777777777777778,\"#fb9f3a\"],[0.8888888888888888,\"#fdca26\"],[1.0,\"#f0f921\"]],\"diverging\":[[0,\"#8e0152\"],[0.1,\"#c51b7d\"],[0.2,\"#de77ae\"],[0.3,\"#f1b6da\"],[0.4,\"#fde0ef\"],[0.5,\"#f7f7f7\"],[0.6,\"#e6f5d0\"],[0.7,\"#b8e186\"],[0.8,\"#7fbc41\"],[0.9,\"#4d9221\"],[1,\"#276419\"]]},\"xaxis\":{\"gridcolor\":\"white\",\"linecolor\":\"white\",\"ticks\":\"\",\"title\":{\"standoff\":15},\"zerolinecolor\":\"white\",\"automargin\":true,\"zerolinewidth\":2},\"yaxis\":{\"gridcolor\":\"white\",\"linecolor\":\"white\",\"ticks\":\"\",\"title\":{\"standoff\":15},\"zerolinecolor\":\"white\",\"automargin\":true,\"zerolinewidth\":2},\"scene\":{\"xaxis\":{\"backgroundcolor\":\"#E5ECF6\",\"gridcolor\":\"white\",\"linecolor\":\"white\",\"showbackground\":true,\"ticks\":\"\",\"zerolinecolor\":\"white\",\"gridwidth\":2},\"yaxis\":{\"backgroundcolor\":\"#E5ECF6\",\"gridcolor\":\"white\",\"linecolor\":\"white\",\"showbackground\":true,\"ticks\":\"\",\"zerolinecolor\":\"white\",\"gridwidth\":2},\"zaxis\":{\"backgroundcolor\":\"#E5ECF6\",\"gridcolor\":\"white\",\"linecolor\":\"white\",\"showbackground\":true,\"ticks\":\"\",\"zerolinecolor\":\"white\",\"gridwidth\":2}},\"shapedefaults\":{\"line\":{\"color\":\"#2a3f5f\"}},\"annotationdefaults\":{\"arrowcolor\":\"#2a3f5f\",\"arrowhead\":0,\"arrowwidth\":1},\"geo\":{\"bgcolor\":\"white\",\"landcolor\":\"#E5ECF6\",\"subunitcolor\":\"white\",\"showland\":true,\"showlakes\":true,\"lakecolor\":\"white\"},\"title\":{\"x\":0.05},\"mapbox\":{\"style\":\"light\"}}}},                        {\"responsive\": true}                    ).then(function(){\n",
              "                            \n",
              "var gd = document.getElementById('01f11db6-947d-4287-8030-c430eb684f6e');\n",
              "var x = new MutationObserver(function (mutations, observer) {{\n",
              "        var display = window.getComputedStyle(gd).display;\n",
              "        if (!display || display === 'none') {{\n",
              "            console.log([gd, 'removed!']);\n",
              "            Plotly.purge(gd);\n",
              "            observer.disconnect();\n",
              "        }}\n",
              "}});\n",
              "\n",
              "// Listen for the removal of the full notebook cells\n",
              "var notebookContainer = gd.closest('#notebook-container');\n",
              "if (notebookContainer) {{\n",
              "    x.observe(notebookContainer, {childList: true});\n",
              "}}\n",
              "\n",
              "// Listen for the clearing of the current output cell\n",
              "var outputEl = gd.closest('.output');\n",
              "if (outputEl) {{\n",
              "    x.observe(outputEl, {childList: true});\n",
              "}}\n",
              "\n",
              "                        })                };            </script>        </div>"
            ]
          },
          "metadata": {},
          "output_type": "display_data"
        }
      ],
      "source": [
        "# PLOTTING OF THE MEAN VOLUME BY MONTH\n",
        "mean_vol_trac = {\n",
        "    \"x\": stats_dfp.Date,\n",
        "    \"y\": stats_dfp[\"Mean_Vol\"],\n",
        "}\n",
        "\n",
        "layout = {\n",
        "  \"height\":1000,\n",
        "  \"showlegend\": True,\n",
        "  \"title\": \"Average Volume by Month of BTC\",\n",
        "}\n",
        "\n",
        "fig = go.Figure(data=[mean_vol_trac], layout=layout)\n",
        "fig.show()"
      ]
    },
    {
      "cell_type": "markdown",
      "metadata": {
        "id": "E1XHlwrvVXp-"
      },
      "source": [
        "###  <strong> Exercise 12 </strong> - Compute the statistics using Pyspark\n",
        "\n",
        "\n",
        "<p align=\"justify\">\n",
        "<font size=\"3\">\n",
        "We want to calculate the statistics of the bitcoin as we did before but using Pandas.\n",
        "\n",
        "The steps will be:\n",
        "<ul>\n",
        "     <li>   import data from Parquet in a Spark DataFrame </li>\n",
        "     <li>   remove null values </li>\n",
        "     <li>   perform the aggregation of the results </li>\n",
        "     <li>   convert the results to Pandas </li>\n",
        "\n",
        "</ul>\n",
        "\n",
        "\n",
        "    \n",
        "</font>\n",
        "</p>"
      ]
    },
    {
      "cell_type": "code",
      "execution_count": 36,
      "metadata": {
        "id": "zcS4_jawVXp_"
      },
      "outputs": [
        {
          "name": "stdout",
          "output_type": "stream",
          "text": [
            "CPU times: user 7.77 ms, sys: 4.23 ms, total: 12 ms\n",
            "Wall time: 885 ms\n"
          ]
        },
        {
          "name": "stderr",
          "output_type": "stream",
          "text": [
            "                                                                                \r"
          ]
        },
        {
          "data": {
            "text/html": [
              "<div>\n",
              "<style scoped>\n",
              "    .dataframe tbody tr th:only-of-type {\n",
              "        vertical-align: middle;\n",
              "    }\n",
              "\n",
              "    .dataframe tbody tr th {\n",
              "        vertical-align: top;\n",
              "    }\n",
              "\n",
              "    .dataframe thead th {\n",
              "        text-align: right;\n",
              "    }\n",
              "</style>\n",
              "<table border=\"1\" class=\"dataframe\">\n",
              "  <thead>\n",
              "    <tr style=\"text-align: right;\">\n",
              "      <th></th>\n",
              "      <th>Year</th>\n",
              "      <th>Month</th>\n",
              "      <th>Min_Vol</th>\n",
              "      <th>Max_Vol</th>\n",
              "      <th>Mean_Vol</th>\n",
              "      <th>Std_Vol</th>\n",
              "      <th>Date</th>\n",
              "    </tr>\n",
              "  </thead>\n",
              "  <tbody>\n",
              "    <tr>\n",
              "      <th>158</th>\n",
              "      <td>2012</td>\n",
              "      <td>1</td>\n",
              "      <td>0.0</td>\n",
              "      <td>43.312196</td>\n",
              "      <td>0.045731</td>\n",
              "      <td>0.836062</td>\n",
              "      <td>2012-01-01</td>\n",
              "    </tr>\n",
              "    <tr>\n",
              "      <th>159</th>\n",
              "      <td>2012</td>\n",
              "      <td>2</td>\n",
              "      <td>0.0</td>\n",
              "      <td>92.654874</td>\n",
              "      <td>0.114048</td>\n",
              "      <td>1.697511</td>\n",
              "      <td>2012-02-01</td>\n",
              "    </tr>\n",
              "    <tr>\n",
              "      <th>160</th>\n",
              "      <td>2012</td>\n",
              "      <td>3</td>\n",
              "      <td>0.0</td>\n",
              "      <td>247.560124</td>\n",
              "      <td>0.202970</td>\n",
              "      <td>3.518784</td>\n",
              "      <td>2012-03-01</td>\n",
              "    </tr>\n",
              "    <tr>\n",
              "      <th>154</th>\n",
              "      <td>2012</td>\n",
              "      <td>4</td>\n",
              "      <td>0.0</td>\n",
              "      <td>300.516098</td>\n",
              "      <td>0.380452</td>\n",
              "      <td>5.602053</td>\n",
              "      <td>2012-04-01</td>\n",
              "    </tr>\n",
              "    <tr>\n",
              "      <th>161</th>\n",
              "      <td>2012</td>\n",
              "      <td>5</td>\n",
              "      <td>0.0</td>\n",
              "      <td>384.988000</td>\n",
              "      <td>0.415684</td>\n",
              "      <td>5.743854</td>\n",
              "      <td>2012-05-01</td>\n",
              "    </tr>\n",
              "    <tr>\n",
              "      <th>...</th>\n",
              "      <td>...</td>\n",
              "      <td>...</td>\n",
              "      <td>...</td>\n",
              "      <td>...</td>\n",
              "      <td>...</td>\n",
              "      <td>...</td>\n",
              "      <td>...</td>\n",
              "    </tr>\n",
              "    <tr>\n",
              "      <th>72</th>\n",
              "      <td>2025</td>\n",
              "      <td>3</td>\n",
              "      <td>0.0</td>\n",
              "      <td>137.016185</td>\n",
              "      <td>1.234611</td>\n",
              "      <td>4.228104</td>\n",
              "      <td>2025-03-01</td>\n",
              "    </tr>\n",
              "    <tr>\n",
              "      <th>77</th>\n",
              "      <td>2025</td>\n",
              "      <td>4</td>\n",
              "      <td>0.0</td>\n",
              "      <td>116.672235</td>\n",
              "      <td>1.137380</td>\n",
              "      <td>3.744627</td>\n",
              "      <td>2025-04-01</td>\n",
              "    </tr>\n",
              "    <tr>\n",
              "      <th>51</th>\n",
              "      <td>2025</td>\n",
              "      <td>5</td>\n",
              "      <td>0.0</td>\n",
              "      <td>82.260283</td>\n",
              "      <td>0.823152</td>\n",
              "      <td>2.669474</td>\n",
              "      <td>2025-05-01</td>\n",
              "    </tr>\n",
              "    <tr>\n",
              "      <th>84</th>\n",
              "      <td>2025</td>\n",
              "      <td>6</td>\n",
              "      <td>0.0</td>\n",
              "      <td>59.014533</td>\n",
              "      <td>0.636281</td>\n",
              "      <td>2.119212</td>\n",
              "      <td>2025-06-01</td>\n",
              "    </tr>\n",
              "    <tr>\n",
              "      <th>124</th>\n",
              "      <td>2025</td>\n",
              "      <td>7</td>\n",
              "      <td>0.0</td>\n",
              "      <td>122.751398</td>\n",
              "      <td>0.998291</td>\n",
              "      <td>3.334322</td>\n",
              "      <td>2025-07-01</td>\n",
              "    </tr>\n",
              "  </tbody>\n",
              "</table>\n",
              "<p>163 rows × 7 columns</p>\n",
              "</div>"
            ],
            "text/plain": [
              "     Year  Month  Min_Vol     Max_Vol  Mean_Vol   Std_Vol       Date\n",
              "158  2012      1      0.0   43.312196  0.045731  0.836062 2012-01-01\n",
              "159  2012      2      0.0   92.654874  0.114048  1.697511 2012-02-01\n",
              "160  2012      3      0.0  247.560124  0.202970  3.518784 2012-03-01\n",
              "154  2012      4      0.0  300.516098  0.380452  5.602053 2012-04-01\n",
              "161  2012      5      0.0  384.988000  0.415684  5.743854 2012-05-01\n",
              "..    ...    ...      ...         ...       ...       ...        ...\n",
              "72   2025      3      0.0  137.016185  1.234611  4.228104 2025-03-01\n",
              "77   2025      4      0.0  116.672235  1.137380  3.744627 2025-04-01\n",
              "51   2025      5      0.0   82.260283  0.823152  2.669474 2025-05-01\n",
              "84   2025      6      0.0   59.014533  0.636281  2.119212 2025-06-01\n",
              "124  2025      7      0.0  122.751398  0.998291  3.334322 2025-07-01\n",
              "\n",
              "[163 rows x 7 columns]"
            ]
          },
          "execution_count": 36,
          "metadata": {},
          "output_type": "execute_result"
        }
      ],
      "source": [
        "%%time\n",
        "# solution to compute the statistics using pyspark function\n",
        "\n",
        "from pyspark.sql.functions import min, max, mean, stddev\n",
        "\n",
        "\n",
        "# full spark dataframe (recall exercise 8a)\n",
        "df_spark = spark.read.parquet(\"BTC/\")\n",
        "\n",
        "# the na drop is important to be able to compute properly the stats\n",
        "# look at the documentation of the na.drop function\n",
        "group_ym = df_spark.na.drop().select([\"Volume_BTC\",\"Year\",\"Month\"]).groupBy([\"Year\",\"Month\"])\n",
        "\n",
        "#'''############## WRITE YOUR ANSWER HERE ##############'''\n",
        "\n",
        "\n",
        "# aggregation\n",
        "# notice that the argument of the agg function is strictly related to min Vol, max Vol, mean, and stddev.\n",
        "res_df = group_ym.agg(\n",
        "    min(\"Volume_BTC\").alias(\"Min_Vol\"),\n",
        "    max(\"Volume_BTC\").alias(\"Max_Vol\"),\n",
        "    mean(\"Volume_BTC\").alias(\"Mean_Vol\"),\n",
        "    stddev(\"Volume_BTC\").alias(\"Std_Vol\"))\n",
        "\n",
        "\n",
        "#conversion the results to pandas\n",
        "stats_dfs = res_df.toPandas()\n",
        "\n",
        "#'''############## END OF THE EXERCISE ##############'''\n",
        "\n",
        "stats_dfs = get_date_from_year_month(stats_dfs)\n",
        "stats_dfs.sort_values(by = 'Date',inplace = True)\n",
        "stats_dfs"
      ]
    },
    {
      "cell_type": "markdown",
      "metadata": {
        "id": "IAzvUAQJVXp_"
      },
      "source": [
        "### Extra. Equivalence of results\n",
        "\n",
        "\n",
        "\n",
        "<p align=\"justify\">\n",
        "<font size=\"3\">\n",
        "Now that you have seen the two procedures to get the results you must compare the outputs:\n",
        "<ul>\n",
        "     <li>   verify if the pandas dataframe from applyInPandas and PySpark functions are equivalents (look at the documentation to find the function that asserts if two DataFrames are equals) </li>\n",
        "         <li> compare the processing time between applyInPandas and PySpark routine with functions (that we have visualised with the %%time function) and comment them.</li>\n",
        "\n",
        "</ul>\n",
        "\n",
        "\n",
        "    \n",
        "</font>\n",
        "</p>\n",
        "\n"
      ]
    },
    {
      "cell_type": "code",
      "execution_count": 37,
      "metadata": {
        "id": "4lngxwISVXp_"
      },
      "outputs": [
        {
          "name": "stdout",
          "output_type": "stream",
          "text": [
            "Les DataFrames sont équivalents.\n"
          ]
        }
      ],
      "source": [
        "# verify if the pandas dataframe from applyInPands and PySpark functions are equivalents\n",
        "# compare the processing time between applyInPandas and PySpark function\n",
        "cols = ['Mean_Vol', 'Std_Vol', 'Min_Vol', 'Max_Vol', 'Year', 'Month', 'Date']\n",
        "\n",
        "#'''############## WRITE YOUR ANSWER HERE ##############'''\n",
        "# comment about time execution and draw your considerations\n",
        "\n",
        "import pandas as pd\n",
        "\n",
        "# Tri, reset, arrondi\n",
        "stats_dfp = stats_dfp.sort_values(by='Date').reset_index(drop=True).round(6)\n",
        "stats_dfs = stats_dfs.sort_values(by='Date').reset_index(drop=True).round(6)\n",
        "\n",
        "# Vérification d'équivalence (ignore l'ordre des colonnes par sécurité)\n",
        "try:\n",
        "    pd.testing.assert_frame_equal(\n",
        "        stats_dfp,\n",
        "        stats_dfs,\n",
        "        check_like=True\n",
        "    )\n",
        "    print(\"Les DataFrames sont équivalents.\")\n",
        "except AssertionError as e:\n",
        "    print(\"Les DataFrames sont différents.\")\n",
        "    print(e)\n",
        "\n",
        "#'''############## END OF THE EXERCISE ##############''\n"
      ]
    },
    {
      "cell_type": "markdown",
      "metadata": {
        "id": "nSw_cXcmVXqA"
      },
      "source": [
        "### Extra - Plotting the financial data\n",
        "\n",
        "\n",
        "\n",
        "<p align=\"justify\">\n",
        "<font size=\"3\">\n",
        "Now that you have seen some examples you can draw your graphs:\n",
        "<ul>\n",
        "     <li>   filter the global data frame fron Parquet and take only the first day of the year 2021 </li>\n",
        "         <li> convert it to a pandas dataframe </li>\n",
        "         <li>    display the data using the $plot_candlestick$ routine </li>\n",
        "\n",
        "</ul>\n",
        "\n",
        "\n",
        "    \n",
        "</font>\n",
        "</p>\n",
        "\n"
      ]
    },
    {
      "cell_type": "code",
      "execution_count": 38,
      "metadata": {
        "id": "R05figbfVXqA"
      },
      "outputs": [],
      "source": [
        "#this function helps you to display the candlestick ( representation of financial data) of the pandas dataframe\n",
        "\n",
        "def plot_candlestick(df):\n",
        "    trace = {\n",
        "      \"x\": df.Date_Time,\n",
        "      \"close\": dfp[\"Open\"],\n",
        "      \"decreasing\": {\"line\": {\"color\": \"#008000\"}},\n",
        "      \"high\":df[\"High\"] ,\n",
        "      \"increasing\": {\"line\": {\"color\": \"#db4052\"}},\n",
        "      \"low\": df[\"Low\"],\n",
        "      \"name\": \"BTC\",\n",
        "      \"open\": df[\"Close\"],\n",
        "      \"type\": \"candlestick\"\n",
        "    }\n",
        "\n",
        "    layout = {\n",
        "      \"height\":1000,\n",
        "      \"showlegend\": True,\n",
        "      \"title\": \"Technical Analysis\",\n",
        "    }\n",
        "\n",
        "    fig = go.Figure(data=[trace], layout=layout)\n",
        "    fig.show()"
      ]
    },
    {
      "cell_type": "code",
      "execution_count": 39,
      "metadata": {
        "id": "hu81JTxBVXqA"
      },
      "outputs": [],
      "source": [
        "# Exercise filter the spark dataframe by date\n",
        "import datetime as dt\n",
        "\n",
        "\n",
        "#'''############## WRITE YOUR ANSWER HERE ##############'''\n",
        "from pyspark.sql.functions import col\n",
        "from datetime import datetime\n",
        "\n",
        "#read the global dataframe (as usual)\n",
        "df_spark = spark.read.parquet(\"BTC/\")\n",
        "\n",
        "#create the beginning end date\n",
        "beg = datetime(2021, 1, 1)\n",
        "end = datetime(2021, 1, 2)\n",
        "\n",
        "\n",
        "#create the filter\n",
        "df_spark_filtered = df_spark.filter((col(\"Date_Time\") >= beg) & (col(\"Date_Time\") < end))\n",
        "\n",
        "#apply and convert it to pandas\n",
        "dfp = df_spark_filtered.toPandas()\n",
        "\n",
        "#'''############## END OF THE EXERCISE ##############'''\n",
        "\n"
      ]
    },
    {
      "cell_type": "code",
      "execution_count": 40,
      "metadata": {
        "id": "5VQE8mhPVXqB",
        "scrolled": false
      },
      "outputs": [
        {
          "data": {
            "application/vnd.plotly.v1+json": {
              "config": {
                "plotlyServerURL": "https://plot.ly"
              },
              "data": [
                {
                  "close": {
                    "bdata": "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",
                    "dtype": "f8"
                  },
                  "decreasing": {
                    "line": {
                      "color": "#008000"
                    }
                  },
                  "high": {
                    "bdata": "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",
                    "dtype": "f8"
                  },
                  "increasing": {
                    "line": {
                      "color": "#db4052"
                    }
                  },
                  "low": {
                    "bdata": "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",
                    "dtype": "f8"
                  },
                  "name": "BTC",
                  "open": {
                    "bdata": "ZmZmZlbp20ApXI/CZe7bQAAAAABQ5ttACtejcL3k20BmZmZmZuTbQGZmZmZm5NtAj8L1KLzh20B7FK5H4e/bQGZmZmaG9NtAFK5H4cr120AK16NwrfrbQFyPwvXIA9xASOF6FK4B3EB7FK5H8QHcQAAAAADAANxAuB6F62H620DNzMzMDATcQM3MzMwMBdxAFK5H4coF3EBcj8L1CAjcQI/C9Sh8/NtAcT0K1zMS3EBcj8L1qBncQBSuR+GaF9xAXI/C9TgW3EAAAAAA0BbcQM3MzMxcF9xAFK5H4WoT3EDNzMzM7B3cQB+F61FoGtxAj8L1KJwl3EDXo3A9GhjcQJqZmZkJGNxAuB6F64Ec3EA9CtejQCDcQB+F61H4GdxACtejcO0a3ECF61G4Hh3cQK5H4XoEG9xApHA9Clcd3ECuR+F6BBvcQI/C9SjcGNxAKVyPwpUY3EBSuB6FqxrcQOxRuB7VHdxAKVyPwnUe3EAAAAAAECfcQIXrUbgeJtxAmpmZmUkw3EAK16NwvS/cQHE9CtdDMNxAXI/C9cgy3EBxPQrXEzLcQFyPwvW4KdxA4XoUrncx3ECPwvUoLDbcQBSuR+FaONxAhetRuN493EDXo3A9SjrcQIXrUbg+PtxAzczMzEw43EB7FK5H0S/cQKRwPQpXJ9xAH4XrUegh3ECPwvUo7CHcQEjhehQeLdxAFK5H4Ro13EBI4XoUTi3cQK5H4XpULdxAMzMzM1Mx3ECuR+F6RDHcQHE9CtdjNdxAH4XrUTg13EAAAAAAEDTcQAAAAAAAKtxAKVyPwqU03EAfhetRuDHcQGZmZmZGP9xA9ihcj1JB3EDsUbgeVUDcQAAAAADAS9xAMzMzM4NK3EDNzMzMXEzcQHsUrkexTdxAw/UoXH9K3EAzMzMzY0/cQMP1KFwPRdxAuB6F65FG3ECPwvUoHEHcQB+F61EYTtxArkfhepRU3EAK16NwTVbcQOxRuB6lVtxAPQrXo0Bc3ECamZmZGVXcQJqZmZmJVNxA9ihcjwJR3EB7FK5H0VHcQBSuR+F6UdxAcT0K16NS3EBcj8L1iE3cQMP1KFyfUNxACtejcB1J3EDD9ShcX03cQClcj8K1R9xAH4XrUXhK3EAAAAAAwETcQK5H4XpER9xArkfhelRK3EBxPQrXQ1DcQClcj8K1R9xAhetRuI5N3EDNzMzMnFHcQNejcD0qXdxAUrgehbtS3EC4HoXrYUjcQDMzMzMTSdxAXI/C9fg/3ECPwvUorD/cQLgehetBRdxA4XoUrudF3EAUrkfhekjcQHE9CtdzRNxAXI/C9bhG3ECPwvUoPELcQNejcD16QdxAw/UoXO9B3EAfhetROEvcQMP1KFw/TNxA9ihcj/JS3EBSuB6F+1fcQOxRuB5VVdxA7FG4HlVW3EBcj8L12FjcQOxRuB4lW9xA9ihcj5JK3EAUrkfhikncQIXrUbg+TdxAUrgehZtL3EAzMzMz407cQLgehetBStxAj8L1KFxI3ED2KFyPIkbcQLgehetxSdxACtejcP1L3EAfhetRGEzcQAAAAAAgRtxAKVyPwlVI3EAUrkfhGkfcQFyPwvW4SdxAj8L1KMxD3EBI4XoUzkjcQK5H4XrkSNxAPQrXo6BG3EBSuB6Fa0jcQAAAAACATNxAAAAAAIBK3EAAAAAAgFHcQHsUrkehU9xApHA9CodV3EAUrkfhelXcQHsUrkehVdxAw/UoXD9V3EDNzMzM/FbcQAAAAAAAUtxAMzMzM0NS3EDXo3A9alLcQM3MzMxsUdxApHA9CodK3EB7FK5HEU7cQArXo3DdVNxAj8L1KLxb3EDhehSu92rcQAAAAAAAa9xAKVyPwmVp3ECF61G43mrcQKRwPQq3cNxAcT0K19Nz3EAK16NwTXvcQClcj8KVg9xAXI/C9Zh/3ECuR+F6pG3cQOxRuB4lW9xA9ihcj+Jg3ED2KFyP4ljcQEjhehT+UNxACtejcO1T3ECamZmZWVbcQFyPwvV4WdxAFK5H4Wpe3EBmZmZmdmHcQJqZmZkZZ9xAH4XrUQhi3EDhehSuh2XcQMP1KFz/atxAhetRuJ5q3EBxPQrXw27cQEjhehQuedxAj8L1KEx13EDD9Shc74HcQFyPwvX4c9xAH4XrUVh83EB7FK5H8W7cQFyPwvW4dtxAKVyPwkV13EBxPQrXo3LcQOxRuB71fNxAXI/C9Xh33EBSuB6FK3fcQDMzMzNTdtxAzczMzCx93ECF61G4ToTcQFK4HoVbgtxArkfheoSC3EDD9Shcv4PcQAAAAACwdNxA9ihcj8Jy3EAUrkfhamfcQD0K16NQaNxAexSuR1Fj3EBI4XoUDm3cQJqZmZnJbdxAj8L1KJxq3EAUrkfh+mncQI/C9SgcZNxA9ihcj9Jg3EBmZmZmRlzcQBSuR+GaXNxASOF6FK5Z3EAAAAAAoFncQOxRuB7VcNxA4XoUrpdp3EBmZmZmRmrcQOF6FK7HY9xAKVyPwhVg3ECamZmZqWPcQDMzMzODXdxAj8L1KLxO3ECamZmZeVfcQFK4HoULUNxA9ihcjyJb3ECPwvUovGDcQD0K16PAZNxAUrgehQti3EAK16NwvVXcQPYoXI9CWtxA9ihcj4JJ3EB7FK5HAUXcQIXrUbjOTtxArkfhegRT3EAAAAAAAFLcQAAAAACwVNxAzczMzExa3EApXI/CNWjcQPYoXI+SZtxAw/UoXL9q3ECamZmZOW3cQEjhehRebtxA16NwPapp3EBmZmZmZm3cQD0K16PAadxAmpmZmXlt3EBI4XoUPm7cQDMzMzNzcNxAMzMzM1N13EAAAAAAgHbcQOF6FK6Hc9xAAAAAADB53EB7FK5HkXPcQBSuR+Hqa9xAAAAAAABr3EAK16NwHWncQAAAAAAAa9xAj8L1KKxw3EBmZmZmRnPcQJqZmZkpedxAAAAAADB53EC4HoXr4XfcQM3MzMycgdxAw/UoXE953ECPwvUoPHbcQB+F61GYf9xAw/UoXK9/3ECkcD0Kd3rcQPYoXI9CfNxAhetRuG5/3EB7FK5HMXLcQK5H4Xo0ctxAexSuR+F53EB7FK5H4XncQNejcD1qe9xAcT0K1+N43ED2KFyPQnncQGZmZmaWeNxAhetRuO523ED2KFyP0nfcQAAAAAAgfNxAexSuR4F73EBI4XoUDoDcQHE9CtcjdtxASOF6FJ5n3ECPwvUoDFrcQMP1KFzfWdxAmpmZmYlf3ECF61G4HmfcQFK4HoVLZdxA9ihcj1Jg3ECF61G4jmXcQAAAAAAAa9xAhetRuB5n3EAAAAAAAGvcQGZmZmYGbtxApHA9Cjd03EAAAAAAYG/cQFK4HoWbc9xAAAAAAEBx3EA9Ctej4G/cQDMzMzPjdNxAzczMzHxx3EAAAAAAQHfcQJqZmZkpedxApHA9Cvdo3EBSuB6F62DcQKRwPQrXYtxAFK5H4dpj3EDhehSud17cQClcj8KlXNxAzczMzOxW3ED2KFyPclvcQHE9CtezYdxAhetRuI5R3EDNzMzM3FncQM3MzMxcVdxASOF6FD5c3EA9CtejkFvcQFyPwvVIWNxAKVyPwmVe3EAAAAAAAFLcQGZmZmZGVtxAKVyPwqVe3EC4HoXroVzcQI/C9SgMYNxAUrgehetY3EC4HoXrYVHcQOxRuB4lOtxAzczMzJw43EAfhetRGEncQD0K16NASNxAw/UoXD9P3ECkcD0K51fcQK5H4XqUVdxApHA9CqdT3EBxPQrXY1fcQD0K16NgXtxAZmZmZgZb3EB7FK5HAV/cQLgehevhW9xA9ihcjzJd3EDhehSuB1LcQPYoXI8yUNxAcT0K15NT3EBI4XoU3mbcQFyPwvX4WtxAH4XrUQhe3ECPwvUoTF3cQAAAAADgUdxApHA9CldR3EBmZmZmlk/cQDMzMzNjQ9xA16NwPWpC3EAfhetRSD/cQClcj8IVNtxAw/UoXM843EA9CtejwCLcQMP1KFyvKNxAzczMzFwm3EApXI/CVTfcQHsUrkchNtxAH4XrUZg43EB7FK5HIT3cQOxRuB71JtxAcT0K1xMt3ECuR+F6VDbcQFyPwvXYPdxAuB6F69E63EBSuB6FG0HcQD0K16MQPtxAUrgehZs83ECuR+F6BDncQOF6FK63O9xAAAAAAIBF3EAK16NwzUDcQArXo3D9RNxA9ihcj7JL3ECuR+F6BEbcQHsUrkfxUdxAUrgehUtS3EBI4XoU7k3cQB+F61HIStxAzczMzJxL3EDD9ShcP1HcQKRwPQqnTtxAcT0K19NP3EA9CtejUFHcQArXo3BNVtxAPQrXo4BM3ECkcD0KF1PcQPYoXI+SV9xA7FG4HsVU3EDsUbge5VfcQArXo3DtV9xAKVyPwmVV3EA9CtejQF7cQGZmZmZmXtxAw/UoXE9a3EDsUbgelVjcQArXo3DdW9xACtejcP1j3EA9CtejAGjcQI/C9Sg8YNxAPQrXo8Bd3ED2KFyPglncQM3MzMw8Y9xAXI/C9Xhf3ED2KFyPQm/cQAAAAADAeNxArkfhehR33ECuR+F6JHPcQPYoXI+SgdxAmpmZmal93EBxPQrXY4TcQArXo3B9kdxA16NwPfqb3EDhehSuJ5vcQNejcD1audxA7FG4HnW/3EA9CtejoLbcQD0K16MgstxAAAAAAACx3ED2KFyPcqTcQMP1KFz/tNxA9ihcj4Ku3ECkcD0KN6rcQK5H4XrUrdxA4XoUruex3EDXo3A9arHcQM3MzMwMqNxAMzMzM8Ot3EDhehSup7bcQDMzMzNzwdxAAAAAAMDN3EDNzMzMXLbcQDMzMzPzvtxAcT0K17O53ED2KFyP8r7cQD0K16Mgt9xAexSuR5HF3ECkcD0KV8zcQEjhehQ+1dxAuB6F6/HD3EBmZmZm9sLcQKRwPQrnwNxA16NwPYq/3EAfhetRmMDcQFyPwvXYttxArkfhehS63EApXI/CZb3cQNejcD2KvtxAPQrXoxC73EAzMzMz88TcQI/C9Shcv9xASOF6FM7B3EB7FK5HEbncQClcj8IVw9xAKVyPwkXD3ECF61G4zsTcQM3MzMy8vdxAPQrXo6DO3EBSuB6FO8ncQOF6FK7HydxA7FG4HqXT3EBI4XoU7tXcQMP1KFw/xtxAw/UoXC/E3EAzMzMzs8PcQNejcD3Kv9xA9ihcjwK93EDXo3A9Kr/cQI/C9ShcvdxAAAAAAIDC3EAAAAAAUMDcQMP1KFwvwNxAFK5H4eq53ECPwvUoXKfcQHE9Ctfzo9xAAAAAAKCu3EA9CtejEKzcQKRwPQrnsdxAZmZmZmay3EA9CtejILvcQFK4HoVbsNxAZmZmZpaw3ED2KFyPMrTcQLgehetxt9xAZmZmZga73EBI4XoULrfcQOF6FK53udxAKVyPwrWw3EDhehSuh6jcQAAAAABAqtxAAAAAAACX3EAAAAAAwJ7cQAAAAACAmNxACtejcP2Z3EBSuB6Fm5ncQI/C9SicoNxAexSuRzGi3EDXo3A9eqHcQM3MzMwcodxA7FG4HjWZ3ECPwvUoXJzcQK5H4XrkjNxAw/UoXB+b3EApXI/CBaPcQAAAAACwpNxAj8L1KDym3EDsUbgedabcQB+F61F4o9xAXI/C9Yir3EDXo3A9arTcQDMzMzMjrtxAKVyPwiWk3ECamZmZaaPcQHsUrkfBmdxAAAAAAPCP3EDNzMzMzI/cQOxRuB51k9xAZmZmZtaT3ECamZmZOY7cQOxRuB5VkNxA4XoUroeX3EBxPQrXQ5ncQJqZmZnJl9xAzczMzGyb3ECPwvUoXKDcQJqZmZkpoNxApHA9Cneh3EAAAAAA8J/cQM3MzMxsm9xAH4XrUXii3ECkcD0KN6TcQOF6FK4HqNxACtejcI2m3EAfhetRCKncQGZmZmYGpNxAzczMzEyw3EB7FK5HEaXcQGZmZmYGpNxAH4XrUYif3EApXI/CJZ7cQK5H4Xp0m9xAH4XrUWih3ECuR+F6BJrcQLgehevBl9xAzczMzAyg3ECF61G43p/cQMP1KFxfkdxAuB6F65GN3ECF61G4HpHcQIXrUbjOmdxAj8L1KIyS3ED2KFyPApfcQPYoXI+yndxASOF6FH6c3EBmZmZmxprcQDMzMzNzn9xAj8L1KByk3EC4HoXrYaPcQBSuR+Fqm9xAFK5H4Qqe3EDD9Shc/7XcQJqZmZkZttxA7FG4HjWv3EB7FK5HsavcQFK4HoXLqdxAuB6F67Gm3EAUrkfhmqbcQOF6FK5npdxAMzMzM8Or3EBxPQrXU6jcQPYoXI9yodxAj8L1KHyh3EC4HoXr0aTcQGZmZmbGqtxAPQrXozCz3EDsUbgeVbDcQK5H4XpEs9xACtejcD2w3EAAAAAAAK3cQB+F61FoqNxAKVyPwpWy3EA9Ctej4LfcQIXrUbh+s9xAmpmZmfmw3EAUrkfhiq7cQOxRuB51rdxA7FG4HnWv3EB7FK5H4bLcQD0K16MQsNxAhetRuD6v3EDD9ShcP7TcQAAAAACwstxAuB6F67Gu3EC4HoXrEbLcQM3MzMwMqdxAmpmZmWm53EApXI/Chb3cQM3MzMzcudxAUrgehSu+3EDsUbgeVcDcQFyPwvWYvNxA4XoUrge53EAzMzMzw7/cQClcj8KVttxAUrgeheu93EAfhetRWL3cQM3MzMx8vtxApHA9Che73EBSuB6FS77cQHE9Ctezt9xA4XoUrie63EBmZmZmlqvcQClcj8LlrtxAMzMzM7Of3EAzMzMzg6DcQOxRuB71m9xAuB6F61Gb3ECamZmZCZzcQI/C9SjslNxAPQrXo2CV3EAAAAAAAJPcQMP1KFzvgdxASOF6FD6K3EAUrkfh+o7cQLgeheshkdxAFK5H4TqR3EDsUbgeRZLcQNejcD0amtxAmpmZmRmV3EBI4XoUzpHcQDMzMzMDmtxAAAAAABCW3EBcj8L1OJncQClcj8JVmNxApHA9CheZ3EAzMzMzI5ncQK5H4XrEmtxA4XoUrmeV3EBI4XoU/pvcQB+F61GYmtxA4XoUroeX3EBcj8L12JbcQFyPwvVIj9xAFK5H4aqH3ECuR+F6dIrcQOxRuB7ljNxAKVyPwsWP3EDD9Shc74rcQIXrUbhugNxAXI/C9Zh83ECkcD0KZ3/cQHE9CtcjgNxAPQrXo8CA3ECamZmZ+XvcQLgehevRgNxAAAAAAHCH3ECkcD0K54XcQMP1KFxfh9xAXI/C9UiE3EBSuB6F+4ncQHE9CtdzhtxA4XoUrieH3ECkcD0Kx4bcQD0K16MghdxA7FG4HqWJ3EB7FK5HUY3cQHsUrkdxjdxApHA9CteH3EAK16Nw3YfcQGZmZmbWitxAuB6F61GI3ECamZmZaY3cQLgehetRi9xA16NwPVqD3EBmZmZmpoTcQIXrUbgOgNxArkfhenSE3EBI4XoUnoXcQB+F61E4lNxAzczMzIyR3EAUrkfhOovcQNejcD26idxACtejcG2S3EBxPQrX847cQK5H4Xp0jdxAcT0K1xON3EDD9Shcb47cQHE9CtfTjNxAMzMzM2OU3EDsUbgehZDcQFK4HoXrkdxAzczMzNyJ3EDD9Shc/4fcQFK4HoW7g9xAuB6F6yGG3EDhehSud4vcQEjhehRuhNxAH4XrUViJ3EDsUbgelY/cQGZmZmaGjtxAH4XrUWiT3EBmZmZm9pXcQAAAAADAldxAexSuR3Gc3EAK16NwrZ/cQAAAAADAndxACtejcL2e3EB7FK5HMZrcQD0K16NAmtxAw/UoXM+T3EBmZmZmRpjcQBSuR+EaltxAhetRuD6X3EBcj8L1eJTcQPYoXI+SltxA4XoUroeT3ECPwvUoPJXcQLgehesBjNxAhetRuF6O3ECkcD0K14fcQHsUrkdhkNxAmpmZmWmQ3ECamZmZaZDcQM3MzMwMh9xAPQrXo5CM3EAfhetRaIXcQAAAAAAAhNxA16NwPRqF3EAAAAAAAITcQD0K16MggNxAZmZmZqaJ3EA9CtejcIbcQK5H4XqEhtxAXI/C9Sh93EAfhetRSIbcQKRwPQrnjNxAUrgehcuN3EDNzMzM7IrcQB+F61HojNxAKVyPwmWJ3EBmZmZmRorcQArXo3B9i9xAuB6F60GM3EAzMzMzA5HcQAAAAAAQkdxAAAAAAJCP3ECF61G4Lo/cQClcj8KViNxAZmZmZqaP3EBI4XoU7ozcQGZmZmaGiNxAcT0K18OI3EAfhetRCIncQHE9CtcjidxArkfhevR83ECuR+F6JIPcQKRwPQpngdxAMzMzMwOH3ECamZmZ2YfcQPYoXI9ij9xAPQrXo8CH3EDXo3A9qpDcQGZmZmZmkdxAZmZmZnaL3EDNzMzMDI/cQI/C9Si8hNxAzczMzEyC3EAfhetR+HzcQClcj8JladxArkfhevRs3EDXo3A9OlHcQAAAAAAAXtxAhetRuL5Z3ED2KFyP0l/cQClcj8KFUtxA16NwPTpe3EDNzMzMrFfcQJqZmZm5Z9xAXI/C9fhq3EC4HoXrIWjcQFK4HoWLY9xAcT0K1+Nh3EA9CtejYGXcQB+F61G4YtxAhetRuF5r3EDXo3A96mzcQD0K16OQadxA9ihcj8Jj3EBSuB6FW2vcQFK4HoX7ZdxA4XoUrgdp3ECPwvUonGbcQJqZmZl5bNxAAAAAAHBw3EBmZmZmdnDcQGZmZmZ2cNxAPQrXoyB23ECuR+F6pHTcQI/C9Sj8dNxA4XoUrhd33ECamZmZKXjcQGZmZmbmetxA9ihcj7J+3EBcj8L1WHrcQIXrUbgOetxAXI/C9Xh63ECF61G4XnbcQClcj8K1d9xAAAAAACB13ED2KFyPgnncQAAAAACAftxArkfheiR83EBcj8L1qH/cQDMzMzNTe9xAMzMzM1N73EDD9ShcP3rcQFK4HoV7ftxA4XoUrgeA3EAUrkfhSn3cQBSuR+FKfdxAPQrXo7CF3ECamZmZ2Y/cQArXo3CtgdxAAAAAAECE3EDNzMzMnH3cQPYoXI/ifdxAPQrXo5B03EBcj8L1+G7cQAAAAADgbNxA16NwPbpv3EA9Ctej8GvcQM3MzMzcbdxA9ihcj+Jk3EB7FK5HoWjcQBSuR+EqYtxAKVyPwkVf3EAzMzMzs1jcQDMzMzOjX9xACtejcE1W3EAUrkfhmlHcQI/C9SicTdxAXI/C9chP3EBI4XoU7lncQD0K16NQXdxACtejcG1l3EBI4XoUPlzcQOxRuB41YtxAXI/C9Xht3EBSuB6FS2zcQFK4HoVLbNxACtejcF1w3EAAAAAAMHncQEjhehTueNxASOF6FP5+3ED2KFyP4n/cQPYoXI8CdtxA7FG4HoVw3EBSuB6Fe2/cQB+F61H4b9xAXI/C9Th33ECkcD0KB3rcQClcj8LVcNxAXI/C9Xht3EAK16Nw/V7cQOxRuB61W9xAPQrXo8BW3ECuR+F6BGDcQK5H4XoEZNxACtejcA1t3EB7FK5HEWfcQOxRuB71bNxACtejcB1t3EDXo3A9qmvcQPYoXI8ScdxAAAAAAKBs3EBSuB6Fq3XcQOF6FK4XddxAAAAAAEBx3ECPwvUo/HTcQM3MzMxMZdxACtejcJ1q3EB7FK5HYWzcQMP1KFx/d9xAFK5H4Xp23EBmZmZmJnzcQAAAAACAd9xA9ihcj3J83EC4HoXrgXzcQAAAAACwedxAH4XrUYh33EAAAAAAgHfcQArXo3Bdd9xAFK5H4WqA3EC4HoXrwYjcQAAAAADwgdxAj8L1KNyC3EB7FK5HAYXcQDMzMzOzg9xAAAAAAACE3EDXo3A9yoTcQEjhehQujNxAH4XrUaiO3ECamZmZCZDcQBSuR+E6jNxArkfhetSM3EApXI/CRZLcQOF6FK7XldxAexSuR3Gc3EAK16NwXZfcQLgehetBk9xArkfhevSY3EC4HoXrAaDcQEjhehR+oNxASOF6FB6i3EDXo3A9CqjcQHE9Ctcjp9xAAAAAAICp3EAK16Nw3bLcQLgeheuxsNxAuB6F6wGn3EAAAAAAAKfcQAAAAAAAp9xAH4XrUQij3EA9Ctej4KDcQNejcD3KntxAMzMzM2Ok3EAAAAAA4KHcQDMzMzNjpNxAH4XrUcim3ECPwvUobKTcQPYoXI8CotxAj8L1KFyh3EDNzMzMvJ7cQAAAAAAQnNxAuB6F63GX3EDD9Shc/5zcQM3MzMycldxACtejcL2Y3EApXI/CxZvcQOF6FK6nmNxAcT0K10OX3EAfhetRqJLcQClcj8LVnNxAuB6F63Gf3EAK16NwvZ7cQBSuR+Eqk9xArkfheoSP3ECF61G4jpTcQIXrUbiOlNxArkfhemSe3EAzMzMzo7bcQPYoXI/ir9xAMzMzM1Or3ECamZmZyafcQK5H4XpEptxAZmZmZsau3ECPwvUonKrcQHE9Ctczr9xAuB6F65Gq3EC4HoXrMazcQEjhehQuqNxAKVyPwmWl3EDsUbgexZ7cQIXrUbh+n9xA16NwPQqe3EB7FK5HgaHcQFK4HoW7n9xAhetRuK6f3ECF61G4zqncQAAAAAAAndxArkfhevSf3ECF61G4rp/cQKRwPQpXoNxA9ihcj7Kd3ECkcD0KV57cQPYoXI/yodxA9ihcj/Ki3EBmZmZmZqfcQKRwPQo3pNxArkfheoSr3ED2KFyPorHcQJqZmZkJsNxAFK5H4aqq3EAzMzMz06bcQClcj8LVptxAH4XrUUiq3EBcj8L1OKvcQI/C9ShMo9xAAAAAAJCg3ECF61G43qncQNejcD2qs9xAzczMzJyt3EAAAAAAgKzcQI/C9SjsqtxASOF6FC6n3EBxPQrXM6zcQKRwPQrXp9xAH4XrUbin3EBxPQrXY6fcQNejcD2KodxAAAAAAHCo3EAAAAAAULHcQK5H4XqUsNxAexSuR6Go3ED2KFyP0qXcQDMzMzPTqNxAzczMzJyu3ECamZmZSa/cQJqZmZnZudxAZmZmZia03ED2KFyP4q/cQMP1KFwfstxA9ihcjzKw3ECamZmZGbfcQB+F61HYsNxAmpmZmbmy3EAAAAAAgKncQDMzMzOzsdxApHA9Cpeu3EBxPQrX87PcQB+F61H4udxAZmZmZsa73ECkcD0KJ73cQOxRuB7Vu9xAuB6F6zG/3EDhehSuB73cQFyPwvWowNxAcT0K1/PB3EDNzMzMfLncQOxRuB6FxdxAAAAAAIDM3ECuR+F6VMPcQJqZmZk5u9xAMzMzM8O23ED2KFyPsrfcQMP1KFw/p9xACtejcP2w3EApXI/CpazcQDMzMzNTsNxAH4XrUdiv3EBI4XoUHrLcQD0K16PAstxAH4XrUdiy3EAAAAAAQLLcQGZmZmamqdxAzczMzByn3ECkcD0Kh6fcQI/C9Sj8rNxA7FG4HuWp3ECF61G4PqvcQBSuR+EasNxAcT0K1+Ou3EBcj8L1eKrcQM3MzMzcqtxAMzMzM2On3ECuR+F6BK7cQD0K16MAsNxAcT0K11Ow3ECkcD0Kx7TcQClcj8KVs9xAPQrXo8Cz3EBmZmZmtrPcQAAAAABwrdxAj8L1KMyh3EDsUbge9aPcQFyPwvXIm9xAAAAAAPCc3EDsUbgeFaDcQJqZmZl5nNxAzczMzAye3EDhehSuB6jcQIXrUbguqdxAmpmZmcmp3EBSuB6FS6zcQB+F61FIqdxA4XoUroek3EC4HoXrsajcQFyPwvV4rdxAj8L1KOyx3EDD9Shcr7ncQDMzMzODxNxAexSuR2G+3EAK16NwTcvcQB+F61GIw9xAAAAAAADP3EC4HoXrAdPcQLgehesxztxAZmZmZkbN3EAzMzMzg87cQHE9Ctcz09xAMzMzMyPZ3EC4HoXrcfPcQIXrUbiu7dxA7FG4HnXr3EA9CtejcOncQHE9Ctej8NxAAAAAAMD63ED2KFyPkvncQPYoXI+C7txA16NwPWrv3EBSuB6Fe/HcQClcj8LV3dxAAAAAAODV3EDXo3A9OuXcQJqZmZmZ5dxAexSuRyHR3EDNzMzM/N3cQFK4HoV73dxApHA9Cnfi3ECuR+F6pNjcQIXrUbjewtxAcT0K19Ot3EAUrkfhWrHcQArXo3D9p9xA16NwPRqP3EAzMzMzc6DcQAAAAACAn9xAUrgehUug3EDhehSuZ6TcQHsUrkdxoNxAMzMzMwOq3ECF61G43qzcQArXo3CdudxACtejcP2v3EDNzMzMzK7cQHsUrkcBt9xAPQrXo5C03ECF61G43rTcQGZmZmZGt9xASOF6FJ643EDsUbge5b3cQM3MzMycvNxAUrgehau33EApXI/CxcLcQNejcD1KyNxACtejcF3D3EDXo3A9GsjcQHsUrkcRxtxA9ihcj4K/3EAK16Nwnb/cQAAAAABAtdxA7FG4HoW03ECuR+F61LjcQDMzMzPDwNxAhetRuC653EApXI/C9cTcQK5H4XqUvdxAw/UoXB+83EApXI/C9cTcQLgehesxy9xAzczMzKzF3EBmZmZmNsncQM3MzMxszNxAw/UoXF/F3EDXo3A92sjcQFK4HoUbxNxAexSuR3HK3EAAAAAAEMjcQD0K16OgzNxAKVyPwjXM3ECPwvUoDM/cQD0K16MgzdxASOF6FE7F3EAzMzMzE8TcQPYoXI8iydxApHA9ClfP3EAzMzMzs9TcQFK4HoX72dxAUrgehfvZ3EBI4XoUHtXcQM3MzMys2dxAzczMzBzZ3EBcj8L1KNfcQJqZmZkp19xAAAAAANDV3EDNzMzMzNfcQArXo3A92NxAmpmZmenb3EB7FK5H0djcQBSuR+G62NxAw/UoXB/Z3EB7FK5H0cXcQHE9CtcDytxAhetRuF7P3EBcj8L1SNfcQK5H4XrU3dxAexSuR3Hf3EDsUbgepercQGZmZmam5dxAPQrXo2DY3ECF61G4DtXcQLgehevR1NxAUrgehbvX3ECF61G4TuLcQOxRuB4F29xApHA9CrfT3EAfhetR+MzcQK5H4Xr0ztxAuB6F67HR3EAfhetRONfcQD0K16Ow09xAXI/C9djV3EAUrkfhStbcQNejcD062txAmpmZmSnS3EBI4XoUDtPcQFK4HoW71txAj8L1KNzT3EBmZmZmBtbcQOxRuB6F1NxAw/UoXL/U3EC4HoXrEdPcQM3MzMzMzdxAAAAAAEDA3EDNzMzMbLzcQGZmZmZGwtxAhetRuL7I3EBI4XoUPsjcQOxRuB4ly9xApHA9CnfI3EB7FK5HsczcQArXo3A9zdxA7FG4HsXK3EB7FK5HocvcQKRwPQo3yNxAw/UoXK++3EBcj8L16L3cQPYoXI8Sw9xA7FG4HvW73EBcj8L1SMHcQNejcD0Ku9xArkfheiS63EAUrkfhCrTcQFyPwvUYq9xA16NwPTqw3EApXI/CZbbcQM3MzMwss9xAAAAAAACx3EBxPQrXc6/cQI/C9ShstdxAKVyPwnWx3EDNzMzM/KvcQB+F61Eoo9xA4XoUrlet3EApXI/CxaPcQGZmZmb2rtxAzczMzIyz3EAK16NwrbTcQMP1KFzfttxAw/UoXK+03ED2KFyPIrbcQM3MzMwMxNxAXI/C9Xi/3EAAAAAAsL3cQEjhehQuvNxAw/UoXL+43EBI4XoULr7cQNejcD0au9xAPQrXoxC93EBxPQrXw7/cQI/C9Shss9xAAAAAAACz3EA9CtejkLPcQMP1KFzfrNxAFK5H4bqu3EAK16Nw/bLcQM3MzMzMp9xAH4XrUcir3EAfhetRaK7cQOF6FK4nq9xAmpmZmSmi3ECF61G4Tp/cQOF6FK5XntxAw/UoXE+k3EA9CtejoJ/cQJqZmZkZm9xAKVyPwhWL3EBI4XoU7nfcQArXo3BtfNxAzczMzDxy3EDsUbge1XvcQM3MzMwMhdxASOF6FG6N3ECkcD0Kt4ncQFK4HoXrgtxAAAAAAMCH3ECamZmZKZXcQIXrUbgek9xAhetRuL6a3EB7FK5HMZncQAAAAADQmNxA9ihcj8Kc3EBSuB6Fa5zcQLgehetRmtxArkfhelSY3EApXI/CpZDcQHsUrkfBjNxApHA9CheQ3EDXo3A9ipncQArXo3B9k9xAhetRuA6e3EA9CtejEKDcQFyPwvWIktxAAAAAAKCG3EAUrkfhmojcQFK4HoWbidxAAAAAAGCV3EDD9Shcr5jcQDMzMzMjl9xAAAAAAACd3ECPwvUoTJ3cQClcj8I1ndxAcT0K1zOa3EBSuB6FS53cQMP1KFy/mtxArkfhesSb3ECamZmZuZ7cQKRwPQrnn9xA16NwPcqc3ECamZmZiajcQOxRuB4lpdxA16NwPeqo3EBxPQrX063cQEjhehT+qtxAw/UoXM+r3ECuR+F6BLLcQM3MzMwcs9xA16NwPaqq3EAAAAAAgKfcQMP1KFzvq9xAMzMzM0Oo3ECF61G4zqfcQAAAAACgq9xAAAAAAMCt3EDNzMzM/K7cQPYoXI9yr9xAw/UoXE+t3EDNzMzMDKzcQArXo3Ctq9xAmpmZmXmu3EAUrkfhSqrcQDMzMzPzq9xAhetRuF6u3ECuR+F6RKzcQLgehetRrtxAMzMzM6O23EApXI/ChbrcQEjhehTOu9xAXI/C9di13ECuR+F6ZLTcQAAAAABQtNxAXI/C9Ti63ECF61G4Pr7cQArXo3C9u9xAKVyPwhW23EDD9Shcr7HcQD0K16NwtNxAzczMzEy13ECF61G4fqvcQKRwPQo3sNxAZmZmZian3EBmZmZmVqzcQNejcD06rtxAj8L1KKyx3EA9CtejcLLcQPYoXI+is9xA16NwPRq03EA9CtejoLPcQHE9CteDsdxAexSuRyGt3EBSuB6Fe6/cQFyPwvWYtdxAmpmZmcmz3EAfhetRKLPcQEjhehT+r9xAPQrXoxC63EBI4XoU3rfcQD0K16MwutxArkfheoS53ECamZmZybTcQArXo3Ddt9xAj8L1KOyw3EDNzMzMjKTcQM3MzMx8q9xA7FG4HsWn3EBcj8L1WKXcQI/C9SiMptxAuB6F66Gm3EAzMzMz06jcQHsUrkdRrdxAFK5H4Sqq3EDhehSuh6HcQClcj8KFntxAZmZmZmaY3ECkcD0Kp5rcQEjhehTOndxAZmZmZqae3EDXo3A9Op7cQM3MzMzMktxA4XoUrheK3EB7FK5HEYfcQFyPwvUoktxAmpmZmWmS3ECkcD0KB43cQM3MzMzMjtxAAAAAAABm3EAzMzMzY2bcQBSuR+HKbtxA7FG4HgV33EAAAAAAIHvcQAAAAABggNxASOF6FJ5/3ECuR+F6ZIDcQEjhehQ+gNxAj8L1KLyD3ECPwvUo3IHcQBSuR+FqgNxAAAAAAIB93ECamZmZeXzcQKRwPQqXetxA",
                    "dtype": "f8"
                  },
                  "type": "candlestick",
                  "x": [
                    "2021-01-01T00:00:00.000000000",
                    "2021-01-01T00:01:00.000000000",
                    "2021-01-01T00:02:00.000000000",
                    "2021-01-01T00:03:00.000000000",
                    "2021-01-01T00:04:00.000000000",
                    "2021-01-01T00:05:00.000000000",
                    "2021-01-01T00:06:00.000000000",
                    "2021-01-01T00:07:00.000000000",
                    "2021-01-01T00:08:00.000000000",
                    "2021-01-01T00:09:00.000000000",
                    "2021-01-01T00:10:00.000000000",
                    "2021-01-01T00:11:00.000000000",
                    "2021-01-01T00:12:00.000000000",
                    "2021-01-01T00:13:00.000000000",
                    "2021-01-01T00:14:00.000000000",
                    "2021-01-01T00:15:00.000000000",
                    "2021-01-01T00:16:00.000000000",
                    "2021-01-01T00:17:00.000000000",
                    "2021-01-01T00:18:00.000000000",
                    "2021-01-01T00:19:00.000000000",
                    "2021-01-01T00:20:00.000000000",
                    "2021-01-01T00:21:00.000000000",
                    "2021-01-01T00:22:00.000000000",
                    "2021-01-01T00:23:00.000000000",
                    "2021-01-01T00:24:00.000000000",
                    "2021-01-01T00:25:00.000000000",
                    "2021-01-01T00:26:00.000000000",
                    "2021-01-01T00:27:00.000000000",
                    "2021-01-01T00:28:00.000000000",
                    "2021-01-01T00:29:00.000000000",
                    "2021-01-01T00:30:00.000000000",
                    "2021-01-01T00:31:00.000000000",
                    "2021-01-01T00:32:00.000000000",
                    "2021-01-01T00:33:00.000000000",
                    "2021-01-01T00:34:00.000000000",
                    "2021-01-01T00:35:00.000000000",
                    "2021-01-01T00:36:00.000000000",
                    "2021-01-01T00:37:00.000000000",
                    "2021-01-01T00:38:00.000000000",
                    "2021-01-01T00:39:00.000000000",
                    "2021-01-01T00:40:00.000000000",
                    "2021-01-01T00:41:00.000000000",
                    "2021-01-01T00:42:00.000000000",
                    "2021-01-01T00:43:00.000000000",
                    "2021-01-01T00:44:00.000000000",
                    "2021-01-01T00:45:00.000000000",
                    "2021-01-01T00:46:00.000000000",
                    "2021-01-01T00:47:00.000000000",
                    "2021-01-01T00:48:00.000000000",
                    "2021-01-01T00:49:00.000000000",
                    "2021-01-01T00:50:00.000000000",
                    "2021-01-01T00:51:00.000000000",
                    "2021-01-01T00:52:00.000000000",
                    "2021-01-01T00:53:00.000000000",
                    "2021-01-01T00:54:00.000000000",
                    "2021-01-01T00:55:00.000000000",
                    "2021-01-01T00:56:00.000000000",
                    "2021-01-01T00:57:00.000000000",
                    "2021-01-01T00:58:00.000000000",
                    "2021-01-01T00:59:00.000000000",
                    "2021-01-01T01:00:00.000000000",
                    "2021-01-01T01:01:00.000000000",
                    "2021-01-01T01:02:00.000000000",
                    "2021-01-01T01:03:00.000000000",
                    "2021-01-01T01:04:00.000000000",
                    "2021-01-01T01:05:00.000000000",
                    "2021-01-01T01:06:00.000000000",
                    "2021-01-01T01:07:00.000000000",
                    "2021-01-01T01:08:00.000000000",
                    "2021-01-01T01:09:00.000000000",
                    "2021-01-01T01:10:00.000000000",
                    "2021-01-01T01:11:00.000000000",
                    "2021-01-01T01:12:00.000000000",
                    "2021-01-01T01:13:00.000000000",
                    "2021-01-01T01:14:00.000000000",
                    "2021-01-01T01:15:00.000000000",
                    "2021-01-01T01:16:00.000000000",
                    "2021-01-01T01:17:00.000000000",
                    "2021-01-01T01:18:00.000000000",
                    "2021-01-01T01:19:00.000000000",
                    "2021-01-01T01:20:00.000000000",
                    "2021-01-01T01:21:00.000000000",
                    "2021-01-01T01:22:00.000000000",
                    "2021-01-01T01:23:00.000000000",
                    "2021-01-01T01:24:00.000000000",
                    "2021-01-01T01:25:00.000000000",
                    "2021-01-01T01:26:00.000000000",
                    "2021-01-01T01:27:00.000000000",
                    "2021-01-01T01:28:00.000000000",
                    "2021-01-01T01:29:00.000000000",
                    "2021-01-01T01:30:00.000000000",
                    "2021-01-01T01:31:00.000000000",
                    "2021-01-01T01:32:00.000000000",
                    "2021-01-01T01:33:00.000000000",
                    "2021-01-01T01:34:00.000000000",
                    "2021-01-01T01:35:00.000000000",
                    "2021-01-01T01:36:00.000000000",
                    "2021-01-01T01:37:00.000000000",
                    "2021-01-01T01:38:00.000000000",
                    "2021-01-01T01:39:00.000000000",
                    "2021-01-01T01:40:00.000000000",
                    "2021-01-01T01:41:00.000000000",
                    "2021-01-01T01:42:00.000000000",
                    "2021-01-01T01:43:00.000000000",
                    "2021-01-01T01:44:00.000000000",
                    "2021-01-01T01:45:00.000000000",
                    "2021-01-01T01:46:00.000000000",
                    "2021-01-01T01:47:00.000000000",
                    "2021-01-01T01:48:00.000000000",
                    "2021-01-01T01:49:00.000000000",
                    "2021-01-01T01:50:00.000000000",
                    "2021-01-01T01:51:00.000000000",
                    "2021-01-01T01:52:00.000000000",
                    "2021-01-01T01:53:00.000000000",
                    "2021-01-01T01:54:00.000000000",
                    "2021-01-01T01:55:00.000000000",
                    "2021-01-01T01:56:00.000000000",
                    "2021-01-01T01:57:00.000000000",
                    "2021-01-01T01:58:00.000000000",
                    "2021-01-01T01:59:00.000000000",
                    "2021-01-01T02:00:00.000000000",
                    "2021-01-01T02:01:00.000000000",
                    "2021-01-01T02:02:00.000000000",
                    "2021-01-01T02:03:00.000000000",
                    "2021-01-01T02:04:00.000000000",
                    "2021-01-01T02:05:00.000000000",
                    "2021-01-01T02:06:00.000000000",
                    "2021-01-01T02:07:00.000000000",
                    "2021-01-01T02:08:00.000000000",
                    "2021-01-01T02:09:00.000000000",
                    "2021-01-01T02:10:00.000000000",
                    "2021-01-01T02:11:00.000000000",
                    "2021-01-01T02:12:00.000000000",
                    "2021-01-01T02:13:00.000000000",
                    "2021-01-01T02:14:00.000000000",
                    "2021-01-01T02:15:00.000000000",
                    "2021-01-01T02:16:00.000000000",
                    "2021-01-01T02:17:00.000000000",
                    "2021-01-01T02:18:00.000000000",
                    "2021-01-01T02:19:00.000000000",
                    "2021-01-01T02:20:00.000000000",
                    "2021-01-01T02:21:00.000000000",
                    "2021-01-01T02:22:00.000000000",
                    "2021-01-01T02:23:00.000000000",
                    "2021-01-01T02:24:00.000000000",
                    "2021-01-01T02:25:00.000000000",
                    "2021-01-01T02:26:00.000000000",
                    "2021-01-01T02:27:00.000000000",
                    "2021-01-01T02:28:00.000000000",
                    "2021-01-01T02:29:00.000000000",
                    "2021-01-01T02:30:00.000000000",
                    "2021-01-01T02:31:00.000000000",
                    "2021-01-01T02:32:00.000000000",
                    "2021-01-01T02:33:00.000000000",
                    "2021-01-01T02:34:00.000000000",
                    "2021-01-01T02:35:00.000000000",
                    "2021-01-01T02:36:00.000000000",
                    "2021-01-01T02:37:00.000000000",
                    "2021-01-01T02:38:00.000000000",
                    "2021-01-01T02:39:00.000000000",
                    "2021-01-01T02:40:00.000000000",
                    "2021-01-01T02:41:00.000000000",
                    "2021-01-01T02:42:00.000000000",
                    "2021-01-01T02:43:00.000000000",
                    "2021-01-01T02:44:00.000000000",
                    "2021-01-01T02:45:00.000000000",
                    "2021-01-01T02:46:00.000000000",
                    "2021-01-01T02:47:00.000000000",
                    "2021-01-01T02:48:00.000000000",
                    "2021-01-01T02:49:00.000000000",
                    "2021-01-01T02:50:00.000000000",
                    "2021-01-01T02:51:00.000000000",
                    "2021-01-01T02:52:00.000000000",
                    "2021-01-01T02:53:00.000000000",
                    "2021-01-01T02:54:00.000000000",
                    "2021-01-01T02:55:00.000000000",
                    "2021-01-01T02:56:00.000000000",
                    "2021-01-01T02:57:00.000000000",
                    "2021-01-01T02:58:00.000000000",
                    "2021-01-01T02:59:00.000000000",
                    "2021-01-01T03:00:00.000000000",
                    "2021-01-01T03:01:00.000000000",
                    "2021-01-01T03:02:00.000000000",
                    "2021-01-01T03:03:00.000000000",
                    "2021-01-01T03:04:00.000000000",
                    "2021-01-01T03:05:00.000000000",
                    "2021-01-01T03:06:00.000000000",
                    "2021-01-01T03:07:00.000000000",
                    "2021-01-01T03:08:00.000000000",
                    "2021-01-01T03:09:00.000000000",
                    "2021-01-01T03:10:00.000000000",
                    "2021-01-01T03:11:00.000000000",
                    "2021-01-01T03:12:00.000000000",
                    "2021-01-01T03:13:00.000000000",
                    "2021-01-01T03:14:00.000000000",
                    "2021-01-01T03:15:00.000000000",
                    "2021-01-01T03:16:00.000000000",
                    "2021-01-01T03:17:00.000000000",
                    "2021-01-01T03:18:00.000000000",
                    "2021-01-01T03:19:00.000000000",
                    "2021-01-01T03:20:00.000000000",
                    "2021-01-01T03:21:00.000000000",
                    "2021-01-01T03:22:00.000000000",
                    "2021-01-01T03:23:00.000000000",
                    "2021-01-01T03:24:00.000000000",
                    "2021-01-01T03:25:00.000000000",
                    "2021-01-01T03:26:00.000000000",
                    "2021-01-01T03:27:00.000000000",
                    "2021-01-01T03:28:00.000000000",
                    "2021-01-01T03:29:00.000000000",
                    "2021-01-01T03:30:00.000000000",
                    "2021-01-01T03:31:00.000000000",
                    "2021-01-01T03:32:00.000000000",
                    "2021-01-01T03:33:00.000000000",
                    "2021-01-01T03:34:00.000000000",
                    "2021-01-01T03:35:00.000000000",
                    "2021-01-01T03:36:00.000000000",
                    "2021-01-01T03:37:00.000000000",
                    "2021-01-01T03:38:00.000000000",
                    "2021-01-01T03:39:00.000000000",
                    "2021-01-01T03:40:00.000000000",
                    "2021-01-01T03:41:00.000000000",
                    "2021-01-01T03:42:00.000000000",
                    "2021-01-01T03:43:00.000000000",
                    "2021-01-01T03:44:00.000000000",
                    "2021-01-01T03:45:00.000000000",
                    "2021-01-01T03:46:00.000000000",
                    "2021-01-01T03:47:00.000000000",
                    "2021-01-01T03:48:00.000000000",
                    "2021-01-01T03:49:00.000000000",
                    "2021-01-01T03:50:00.000000000",
                    "2021-01-01T03:51:00.000000000",
                    "2021-01-01T03:52:00.000000000",
                    "2021-01-01T03:53:00.000000000",
                    "2021-01-01T03:54:00.000000000",
                    "2021-01-01T03:55:00.000000000",
                    "2021-01-01T03:56:00.000000000",
                    "2021-01-01T03:57:00.000000000",
                    "2021-01-01T03:58:00.000000000",
                    "2021-01-01T03:59:00.000000000",
                    "2021-01-01T04:00:00.000000000",
                    "2021-01-01T04:01:00.000000000",
                    "2021-01-01T04:02:00.000000000",
                    "2021-01-01T04:03:00.000000000",
                    "2021-01-01T04:04:00.000000000",
                    "2021-01-01T04:05:00.000000000",
                    "2021-01-01T04:06:00.000000000",
                    "2021-01-01T04:07:00.000000000",
                    "2021-01-01T04:08:00.000000000",
                    "2021-01-01T04:09:00.000000000",
                    "2021-01-01T04:10:00.000000000",
                    "2021-01-01T04:11:00.000000000",
                    "2021-01-01T04:12:00.000000000",
                    "2021-01-01T04:13:00.000000000",
                    "2021-01-01T04:14:00.000000000",
                    "2021-01-01T04:15:00.000000000",
                    "2021-01-01T04:16:00.000000000",
                    "2021-01-01T04:17:00.000000000",
                    "2021-01-01T04:18:00.000000000",
                    "2021-01-01T04:19:00.000000000",
                    "2021-01-01T04:20:00.000000000",
                    "2021-01-01T04:21:00.000000000",
                    "2021-01-01T04:22:00.000000000",
                    "2021-01-01T04:23:00.000000000",
                    "2021-01-01T04:24:00.000000000",
                    "2021-01-01T04:25:00.000000000",
                    "2021-01-01T04:26:00.000000000",
                    "2021-01-01T04:27:00.000000000",
                    "2021-01-01T04:28:00.000000000",
                    "2021-01-01T04:29:00.000000000",
                    "2021-01-01T04:30:00.000000000",
                    "2021-01-01T04:31:00.000000000",
                    "2021-01-01T04:32:00.000000000",
                    "2021-01-01T04:33:00.000000000",
                    "2021-01-01T04:34:00.000000000",
                    "2021-01-01T04:35:00.000000000",
                    "2021-01-01T04:36:00.000000000",
                    "2021-01-01T04:37:00.000000000",
                    "2021-01-01T04:38:00.000000000",
                    "2021-01-01T04:39:00.000000000",
                    "2021-01-01T04:40:00.000000000",
                    "2021-01-01T04:41:00.000000000",
                    "2021-01-01T04:42:00.000000000",
                    "2021-01-01T04:43:00.000000000",
                    "2021-01-01T04:44:00.000000000",
                    "2021-01-01T04:45:00.000000000",
                    "2021-01-01T04:46:00.000000000",
                    "2021-01-01T04:47:00.000000000",
                    "2021-01-01T04:48:00.000000000",
                    "2021-01-01T04:49:00.000000000",
                    "2021-01-01T04:50:00.000000000",
                    "2021-01-01T04:51:00.000000000",
                    "2021-01-01T04:52:00.000000000",
                    "2021-01-01T04:53:00.000000000",
                    "2021-01-01T04:54:00.000000000",
                    "2021-01-01T04:55:00.000000000",
                    "2021-01-01T04:56:00.000000000",
                    "2021-01-01T04:57:00.000000000",
                    "2021-01-01T04:58:00.000000000",
                    "2021-01-01T04:59:00.000000000",
                    "2021-01-01T05:00:00.000000000",
                    "2021-01-01T05:01:00.000000000",
                    "2021-01-01T05:02:00.000000000",
                    "2021-01-01T05:03:00.000000000",
                    "2021-01-01T05:04:00.000000000",
                    "2021-01-01T05:05:00.000000000",
                    "2021-01-01T05:06:00.000000000",
                    "2021-01-01T05:07:00.000000000",
                    "2021-01-01T05:08:00.000000000",
                    "2021-01-01T05:09:00.000000000",
                    "2021-01-01T05:10:00.000000000",
                    "2021-01-01T05:11:00.000000000",
                    "2021-01-01T05:12:00.000000000",
                    "2021-01-01T05:13:00.000000000",
                    "2021-01-01T05:14:00.000000000",
                    "2021-01-01T05:15:00.000000000",
                    "2021-01-01T05:16:00.000000000",
                    "2021-01-01T05:17:00.000000000",
                    "2021-01-01T05:18:00.000000000",
                    "2021-01-01T05:19:00.000000000",
                    "2021-01-01T05:20:00.000000000",
                    "2021-01-01T05:21:00.000000000",
                    "2021-01-01T05:22:00.000000000",
                    "2021-01-01T05:23:00.000000000",
                    "2021-01-01T05:24:00.000000000",
                    "2021-01-01T05:25:00.000000000",
                    "2021-01-01T05:26:00.000000000",
                    "2021-01-01T05:27:00.000000000",
                    "2021-01-01T05:28:00.000000000",
                    "2021-01-01T05:29:00.000000000",
                    "2021-01-01T05:30:00.000000000",
                    "2021-01-01T05:31:00.000000000",
                    "2021-01-01T05:32:00.000000000",
                    "2021-01-01T05:33:00.000000000",
                    "2021-01-01T05:34:00.000000000",
                    "2021-01-01T05:35:00.000000000",
                    "2021-01-01T05:36:00.000000000",
                    "2021-01-01T05:37:00.000000000",
                    "2021-01-01T05:38:00.000000000",
                    "2021-01-01T05:39:00.000000000",
                    "2021-01-01T05:40:00.000000000",
                    "2021-01-01T05:41:00.000000000",
                    "2021-01-01T05:42:00.000000000",
                    "2021-01-01T05:43:00.000000000",
                    "2021-01-01T05:44:00.000000000",
                    "2021-01-01T05:45:00.000000000",
                    "2021-01-01T05:46:00.000000000",
                    "2021-01-01T05:47:00.000000000",
                    "2021-01-01T05:48:00.000000000",
                    "2021-01-01T05:49:00.000000000",
                    "2021-01-01T05:50:00.000000000",
                    "2021-01-01T05:51:00.000000000",
                    "2021-01-01T05:52:00.000000000",
                    "2021-01-01T05:53:00.000000000",
                    "2021-01-01T05:54:00.000000000",
                    "2021-01-01T05:55:00.000000000",
                    "2021-01-01T05:56:00.000000000",
                    "2021-01-01T05:57:00.000000000",
                    "2021-01-01T05:58:00.000000000",
                    "2021-01-01T05:59:00.000000000",
                    "2021-01-01T06:00:00.000000000",
                    "2021-01-01T06:01:00.000000000",
                    "2021-01-01T06:02:00.000000000",
                    "2021-01-01T06:03:00.000000000",
                    "2021-01-01T06:04:00.000000000",
                    "2021-01-01T06:05:00.000000000",
                    "2021-01-01T06:06:00.000000000",
                    "2021-01-01T06:07:00.000000000",
                    "2021-01-01T06:08:00.000000000",
                    "2021-01-01T06:09:00.000000000",
                    "2021-01-01T06:10:00.000000000",
                    "2021-01-01T06:11:00.000000000",
                    "2021-01-01T06:12:00.000000000",
                    "2021-01-01T06:13:00.000000000",
                    "2021-01-01T06:14:00.000000000",
                    "2021-01-01T06:15:00.000000000",
                    "2021-01-01T06:16:00.000000000",
                    "2021-01-01T06:17:00.000000000",
                    "2021-01-01T06:18:00.000000000",
                    "2021-01-01T06:19:00.000000000",
                    "2021-01-01T06:20:00.000000000",
                    "2021-01-01T06:21:00.000000000",
                    "2021-01-01T06:22:00.000000000",
                    "2021-01-01T06:23:00.000000000",
                    "2021-01-01T06:24:00.000000000",
                    "2021-01-01T06:25:00.000000000",
                    "2021-01-01T06:26:00.000000000",
                    "2021-01-01T06:27:00.000000000",
                    "2021-01-01T06:28:00.000000000",
                    "2021-01-01T06:29:00.000000000",
                    "2021-01-01T06:30:00.000000000",
                    "2021-01-01T06:31:00.000000000",
                    "2021-01-01T06:32:00.000000000",
                    "2021-01-01T06:33:00.000000000",
                    "2021-01-01T06:34:00.000000000",
                    "2021-01-01T06:35:00.000000000",
                    "2021-01-01T06:36:00.000000000",
                    "2021-01-01T06:37:00.000000000",
                    "2021-01-01T06:38:00.000000000",
                    "2021-01-01T06:39:00.000000000",
                    "2021-01-01T06:40:00.000000000",
                    "2021-01-01T06:41:00.000000000",
                    "2021-01-01T06:42:00.000000000",
                    "2021-01-01T06:43:00.000000000",
                    "2021-01-01T06:44:00.000000000",
                    "2021-01-01T06:45:00.000000000",
                    "2021-01-01T06:46:00.000000000",
                    "2021-01-01T06:47:00.000000000",
                    "2021-01-01T06:48:00.000000000",
                    "2021-01-01T06:49:00.000000000",
                    "2021-01-01T06:50:00.000000000",
                    "2021-01-01T06:51:00.000000000",
                    "2021-01-01T06:52:00.000000000",
                    "2021-01-01T06:53:00.000000000",
                    "2021-01-01T06:54:00.000000000",
                    "2021-01-01T06:55:00.000000000",
                    "2021-01-01T06:56:00.000000000",
                    "2021-01-01T06:57:00.000000000",
                    "2021-01-01T06:58:00.000000000",
                    "2021-01-01T06:59:00.000000000",
                    "2021-01-01T07:00:00.000000000",
                    "2021-01-01T07:01:00.000000000",
                    "2021-01-01T07:02:00.000000000",
                    "2021-01-01T07:03:00.000000000",
                    "2021-01-01T07:04:00.000000000",
                    "2021-01-01T07:05:00.000000000",
                    "2021-01-01T07:06:00.000000000",
                    "2021-01-01T07:07:00.000000000",
                    "2021-01-01T07:08:00.000000000",
                    "2021-01-01T07:09:00.000000000",
                    "2021-01-01T07:10:00.000000000",
                    "2021-01-01T07:11:00.000000000",
                    "2021-01-01T07:12:00.000000000",
                    "2021-01-01T07:13:00.000000000",
                    "2021-01-01T07:14:00.000000000",
                    "2021-01-01T07:15:00.000000000",
                    "2021-01-01T07:16:00.000000000",
                    "2021-01-01T07:17:00.000000000",
                    "2021-01-01T07:18:00.000000000",
                    "2021-01-01T07:19:00.000000000",
                    "2021-01-01T07:20:00.000000000",
                    "2021-01-01T07:21:00.000000000",
                    "2021-01-01T07:22:00.000000000",
                    "2021-01-01T07:23:00.000000000",
                    "2021-01-01T07:24:00.000000000",
                    "2021-01-01T07:25:00.000000000",
                    "2021-01-01T07:26:00.000000000",
                    "2021-01-01T07:27:00.000000000",
                    "2021-01-01T07:28:00.000000000",
                    "2021-01-01T07:29:00.000000000",
                    "2021-01-01T07:30:00.000000000",
                    "2021-01-01T07:31:00.000000000",
                    "2021-01-01T07:32:00.000000000",
                    "2021-01-01T07:33:00.000000000",
                    "2021-01-01T07:34:00.000000000",
                    "2021-01-01T07:35:00.000000000",
                    "2021-01-01T07:36:00.000000000",
                    "2021-01-01T07:37:00.000000000",
                    "2021-01-01T07:38:00.000000000",
                    "2021-01-01T07:39:00.000000000",
                    "2021-01-01T07:40:00.000000000",
                    "2021-01-01T07:41:00.000000000",
                    "2021-01-01T07:42:00.000000000",
                    "2021-01-01T07:43:00.000000000",
                    "2021-01-01T07:44:00.000000000",
                    "2021-01-01T07:45:00.000000000",
                    "2021-01-01T07:46:00.000000000",
                    "2021-01-01T07:47:00.000000000",
                    "2021-01-01T07:48:00.000000000",
                    "2021-01-01T07:49:00.000000000",
                    "2021-01-01T07:50:00.000000000",
                    "2021-01-01T07:51:00.000000000",
                    "2021-01-01T07:52:00.000000000",
                    "2021-01-01T07:53:00.000000000",
                    "2021-01-01T07:54:00.000000000",
                    "2021-01-01T07:55:00.000000000",
                    "2021-01-01T07:56:00.000000000",
                    "2021-01-01T07:57:00.000000000",
                    "2021-01-01T07:58:00.000000000",
                    "2021-01-01T07:59:00.000000000",
                    "2021-01-01T08:00:00.000000000",
                    "2021-01-01T08:01:00.000000000",
                    "2021-01-01T08:02:00.000000000",
                    "2021-01-01T08:03:00.000000000",
                    "2021-01-01T08:04:00.000000000",
                    "2021-01-01T08:05:00.000000000",
                    "2021-01-01T08:06:00.000000000",
                    "2021-01-01T08:07:00.000000000",
                    "2021-01-01T08:08:00.000000000",
                    "2021-01-01T08:09:00.000000000",
                    "2021-01-01T08:10:00.000000000",
                    "2021-01-01T08:11:00.000000000",
                    "2021-01-01T08:12:00.000000000",
                    "2021-01-01T08:13:00.000000000",
                    "2021-01-01T08:14:00.000000000",
                    "2021-01-01T08:15:00.000000000",
                    "2021-01-01T08:16:00.000000000",
                    "2021-01-01T08:17:00.000000000",
                    "2021-01-01T08:18:00.000000000",
                    "2021-01-01T08:19:00.000000000",
                    "2021-01-01T08:20:00.000000000",
                    "2021-01-01T08:21:00.000000000",
                    "2021-01-01T08:22:00.000000000",
                    "2021-01-01T08:23:00.000000000",
                    "2021-01-01T08:24:00.000000000",
                    "2021-01-01T08:25:00.000000000",
                    "2021-01-01T08:26:00.000000000",
                    "2021-01-01T08:27:00.000000000",
                    "2021-01-01T08:28:00.000000000",
                    "2021-01-01T08:29:00.000000000",
                    "2021-01-01T08:30:00.000000000",
                    "2021-01-01T08:31:00.000000000",
                    "2021-01-01T08:32:00.000000000",
                    "2021-01-01T08:33:00.000000000",
                    "2021-01-01T08:34:00.000000000",
                    "2021-01-01T08:35:00.000000000",
                    "2021-01-01T08:36:00.000000000",
                    "2021-01-01T08:37:00.000000000",
                    "2021-01-01T08:38:00.000000000",
                    "2021-01-01T08:39:00.000000000",
                    "2021-01-01T08:40:00.000000000",
                    "2021-01-01T08:41:00.000000000",
                    "2021-01-01T08:42:00.000000000",
                    "2021-01-01T08:43:00.000000000",
                    "2021-01-01T08:44:00.000000000",
                    "2021-01-01T08:45:00.000000000",
                    "2021-01-01T08:46:00.000000000",
                    "2021-01-01T08:47:00.000000000",
                    "2021-01-01T08:48:00.000000000",
                    "2021-01-01T08:49:00.000000000",
                    "2021-01-01T08:50:00.000000000",
                    "2021-01-01T08:51:00.000000000",
                    "2021-01-01T08:52:00.000000000",
                    "2021-01-01T08:53:00.000000000",
                    "2021-01-01T08:54:00.000000000",
                    "2021-01-01T08:55:00.000000000",
                    "2021-01-01T08:56:00.000000000",
                    "2021-01-01T08:57:00.000000000",
                    "2021-01-01T08:58:00.000000000",
                    "2021-01-01T08:59:00.000000000",
                    "2021-01-01T09:00:00.000000000",
                    "2021-01-01T09:01:00.000000000",
                    "2021-01-01T09:02:00.000000000",
                    "2021-01-01T09:03:00.000000000",
                    "2021-01-01T09:04:00.000000000",
                    "2021-01-01T09:05:00.000000000",
                    "2021-01-01T09:06:00.000000000",
                    "2021-01-01T09:07:00.000000000",
                    "2021-01-01T09:08:00.000000000",
                    "2021-01-01T09:09:00.000000000",
                    "2021-01-01T09:10:00.000000000",
                    "2021-01-01T09:11:00.000000000",
                    "2021-01-01T09:12:00.000000000",
                    "2021-01-01T09:13:00.000000000",
                    "2021-01-01T09:14:00.000000000",
                    "2021-01-01T09:15:00.000000000",
                    "2021-01-01T09:16:00.000000000",
                    "2021-01-01T09:17:00.000000000",
                    "2021-01-01T09:18:00.000000000",
                    "2021-01-01T09:19:00.000000000",
                    "2021-01-01T09:20:00.000000000",
                    "2021-01-01T09:21:00.000000000",
                    "2021-01-01T09:22:00.000000000",
                    "2021-01-01T09:23:00.000000000",
                    "2021-01-01T09:24:00.000000000",
                    "2021-01-01T09:25:00.000000000",
                    "2021-01-01T09:26:00.000000000",
                    "2021-01-01T09:27:00.000000000",
                    "2021-01-01T09:28:00.000000000",
                    "2021-01-01T09:29:00.000000000",
                    "2021-01-01T09:30:00.000000000",
                    "2021-01-01T09:31:00.000000000",
                    "2021-01-01T09:32:00.000000000",
                    "2021-01-01T09:33:00.000000000",
                    "2021-01-01T09:34:00.000000000",
                    "2021-01-01T09:35:00.000000000",
                    "2021-01-01T09:36:00.000000000",
                    "2021-01-01T09:37:00.000000000",
                    "2021-01-01T09:38:00.000000000",
                    "2021-01-01T09:39:00.000000000",
                    "2021-01-01T09:40:00.000000000",
                    "2021-01-01T09:41:00.000000000",
                    "2021-01-01T09:42:00.000000000",
                    "2021-01-01T09:43:00.000000000",
                    "2021-01-01T09:44:00.000000000",
                    "2021-01-01T09:45:00.000000000",
                    "2021-01-01T09:46:00.000000000",
                    "2021-01-01T09:47:00.000000000",
                    "2021-01-01T09:48:00.000000000",
                    "2021-01-01T09:49:00.000000000",
                    "2021-01-01T09:50:00.000000000",
                    "2021-01-01T09:51:00.000000000",
                    "2021-01-01T09:52:00.000000000",
                    "2021-01-01T09:53:00.000000000",
                    "2021-01-01T09:54:00.000000000",
                    "2021-01-01T09:55:00.000000000",
                    "2021-01-01T09:56:00.000000000",
                    "2021-01-01T09:57:00.000000000",
                    "2021-01-01T09:58:00.000000000",
                    "2021-01-01T09:59:00.000000000",
                    "2021-01-01T10:00:00.000000000",
                    "2021-01-01T10:01:00.000000000",
                    "2021-01-01T10:02:00.000000000",
                    "2021-01-01T10:03:00.000000000",
                    "2021-01-01T10:04:00.000000000",
                    "2021-01-01T10:05:00.000000000",
                    "2021-01-01T10:06:00.000000000",
                    "2021-01-01T10:07:00.000000000",
                    "2021-01-01T10:08:00.000000000",
                    "2021-01-01T10:09:00.000000000",
                    "2021-01-01T10:10:00.000000000",
                    "2021-01-01T10:11:00.000000000",
                    "2021-01-01T10:12:00.000000000",
                    "2021-01-01T10:13:00.000000000",
                    "2021-01-01T10:14:00.000000000",
                    "2021-01-01T10:15:00.000000000",
                    "2021-01-01T10:16:00.000000000",
                    "2021-01-01T10:17:00.000000000",
                    "2021-01-01T10:18:00.000000000",
                    "2021-01-01T10:19:00.000000000",
                    "2021-01-01T10:20:00.000000000",
                    "2021-01-01T10:21:00.000000000",
                    "2021-01-01T10:22:00.000000000",
                    "2021-01-01T10:23:00.000000000",
                    "2021-01-01T10:24:00.000000000",
                    "2021-01-01T10:25:00.000000000",
                    "2021-01-01T10:26:00.000000000",
                    "2021-01-01T10:27:00.000000000",
                    "2021-01-01T10:28:00.000000000",
                    "2021-01-01T10:29:00.000000000",
                    "2021-01-01T10:30:00.000000000",
                    "2021-01-01T10:31:00.000000000",
                    "2021-01-01T10:32:00.000000000",
                    "2021-01-01T10:33:00.000000000",
                    "2021-01-01T10:34:00.000000000",
                    "2021-01-01T10:35:00.000000000",
                    "2021-01-01T10:36:00.000000000",
                    "2021-01-01T10:37:00.000000000",
                    "2021-01-01T10:38:00.000000000",
                    "2021-01-01T10:39:00.000000000",
                    "2021-01-01T10:40:00.000000000",
                    "2021-01-01T10:41:00.000000000",
                    "2021-01-01T10:42:00.000000000",
                    "2021-01-01T10:43:00.000000000",
                    "2021-01-01T10:44:00.000000000",
                    "2021-01-01T10:45:00.000000000",
                    "2021-01-01T10:46:00.000000000",
                    "2021-01-01T10:47:00.000000000",
                    "2021-01-01T10:48:00.000000000",
                    "2021-01-01T10:49:00.000000000",
                    "2021-01-01T10:50:00.000000000",
                    "2021-01-01T10:51:00.000000000",
                    "2021-01-01T10:52:00.000000000",
                    "2021-01-01T10:53:00.000000000",
                    "2021-01-01T10:54:00.000000000",
                    "2021-01-01T10:55:00.000000000",
                    "2021-01-01T10:56:00.000000000",
                    "2021-01-01T10:57:00.000000000",
                    "2021-01-01T10:58:00.000000000",
                    "2021-01-01T10:59:00.000000000",
                    "2021-01-01T11:00:00.000000000",
                    "2021-01-01T11:01:00.000000000",
                    "2021-01-01T11:02:00.000000000",
                    "2021-01-01T11:03:00.000000000",
                    "2021-01-01T11:04:00.000000000",
                    "2021-01-01T11:05:00.000000000",
                    "2021-01-01T11:06:00.000000000",
                    "2021-01-01T11:07:00.000000000",
                    "2021-01-01T11:08:00.000000000",
                    "2021-01-01T11:09:00.000000000",
                    "2021-01-01T11:10:00.000000000",
                    "2021-01-01T11:11:00.000000000",
                    "2021-01-01T11:12:00.000000000",
                    "2021-01-01T11:13:00.000000000",
                    "2021-01-01T11:14:00.000000000",
                    "2021-01-01T11:15:00.000000000",
                    "2021-01-01T11:16:00.000000000",
                    "2021-01-01T11:17:00.000000000",
                    "2021-01-01T11:18:00.000000000",
                    "2021-01-01T11:19:00.000000000",
                    "2021-01-01T11:20:00.000000000",
                    "2021-01-01T11:21:00.000000000",
                    "2021-01-01T11:22:00.000000000",
                    "2021-01-01T11:23:00.000000000",
                    "2021-01-01T11:24:00.000000000",
                    "2021-01-01T11:25:00.000000000",
                    "2021-01-01T11:26:00.000000000",
                    "2021-01-01T11:27:00.000000000",
                    "2021-01-01T11:28:00.000000000",
                    "2021-01-01T11:29:00.000000000",
                    "2021-01-01T11:30:00.000000000",
                    "2021-01-01T11:31:00.000000000",
                    "2021-01-01T11:32:00.000000000",
                    "2021-01-01T11:33:00.000000000",
                    "2021-01-01T11:34:00.000000000",
                    "2021-01-01T11:35:00.000000000",
                    "2021-01-01T11:36:00.000000000",
                    "2021-01-01T11:37:00.000000000",
                    "2021-01-01T11:38:00.000000000",
                    "2021-01-01T11:39:00.000000000",
                    "2021-01-01T11:40:00.000000000",
                    "2021-01-01T11:41:00.000000000",
                    "2021-01-01T11:42:00.000000000",
                    "2021-01-01T11:43:00.000000000",
                    "2021-01-01T11:44:00.000000000",
                    "2021-01-01T11:45:00.000000000",
                    "2021-01-01T11:46:00.000000000",
                    "2021-01-01T11:47:00.000000000",
                    "2021-01-01T11:48:00.000000000",
                    "2021-01-01T11:49:00.000000000",
                    "2021-01-01T11:50:00.000000000",
                    "2021-01-01T11:51:00.000000000",
                    "2021-01-01T11:52:00.000000000",
                    "2021-01-01T11:53:00.000000000",
                    "2021-01-01T11:54:00.000000000",
                    "2021-01-01T11:55:00.000000000",
                    "2021-01-01T11:56:00.000000000",
                    "2021-01-01T11:57:00.000000000",
                    "2021-01-01T11:58:00.000000000",
                    "2021-01-01T11:59:00.000000000",
                    "2021-01-01T12:00:00.000000000",
                    "2021-01-01T12:01:00.000000000",
                    "2021-01-01T12:02:00.000000000",
                    "2021-01-01T12:03:00.000000000",
                    "2021-01-01T12:04:00.000000000",
                    "2021-01-01T12:05:00.000000000",
                    "2021-01-01T12:06:00.000000000",
                    "2021-01-01T12:07:00.000000000",
                    "2021-01-01T12:08:00.000000000",
                    "2021-01-01T12:09:00.000000000",
                    "2021-01-01T12:10:00.000000000",
                    "2021-01-01T12:11:00.000000000",
                    "2021-01-01T12:12:00.000000000",
                    "2021-01-01T12:13:00.000000000",
                    "2021-01-01T12:14:00.000000000",
                    "2021-01-01T12:15:00.000000000",
                    "2021-01-01T12:16:00.000000000",
                    "2021-01-01T12:17:00.000000000",
                    "2021-01-01T12:18:00.000000000",
                    "2021-01-01T12:19:00.000000000",
                    "2021-01-01T12:20:00.000000000",
                    "2021-01-01T12:21:00.000000000",
                    "2021-01-01T12:22:00.000000000",
                    "2021-01-01T12:23:00.000000000",
                    "2021-01-01T12:24:00.000000000",
                    "2021-01-01T12:25:00.000000000",
                    "2021-01-01T12:26:00.000000000",
                    "2021-01-01T12:27:00.000000000",
                    "2021-01-01T12:28:00.000000000",
                    "2021-01-01T12:29:00.000000000",
                    "2021-01-01T12:30:00.000000000",
                    "2021-01-01T12:31:00.000000000",
                    "2021-01-01T12:32:00.000000000",
                    "2021-01-01T12:33:00.000000000",
                    "2021-01-01T12:34:00.000000000",
                    "2021-01-01T12:35:00.000000000",
                    "2021-01-01T12:36:00.000000000",
                    "2021-01-01T12:37:00.000000000",
                    "2021-01-01T12:38:00.000000000",
                    "2021-01-01T12:39:00.000000000",
                    "2021-01-01T12:40:00.000000000",
                    "2021-01-01T12:41:00.000000000",
                    "2021-01-01T12:42:00.000000000",
                    "2021-01-01T12:43:00.000000000",
                    "2021-01-01T12:44:00.000000000",
                    "2021-01-01T12:45:00.000000000",
                    "2021-01-01T12:46:00.000000000",
                    "2021-01-01T12:47:00.000000000",
                    "2021-01-01T12:48:00.000000000",
                    "2021-01-01T12:49:00.000000000",
                    "2021-01-01T12:50:00.000000000",
                    "2021-01-01T12:51:00.000000000",
                    "2021-01-01T12:52:00.000000000",
                    "2021-01-01T12:53:00.000000000",
                    "2021-01-01T12:54:00.000000000",
                    "2021-01-01T12:55:00.000000000",
                    "2021-01-01T12:56:00.000000000",
                    "2021-01-01T12:57:00.000000000",
                    "2021-01-01T12:58:00.000000000",
                    "2021-01-01T12:59:00.000000000",
                    "2021-01-01T13:00:00.000000000",
                    "2021-01-01T13:01:00.000000000",
                    "2021-01-01T13:02:00.000000000",
                    "2021-01-01T13:03:00.000000000",
                    "2021-01-01T13:04:00.000000000",
                    "2021-01-01T13:05:00.000000000",
                    "2021-01-01T13:06:00.000000000",
                    "2021-01-01T13:07:00.000000000",
                    "2021-01-01T13:08:00.000000000",
                    "2021-01-01T13:09:00.000000000",
                    "2021-01-01T13:10:00.000000000",
                    "2021-01-01T13:11:00.000000000",
                    "2021-01-01T13:12:00.000000000",
                    "2021-01-01T13:13:00.000000000",
                    "2021-01-01T13:14:00.000000000",
                    "2021-01-01T13:15:00.000000000",
                    "2021-01-01T13:16:00.000000000",
                    "2021-01-01T13:17:00.000000000",
                    "2021-01-01T13:18:00.000000000",
                    "2021-01-01T13:19:00.000000000",
                    "2021-01-01T13:20:00.000000000",
                    "2021-01-01T13:21:00.000000000",
                    "2021-01-01T13:22:00.000000000",
                    "2021-01-01T13:23:00.000000000",
                    "2021-01-01T13:24:00.000000000",
                    "2021-01-01T13:25:00.000000000",
                    "2021-01-01T13:26:00.000000000",
                    "2021-01-01T13:27:00.000000000",
                    "2021-01-01T13:28:00.000000000",
                    "2021-01-01T13:29:00.000000000",
                    "2021-01-01T13:30:00.000000000",
                    "2021-01-01T13:31:00.000000000",
                    "2021-01-01T13:32:00.000000000",
                    "2021-01-01T13:33:00.000000000",
                    "2021-01-01T13:34:00.000000000",
                    "2021-01-01T13:35:00.000000000",
                    "2021-01-01T13:36:00.000000000",
                    "2021-01-01T13:37:00.000000000",
                    "2021-01-01T13:38:00.000000000",
                    "2021-01-01T13:39:00.000000000",
                    "2021-01-01T13:40:00.000000000",
                    "2021-01-01T13:41:00.000000000",
                    "2021-01-01T13:42:00.000000000",
                    "2021-01-01T13:43:00.000000000",
                    "2021-01-01T13:44:00.000000000",
                    "2021-01-01T13:45:00.000000000",
                    "2021-01-01T13:46:00.000000000",
                    "2021-01-01T13:47:00.000000000",
                    "2021-01-01T13:48:00.000000000",
                    "2021-01-01T13:49:00.000000000",
                    "2021-01-01T13:50:00.000000000",
                    "2021-01-01T13:51:00.000000000",
                    "2021-01-01T13:52:00.000000000",
                    "2021-01-01T13:53:00.000000000",
                    "2021-01-01T13:54:00.000000000",
                    "2021-01-01T13:55:00.000000000",
                    "2021-01-01T13:56:00.000000000",
                    "2021-01-01T13:57:00.000000000",
                    "2021-01-01T13:58:00.000000000",
                    "2021-01-01T13:59:00.000000000",
                    "2021-01-01T14:00:00.000000000",
                    "2021-01-01T14:01:00.000000000",
                    "2021-01-01T14:02:00.000000000",
                    "2021-01-01T14:03:00.000000000",
                    "2021-01-01T14:04:00.000000000",
                    "2021-01-01T14:05:00.000000000",
                    "2021-01-01T14:06:00.000000000",
                    "2021-01-01T14:07:00.000000000",
                    "2021-01-01T14:08:00.000000000",
                    "2021-01-01T14:09:00.000000000",
                    "2021-01-01T14:10:00.000000000",
                    "2021-01-01T14:11:00.000000000",
                    "2021-01-01T14:12:00.000000000",
                    "2021-01-01T14:13:00.000000000",
                    "2021-01-01T14:14:00.000000000",
                    "2021-01-01T14:15:00.000000000",
                    "2021-01-01T14:16:00.000000000",
                    "2021-01-01T14:17:00.000000000",
                    "2021-01-01T14:18:00.000000000",
                    "2021-01-01T14:19:00.000000000",
                    "2021-01-01T14:20:00.000000000",
                    "2021-01-01T14:21:00.000000000",
                    "2021-01-01T14:22:00.000000000",
                    "2021-01-01T14:23:00.000000000",
                    "2021-01-01T14:24:00.000000000",
                    "2021-01-01T14:25:00.000000000",
                    "2021-01-01T14:26:00.000000000",
                    "2021-01-01T14:27:00.000000000",
                    "2021-01-01T14:28:00.000000000",
                    "2021-01-01T14:29:00.000000000",
                    "2021-01-01T14:30:00.000000000",
                    "2021-01-01T14:31:00.000000000",
                    "2021-01-01T14:32:00.000000000",
                    "2021-01-01T14:33:00.000000000",
                    "2021-01-01T14:34:00.000000000",
                    "2021-01-01T14:35:00.000000000",
                    "2021-01-01T14:36:00.000000000",
                    "2021-01-01T14:37:00.000000000",
                    "2021-01-01T14:38:00.000000000",
                    "2021-01-01T14:39:00.000000000",
                    "2021-01-01T14:40:00.000000000",
                    "2021-01-01T14:41:00.000000000",
                    "2021-01-01T14:42:00.000000000",
                    "2021-01-01T14:43:00.000000000",
                    "2021-01-01T14:44:00.000000000",
                    "2021-01-01T14:45:00.000000000",
                    "2021-01-01T14:46:00.000000000",
                    "2021-01-01T14:47:00.000000000",
                    "2021-01-01T14:48:00.000000000",
                    "2021-01-01T14:49:00.000000000",
                    "2021-01-01T14:50:00.000000000",
                    "2021-01-01T14:51:00.000000000",
                    "2021-01-01T14:52:00.000000000",
                    "2021-01-01T14:53:00.000000000",
                    "2021-01-01T14:54:00.000000000",
                    "2021-01-01T14:55:00.000000000",
                    "2021-01-01T14:56:00.000000000",
                    "2021-01-01T14:57:00.000000000",
                    "2021-01-01T14:58:00.000000000",
                    "2021-01-01T14:59:00.000000000",
                    "2021-01-01T15:00:00.000000000",
                    "2021-01-01T15:01:00.000000000",
                    "2021-01-01T15:02:00.000000000",
                    "2021-01-01T15:03:00.000000000",
                    "2021-01-01T15:04:00.000000000",
                    "2021-01-01T15:05:00.000000000",
                    "2021-01-01T15:06:00.000000000",
                    "2021-01-01T15:07:00.000000000",
                    "2021-01-01T15:08:00.000000000",
                    "2021-01-01T15:09:00.000000000",
                    "2021-01-01T15:10:00.000000000",
                    "2021-01-01T15:11:00.000000000",
                    "2021-01-01T15:12:00.000000000",
                    "2021-01-01T15:13:00.000000000",
                    "2021-01-01T15:14:00.000000000",
                    "2021-01-01T15:15:00.000000000",
                    "2021-01-01T15:16:00.000000000",
                    "2021-01-01T15:17:00.000000000",
                    "2021-01-01T15:18:00.000000000",
                    "2021-01-01T15:19:00.000000000",
                    "2021-01-01T15:20:00.000000000",
                    "2021-01-01T15:21:00.000000000",
                    "2021-01-01T15:22:00.000000000",
                    "2021-01-01T15:23:00.000000000",
                    "2021-01-01T15:24:00.000000000",
                    "2021-01-01T15:25:00.000000000",
                    "2021-01-01T15:26:00.000000000",
                    "2021-01-01T15:27:00.000000000",
                    "2021-01-01T15:28:00.000000000",
                    "2021-01-01T15:29:00.000000000",
                    "2021-01-01T15:30:00.000000000",
                    "2021-01-01T15:31:00.000000000",
                    "2021-01-01T15:32:00.000000000",
                    "2021-01-01T15:33:00.000000000",
                    "2021-01-01T15:34:00.000000000",
                    "2021-01-01T15:35:00.000000000",
                    "2021-01-01T15:36:00.000000000",
                    "2021-01-01T15:37:00.000000000",
                    "2021-01-01T15:38:00.000000000",
                    "2021-01-01T15:39:00.000000000",
                    "2021-01-01T15:40:00.000000000",
                    "2021-01-01T15:41:00.000000000",
                    "2021-01-01T15:42:00.000000000",
                    "2021-01-01T15:43:00.000000000",
                    "2021-01-01T15:44:00.000000000",
                    "2021-01-01T15:45:00.000000000",
                    "2021-01-01T15:46:00.000000000",
                    "2021-01-01T15:47:00.000000000",
                    "2021-01-01T15:48:00.000000000",
                    "2021-01-01T15:49:00.000000000",
                    "2021-01-01T15:50:00.000000000",
                    "2021-01-01T15:51:00.000000000",
                    "2021-01-01T15:52:00.000000000",
                    "2021-01-01T15:53:00.000000000",
                    "2021-01-01T15:54:00.000000000",
                    "2021-01-01T15:55:00.000000000",
                    "2021-01-01T15:56:00.000000000",
                    "2021-01-01T15:57:00.000000000",
                    "2021-01-01T15:58:00.000000000",
                    "2021-01-01T15:59:00.000000000",
                    "2021-01-01T16:00:00.000000000",
                    "2021-01-01T16:01:00.000000000",
                    "2021-01-01T16:02:00.000000000",
                    "2021-01-01T16:03:00.000000000",
                    "2021-01-01T16:04:00.000000000",
                    "2021-01-01T16:05:00.000000000",
                    "2021-01-01T16:06:00.000000000",
                    "2021-01-01T16:07:00.000000000",
                    "2021-01-01T16:08:00.000000000",
                    "2021-01-01T16:09:00.000000000",
                    "2021-01-01T16:10:00.000000000",
                    "2021-01-01T16:11:00.000000000",
                    "2021-01-01T16:12:00.000000000",
                    "2021-01-01T16:13:00.000000000",
                    "2021-01-01T16:14:00.000000000",
                    "2021-01-01T16:15:00.000000000",
                    "2021-01-01T16:16:00.000000000",
                    "2021-01-01T16:17:00.000000000",
                    "2021-01-01T16:18:00.000000000",
                    "2021-01-01T16:19:00.000000000",
                    "2021-01-01T16:20:00.000000000",
                    "2021-01-01T16:21:00.000000000",
                    "2021-01-01T16:22:00.000000000",
                    "2021-01-01T16:23:00.000000000",
                    "2021-01-01T16:24:00.000000000",
                    "2021-01-01T16:25:00.000000000",
                    "2021-01-01T16:26:00.000000000",
                    "2021-01-01T16:27:00.000000000",
                    "2021-01-01T16:28:00.000000000",
                    "2021-01-01T16:29:00.000000000",
                    "2021-01-01T16:30:00.000000000",
                    "2021-01-01T16:31:00.000000000",
                    "2021-01-01T16:32:00.000000000",
                    "2021-01-01T16:33:00.000000000",
                    "2021-01-01T16:34:00.000000000",
                    "2021-01-01T16:35:00.000000000",
                    "2021-01-01T16:36:00.000000000",
                    "2021-01-01T16:37:00.000000000",
                    "2021-01-01T16:38:00.000000000",
                    "2021-01-01T16:39:00.000000000",
                    "2021-01-01T16:40:00.000000000",
                    "2021-01-01T16:41:00.000000000",
                    "2021-01-01T16:42:00.000000000",
                    "2021-01-01T16:43:00.000000000",
                    "2021-01-01T16:44:00.000000000",
                    "2021-01-01T16:45:00.000000000",
                    "2021-01-01T16:46:00.000000000",
                    "2021-01-01T16:47:00.000000000",
                    "2021-01-01T16:48:00.000000000",
                    "2021-01-01T16:49:00.000000000",
                    "2021-01-01T16:50:00.000000000",
                    "2021-01-01T16:51:00.000000000",
                    "2021-01-01T16:52:00.000000000",
                    "2021-01-01T16:53:00.000000000",
                    "2021-01-01T16:54:00.000000000",
                    "2021-01-01T16:55:00.000000000",
                    "2021-01-01T16:56:00.000000000",
                    "2021-01-01T16:57:00.000000000",
                    "2021-01-01T16:58:00.000000000",
                    "2021-01-01T16:59:00.000000000",
                    "2021-01-01T17:00:00.000000000",
                    "2021-01-01T17:01:00.000000000",
                    "2021-01-01T17:02:00.000000000",
                    "2021-01-01T17:03:00.000000000",
                    "2021-01-01T17:04:00.000000000",
                    "2021-01-01T17:05:00.000000000",
                    "2021-01-01T17:06:00.000000000",
                    "2021-01-01T17:07:00.000000000",
                    "2021-01-01T17:08:00.000000000",
                    "2021-01-01T17:09:00.000000000",
                    "2021-01-01T17:10:00.000000000",
                    "2021-01-01T17:11:00.000000000",
                    "2021-01-01T17:12:00.000000000",
                    "2021-01-01T17:13:00.000000000",
                    "2021-01-01T17:14:00.000000000",
                    "2021-01-01T17:15:00.000000000",
                    "2021-01-01T17:16:00.000000000",
                    "2021-01-01T17:17:00.000000000",
                    "2021-01-01T17:18:00.000000000",
                    "2021-01-01T17:19:00.000000000",
                    "2021-01-01T17:20:00.000000000",
                    "2021-01-01T17:21:00.000000000",
                    "2021-01-01T17:22:00.000000000",
                    "2021-01-01T17:23:00.000000000",
                    "2021-01-01T17:24:00.000000000",
                    "2021-01-01T17:25:00.000000000",
                    "2021-01-01T17:26:00.000000000",
                    "2021-01-01T17:27:00.000000000",
                    "2021-01-01T17:28:00.000000000",
                    "2021-01-01T17:29:00.000000000",
                    "2021-01-01T17:30:00.000000000",
                    "2021-01-01T17:31:00.000000000",
                    "2021-01-01T17:32:00.000000000",
                    "2021-01-01T17:33:00.000000000",
                    "2021-01-01T17:34:00.000000000",
                    "2021-01-01T17:35:00.000000000",
                    "2021-01-01T17:36:00.000000000",
                    "2021-01-01T17:37:00.000000000",
                    "2021-01-01T17:38:00.000000000",
                    "2021-01-01T17:39:00.000000000",
                    "2021-01-01T17:40:00.000000000",
                    "2021-01-01T17:41:00.000000000",
                    "2021-01-01T17:42:00.000000000",
                    "2021-01-01T17:43:00.000000000",
                    "2021-01-01T17:44:00.000000000",
                    "2021-01-01T17:45:00.000000000",
                    "2021-01-01T17:46:00.000000000",
                    "2021-01-01T17:47:00.000000000",
                    "2021-01-01T17:48:00.000000000",
                    "2021-01-01T17:49:00.000000000",
                    "2021-01-01T17:50:00.000000000",
                    "2021-01-01T17:51:00.000000000",
                    "2021-01-01T17:52:00.000000000",
                    "2021-01-01T17:53:00.000000000",
                    "2021-01-01T17:54:00.000000000",
                    "2021-01-01T17:55:00.000000000",
                    "2021-01-01T17:56:00.000000000",
                    "2021-01-01T17:57:00.000000000",
                    "2021-01-01T17:58:00.000000000",
                    "2021-01-01T17:59:00.000000000",
                    "2021-01-01T18:00:00.000000000",
                    "2021-01-01T18:01:00.000000000",
                    "2021-01-01T18:02:00.000000000",
                    "2021-01-01T18:03:00.000000000",
                    "2021-01-01T18:04:00.000000000",
                    "2021-01-01T18:05:00.000000000",
                    "2021-01-01T18:06:00.000000000",
                    "2021-01-01T18:07:00.000000000",
                    "2021-01-01T18:08:00.000000000",
                    "2021-01-01T18:09:00.000000000",
                    "2021-01-01T18:10:00.000000000",
                    "2021-01-01T18:11:00.000000000",
                    "2021-01-01T18:12:00.000000000",
                    "2021-01-01T18:13:00.000000000",
                    "2021-01-01T18:14:00.000000000",
                    "2021-01-01T18:15:00.000000000",
                    "2021-01-01T18:16:00.000000000",
                    "2021-01-01T18:17:00.000000000",
                    "2021-01-01T18:18:00.000000000",
                    "2021-01-01T18:19:00.000000000",
                    "2021-01-01T18:20:00.000000000",
                    "2021-01-01T18:21:00.000000000",
                    "2021-01-01T18:22:00.000000000",
                    "2021-01-01T18:23:00.000000000",
                    "2021-01-01T18:24:00.000000000",
                    "2021-01-01T18:25:00.000000000",
                    "2021-01-01T18:26:00.000000000",
                    "2021-01-01T18:27:00.000000000",
                    "2021-01-01T18:28:00.000000000",
                    "2021-01-01T18:29:00.000000000",
                    "2021-01-01T18:30:00.000000000",
                    "2021-01-01T18:31:00.000000000",
                    "2021-01-01T18:32:00.000000000",
                    "2021-01-01T18:33:00.000000000",
                    "2021-01-01T18:34:00.000000000",
                    "2021-01-01T18:35:00.000000000",
                    "2021-01-01T18:36:00.000000000",
                    "2021-01-01T18:37:00.000000000",
                    "2021-01-01T18:38:00.000000000",
                    "2021-01-01T18:39:00.000000000",
                    "2021-01-01T18:40:00.000000000",
                    "2021-01-01T18:41:00.000000000",
                    "2021-01-01T18:42:00.000000000",
                    "2021-01-01T18:43:00.000000000",
                    "2021-01-01T18:44:00.000000000",
                    "2021-01-01T18:45:00.000000000",
                    "2021-01-01T18:46:00.000000000",
                    "2021-01-01T18:47:00.000000000",
                    "2021-01-01T18:48:00.000000000",
                    "2021-01-01T18:49:00.000000000",
                    "2021-01-01T18:50:00.000000000",
                    "2021-01-01T18:51:00.000000000",
                    "2021-01-01T18:52:00.000000000",
                    "2021-01-01T18:53:00.000000000",
                    "2021-01-01T18:54:00.000000000",
                    "2021-01-01T18:55:00.000000000",
                    "2021-01-01T18:56:00.000000000",
                    "2021-01-01T18:57:00.000000000",
                    "2021-01-01T18:58:00.000000000",
                    "2021-01-01T18:59:00.000000000",
                    "2021-01-01T19:00:00.000000000",
                    "2021-01-01T19:01:00.000000000",
                    "2021-01-01T19:02:00.000000000",
                    "2021-01-01T19:03:00.000000000",
                    "2021-01-01T19:04:00.000000000",
                    "2021-01-01T19:05:00.000000000",
                    "2021-01-01T19:06:00.000000000",
                    "2021-01-01T19:07:00.000000000",
                    "2021-01-01T19:08:00.000000000",
                    "2021-01-01T19:09:00.000000000",
                    "2021-01-01T19:10:00.000000000",
                    "2021-01-01T19:11:00.000000000",
                    "2021-01-01T19:12:00.000000000",
                    "2021-01-01T19:13:00.000000000",
                    "2021-01-01T19:14:00.000000000",
                    "2021-01-01T19:15:00.000000000",
                    "2021-01-01T19:16:00.000000000",
                    "2021-01-01T19:17:00.000000000",
                    "2021-01-01T19:18:00.000000000",
                    "2021-01-01T19:19:00.000000000",
                    "2021-01-01T19:20:00.000000000",
                    "2021-01-01T19:21:00.000000000",
                    "2021-01-01T19:22:00.000000000",
                    "2021-01-01T19:23:00.000000000",
                    "2021-01-01T19:24:00.000000000",
                    "2021-01-01T19:25:00.000000000",
                    "2021-01-01T19:26:00.000000000",
                    "2021-01-01T19:27:00.000000000",
                    "2021-01-01T19:28:00.000000000",
                    "2021-01-01T19:29:00.000000000",
                    "2021-01-01T19:30:00.000000000",
                    "2021-01-01T19:31:00.000000000",
                    "2021-01-01T19:32:00.000000000",
                    "2021-01-01T19:33:00.000000000",
                    "2021-01-01T19:34:00.000000000",
                    "2021-01-01T19:35:00.000000000",
                    "2021-01-01T19:36:00.000000000",
                    "2021-01-01T19:37:00.000000000",
                    "2021-01-01T19:38:00.000000000",
                    "2021-01-01T19:39:00.000000000",
                    "2021-01-01T19:40:00.000000000",
                    "2021-01-01T19:41:00.000000000",
                    "2021-01-01T19:42:00.000000000",
                    "2021-01-01T19:43:00.000000000",
                    "2021-01-01T19:44:00.000000000",
                    "2021-01-01T19:45:00.000000000",
                    "2021-01-01T19:46:00.000000000",
                    "2021-01-01T19:47:00.000000000",
                    "2021-01-01T19:48:00.000000000",
                    "2021-01-01T19:49:00.000000000",
                    "2021-01-01T19:50:00.000000000",
                    "2021-01-01T19:51:00.000000000",
                    "2021-01-01T19:52:00.000000000",
                    "2021-01-01T19:53:00.000000000",
                    "2021-01-01T19:54:00.000000000",
                    "2021-01-01T19:55:00.000000000",
                    "2021-01-01T19:56:00.000000000",
                    "2021-01-01T19:57:00.000000000",
                    "2021-01-01T19:58:00.000000000",
                    "2021-01-01T19:59:00.000000000",
                    "2021-01-01T20:00:00.000000000",
                    "2021-01-01T20:01:00.000000000",
                    "2021-01-01T20:02:00.000000000",
                    "2021-01-01T20:03:00.000000000",
                    "2021-01-01T20:04:00.000000000",
                    "2021-01-01T20:05:00.000000000",
                    "2021-01-01T20:06:00.000000000",
                    "2021-01-01T20:07:00.000000000",
                    "2021-01-01T20:08:00.000000000",
                    "2021-01-01T20:09:00.000000000",
                    "2021-01-01T20:10:00.000000000",
                    "2021-01-01T20:11:00.000000000",
                    "2021-01-01T20:12:00.000000000",
                    "2021-01-01T20:13:00.000000000",
                    "2021-01-01T20:14:00.000000000",
                    "2021-01-01T20:15:00.000000000",
                    "2021-01-01T20:16:00.000000000",
                    "2021-01-01T20:17:00.000000000",
                    "2021-01-01T20:18:00.000000000",
                    "2021-01-01T20:19:00.000000000",
                    "2021-01-01T20:20:00.000000000",
                    "2021-01-01T20:21:00.000000000",
                    "2021-01-01T20:22:00.000000000",
                    "2021-01-01T20:23:00.000000000",
                    "2021-01-01T20:24:00.000000000",
                    "2021-01-01T20:25:00.000000000",
                    "2021-01-01T20:26:00.000000000",
                    "2021-01-01T20:27:00.000000000",
                    "2021-01-01T20:28:00.000000000",
                    "2021-01-01T20:29:00.000000000",
                    "2021-01-01T20:30:00.000000000",
                    "2021-01-01T20:31:00.000000000",
                    "2021-01-01T20:32:00.000000000",
                    "2021-01-01T20:33:00.000000000",
                    "2021-01-01T20:34:00.000000000",
                    "2021-01-01T20:35:00.000000000",
                    "2021-01-01T20:36:00.000000000",
                    "2021-01-01T20:37:00.000000000",
                    "2021-01-01T20:38:00.000000000",
                    "2021-01-01T20:39:00.000000000",
                    "2021-01-01T20:40:00.000000000",
                    "2021-01-01T20:41:00.000000000",
                    "2021-01-01T20:42:00.000000000",
                    "2021-01-01T20:43:00.000000000",
                    "2021-01-01T20:44:00.000000000",
                    "2021-01-01T20:45:00.000000000",
                    "2021-01-01T20:46:00.000000000",
                    "2021-01-01T20:47:00.000000000",
                    "2021-01-01T20:48:00.000000000",
                    "2021-01-01T20:49:00.000000000",
                    "2021-01-01T20:50:00.000000000",
                    "2021-01-01T20:51:00.000000000",
                    "2021-01-01T20:52:00.000000000",
                    "2021-01-01T20:53:00.000000000",
                    "2021-01-01T20:54:00.000000000",
                    "2021-01-01T20:55:00.000000000",
                    "2021-01-01T20:56:00.000000000",
                    "2021-01-01T20:57:00.000000000",
                    "2021-01-01T20:58:00.000000000",
                    "2021-01-01T20:59:00.000000000",
                    "2021-01-01T21:00:00.000000000",
                    "2021-01-01T21:01:00.000000000",
                    "2021-01-01T21:02:00.000000000",
                    "2021-01-01T21:03:00.000000000",
                    "2021-01-01T21:04:00.000000000",
                    "2021-01-01T21:05:00.000000000",
                    "2021-01-01T21:06:00.000000000",
                    "2021-01-01T21:07:00.000000000",
                    "2021-01-01T21:08:00.000000000",
                    "2021-01-01T21:09:00.000000000",
                    "2021-01-01T21:10:00.000000000",
                    "2021-01-01T21:11:00.000000000",
                    "2021-01-01T21:12:00.000000000",
                    "2021-01-01T21:13:00.000000000",
                    "2021-01-01T21:14:00.000000000",
                    "2021-01-01T21:15:00.000000000",
                    "2021-01-01T21:16:00.000000000",
                    "2021-01-01T21:17:00.000000000",
                    "2021-01-01T21:18:00.000000000",
                    "2021-01-01T21:19:00.000000000",
                    "2021-01-01T21:20:00.000000000",
                    "2021-01-01T21:21:00.000000000",
                    "2021-01-01T21:22:00.000000000",
                    "2021-01-01T21:23:00.000000000",
                    "2021-01-01T21:24:00.000000000",
                    "2021-01-01T21:25:00.000000000",
                    "2021-01-01T21:26:00.000000000",
                    "2021-01-01T21:27:00.000000000",
                    "2021-01-01T21:28:00.000000000",
                    "2021-01-01T21:29:00.000000000",
                    "2021-01-01T21:30:00.000000000",
                    "2021-01-01T21:31:00.000000000",
                    "2021-01-01T21:32:00.000000000",
                    "2021-01-01T21:33:00.000000000",
                    "2021-01-01T21:34:00.000000000",
                    "2021-01-01T21:35:00.000000000",
                    "2021-01-01T21:36:00.000000000",
                    "2021-01-01T21:37:00.000000000",
                    "2021-01-01T21:38:00.000000000",
                    "2021-01-01T21:39:00.000000000",
                    "2021-01-01T21:40:00.000000000",
                    "2021-01-01T21:41:00.000000000",
                    "2021-01-01T21:42:00.000000000",
                    "2021-01-01T21:43:00.000000000",
                    "2021-01-01T21:44:00.000000000",
                    "2021-01-01T21:45:00.000000000",
                    "2021-01-01T21:46:00.000000000",
                    "2021-01-01T21:47:00.000000000",
                    "2021-01-01T21:48:00.000000000",
                    "2021-01-01T21:49:00.000000000",
                    "2021-01-01T21:50:00.000000000",
                    "2021-01-01T21:51:00.000000000",
                    "2021-01-01T21:52:00.000000000",
                    "2021-01-01T21:53:00.000000000",
                    "2021-01-01T21:54:00.000000000",
                    "2021-01-01T21:55:00.000000000",
                    "2021-01-01T21:56:00.000000000",
                    "2021-01-01T21:57:00.000000000",
                    "2021-01-01T21:58:00.000000000",
                    "2021-01-01T21:59:00.000000000",
                    "2021-01-01T22:00:00.000000000",
                    "2021-01-01T22:01:00.000000000",
                    "2021-01-01T22:02:00.000000000",
                    "2021-01-01T22:03:00.000000000",
                    "2021-01-01T22:04:00.000000000",
                    "2021-01-01T22:05:00.000000000",
                    "2021-01-01T22:06:00.000000000",
                    "2021-01-01T22:07:00.000000000",
                    "2021-01-01T22:08:00.000000000",
                    "2021-01-01T22:09:00.000000000",
                    "2021-01-01T22:10:00.000000000",
                    "2021-01-01T22:11:00.000000000",
                    "2021-01-01T22:12:00.000000000",
                    "2021-01-01T22:13:00.000000000",
                    "2021-01-01T22:14:00.000000000",
                    "2021-01-01T22:15:00.000000000",
                    "2021-01-01T22:16:00.000000000",
                    "2021-01-01T22:17:00.000000000",
                    "2021-01-01T22:18:00.000000000",
                    "2021-01-01T22:19:00.000000000",
                    "2021-01-01T22:20:00.000000000",
                    "2021-01-01T22:21:00.000000000",
                    "2021-01-01T22:22:00.000000000",
                    "2021-01-01T22:23:00.000000000",
                    "2021-01-01T22:24:00.000000000",
                    "2021-01-01T22:25:00.000000000",
                    "2021-01-01T22:26:00.000000000",
                    "2021-01-01T22:27:00.000000000",
                    "2021-01-01T22:28:00.000000000",
                    "2021-01-01T22:29:00.000000000",
                    "2021-01-01T22:30:00.000000000",
                    "2021-01-01T22:31:00.000000000",
                    "2021-01-01T22:32:00.000000000",
                    "2021-01-01T22:33:00.000000000",
                    "2021-01-01T22:34:00.000000000",
                    "2021-01-01T22:35:00.000000000",
                    "2021-01-01T22:36:00.000000000",
                    "2021-01-01T22:37:00.000000000",
                    "2021-01-01T22:38:00.000000000",
                    "2021-01-01T22:39:00.000000000",
                    "2021-01-01T22:40:00.000000000",
                    "2021-01-01T22:41:00.000000000",
                    "2021-01-01T22:42:00.000000000",
                    "2021-01-01T22:43:00.000000000",
                    "2021-01-01T22:44:00.000000000",
                    "2021-01-01T22:45:00.000000000",
                    "2021-01-01T22:46:00.000000000",
                    "2021-01-01T22:47:00.000000000",
                    "2021-01-01T22:48:00.000000000",
                    "2021-01-01T22:49:00.000000000",
                    "2021-01-01T22:50:00.000000000",
                    "2021-01-01T22:51:00.000000000",
                    "2021-01-01T22:52:00.000000000",
                    "2021-01-01T22:53:00.000000000",
                    "2021-01-01T22:54:00.000000000",
                    "2021-01-01T22:55:00.000000000",
                    "2021-01-01T22:56:00.000000000",
                    "2021-01-01T22:57:00.000000000",
                    "2021-01-01T22:58:00.000000000",
                    "2021-01-01T22:59:00.000000000",
                    "2021-01-01T23:00:00.000000000",
                    "2021-01-01T23:01:00.000000000",
                    "2021-01-01T23:02:00.000000000",
                    "2021-01-01T23:03:00.000000000",
                    "2021-01-01T23:04:00.000000000",
                    "2021-01-01T23:05:00.000000000",
                    "2021-01-01T23:06:00.000000000",
                    "2021-01-01T23:07:00.000000000",
                    "2021-01-01T23:08:00.000000000",
                    "2021-01-01T23:09:00.000000000",
                    "2021-01-01T23:10:00.000000000",
                    "2021-01-01T23:11:00.000000000",
                    "2021-01-01T23:12:00.000000000",
                    "2021-01-01T23:13:00.000000000",
                    "2021-01-01T23:14:00.000000000",
                    "2021-01-01T23:15:00.000000000",
                    "2021-01-01T23:16:00.000000000",
                    "2021-01-01T23:17:00.000000000",
                    "2021-01-01T23:18:00.000000000",
                    "2021-01-01T23:19:00.000000000",
                    "2021-01-01T23:20:00.000000000",
                    "2021-01-01T23:21:00.000000000",
                    "2021-01-01T23:22:00.000000000",
                    "2021-01-01T23:23:00.000000000",
                    "2021-01-01T23:24:00.000000000",
                    "2021-01-01T23:25:00.000000000",
                    "2021-01-01T23:26:00.000000000",
                    "2021-01-01T23:27:00.000000000",
                    "2021-01-01T23:28:00.000000000",
                    "2021-01-01T23:29:00.000000000",
                    "2021-01-01T23:30:00.000000000",
                    "2021-01-01T23:31:00.000000000",
                    "2021-01-01T23:32:00.000000000",
                    "2021-01-01T23:33:00.000000000",
                    "2021-01-01T23:34:00.000000000",
                    "2021-01-01T23:35:00.000000000",
                    "2021-01-01T23:36:00.000000000",
                    "2021-01-01T23:37:00.000000000",
                    "2021-01-01T23:38:00.000000000",
                    "2021-01-01T23:39:00.000000000",
                    "2021-01-01T23:40:00.000000000",
                    "2021-01-01T23:41:00.000000000",
                    "2021-01-01T23:42:00.000000000",
                    "2021-01-01T23:43:00.000000000",
                    "2021-01-01T23:44:00.000000000",
                    "2021-01-01T23:45:00.000000000",
                    "2021-01-01T23:46:00.000000000",
                    "2021-01-01T23:47:00.000000000",
                    "2021-01-01T23:48:00.000000000",
                    "2021-01-01T23:49:00.000000000",
                    "2021-01-01T23:50:00.000000000",
                    "2021-01-01T23:51:00.000000000",
                    "2021-01-01T23:52:00.000000000",
                    "2021-01-01T23:53:00.000000000",
                    "2021-01-01T23:54:00.000000000",
                    "2021-01-01T23:55:00.000000000",
                    "2021-01-01T23:56:00.000000000",
                    "2021-01-01T23:57:00.000000000",
                    "2021-01-01T23:58:00.000000000",
                    "2021-01-01T23:59:00.000000000"
                  ]
                }
              ],
              "layout": {
                "height": 1000,
                "showlegend": true,
                "template": {
                  "data": {
                    "bar": [
                      {
                        "error_x": {
                          "color": "#2a3f5f"
                        },
                        "error_y": {
                          "color": "#2a3f5f"
                        },
                        "marker": {
                          "line": {
                            "color": "#E5ECF6",
                            "width": 0.5
                          },
                          "pattern": {
                            "fillmode": "overlay",
                            "size": 10,
                            "solidity": 0.2
                          }
                        },
                        "type": "bar"
                      }
                    ],
                    "barpolar": [
                      {
                        "marker": {
                          "line": {
                            "color": "#E5ECF6",
                            "width": 0.5
                          },
                          "pattern": {
                            "fillmode": "overlay",
                            "size": 10,
                            "solidity": 0.2
                          }
                        },
                        "type": "barpolar"
                      }
                    ],
                    "carpet": [
                      {
                        "aaxis": {
                          "endlinecolor": "#2a3f5f",
                          "gridcolor": "white",
                          "linecolor": "white",
                          "minorgridcolor": "white",
                          "startlinecolor": "#2a3f5f"
                        },
                        "baxis": {
                          "endlinecolor": "#2a3f5f",
                          "gridcolor": "white",
                          "linecolor": "white",
                          "minorgridcolor": "white",
                          "startlinecolor": "#2a3f5f"
                        },
                        "type": "carpet"
                      }
                    ],
                    "choropleth": [
                      {
                        "colorbar": {
                          "outlinewidth": 0,
                          "ticks": ""
                        },
                        "type": "choropleth"
                      }
                    ],
                    "contour": [
                      {
                        "colorbar": {
                          "outlinewidth": 0,
                          "ticks": ""
                        },
                        "colorscale": [
                          [
                            0,
                            "#0d0887"
                          ],
                          [
                            0.1111111111111111,
                            "#46039f"
                          ],
                          [
                            0.2222222222222222,
                            "#7201a8"
                          ],
                          [
                            0.3333333333333333,
                            "#9c179e"
                          ],
                          [
                            0.4444444444444444,
                            "#bd3786"
                          ],
                          [
                            0.5555555555555556,
                            "#d8576b"
                          ],
                          [
                            0.6666666666666666,
                            "#ed7953"
                          ],
                          [
                            0.7777777777777778,
                            "#fb9f3a"
                          ],
                          [
                            0.8888888888888888,
                            "#fdca26"
                          ],
                          [
                            1,
                            "#f0f921"
                          ]
                        ],
                        "type": "contour"
                      }
                    ],
                    "contourcarpet": [
                      {
                        "colorbar": {
                          "outlinewidth": 0,
                          "ticks": ""
                        },
                        "type": "contourcarpet"
                      }
                    ],
                    "heatmap": [
                      {
                        "colorbar": {
                          "outlinewidth": 0,
                          "ticks": ""
                        },
                        "colorscale": [
                          [
                            0,
                            "#0d0887"
                          ],
                          [
                            0.1111111111111111,
                            "#46039f"
                          ],
                          [
                            0.2222222222222222,
                            "#7201a8"
                          ],
                          [
                            0.3333333333333333,
                            "#9c179e"
                          ],
                          [
                            0.4444444444444444,
                            "#bd3786"
                          ],
                          [
                            0.5555555555555556,
                            "#d8576b"
                          ],
                          [
                            0.6666666666666666,
                            "#ed7953"
                          ],
                          [
                            0.7777777777777778,
                            "#fb9f3a"
                          ],
                          [
                            0.8888888888888888,
                            "#fdca26"
                          ],
                          [
                            1,
                            "#f0f921"
                          ]
                        ],
                        "type": "heatmap"
                      }
                    ],
                    "histogram": [
                      {
                        "marker": {
                          "pattern": {
                            "fillmode": "overlay",
                            "size": 10,
                            "solidity": 0.2
                          }
                        },
                        "type": "histogram"
                      }
                    ],
                    "histogram2d": [
                      {
                        "colorbar": {
                          "outlinewidth": 0,
                          "ticks": ""
                        },
                        "colorscale": [
                          [
                            0,
                            "#0d0887"
                          ],
                          [
                            0.1111111111111111,
                            "#46039f"
                          ],
                          [
                            0.2222222222222222,
                            "#7201a8"
                          ],
                          [
                            0.3333333333333333,
                            "#9c179e"
                          ],
                          [
                            0.4444444444444444,
                            "#bd3786"
                          ],
                          [
                            0.5555555555555556,
                            "#d8576b"
                          ],
                          [
                            0.6666666666666666,
                            "#ed7953"
                          ],
                          [
                            0.7777777777777778,
                            "#fb9f3a"
                          ],
                          [
                            0.8888888888888888,
                            "#fdca26"
                          ],
                          [
                            1,
                            "#f0f921"
                          ]
                        ],
                        "type": "histogram2d"
                      }
                    ],
                    "histogram2dcontour": [
                      {
                        "colorbar": {
                          "outlinewidth": 0,
                          "ticks": ""
                        },
                        "colorscale": [
                          [
                            0,
                            "#0d0887"
                          ],
                          [
                            0.1111111111111111,
                            "#46039f"
                          ],
                          [
                            0.2222222222222222,
                            "#7201a8"
                          ],
                          [
                            0.3333333333333333,
                            "#9c179e"
                          ],
                          [
                            0.4444444444444444,
                            "#bd3786"
                          ],
                          [
                            0.5555555555555556,
                            "#d8576b"
                          ],
                          [
                            0.6666666666666666,
                            "#ed7953"
                          ],
                          [
                            0.7777777777777778,
                            "#fb9f3a"
                          ],
                          [
                            0.8888888888888888,
                            "#fdca26"
                          ],
                          [
                            1,
                            "#f0f921"
                          ]
                        ],
                        "type": "histogram2dcontour"
                      }
                    ],
                    "mesh3d": [
                      {
                        "colorbar": {
                          "outlinewidth": 0,
                          "ticks": ""
                        },
                        "type": "mesh3d"
                      }
                    ],
                    "parcoords": [
                      {
                        "line": {
                          "colorbar": {
                            "outlinewidth": 0,
                            "ticks": ""
                          }
                        },
                        "type": "parcoords"
                      }
                    ],
                    "pie": [
                      {
                        "automargin": true,
                        "type": "pie"
                      }
                    ],
                    "scatter": [
                      {
                        "fillpattern": {
                          "fillmode": "overlay",
                          "size": 10,
                          "solidity": 0.2
                        },
                        "type": "scatter"
                      }
                    ],
                    "scatter3d": [
                      {
                        "line": {
                          "colorbar": {
                            "outlinewidth": 0,
                            "ticks": ""
                          }
                        },
                        "marker": {
                          "colorbar": {
                            "outlinewidth": 0,
                            "ticks": ""
                          }
                        },
                        "type": "scatter3d"
                      }
                    ],
                    "scattercarpet": [
                      {
                        "marker": {
                          "colorbar": {
                            "outlinewidth": 0,
                            "ticks": ""
                          }
                        },
                        "type": "scattercarpet"
                      }
                    ],
                    "scattergeo": [
                      {
                        "marker": {
                          "colorbar": {
                            "outlinewidth": 0,
                            "ticks": ""
                          }
                        },
                        "type": "scattergeo"
                      }
                    ],
                    "scattergl": [
                      {
                        "marker": {
                          "colorbar": {
                            "outlinewidth": 0,
                            "ticks": ""
                          }
                        },
                        "type": "scattergl"
                      }
                    ],
                    "scattermap": [
                      {
                        "marker": {
                          "colorbar": {
                            "outlinewidth": 0,
                            "ticks": ""
                          }
                        },
                        "type": "scattermap"
                      }
                    ],
                    "scattermapbox": [
                      {
                        "marker": {
                          "colorbar": {
                            "outlinewidth": 0,
                            "ticks": ""
                          }
                        },
                        "type": "scattermapbox"
                      }
                    ],
                    "scatterpolar": [
                      {
                        "marker": {
                          "colorbar": {
                            "outlinewidth": 0,
                            "ticks": ""
                          }
                        },
                        "type": "scatterpolar"
                      }
                    ],
                    "scatterpolargl": [
                      {
                        "marker": {
                          "colorbar": {
                            "outlinewidth": 0,
                            "ticks": ""
                          }
                        },
                        "type": "scatterpolargl"
                      }
                    ],
                    "scatterternary": [
                      {
                        "marker": {
                          "colorbar": {
                            "outlinewidth": 0,
                            "ticks": ""
                          }
                        },
                        "type": "scatterternary"
                      }
                    ],
                    "surface": [
                      {
                        "colorbar": {
                          "outlinewidth": 0,
                          "ticks": ""
                        },
                        "colorscale": [
                          [
                            0,
                            "#0d0887"
                          ],
                          [
                            0.1111111111111111,
                            "#46039f"
                          ],
                          [
                            0.2222222222222222,
                            "#7201a8"
                          ],
                          [
                            0.3333333333333333,
                            "#9c179e"
                          ],
                          [
                            0.4444444444444444,
                            "#bd3786"
                          ],
                          [
                            0.5555555555555556,
                            "#d8576b"
                          ],
                          [
                            0.6666666666666666,
                            "#ed7953"
                          ],
                          [
                            0.7777777777777778,
                            "#fb9f3a"
                          ],
                          [
                            0.8888888888888888,
                            "#fdca26"
                          ],
                          [
                            1,
                            "#f0f921"
                          ]
                        ],
                        "type": "surface"
                      }
                    ],
                    "table": [
                      {
                        "cells": {
                          "fill": {
                            "color": "#EBF0F8"
                          },
                          "line": {
                            "color": "white"
                          }
                        },
                        "header": {
                          "fill": {
                            "color": "#C8D4E3"
                          },
                          "line": {
                            "color": "white"
                          }
                        },
                        "type": "table"
                      }
                    ]
                  },
                  "layout": {
                    "annotationdefaults": {
                      "arrowcolor": "#2a3f5f",
                      "arrowhead": 0,
                      "arrowwidth": 1
                    },
                    "autotypenumbers": "strict",
                    "coloraxis": {
                      "colorbar": {
                        "outlinewidth": 0,
                        "ticks": ""
                      }
                    },
                    "colorscale": {
                      "diverging": [
                        [
                          0,
                          "#8e0152"
                        ],
                        [
                          0.1,
                          "#c51b7d"
                        ],
                        [
                          0.2,
                          "#de77ae"
                        ],
                        [
                          0.3,
                          "#f1b6da"
                        ],
                        [
                          0.4,
                          "#fde0ef"
                        ],
                        [
                          0.5,
                          "#f7f7f7"
                        ],
                        [
                          0.6,
                          "#e6f5d0"
                        ],
                        [
                          0.7,
                          "#b8e186"
                        ],
                        [
                          0.8,
                          "#7fbc41"
                        ],
                        [
                          0.9,
                          "#4d9221"
                        ],
                        [
                          1,
                          "#276419"
                        ]
                      ],
                      "sequential": [
                        [
                          0,
                          "#0d0887"
                        ],
                        [
                          0.1111111111111111,
                          "#46039f"
                        ],
                        [
                          0.2222222222222222,
                          "#7201a8"
                        ],
                        [
                          0.3333333333333333,
                          "#9c179e"
                        ],
                        [
                          0.4444444444444444,
                          "#bd3786"
                        ],
                        [
                          0.5555555555555556,
                          "#d8576b"
                        ],
                        [
                          0.6666666666666666,
                          "#ed7953"
                        ],
                        [
                          0.7777777777777778,
                          "#fb9f3a"
                        ],
                        [
                          0.8888888888888888,
                          "#fdca26"
                        ],
                        [
                          1,
                          "#f0f921"
                        ]
                      ],
                      "sequentialminus": [
                        [
                          0,
                          "#0d0887"
                        ],
                        [
                          0.1111111111111111,
                          "#46039f"
                        ],
                        [
                          0.2222222222222222,
                          "#7201a8"
                        ],
                        [
                          0.3333333333333333,
                          "#9c179e"
                        ],
                        [
                          0.4444444444444444,
                          "#bd3786"
                        ],
                        [
                          0.5555555555555556,
                          "#d8576b"
                        ],
                        [
                          0.6666666666666666,
                          "#ed7953"
                        ],
                        [
                          0.7777777777777778,
                          "#fb9f3a"
                        ],
                        [
                          0.8888888888888888,
                          "#fdca26"
                        ],
                        [
                          1,
                          "#f0f921"
                        ]
                      ]
                    },
                    "colorway": [
                      "#636efa",
                      "#EF553B",
                      "#00cc96",
                      "#ab63fa",
                      "#FFA15A",
                      "#19d3f3",
                      "#FF6692",
                      "#B6E880",
                      "#FF97FF",
                      "#FECB52"
                    ],
                    "font": {
                      "color": "#2a3f5f"
                    },
                    "geo": {
                      "bgcolor": "white",
                      "lakecolor": "white",
                      "landcolor": "#E5ECF6",
                      "showlakes": true,
                      "showland": true,
                      "subunitcolor": "white"
                    },
                    "hoverlabel": {
                      "align": "left"
                    },
                    "hovermode": "closest",
                    "mapbox": {
                      "style": "light"
                    },
                    "paper_bgcolor": "white",
                    "plot_bgcolor": "#E5ECF6",
                    "polar": {
                      "angularaxis": {
                        "gridcolor": "white",
                        "linecolor": "white",
                        "ticks": ""
                      },
                      "bgcolor": "#E5ECF6",
                      "radialaxis": {
                        "gridcolor": "white",
                        "linecolor": "white",
                        "ticks": ""
                      }
                    },
                    "scene": {
                      "xaxis": {
                        "backgroundcolor": "#E5ECF6",
                        "gridcolor": "white",
                        "gridwidth": 2,
                        "linecolor": "white",
                        "showbackground": true,
                        "ticks": "",
                        "zerolinecolor": "white"
                      },
                      "yaxis": {
                        "backgroundcolor": "#E5ECF6",
                        "gridcolor": "white",
                        "gridwidth": 2,
                        "linecolor": "white",
                        "showbackground": true,
                        "ticks": "",
                        "zerolinecolor": "white"
                      },
                      "zaxis": {
                        "backgroundcolor": "#E5ECF6",
                        "gridcolor": "white",
                        "gridwidth": 2,
                        "linecolor": "white",
                        "showbackground": true,
                        "ticks": "",
                        "zerolinecolor": "white"
                      }
                    },
                    "shapedefaults": {
                      "line": {
                        "color": "#2a3f5f"
                      }
                    },
                    "ternary": {
                      "aaxis": {
                        "gridcolor": "white",
                        "linecolor": "white",
                        "ticks": ""
                      },
                      "baxis": {
                        "gridcolor": "white",
                        "linecolor": "white",
                        "ticks": ""
                      },
                      "bgcolor": "#E5ECF6",
                      "caxis": {
                        "gridcolor": "white",
                        "linecolor": "white",
                        "ticks": ""
                      }
                    },
                    "title": {
                      "x": 0.05
                    },
                    "xaxis": {
                      "automargin": true,
                      "gridcolor": "white",
                      "linecolor": "white",
                      "ticks": "",
                      "title": {
                        "standoff": 15
                      },
                      "zerolinecolor": "white",
                      "zerolinewidth": 2
                    },
                    "yaxis": {
                      "automargin": true,
                      "gridcolor": "white",
                      "linecolor": "white",
                      "ticks": "",
                      "title": {
                        "standoff": 15
                      },
                      "zerolinecolor": "white",
                      "zerolinewidth": 2
                    }
                  }
                },
                "title": {
                  "text": "Technical Analysis"
                }
              }
            },
            "text/html": [
              "<div>            <script src=\"https://cdnjs.cloudflare.com/ajax/libs/mathjax/2.7.5/MathJax.js?config=TeX-AMS-MML_SVG\"></script><script type=\"text/javascript\">if (window.MathJax && window.MathJax.Hub && window.MathJax.Hub.Config) {window.MathJax.Hub.Config({SVG: {font: \"STIX-Web\"}});}</script>                <script type=\"text/javascript\">window.PlotlyConfig = {MathJaxConfig: 'local'};</script>\n",
              "        <script charset=\"utf-8\" src=\"https://cdn.plot.ly/plotly-3.0.1.min.js\"></script>                <div id=\"7dd34d80-24f9-4a16-83fd-464a38dff03e\" class=\"plotly-graph-div\" style=\"height:1000px; width:100%;\"></div>            <script type=\"text/javascript\">                window.PLOTLYENV=window.PLOTLYENV || {};                                if (document.getElementById(\"7dd34d80-24f9-4a16-83fd-464a38dff03e\")) {                    Plotly.newPlot(                        \"7dd34d80-24f9-4a16-83fd-464a38dff03e\",                        [{\"close\":{\"dtype\":\"f8\",\"bdata\":\"KVyPwgXs20AAAAAAMO3bQM3MzMws6NtAZmZmZjbm20C4HoXrkefbQGZmZmZm5NtApHA9Cnfi20CuR+F6hOPbQBSuR+Gq8dtA16NwPYrx20AUrkfhyvXbQEjhehTOANxASOF6FO4D3EDD9ShcfwPcQHsUrkfxAdxAAAAAAMAA3EAzMzMzowDcQM3MzMwMBNxAzczMzGwI3ECPwvUoHAjcQJqZmZkJCNxA16NwPVoB3EBcj8L1uBTcQFyPwvWoGdxA4XoUrtcb3EBcj8L1OBbcQBSuR+EqF9xAj8L1KPwX3ECkcD0KlxncQFK4HoW7G9xAFK5H4Woc3ECPwvUonCXcQBSuR+EKHNxAmpmZmQkY3ECPwvUoLCLcQB+F61EYItxAuB6F6wEe3EDD9ShcHyDcQJqZmZnZH9xAhetRuB4d3EA9Ctej4CDcQK5H4XoEG9xA4XoUrqce3EApXI\\u002fClRjcQEjhehSOH9xAw\\u002fUoXC8i3EAUrkfheiHcQHE9CtezJtxAhetRuB4m3EAzMzMz8zDcQB+F61FIM9xAZmZmZpYz3EAAAAAAADbcQOxRuB61NdxArkfhetQp3EA9CtejkDXcQOF6FK5XONxAAAAAAMA23ECF61G43j3cQNejcD1KOtxASOF6FB483EApXI\\u002fCNTvcQD0K16MQLdxAH4XrUagi3EAfhetRaCHcQI\\u002fC9SicINxAXI\\u002fC9Xgt3EAUrkfhGjXcQJqZmZnpKNxAzczMzFwq3EAAAAAAsDLcQJqZmZm5MdxAcT0K12M13ECuR+F6ZDbcQAAAAAAQNNxAzczMzGwm3EAAAAAAgDHcQMP1KFz\\u002fMtxA4XoUrsc93EAUrkfhukHcQFK4HoWrQtxApHA9CmdK3ECPwvUonE3cQM3MzMxcTNxAMzMzM2NK3EDD9Shcf0rcQFyPwvXYTNxAw\\u002fUoXA9F3EDNzMzMPEHcQBSuR+HKRdxA7FG4HhVO3EAAAAAAUFPcQArXo3BNVtxA7FG4HqVW3ECamZmZOVvcQB+F61EoWtxASOF6FH5S3EB7FK5HIVbcQB+F61FYVdxAKVyPwqVQ3EDXo3A9ak\\u002fcQFyPwvWITdxAcT0K1wNN3EC4HoXr8UrcQKRwPQp3TNxApHA9CvdK3EAfhetReErcQPYoXI\\u002fCSNxAAAAAAEBD3ECuR+F6VErcQOF6FK6HTtxAUrgehQtM3EBmZmZmhk3cQK5H4XoEV9xAw\\u002fUoXG9W3EC4HoXrsVXcQM3MzMxsRdxAMzMzMxNJ3ED2KFyPYj7cQB+F61GoQtxACtejcG1F3EDhehSu50XcQAAAAACAStxAH4XrUThH3EApXI\\u002fC5UTcQPYoXI9SRdxApHA9CrdD3EDhehSu90TcQEjhehS+StxAzczMzExH3EBmZmZmRlDcQKRwPQrHV9xAKVyPwpVY3EDsUbgeVVbcQIXrUbi+VtxAMzMzM1NV3EDNzMzM7EbcQAAAAADgSdxAcT0K1zNR3EDsUbgeNUfcQPYoXI+iTNxAuB6F60FK3EAzMzMzo0bcQK5H4XokRtxAuB6F63FJ3EAK16Nw\\u002fUvcQB+F61EYTNxAAAAAACBG3EBcj8L1KEbcQBSuR+EaR9xAZmZmZgZI3ECPwvUozEPcQHE9CtfTSNxArkfheuRI3EBSuB6Fq0rcQClcj8J1SNxAAAAAAIBM3EBmZmZmxkzcQAAAAACAUdxAexSuR6FT3EBxPQrXY1LcQBSuR+F6VdxA9ihcjyJS3ECF61G4jlTcQNejcD06VNxAAAAAAABS3EA9CtejUFLcQAAAAAAAUtxA16NwPXpR3EAzMzMz40rcQPYoXI+iStxA7FG4HvVR3ECkcD0KZ17cQArXo3BNZ9xAhetRuP5q3EDsUbgedWTcQB+F61FYbNxAXI\\u002fC9fhu3EC4HoXrkW\\u002fcQArXo3BNe9xAAAAAAACE3EDhehSu93ncQK5H4XqkbdxA7FG4HiVb3EDhehSul1ncQFK4HoVLWdxA4XoUridR3EC4HoXrwVDcQFyPwvV4WdxA4XoUrndZ3EDXo3A9al7cQLgehesBYtxAw\\u002fUoXF9m3ECkcD0Kx17cQOF6FK6HZdxAXI\\u002fC9fhq3EAAAAAAAGvcQFK4HoWratxArkfheuR23EAAAAAAMHncQClcj8K1gdxAcT0K11N53EC4HoXr0XXcQHsUrkfxbtxA4XoUrpd83EApXI\\u002fCRXXcQOxRuB4ld9xAcT0K1wN53EA9CtejIH3cQK5H4XrEedxA7FG4HiV93EDNzMzMLH3cQIXrUbhOhNxA4XoUrseD3ECuR+F6hILcQNejcD2qe9xAKVyPwtV63EAAAAAAcG7cQLgehesBbNxAPQrXo1Bo3EBmZmZmVmTcQB+F61HoaNxA16NwPQpu3ECPwvUozGvcQAAAAAAAbNxAH4XrUVhh3ED2KFyP0mDcQOF6FK4HWdxAFK5H4Zpc3EBI4XoU3lPcQAAAAACAXtxAFK5H4Ypr3ECPwvUoXGncQM3MzMxcaNxAKVyPwgVe3EBmZmZm1lrcQJqZmZmpY9xAexSuR8FY3ECuR+F65E\\u002fcQMP1KFzPU9xAZmZmZuZO3EBcj8L1CFzcQB+F61EoYtxA9ihcjwJl3EC4HoXr8VvcQArXo3C9VdxAj8L1KAxZ3EB7FK5H0UfcQLgehesBRdxArkfhenRJ3EDNzMzMfFbcQKRwPQpnVtxAFK5H4dpQ3EAzMzMzU1rcQJqZmZk5aNxA9ihcj5Jm3EAUrkfhymrcQOxRuB7lZ9xAexSuRwFu3EAK16NwXW\\u002fcQD0K16PAadxAPQrXo8Bp3EA9CtejAG\\u002fcQDMzMzNjb9xAMzMzM3Nw3EAzMzMzU3XcQHsUrkeBc9xASOF6FI5z3EAAAAAAQHjcQAAAAACQc9xAFK5H4epr3EAAAAAAAGvcQArXo3AdadxAAAAAAABr3EA9CtejEHfcQB+F61HIcdxAmpmZmSl53EDsUbgeJXXcQAAAAADQfdxAj8L1KAyB3EBcj8L16HrcQOxRuB71fNxAcT0K1\\u002fN73ED2KFyPsnncQIXrUbiue9xAMzMzM+N83EApXI\\u002fC9XvcQGZmZmZ2dtxA7FG4HjVy3EAUrkfhWnTcQIXrUbgOd9xAAAAAAAB13EBxPQrXY3vcQIXrUbg+fNxAexSuR7F73EDhehSux3ncQHsUrkche9xAAAAAACB83ECuR+F6dH7cQOxRuB6Ff9xAAAAAANBz3EAAAAAA0G3cQAAAAADgXtxAw\\u002fUoXN9Z3ECPwvUo3FvcQGZmZmb2aNxAw\\u002fUoXM9g3EDD9ShcP2LcQIXrUbiOZdxA9ihcjwJp3EAUrkfhqmrcQClcj8KlZ9xACtejcD1u3EAAAAAAQHfcQAAAAABgb9xAUrgehZtz3EAAAAAAQHHcQPYoXI8SctxAMzMzM+N03ECkcD0KN3TcQArXo3BteNxArkfhegR13ECkcD0K92jcQFK4HoXrYNxASOF6FG5i3EBSuB6F22PcQKRwPQpXYtxAUrgehUtX3EDNzMzM7FbcQHE9CtcTXtxAcT0K1\\u002fNg3EApXI\\u002fC9VbcQB+F61E4XNxAMzMzM4NW3ECamZmZmVzcQK5H4XpUV9xAPQrXo2BY3EDsUbgeZV7cQIXrUbgOVtxAZmZmZkZW3EApXI\\u002fCpV7cQIXrUbgOXNxAuB6F60Fb3EBSuB6F21XcQOF6FK73U9xAw\\u002fUoXP813EA9CtejkDLcQJqZmZnZS9xAAAAAAFBL3EDD9ShcP0\\u002fcQD0K16MwUtxAMzMzM5NV3ECkcD0Kp1PcQAAAAACAW9xAPQrXo2Be3EBmZmZmBlvcQHsUrkcBX9xAuB6F6+Fb3ED2KFyPMl3cQI\\u002fC9SicTdxAH4XrUehR3EBxPQrX01PcQDMzMzNzY9xAUrgehWtb3EAfhetRCF7cQKRwPQp3V9xACtejcC1R3EAK16NwPVLcQLgehethUNxAzczMzExE3EDD9ShcP0HcQIXrUbhOOtxAH4XrUfg83EAzMzMzczjcQIXrUbh+HNxArkfhegQj3EBxPQrXQyzcQBSuR+EqMtxAKVyPwlU33EC4HoXrgTncQEjhehRuN9xAw\\u002fUoXM8k3EDhehSuhy3cQDMzMzOTM9xArkfhenQ33EC4HoXr0TrcQMP1KFw\\u002fQtxAMzMzMzM73ECkcD0KdzncQLgehesBONxApHA9Cgc53EAAAAAAgEXcQHsUrkehQtxACtejcP1E3EDhehSut0ncQArXo3AdRtxAexSuR\\u002fFR3EBxPQrXM07cQEjhehTuTdxAzczMzJxL3EAAAAAA0EncQD0K16MgUdxAXI\\u002fC9chS3EDXo3A9ClDcQD0K16NQUdxAhetRuH5T3ECkcD0KF1DcQKRwPQoXU9xA7FG4HhVV3EC4HoXrIVXcQI\\u002fC9SgMWtxAUrgehTtZ3EApXI\\u002fCZVXcQD0K16NAXtxApHA9Ckdc3EDD9Shcn1ncQEjhehROWdxA9ihcj8Ji3EBI4XoUXmrcQFK4HoX7ZdxA16NwPapj3EA9CtejwF3cQDMzMzPTW9xAUrgehTtj3EAAAAAAsGDcQAAAAAAAcNxAAAAAAIB33ECkcD0K93PcQAAAAADwdNxA9ihcj5KB3EBcj8L1qH3cQGZmZmYWhtxAw\\u002fUoXG+O3EDNzMzMPJzcQLgehesRn9xAhetRuF6\\u002f3EAzMzMzI7rcQEjhehRusNxACtejcF2t3EAAAAAAALHcQMP1KFwPotxAmpmZmVmx3ED2KFyPgq7cQJqZmZnZp9xAj8L1KFys3EDhehSu57HcQB+F61GYr9xAcT0K12Or3EBmZmZmdq\\u002fcQJqZmZnJttxAMzMzM3PB3EAAAAAAwM3cQB+F61E4vdxAzczMzMzD3EAAAAAAALbcQB+F61HYutxA16NwPVq83EB7FK5HkcXcQI\\u002fC9ShszNxArkfhepTV3EAUrkfhWsvcQMP1KFxfvtxAAAAAAIDE3ECkcD0Kh7ncQJqZmZlJvtxAmpmZmUm13EDNzMzMjLjcQD0K16PQv9xA16NwPYq+3ECPwvUo7L7cQKRwPQpXxdxAj8L1KFy\\u002f3EDhehSu97vcQMP1KFw\\u002fvNxA16NwPWrD3EBmZmZm5r\\u002fcQAAAAABAwdxArkfheuTF3EBxPQrXk87cQB+F61FozNxAXI\\u002fC9RjL3ECkcD0Kh9XcQArXo3CN1dxAw\\u002fUoXD\\u002fG3EAzMzMzQ8XcQOxRuB7lxNxAH4XrUTjC3EDXo3A96rzcQI\\u002fC9Sisv9xAuB6F6zG73EAAAAAAkMHcQD0K16NQwNxAKVyPwqW73EBSuB6F67ncQNejcD2ar9xAFK5H4Wqq3EDNzMzMjLHcQHE9CtezrdxAzczMzGyy3EBSuB6Fi7PcQK5H4Xq0tdxAUrgehVuw3EAfhetR2LPcQArXo3CNttxAexSuRwG73EDD9Shc777cQIXrUbh+ttxA4XoUrne53EBmZmZmtrDcQIXrUbjeqNxAZmZmZlau3EAAAAAAAJfcQAAAAADAntxAzczMzGyY3EAK16Nw\\u002fZncQBSuR+EqmtxAhetRuK6e3EBmZmZm1p7cQNejcD16odxAXI\\u002fC9eic3EDsUbgehZncQNejcD2KmNxAw\\u002fUoXN+S3EDD9Shcb5ncQFK4HoWboNxAzczMzEyh3EA9CtejsKjcQMP1KFxfpNxACtejcH2l3EDXo3A9iqjcQOxRuB7Vs9xAMzMzMyOu3EDsUbgeJaTcQPYoXI+SoNxAhetRuO6d3EAUrkfh6o\\u002fcQM3MzMzMj9xAMzMzM+ON3EBSuB6Fa5DcQHE9CtcDjNxA7FG4HlWQ3EA9CtejwJjcQD0K16MAldxAmpmZmcmX3EDNzMzMbJvcQMP1KFyfm9xAmpmZmSmg3EAAAAAAwKDcQAAAAAAgotxAKVyPwtWb3EBcj8L1eKLcQNejcD2Ko9xAH4XrUeiq3EBxPQrXM6TcQBSuR+EKptxAZmZmZgak3ECPwvUonK3cQLgehesho9xAUrgehTuk3ECPwvUoXJ\\u002fcQI\\u002fC9SiMnNxArkfhenSb3EAfhetRaKHcQHE9CtczmdxAFK5H4VqV3EC4HoXrAZvcQKRwPQrXndxAXI\\u002fC9WiP3EAAAAAAcIvcQKRwPQonldxArkfheuSU3EA9CtejIJPcQFyPwvVIldxAmpmZmWmf3ECF61G4bpzcQOF6FK63mdxAMzMzM3Of3EBxPQrXg6PcQM3MzMxso9xA16NwPeqc3EDhehSup6DcQAAAAAAAttxAw\\u002fUoXL+x3ECuR+F6tKvcQIXrUbhuqdxAUrgehcup3EBxPQrX46fcQIXrUbjeptxAAAAAAPCo3EB7FK5HIavcQJqZmZlJptxA9ihcj2Kh3ECPwvUofKHcQLgehevRpNxAZmZmZrao3EAzMzMz07LcQOxRuB5VsNxArkfhekSz3EDD9ShcP6\\u002fcQHsUrkfRqdxAZmZmZvap3ECPwvUonLLcQD0K16Pgt9xAmpmZmZmx3ED2KFyPorLcQB+F61EordxA7FG4HnWt3EDsUbge9a3cQI\\u002fC9Sj8tdxAmpmZmTmw3EAfhetRCLHcQJqZmZnpttxA7FG4HvWy3ECuR+F6NKzcQM3MzMz8sNxAPQrXo5Cr3ECF61G4vrjcQOF6FK43wdxAAAAAAPC63EDD9ShcD7\\u002fcQOxRuB5VwNxAMzMzMxO73EDD9ShcH7vcQDMzMzPDv9xAuB6F6zG33EDNzMzMDLzcQB+F61FYvdxAzczMzHy+3ED2KFyPAr3cQFK4HoVLvtxAPQrXo3C43EDNzMzMnLrcQGZmZmZGstxAKVyPwuWu3ECF61G4XpvcQPYoXI8iotxA4XoUrsef3EC4HoXrUZvcQHE9CtdDmNxAexSuR\\u002fGV3EA9CtejcJXcQK5H4XoEk9xAw\\u002fUoXO+B3EAzMzMzI47cQFyPwvWYkdxAFK5H4WqP3EDhehSuJ5XcQGZmZmaWk9xAzczMzEyZ3ECamZmZGZXcQK5H4XrklNxAMzMzMwOa3ED2KFyPsprcQMP1KFxvmNxAw\\u002fUoXG+Y3EApXI\\u002fChZfcQGZmZmaGmtxAPQrXo\\u002fCZ3EBSuB6Fi5ncQD0K16MwmdxA7FG4HqWb3EBmZmZmlprcQEjhehROldxA4XoUrgeQ3ECamZmZ+YfcQBSuR+GqjtxAUrgehSuL3EBSuB6FW43cQMP1KFzvitxAmpmZmYmH3ECkcD0K53zcQFyPwvVYfdxAH4XrUSiC3EDsUbgeNYHcQAAAAADgf9xAuB6F69GA3EDNzMzMXIzcQNejcD2ahtxA16NwPZqF3EC4HoXrEYfcQNejcD3qh9xAcT0K13OG3EBSuB6F24fcQKRwPQrHhtxAUrgehYuI3ECuR+F6VIvcQNejcD2KjdxAexSuR0GO3ECkcD0K14fcQGZmZmY2i9xAuB6F61GI3EBmZmZm1orcQBSuR+FakdxA16NwPcqI3EB7FK5HcYTcQOxRuB51hdxAhetRuO5+3ECuR+F6dITcQHsUrkehidxA7FG4HsWT3EAfhetRCJPcQArXo3DdjtxArkfheqSP3EDXo3A9epHcQK5H4Xr0jtxAAAAAABCP3EAfhetR+I\\u002fcQM3MzMzcktxAMzMzM8OR3EDhehSuN5HcQHsUrkfhk9xA7FG4HtWR3ECPwvUorIrcQMP1KFz\\u002fh9xAuB6F6yGG3ECamZmZ+YPcQOF6FK53i9xAhetRuH6H3EDsUbgetYvcQKRwPQqHjdxAZmZmZoaO3EAfhetRaJPcQGZmZmb2ldxAAAAAAMCV3EDNzMzMTJvcQOF6FK4HndxA9ihcjzKg3EAfhetRqJ7cQGZmZmYmm9xA7FG4HpWZ3ECamZmZmZfcQGZmZmZGmNxApHA9CmeZ3EA9CtejAJfcQHsUrkcRl9xA9ihcj\\u002fKW3EAAAAAAMJXcQI\\u002fC9Sg8ldxApHA9CneP3EBxPQrXY4\\u002fcQKRwPQrXh9xAexSuR2GQ3ECamZmZaZDcQK5H4Xq0jtxAuB6F69GF3EBxPQrXg4ncQB+F61FohdxAzczMzByD3EDXo3A9GoXcQOF6FK6XhNxAhetRuP593EAfhetRuIPcQD0K16NwhtxAPQrXo0CK3EBcj8L1KH3cQMP1KFxfitxAmpmZmamI3EAUrkfhyo3cQM3MzMzsitxAH4XrUeiM3EApXI\\u002fCZYncQGZmZmZGitxAexSuR+GL3ED2KFyPQozcQOF6FK6XjtxAZmZmZnaR3EAAAAAAkI\\u002fcQEjhehSejtxAmpmZmfmI3EBSuB6F24vcQB+F61EoiNxAhetRuI6M3EAfhetRyIjcQHE9CteTitxAFK5H4QqG3ECuR+F69HzcQJqZmZmJhNxAZmZmZmaB3ECF61G4vofcQOF6FK4XitxA9ihcj2KP3EA9CtejwIfcQHE9CtejjtxAj8L1KEyO3ED2KFyPoo3cQI\\u002fC9SgMj9xAj8L1KLyE3EC4HoXrkYHcQHE9CtfTg9xAFK5H4Zpl3EDNzMzMnGzcQFK4HoVbTNxAPQrXowBe3EBI4XoUPl\\u002fcQLgehevRX9xA9ihcj4JT3EBmZmZmNlfcQKRwPQpnXtxAmpmZmbln3EDD9Shcf2bcQDMzMzODaNxAUrgehYtj3ECPwvUoHGbcQI\\u002fC9SjsZdxAhetRuB5n3EDsUbgexWbcQNejcD3qbNxAcT0K15Nl3ED2KFyPwmPcQM3MzMwsbdxAUrgehftl3EDXo3A9OmXcQKRwPQrXZtxA16NwPXps3EAAAAAAcHDcQGZmZmZ2cNxAZmZmZnZw3EA9CtejIHbcQDMzMzPzcNxAFK5H4dp33EAK16NwbXvcQClcj8KFfNxAZmZmZuZ63EC4HoXrsX7cQD0K16MgddxAhetRuA563EBcj8L1eHrcQAAAAACAdtxA7FG4HrV33EAAAAAAIHXcQKRwPQrndNxAuB6F6+F+3ED2KFyPEnzcQK5H4Xpke9xAMzMzM1N73EAzMzMzU3vcQMP1KFw\\u002fetxAUrgehXt+3EA9Ctej0HvcQBSuR+FKfdxAPQrXo8B+3EA9CtejsIXcQOxRuB71iNxAZmZmZuaJ3EAK16NwnYTcQFK4HoWrfdxAhetRuG543EDsUbge1XPcQOxRuB6FaNxAUrgehWtv3EDD9Shcn3HcQDMzMzNjcNxACtejcG1o3ED2KFyP4mTcQDMzMzMDY9xAmpmZmYlp3EApXI\\u002fCRV\\u002fcQKRwPQoXX9xAMzMzM6Nf3EAK16NwTVbcQOxRuB5VUtxAj8L1KJxN3EDhehSul0vcQHE9CtcDVtxAAAAAABBb3ECkcD0KB2bcQFK4HoWbZdxAFK5H4fpi3EDsUbgeJWbcQFK4HoVLbNxAUrgehUts3EAK16NwzXPcQFK4HoWLeNxAAAAAADB53EApXI\\u002fCVYHcQPYoXI\\u002fif9xA9ihcjwJ23EBxPQrXI3bcQFK4HoV7b9xAH4XrUchz3EBcj8L1OHfcQLgehesxetxAKVyPwtVw3EAfhetRmG7cQBSuR+H6YNxA7FG4HlVd3EA9CtejwFbcQI\\u002fC9SiMZdxAZmZmZlZf3EAK16NwDW3cQI\\u002fC9Sh8a9xAw\\u002fUoXH9t3ECPwvUofGvcQHsUrkfxb9xAZmZmZmZs3EAAAAAAoGzcQJqZmZkJcdxACtejcF1x3ECamZmZSXLcQGZmZmYmbtxAUrgehRth3EDXo3A9+mrcQHsUrkdhbNxASOF6FA503EBxPQrXM3TcQArXo3CNftxAPQrXo4B33EAUrkfh+n\\u002fcQLgeheuBfNxArkfheuR73EBxPQrXw3rcQAAAAACAd9xAFK5H4Xp33EApXI\\u002fCVYHcQEjhehSuidxASOF6FM6J3ECkcD0KB4PcQD0K16Mwg9xAMzMzM7OD3EApXI\\u002fCRYfcQOxRuB7lgtxASOF6FC6M3EBSuB6Fu4ncQClcj8IFjdxAFK5H4TqM3ECuR+F61IzcQM3MzMzsl9xAMzMzMyOc3EBSuB6Fe5zcQAAAAAAAl9xAMzMzM8OS3ECF61G4HpXcQOF6FK7nn9xASOF6FH6g3EApXI\\u002fCdaTcQBSuR+E6qNxAcT0K1yOn3EAAAAAAgKncQAAAAAAwsdxAexSuR1Gs3EB7FK5HsavcQD0K16MAp9xAAAAAAACn3EC4HoXrYaPcQIXrUbjOn9xA7FG4HuWd3ECF61G4zqHcQAAAAADgodxAMzMzM2Ok3EA9CtejkKncQLgeheshotxAcT0K1yOj3ECPwvUoXKHcQOxRuB71ntxA7FG4HiWX3ECuR+F69JncQKRwPQr3mdxAZmZmZmaa3EBxPQrXI57cQOxRuB71m9xA4XoUrqeY3ECuR+F6RJfcQFK4HoULl9xASOF6FH6h3ED2KFyPoqPcQK5H4XrEntxAzczMzEyS3EC4HoXr4Y\\u002fcQIXrUbiOlNxAPQrXoyCV3EAAAAAA8J7cQOxRuB6ltNxAFK5H4bqs3EDhehSul63cQOF6FK6nptxAFK5H4cqo3ECamZmZua3cQOF6FK7nq9xAFK5H4Rqz3EC4HoXrkarcQKRwPQqnqdxA7FG4HjWo3EC4HoXr0Z\\u002fcQK5H4XqEodxAhetRuH6f3EDXo3A9Cp7cQI\\u002fC9Sgsn9xAj8L1KCyf3EC4HoXrsZ\\u002fcQHE9Ctfjq9xAMzMzM7Oe3EA9CtejgJ7cQKRwPQo3oNxAmpmZmcme3EAK16NwzZrcQOF6FK4Hm9xA9ihcj\\u002fKh3EDNzMzMPKDcQI\\u002fC9ShcpNxApHA9Cjek3ECuR+F6hKvcQPYoXI+isdxAw\\u002fUoXG+u3ECuR+F6NKzcQDMzMzPTptxACtejcO2o3EBxPQrX06fcQM3MzMxcqdxA16NwPdqe3EDhehSux53cQIXrUbjeqdxAuB6F65Gv3EAfhetR6KncQGZmZmb2qdxAj8L1KOyq3EBI4XoULqfcQHsUrkehptxApHA9Cten3EB7FK5HgaLcQIXrUbhOptxAj8L1KLyi3EBI4XoUzqfcQFK4HoVLsdxA16NwPaqw3EBI4XoUbqfcQPYoXI\\u002fSpdxAMzMzM9Oo3EAK16Nwna7cQPYoXI8yr9xAXI\\u002fC9di53EDXo3A92rbcQB+F61F4sNxASOF6FH6w3ECamZmZya\\u002fcQAAAAAAgt9xAw\\u002fUoXL+13EBSuB6F26\\u002fcQDMzMzOTrdxAAAAAAACz3ECPwvUo\\u002fK7cQM3MzMwctNxAH4XrUfi53ECkcD0KF7\\u002fcQFK4HoUrvtxAzczMzGy+3ECPwvUo\\u002fLncQBSuR+G6vdxAH4XrUVjA3EBxPQrX88HcQB+F61E4t9xA16NwPVrG3EAAAAAAgMzcQK5H4Xo0w9xAPQrXowC33EApXI\\u002fC9bbcQClcj8LVsNxASOF6FJ6l3EDsUbgeJazcQEjhehQOr9xA16NwPUqt3EAfhetRqKzcQHsUrkcRstxAPQrXo8Cy3EAfhetRWLPcQFK4HoVrr9xAhetRuH6r3EDNzMzMHKfcQDMzMzPDp9xAKVyPwhWq3EBxPQrXo6rcQEjhehR+q9xAexSuRxGx3EApXI\\u002fC1avcQPYoXI9CqNxAw\\u002fUoXI+s3ECamZmZKajcQArXo3BNsNxAhetRuD6u3EDNzMzMLK\\u002fcQOF6FK6nsdxAKVyPwpWz3ECkcD0Kt7HcQJqZmZl5tNxAH4XrUbiv3ED2KFyPQqLcQI\\u002fC9Si8otxAPQrXo3Ce3EDD9ShcH5jcQOxRuB4lntxAFK5H4fqe3EDNzMzMDJ7cQOF6FK7XqNxAhetRuC6p3EDsUbge1arcQArXo3AtqdxAexSuRzGn3EDhehSuh6TcQLgeheuxqNxAKVyPwrWv3ECPwvUo7LHcQAAAAAAAu9xAAAAAAADG3EB7FK5HYb7cQArXo3AtyNxAMzMzM7PF3EC4HoXrIc3cQLgehesB09xASOF6FL7N3ECF61G4\\u002fs\\u002fcQDMzMzODztxAexSuR2HU3ED2KFyP4t3cQAAAAABA8NxASOF6FB7t3ECuR+F6pO3cQB+F61E459xA4XoUrjfs3EAAAAAAcPfcQB+F61HY9txA9ihcj4Lu3EAfhetRGPLcQHsUrkdx89xArkfhemTi3EBSuB6FC9fcQNejcD065dxAFK5H4Srg3EDNzMzM7NbcQOxRuB4F3NxAw\\u002fUoXG\\u002fh3EAzMzMzo93cQD0K16Pw0txASOF6FN7K3EBxPQrX063cQClcj8LlstxAw\\u002fUoXI+u3ECPwvUozJncQD0K16PQpdxAAAAAAICf3EBSuB6FS6DcQJqZmZlZpNxA7FG4HtWd3EAzMzMzk6ncQPYoXI\\u002fSsNxAAAAAAAC23EAUrkfhqrHcQFyPwvUYsNxAexSuRwG33EBSuB6Fe7vcQPYoXI\\u002fitNxA7FG4HqW33EDD9Shcb7zcQAAAAADQv9xAuB6F65G93EBSuB6Fq7fcQClcj8LFwtxA16NwPUrI3EDNzMzMvL7cQJqZmZmpzNxAAAAAACDF3EB7FK5HscDcQArXo3Cdv9xACtejcJ253EBmZmZmhrTcQK5H4XrUuNxA4XoUrnfF3EDsUbgedb\\u002fcQD0K16OQwNxASOF6FJ653EAAAAAAILzcQBSuR+HqxNxAAAAAAADK3EBxPQrXE8zcQBSuR+FayNxAzczMzKzL3ECF61G4TsXcQI\\u002fC9SjcyNxAH4XrUZjA3ECuR+F6xMfcQOxRuB7lxtxAKVyPwjXM3EApXI\\u002fCNczcQOxRuB5FztxAhetRuI7J3ECuR+F69MfcQFK4HoWrw9xAuB6F6yHJ3EB7FK5H8dDcQJqZmZl51dxAZmZmZrbY3EBSuB6FW9ncQEjhehQe1dxAMzMzM+PV3EDXo3A9mtbcQFyPwvUY09xAexSuR7HW3EBmZmZm1tLcQM3MzMzM19xAexSuR8HV3ECamZmZ6dvcQOF6FK5n19xAAAAAAIDb3EAAAAAAoNfcQHE9CtfjwdxAcT0K1wPK3EAAAAAAMNPcQOF6FK7n0NxA9ihcj\\u002fLZ3EAAAAAAgODcQHsUrkex69xAmpmZmXng3EBmZmZmttfcQAAAAAAAz9xAzczMzGzX3EBSuB6Fu9fcQJqZmZmp3txAMzMzM6PX3EAUrkfhOtTcQB+F61H4zNxArkfhevTO3EDhehSu19DcQFK4HoXb1dxAPQrXo7DT3EBmZmZmZtncQD0K16NQ1txA16NwPTra3ECamZmZKdLcQEjhehQO09xAKVyPwhXT3EBSuB6F+9bcQGZmZmYG1txAAAAAAKDR3EB7FK5HYdTcQJqZmZkZ1NxAMzMzMxPL3EApXI\\u002fCdb\\u002fcQM3MzMxsvNxAZmZmZkbC3EAAAAAAoMXcQEjhehQ+yNxAUrgehRvH3ECkcD0Kd8jcQFK4HoVLzNxAzczMzDzN3EA9CtejIMvcQClcj8LFzNxAzczMzOzL3EAzMzMzo7bcQFyPwvXovdxArkfherTE3EDXo3A96r7cQLgehesBv9xAPQrXo4C73EAzMzMzM77cQJqZmZlptNxAexSuR+Gs3EDsUbgehbPcQNejcD3Ks9xAFK5H4Uqy3EAAAAAAALHcQHE9CtfTstxAZmZmZjaz3EB7FK5HgbTcQD0K16Pwq9xASOF6FN6k3ECkcD0K963cQBSuR+HKqNxArkfhemS03EDNzMzMjLPcQDMzMzOTs9xAhetRuK603ECuR+F6NLjcQArXo3DdtNxAzczMzAzE3EBcj8L1eL\\u002fcQNejcD3KvdxAuB6F64G53EDD9Shcv7jcQDMzMzOzudxA16NwPRq73EA9CtejEL3cQHE9CteTv9xAXI\\u002fC9Viv3ECuR+F6NLPcQDMzMzNDrtxAw\\u002fUoXN+s3EAUrkfhuq7cQFK4HoXLr9xACtejcG2h3EAfhetRyKvcQFK4HoULq9xApHA9Cuen3EBcj8L1mKDcQBSuR+FaltxAuB6F62Ga3EBmZmZmhqLcQD0K16Ogn9xA7FG4HhWb3EBmZmZmho\\u002fcQArXo3BtedxArkfhenR83EAzMzMzc3DcQEjhehSOfdxAzczMzAyF3EAAAAAA0IfcQKRwPQq3idxAj8L1KOyE3ECuR+F6RIzcQD0K16PQkdxAPQrXowCa3EA9CtejUJbcQHsUrkcxmdxAPQrXozCZ3ED2KFyPwpzcQFK4HoVrnNxA4XoUrseW3EAzMzMz85PcQAAAAAAAjtxAXI\\u002fC9YiI3ECkcD0KF5DcQFK4HoULldxACtejcH2T3EAAAAAAAJ\\u002fcQNejcD2qndxAXI\\u002fC9YiS3EAzMzMz84rcQHsUrkfhh9xAMzMzM1OP3EAAAAAAYJXcQNejcD3KmNxAmpmZmbmU3EAAAAAAAJ3cQArXo3CtmdxAKVyPwjWd3EAUrkfhSprcQFK4HoVLndxAhetRuE6a3ECuR+F6xJvcQOxRuB4lnNxAmpmZmZme3EApXI\\u002fC5Z\\u002fcQHE9CtcDp9xAAAAAAJCk3EDXo3A96qjcQHE9CtfTrdxASOF6FP6q3EDhehSuF63cQBSuR+G6stxArkfhekSu3ECamZmZ6ajcQD0K16PQqtxAw\\u002fUoXO+r3EAzMzMzw6bcQMP1KFyfq9xAexSuR9Gq3ECamZmZua3cQFyPwvUIsNxAAAAAAKCt3EDD9ShcT63cQM3MzMwMrNxArkfhelSr3ECkcD0KF67cQBSuR+FKqtxAMzMzM\\u002fOr3EAAAAAA4K3cQK5H4XpErNxAj8L1KGyv3EAzMzMzo7bcQIXrUbieuNxAcT0K19O43EA9CtejMLPcQK5H4XpktNxA9ihcj2Kz3EBcj8L1OLrcQIXrUbg+vtxA7FG4HhW\\u002f3EApXI\\u002fCFbbcQAAAAACQsdxAPQrXo3C03ECF61G47rLcQClcj8I1rtxA4XoUrqeu3EBmZmZmdqncQGZmZmZWrNxArkfhekSt3ECPwvUorLHcQD0K16NwstxA9ihcj6Kz3ECkcD0KV7LcQDMzMzNjtNxAcT0K14Ox3EB7FK5HIa3cQPYoXI8SrtxAPQrXo6Cz3EDsUbgeFbbcQB+F61Eos9xArkfhepSy3EDXo3A9OrrcQNejcD2qt9xAzczMzGy53EBmZmZmxrjcQD0K16PQr9xACtejcN233ECkcD0Kl67cQFyPwvXIp9xApHA9Cien3ECamZmZ+ajcQFK4HoWbp9xAj8L1KIym3EBxPQrXA6jcQOxRuB41ptxAexSuRzGq3EAUrkfhqqXcQDMzMzOzn9xAKVyPwoWe3EBI4XoUfprcQMP1KFw\\u002fmtxASOF6FM6d3EAzMzMzw57cQAAAAAAAndxAzczMzMyS3EBcj8L1OIrcQHsUrkcRh9xAzczMzEyP3ECamZmZaZLcQFyPwvUoktxAmpmZmYmO3EBI4XoUTmbcQHsUrkfBZtxAKVyPwnVu3EDsUbgeBXfcQD0K16OwdtxAAAAAAGCA3EDhehSuV3zcQK5H4XpkgNxAw\\u002fUoXO+B3ECPwvUovIPcQB+F61GYfdxAcT0K13OA3EAfhetRCIDcQPYoXI\\u002fSd9xA\"},\"decreasing\":{\"line\":{\"color\":\"#008000\"}},\"high\":{\"dtype\":\"f8\",\"bdata\":\"ZmZmZvby20DhehSup+7bQLgehesx8dtAH4XrUYjp20C4HoXrkefbQM3MzMzM5ttApHA9Cnfi20B7FK5H4e\\u002fbQM3MzMzM9NtAmpmZmXn520DsUbgeZQLcQBSuR+H6B9xASOF6FO4F3EAfhetR+APcQClcj8IlBdxAAAAAAAAH3EDD9ShcLwTcQM3MzMxsCNxAzczMzGwI3EDNzMzMbAjcQAAAAAAQCNxAH4XrUcgU3EBcj8L1qBncQArXo3BtH9xApHA9Clce3EBxPQrXMxzcQNejcD06HNxACtejcJ0Z3EDNzMzM7B3cQI\\u002fC9Sj8HdxASOF6FP4l3EBI4XoUHibcQM3MzMxsH9xAzczMzCwg3EDXo3A9aiPcQB+F61EYItxAAAAAACAg3EA9CtejQCLcQHsUrkfhINxAXI\\u002fC9cgg3EB7FK5H4SDcQMP1KFzvHtxA4XoUrqce3ECF61G4HiTcQM3MzMwsItxAw\\u002fUoXO8q3EAAAAAAECfcQIXrUbjuKtxAZmZmZpYz3EBmZmZmljPcQGZmZmaWM9xAAAAAAAA23EAAAAAAADbcQOxRuB61NdxAMzMzM\\u002fM13ECkcD0KRzvcQHsUrkdRPNxAhetRuN5B3ECF61G43kHcQKRwPQqHP9xAAAAAAABD3EA9CtejIEDcQIXrUbheL9xA9ihcj3Ik3EA9CtejICLcQFyPwvV4LdxACtejcE033ECPwvUovDXcQK5H4XpULdxAFK5H4Qo23EBmZmZmljPcQK5H4XqkONxA16NwPVo23EBSuB6FGzvcQJqZmZmpNtxAKVyPwqU03EB7FK5HATbcQI\\u002fC9SiMP9xAAAAAAIBF3ECamZmZmUbcQAAAAADAS9xAj8L1KJxN3EB7FK5HcU\\u002fcQLgehetxT9xAH4XrUShP3EAzMzMzY0\\u002fcQPYoXI9iT9xA9ihcj4JH3EDXo3A9ukfcQLgehetxT9xArkfhepRU3EAK16NwTVbcQHE9CtfDWdxAuB6F6wFf3ECF61G47lzcQB+F61EoWtxAexSuR8Fc3EB7FK5HIVbcQBSuR+HaVtxAUrgehUtT3EAAAAAAwFDcQIXrUbiOUtxAzczMzFxO3EBcj8L16E\\u002fcQPYoXI9yUNxAKVyPwiVM3EAfhetReErcQPYoXI\\u002fCSNxA16NwPcpN3ECuR+F61FDcQFK4HoXLT9xASOF6FG5P3EAUrkfhClfcQM3MzMxsXdxAXI\\u002fC9Yhc3EDNzMzMzFfcQOF6FK7XTtxAuB6F61FK3EAfhetRqELcQFyPwvUoSdxAj8L1KMxK3EDD9ShcT0rcQMP1KFwfTtxAUrgehbtI3ECPwvUovEfcQAAAAACARdxAUrgehQtG3EAfhetROEvcQMP1KFw\\u002fTNxAH4XrUZhU3EBSuB6F+1fcQI\\u002fC9SgMWtxAuB6F68Fb3EBcj8L12FjcQM3MzMxsXdxAFK5H4Spb3EAUrkfhikncQFK4HoVrUtxA7FG4HnVS3EAzMzMz407cQArXo3DtTtxAAAAAANBO3ECamZmZSUrcQAAAAAAAT9xAhetRuN5O3EAAAAAAAE\\u002fcQKRwPQrnUNxAKVyPwlVI3EAUrkfh2krcQNejcD2aTdxAZmZmZgZI3EBI4XoUzkjcQM3MzMysTNxArkfhenRL3EDhehSu90rcQAAAAACATNxAZmZmZsZM3EAAAAAAgFHcQClcj8JVVdxA4XoUrmdW3EDXo3A9qlbcQPYoXI+yV9xAzczMzMxX3EDsUbgexVfcQHsUrkchVdxAH4XrUYhV3EBmZmZmhlXcQJqZmZl5VdxAcT0K17NR3EAzMzMzU0\\u002fcQArXo3DdVNxAuB6F6wFf3EAAAAAAAGvcQAAAAAAAa9xAFK5H4Qps3EAzMzMzc3DcQOF6FK5Xc9xAUrgehet13ECamZmZmX\\u002fcQAAAAAAAhNxAAAAAAACE3ECPwvUoPH\\u002fcQOxRuB6lbdxA9ihcj+Jg3EBmZmZmVmTcQFK4HoV7XtxASOF6FL5X3EDNzMzMjFncQFyPwvV4WdxAFK5H4Wpe3EBmZmZmdmHcQJqZmZkZZ9xA7FG4HgVn3ED2KFyPEmfcQMP1KFz\\u002fatxAw\\u002fUoXP9q3ECkcD0KJ2\\u002fcQEjhehQuedxAAAAAADB53EDD9Shc74HcQMP1KFzvgdxArkfherR+3EC4HoXr0XXcQOxRuB6Fe9xAH4XrUZh83ECkcD0KZ3jcQHsUrkdRftxAw\\u002fUoXE9+3EA9CtejIH3cQHsUrkdRftxAzczMzCx93ECPwvUobITcQAAAAABQhtxAPQrXo8CI3EBcj8L1+IfcQPYoXI9ig9xAKVyPwtV63EAAAAAAcG7cQEjhehRubdxACtejcP1p3EBI4XoUDm3cQJqZmZnJbdxA16NwPQpu3ECPwvUozGvcQAAAAAAAbNxAPQrXo9Bi3ED2KFyP0mDcQBSuR+GaXNxA4XoUrnde3ECkcD0KR1vcQPYoXI8ycdxAZmZmZsZw3EDXo3A9CnDcQI\\u002fC9Sh8aNxAKVyPwhVg3ECkcD0KR2TcQJqZmZmpY9xAzczMzNxa3ECamZmZeVfcQAAAAACwVdxA9ihcjyJb3EAK16NwvWDcQD0K16PAZNxAFK5H4bpm3EBSuB6FC2LcQLgehesRW9xAj8L1KAxZ3EC4HoXrgUncQFyPwvUIT9xAzczMzHxW3EDNzMzMfFbcQKRwPQpnVtxA4XoUrkdh3EApXI\\u002fCNWjcQAAAAAAAa9xAAAAAAABr3EAUrkfhum7cQEjhehRebtxACtejcA1v3EAK16NwXW\\u002fcQMP1KFz\\u002fbtxAmpmZmXlt3EBmZmZmBm\\u002fcQDMzMzNzcNxAFK5H4Vp13EAAAAAAgHbcQAAAAAAwedxAAAAAADB53EAAAAAAMHncQAAAAACQc9xAXI\\u002fC9Thx3EAAAAAAAGvcQAAAAAAAa9xA7FG4HgV43EA9CtejEHfcQAAAAAAwedxAAAAAADB53EBcj8L16HvcQM3MzMycgdxAZmZmZuaB3ECPwvUonHzcQJqZmZnpgNxAw\\u002fUoXK9\\u002f3EApXI\\u002fCtX\\u002fcQDMzMzPjfNxAhetRuG5\\u002f3EBxPQrX83zcQNejcD2KetxAexSuR+F53EB7FK5H4XncQNejcD1qe9xAAAAAACB83EBmZmZmtnzcQK5H4XqkfNxAFK5H4ep+3EDNzMzMfH7cQPYoXI9SftxApHA9CveA3EBcj8L1qIHcQMP1KFxfgNxACtejcF163EAAAAAA0G3cQPYoXI\\u002fyXtxAXI\\u002fC9ehk3ECF61G4HmfcQAAAAAAAa9xAj8L1KHxl3EDD9Shcf2jcQAAAAAAAa9xAXI\\u002fC9Uhp3EAAAAAAAGvcQGZmZmYGbtxAMzMzMwN23EApXI\\u002fCdXjcQEjhehRudNxAZmZmZuZ13EAK16NwjXXcQDMzMzPTdtxAuB6F69F23EAAAAAAQHfcQAAAAAAwedxA16NwPdp43ECkcD0K92jcQJqZmZkpZdxAexSuR5Fm3ECamZmZiWjcQFyPwvVYYtxAXI\\u002fC9Xhb3EAfhetRWF7cQD0K16MwYtxAcT0K1\\u002fNg3EDNzMzM3FncQIXrUbg+XNxASOF6FD5c3ECamZmZmVzcQM3MzMycW9xAAAAAAMBe3EAAAAAAkF\\u002fcQGZmZmZGVtxAZmZmZqZe3EAK16NwPWDcQI\\u002fC9SgMYNxAAAAAAJBf3EDXo3A9GlbcQOF6FK73U9xAzczMzJw43EAAAAAA4ErcQDMzMzMzT9xAMzMzM0NP3ECkcD0K51fcQDMzMzNjWNxA7FG4HrVZ3ECPwvUoTFvcQD0K16NgXtxAuB6F6wFf3EB7FK5HAV\\u002fcQBSuR+HaYNxAH4XrUShe3EDhehSuJ17cQClcj8IlWNxAPQrXo4BX3ECamZmZuWfcQHsUrkdBZNxAXI\\u002fC9Vhj3ECF61G4bmDcQB+F61HYV9xAUrgehWtY3EDXo3A9ClXcQLgehethUNxAZmZmZvZO3EA9CtejQETcQI\\u002fC9SgMQtxAw\\u002fUoXN9A3EAzMzMzczjcQMP1KFz\\u002fKdxAcT0K18Mq3EApXI\\u002fCVTfcQClcj8JVN9xACtejcP063EB7FK5HIT3cQEjhehRuN9xACtejcJ0z3EBmZmZmVjbcQFyPwvXYPdxAuB6F62E73EBSuB6FG0HcQM3MzMzsRNxAuB6F61FB3EApXI\\u002fCpT7cQD0K16NAPNxAAAAAAIBF3ECuR+F6RErcQArXo3DNRtxA9ihcj7JL3ED2KFyPokzcQHE9CtdjU9xAUrgehUtS3EBSuB6FS1LcQB+F61EoUdxAzczMzJxL3EDD9ShcP1HcQGZmZmbWU9xAXI\\u002fC9chS3ECkcD0KJ1LcQArXo3BNVtxACtejcE1W3EAK16NwTVbcQAAAAACAXtxAKVyPwsVd3EBI4XoUXlncQI\\u002fC9SjMW9xAhetRuJ5Z3EA9CtejQF7cQJqZmZnJYdxApHA9Ckdc3EC4HoXrEV7cQPYoXI8iXtxAAAAAAMBq3ECuR+F6ZGrcQFK4HoX7ZdxAUrgehStl3ECuR+F6BF7cQEjhehQ+Y9xAUrgehTtj3EAAAAAAAHDcQAAAAADAeNxAAAAAAIB33ECuR+F6FHfcQMP1KFzvgdxA9ihcj5KB3EAAAAAAQIbcQArXo3B9kdxAzczMzDyc3EApXI\\u002fC1Z\\u002fcQOxRuB51v9xA7FG4HnW\\u002f3EB7FK5HgbrcQArXo3DtttxAAAAAAACx3EAAAAAAALHcQMP1KFz\\u002ftNxAmpmZmdmx3ED2KFyPgq7cQK5H4XrUrdxA7FG4HuW13ECkcD0KB7TcQB+F61GYr9xAexSuR3Gv3EAAAAAAwLncQAAAAACAx9xAAAAAAMDN3EDD9Shc\\u002f87cQOxRuB6lwdxAAAAAAIDE3ED2KFyP8r7cQNejcD3avNxAMzMzM9PL3ECkcD0KV8zcQFK4HoX72dxAUrgehfvZ3ED2KFyPkszcQGZmZmb2wdxAAAAAANDI3EC4HoXrUcLcQK5H4XokwtxAmpmZmam73EAAAAAAgL3cQI\\u002fC9SjMw9xASOF6FD7A3EDNzMzMjMbcQKRwPQpXxdxASOF6FB7C3EDXo3A9Kr3cQFyPwvXYw9xAAAAAALDF3ECuR+F65MXcQM3MzMzcxdxAPQrXo6DO3EBI4XoULtHcQDMzMzPjzNxAzczMzPzX3EDXo3A9mtbcQLgehevB1dxAw\\u002fUoXI\\u002fI3ECPwvUobMbcQOxRuB7lxNxAH4XrUTjC3EDXo3A9Kr\\u002fcQNejcD3av9xAAAAAAIDC3EAAAAAAgMLcQM3MzMzswNxApHA9CpfA3EDXo3A9Or3cQMP1KFyfs9xArkfhegS13EC4HoXr8bTcQArXo3BtstxAj8L1KNy13EA9CtejILvcQI\\u002fC9Si8utxAMzMzM\\u002fO33EDsUbge1bfcQAAAAAAAutxAKVyPwiXE3EDD9Shc777cQD0K16PgutxAFK5H4fq53ECamZmZebTcQI\\u002fC9Sh8stxAZmZmZlau3EBcj8L12KHcQAAAAAAAotxAj8L1KEyb3ECamZmZ2Z3cQAAAAABAo9xAexSuRzGi3EDD9Shcb6TcQKRwPQpnotxAuB6F6+Gf3EDsUbge5Z7cQIXrUbjumNxApHA9Coeb3EApXI\\u002fC1abcQNejcD0ap9xAAAAAAMCr3EBxPQrX063cQEjhehTOqdxAw\\u002fUoXE+t3EDXo3A9arTcQOxRuB7Vs9xAMzMzMyOu3EAK16NwzancQHE9Ctdjo9xAFK5H4Qqe3EBxPQrX85bcQOxRuB51k9xAZmZmZtaT3EBSuB6FO5TcQBSuR+EKlNxA4XoUroeX3EBSuB6FC5zcQFyPwvWYmNxAzczMzGyb3ECamZmZuaDcQFK4HoULodxApHA9Cgel3ECamZmZGaPcQAAAAAAgotxAw\\u002fUoXG+k3EDhehSuF6fcQJqZmZnJrdxAXI\\u002fC9eiq3EAfhetRCKncQLgehesxp9xAzczMzEyw3ECuR+F6ZLHcQK5H4XoksNxA4XoUrnel3ECkcD0KB6PcQMP1KFwvn9xAH4XrUWih3EAfhetRaKHcQMP1KFyvndxAzczMzAyg3EAUrkfhWqXcQKRwPQrXndxAcT0K12OT3EAfhetRyJXcQIXrUbjOmdxACtejcP2V3EBmZmZm9pfcQJqZmZk5oNxAzczMzEyk3EBSuB6Fq5\\u002fcQDMzMzNzn9xAw\\u002fUoXG+k3EDXo3A9SqfcQDMzMzODo9xA4XoUrleh3EDD9Shc\\u002f7XcQIXrUbieudxAXI\\u002fC9aiz3EBcj8L1qLHcQBSuR+EKq9xAUrgehcup3EDD9Shc\\u002f6rcQAAAAADwqNxAPQrXo\\u002fCu3EDD9ShcD6zcQJqZmZlJptxAKVyPwtWl3EBxPQrXA6zcQOxRuB61sNxAPQrXozCz3EAzMzMz07LcQK5H4XpEs9xArkfheiS03EB7FK5HcbDcQAAAAAAArdxAcT0K1\\u002fO13ED2KFyPQrncQD0K16Pgt9xAw\\u002fUoXH+z3ED2KFyPorLcQMP1KFy\\u002fr9xAcT0K12Ox3EAAAAAAALbcQArXo3D9tdxAexSuR9Gy3EC4HoXrUbfcQJqZmZnpttxA7FG4HvWy3EBcj8L12LPcQAAAAABAstxArkfherS73EDsUbgedb\\u002fcQHE9CtfDw9xACtejcK2\\u002f3EDsUbgeVcDcQOxRuB5VwNxA4XoUrie83ECkcD0K98HcQDMzMzPDv9xAUrgeheu93EAfhetR6MDcQOF6FK7nwdxA4XoUrqfB3EDD9Shcr8DcQOF6FK6Xv9xAexSuR5HE3EDXo3A92sDcQJqZmZmptdxAj8L1KMyw3EAzMzMzY6XcQOF6FK53pNxAj8L1KCyh3EBmZmZmJqPcQHsUrkehmNxA16NwPSqZ3EBmZmZmNpbcQClcj8IVk9xAexSuR0GN3EAUrkfh+o7cQFyPwvWYkdxAXI\\u002fC9RiV3EA9CtejQJfcQNejcD0amtxAhetRuB6a3ECamZmZGZXcQDMzMzMDmtxACtejcL2a3ED2KFyPsprcQMP1KFxvmNxApHA9CheZ3ECF61G4jprcQM3MzMxMm9xAzczMzGya3EDNzMzMPJzcQKRwPQoXnNxAmpmZmQmd3EBmZmZmlprcQEjhehROldxA4XoUrgeQ3EBmZmZm9ozcQBSuR+GqjtxAKVyPwsWP3EBmZmZmppLcQK5H4Xq0jtxA7FG4HtWJ3EB7FK5HYYLcQOxRuB5lgdxAH4XrUSiC3EBSuB6FG4LcQB+F61FYgdxAKVyPwoWL3EBmZmZmho3cQClcj8JFidxAuB6F66GF3EBSuB6F+4ncQM3MzMy8iNxAAAAAAFCI3ECamZmZ6YjcQOF6FK53h9xASOF6FB6K3EB7FK5HUY3cQBSuR+FqktxAexSuR0GO3EC4HoXr0YrcQEjhehQujdxAuB6F61GI3EC4HoXroZHcQBSuR+FakdxA16NwPcqI3EBmZmZmlofcQOxRuB51hdxAhetRuD6F3EBI4XoUborcQB+F61E4lNxAmpmZmQmW3EAfhetRCJPcQArXo3DdjtxAzczMzNyS3EAK16NwbZLcQNejcD0Kj9xAAAAAABCP3EDNzMzM3JLcQIXrUbhOk9xArkfhemSV3EDhehSuF5bcQNejcD26ldxA7FG4HtWR3ECPwvUorIrcQMP1KFz\\u002fh9xAuB6F6yGG3EBI4XoU3ovcQOF6FK53i9xA7FG4HrWL3ED2KFyP4pDcQOxRuB6Vj9xAH4XrUWiT3EBmZmZm9pXcQI\\u002fC9Sgcl9xAUrgehZud3EAK16NwrZ\\u002fcQEjhehROodxAcT0K12Oh3EAfhetRqJ7cQAAAAABAntxAXI\\u002fC9aib3EDNzMzMXJvcQMP1KFx\\u002fmtxApHA9CmeZ3EApXI\\u002fCNZrcQHsUrkcRl9xAuB6F61Ga3EApXI\\u002fClZfcQI\\u002fC9Sg8ldxAmpmZmVmR3EBxPQrXY4\\u002fcQJqZmZlJlNxAuB6F6+GR3ECamZmZ6ZLcQEjhehTuj9xAmpmZmSmQ3EBxPQrXg4ncQEjhehSejNxAj8L1KByJ3EBcj8L1GIncQHsUrkehhtxAZmZmZqaJ3EB7FK5HMYzcQI\\u002fC9ShcitxAPQrXo0CK3EAfhetRSIbcQD0K16NQj9xAAAAAAPCN3ECkcD0K943cQJqZmZnpjNxAKVyPwqWN3EC4HoXrsYzcQFK4HoXbi9xA7FG4HhWQ3EAzMzMzA5HcQI\\u002fC9SgMlNxAUrgehQuU3ECF61G4TpPcQEjhehSejtxArkfherSP3EBmZmZmpo\\u002fcQIXrUbiOjNxAhetRuI6M3EAfhetRCIncQHE9CteTitxAj8L1KNyI3ECuR+F6JIPcQBSuR+GKhNxAuB6F6+GI3EAUrkfhGovcQPYoXI9ij9xA9ihcj2KP3EDhehSuB5HcQKRwPQpnkdxAw\\u002fUoXG+P3EDNzMzMDI\\u002fcQI\\u002fC9SgMj9xAUrgehTuJ3EAUrkfh6oTcQJqZmZnZg9xAKVyPwmVv3EDNzMzMnGzcQAAAAAAAXtxAUrgehQth3ED2KFyP0l\\u002fcQLgehevRX9xA16NwPTpe3EBmZmZmZl7cQJqZmZm5Z9xAUrgehUtu3EBSuB6Fa2jcQD0K16MAa9xA16NwPXpm3ECF61G4PmncQEjhehRea9xAhetRuF5r3EDXo3A96mzcQJqZmZnpbdxA16NwPXpp3EBSuB6FW2vcQM3MzMwsbdxASOF6FN5p3ECPwvUoLGrcQDMzMzNzcNxAZmZmZpZ43ED2KFyPAnXcQLgehevReNxAAAAAADB53EDD9ShcL3ncQIXrUbguedxAMzMzM+N83ECF61G4nn3cQBSuR+HKftxAzczMzJx\\u002f3EBI4XoUnn\\u002fcQLgehevhftxA7FG4HoV+3EDXo3A9KnvcQB+F61G4fdxAuB6F62F73EDD9ShcP3rcQHsUrkfhftxAZmZmZmaA3EApXI\\u002fCBYDcQM3MzMwMftxAexSuR+F93EDhehSu137cQJqZmZnZftxAKVyPwmWA3EAK16Nw7YHcQHsUrkeRf9xAcT0K12OK3ECamZmZ2Y\\u002fcQFyPwvWYitxA4XoUrueJ3EAK16NwnYTcQKRwPQr3g9xAcT0K14N93EDsUbge1XPcQD0K16MAdNxA16NwPbpv3EBmZmZmZnLcQNejcD16cdxACtejcF1t3EB7FK5HoWjcQLgeheshadxAmpmZmYlp3ED2KFyPwmDcQGZmZmZmY9xAhetRuN5k3ECPwvUoTFfcQHE9CtdjXtxAzczMzIxT3EBI4XoU7lncQD0K16NQXdxACtejcH1l3EC4HoXrMWfcQOxRuB71ZdxAXI\\u002fC9Xht3EAzMzMzc3DcQGZmZmYWcNxAUrgehQt03EAAAAAAMHncQJqZmZmJfdxASOF6FP5+3EDD9Shc74HcQPYoXI\\u002fif9xA9ihcjwJ23EBxPQrXI3bcQB+F61HIc9xAXI\\u002fC9Th33EDD9Shcj3rcQLgehesxetxA4XoUrsd03EAfhetRmG7cQOxRuB7FZ9xApHA9Cidi3EAK16NwXWLcQI\\u002fC9SiMZdxAZmZmZsZt3EAK16NwDW3cQOxRuB71bNxAexSuR5Fz3EC4HoXrEXPcQPYoXI8ScdxAXI\\u002fC9bhw3EBSuB6Fq3XcQHsUrkdRd9xAKVyPwuV13ECamZmZ6XXcQOF6FK7HdNxAUrgehQtv3EAUrkfhOm\\u002fcQMP1KFx\\u002fd9xAKVyPwpV43EBmZmZmJnzcQArXo3CNftxA7FG4HvV83EAUrkfhaoDcQJqZmZnpftxArkfheuR73EB7FK5HcXzcQAAAAAAge9xAFK5H4WqA3EC4HoXrwYjcQHsUrkexitxASOF6FM6J3EB7FK5HAYXcQEjhehQeiNxAAAAAAACE3ECF61G4TojcQMP1KFxvjtxA7FG4HmWP3EDXo3A9CpDcQAAAAADQj9xAj8L1KKyP3ED2KFyPopXcQM3MzMw8nNxAKVyPwoWf3EApXI\\u002fCRaDcQD0K16PwmtxArkfhevSY3EC4HoXrAaDcQArXo3AtpNxAPQrXowCl3EDXo3A9CqjcQKRwPQpHq9xAmpmZmUmr3EBmZmZmtrPcQM3MzMzssdxAzczMzHys3EC4HoXrUa7cQClcj8JFrNxA7FG4HiWr3EApXI\\u002fCtafcQD0K16PgoNxAMzMzM2Ok3EAzMzMzY6TcQDMzMzNjpNxAPQrXo5Cp3EA9CtejkKncQHE9Ctcjo9xA9ihcj6Kj3EBI4XoUzqHcQOxRuB71ntxAKVyPwvWa3EDD9Shc\\u002f5zcQB+F61HonNxAzczMzDyc3ECamZmZeaDcQDMzMzPDndxAFK5H4cqd3ECamZmZ6ZvcQIXrUbgOodxAhetRuD6j3EBI4XoUzqTcQHsUrkdhodxAUrgehYuW3EBI4XoUfpbcQClcj8JlldxAexSuR1Gh3EAzMzMzo7bcQOxRuB6ltNxAKVyPwpWw3EDhehSul63cQPYoXI\\u002fyqtxAZmZmZsau3EDhehSuF7TcQD0K16Ngt9xAFK5H4Rqz3EBcj8L12K7cQDMzMzMTrNxA7FG4HjWo3ECuR+F6RKTcQD0K16PQo9xAw\\u002fUoXK+g3EB7FK5HgaHcQFK4HoW7n9xAuB6F6wGi3EDsUbgexa7cQHE9Ctfjq9xArkfhevSf3EAfhetRaKHcQKRwPQpXoNxA9ihcj+Ke3EAAAAAAcJ7cQPYoXI\\u002fyodxA9ihcj\\u002fKi3EBmZmZmZqfcQLgehevRp9xAZmZmZvas3ED2KFyPorHcQI\\u002fC9SictNxAuB6F66Gv3ECuR+F6NKzcQOxRuB4FqdxA9ihcj7Kw3ECF61G4HqzcQM3MzMxcqdxAw\\u002fUoXN+h3ECF61G43qncQNejcD2qs9xAhetRuJ6x3EAAAAAAgKzcQHE9Ctejr9xAcT0K16Ov3EBxPQrXc6zcQFyPwvVIrNxAPQrXo1Cs3EBcj8L1qKrcQIXrUbhOptxAFK5H4Yqo3EAAAAAAULHcQNejcD2qtdxAPQrXo8Cy3EBSuB6Fm6fcQMP1KFz\\u002fq9xAzczMzJyu3EBSuB6Fq7LcQJqZmZl5vdxAmpmZmdm53EDXo3A92rbcQDMzMzPzs9xAj8L1KEy23EAAAAAAILfcQAAAAAAgt9xAw\\u002fUoXL+13ED2KFyPsrLcQDMzMzOzsdxApHA9Cnez3ECamZmZWbjcQB+F61H4udxApHA9Che\\u002f3ECPwvUo\\u002fMXcQGZmZmZGwNxAAAAAAADG3EDD9Shc38TcQFyPwvWowNxAMzMzM1PG3EA9CtejAMTcQOxRuB6FxdxAAAAAAIDM3EAAAAAAgMzcQK5H4Xo0w9xAPQrXo+C83ECF61G4jrjcQArXo3BNstxACtejcP2w3EBcj8L1GK3cQM3MzMx8sdxACtejcO2x3EBI4XoUHrLcQPYoXI+StdxA9ihcj7K13EBmZmZmtrbcQFK4HoVrr9xAw\\u002fUoXG+t3EApXI\\u002fC5arcQI\\u002fC9Sj8rNxA9ihcj2Kt3ECuR+F6tKzcQBSuR+EasNxAMzMzMxOx3ECuR+F6dK7cQK5H4XpUq9xAw\\u002fUoXI+s3EApXI\\u002fCVbHcQClcj8JVsdxAcT0K11Ow3ECkcD0Kx7TcQHE9CteTtNxApHA9Cse03EBmZmZmtrPcQPYoXI8ittxAH4XrUbiv3EAzMzMzI6bcQI\\u002fC9Si8otxAmpmZmRmi3EDsUbgeFaDcQOxRuB4FotxAFK5H4fqe3EDhehSuJ6ncQFyPwvV4q9xASOF6FN6r3EBcj8L1WLHcQClcj8LFqtxAexSuRwGp3EC4HoXrAancQClcj8K1r9xA9ihcjxK03ED2KFyPErrcQMP1KFz\\u002fxdxAAAAAAMDJ3EAK16NwTcvcQAAAAACAzdxAAAAAAADP3EBxPQrX09jcQOxRuB4l1dxAhetRuB7T3EAUrkfhytHcQFK4HoUb1dxAw\\u002fUoXG\\u002fh3EC4HoXrcfPcQArXo3D989xA16NwPbru3ECuR+F6pO3cQM3MzMzs8txAAAAAAMD63EAAAAAAAAHdQAAAAABA+9xAexSuRwH03EBSuB6Fy\\u002fTcQK5H4XpU9txAuB6F67Hk3ECF61G47ufcQJqZmZmZ5dxAFK5H4Srg3EDNzMzM\\u002fN3cQJqZmZkJ39xA4XoUrnfm3EDhehSuB+LcQHE9CtcD1txASOF6FN7K3EBcj8L1OLXcQBSuR+EKs9xA7FG4HoWw3EC4HoXrga3cQB+F61GYqtxAH4XrUVih3EAAAAAAgKncQMP1KFzPptxAMzMzMwOq3EAUrkfhurDcQArXo3CdudxACtejcG223EBmZmZmdrPcQFK4HoX7utxACtejcC283EBSuB6Fe7vcQK5H4Xp0v9xACtejcM283EDNzMzM7L\\u002fcQLgehevhwdxAw\\u002fUoXG\\u002fB3EApXI\\u002fCxcLcQNejcD1KyNxA16NwPUrI3EA9CtejkMvcQClcj8L1z9xAMzMzM2PK3EBI4XoUbsbcQIXrUbgOwdxACtejcO2\\u002f3EDD9Shc77rcQClcj8KFxdxA4XoUrnfF3EApXI\\u002fC9cTcQLgehesxwtxA9ihcj6K93EApXI\\u002fC9cTcQLgehesxy9xArkfheoTN3ECuR+F6FMzcQAAAAAAAz9xAzczMzKzL3EDXo3A92sjcQB+F61HoydxA9ihcj0LL3EC4HoXrkcvcQD0K16OgzNxAKVyPwjXM3ECamZmZqc\\u002fcQM3MzMxsz9xAPQrXoyDN3ECamZmZGcncQLgeheuBytxAAAAAAEDR3EAK16NwPdjcQFK4HoX72dxAUrgehfvZ3EBSuB6FW9ncQM3MzMys2dxAUrgehfvZ3EBcj8L1KNfcQJqZmZkp19xAexSuR7HW3EDNzMzMzNfcQFK4HoX72dxA16NwPcrc3ECamZmZ6dvcQGZmZmZm29xAexSuR4He3EDD9ShcH9ncQM3MzMyMzNxAXI\\u002fC9ajW3EDsUbgexdvcQFyPwvUI3txAAAAAAIDg3EAfhetRuOvcQB+F61G469xAPQrXozDk3EAUrkfhCtrcQM3MzMys2dxAUrgehbvX3ECF61G4TuLcQNejcD2q3txAMzMzM6PX3EBcj8L1eNXcQM3MzMw80txAZmZmZhbU3EAfhetRONfcQFK4HoXb1dxAAAAAALDZ3EBmZmZmZtncQJqZmZkJ3dxA16NwPTra3EBI4XoUDtPcQFK4HoW71txAzczMzCzW3EAzMzMzY9fcQHsUrkfR1txAH4XrUcjU3EDhehSuB9jcQDMzMzND1NxAKVyPwtXM3EAAAAAA4MDcQClcj8I1xtxAAAAAAADJ3EA9CtejsM3cQOxRuB4ly9xApHA9CjfL3EB7FK5HsczcQIXrUbjez9xACtejcI3O3EBSuB6FC83cQClcj8LFzNxAzczMzOzL3ECPwvUoDMPcQHE9CtcjxtxASOF6FB7G3EBcj8L1SMHcQK5H4XpkwdxAAAAAAJDA3EAzMzMzM77cQPYoXI8CuNxAH4XrUfiz3EA9Ctej4LfcQMP1KFwPttxAw\\u002fUoXA+23ECuR+F6BLfcQIXrUbiutdxA9ihcj6K13ECF61G4nrTcQDMzMzPDrtxA7FG4HlWu3ECkcD0K963cQDMzMzNjs9xAexSuR5G23EDD9ShcT7jcQJqZmZlpuNxArkfhejS43ECuR+F6NLjcQM3MzMwMxNxAFK5H4QrF3EDhehSuJ8HcQFK4HoXrv9xA9ihcj7K93EApXI\\u002fCZb7cQIXrUbguvtxAAAAAAIC93EDhehSu18DcQHE9CteTv9xAexSuR0G23EAfhetR+LbcQMP1KFwvstxAuB6F6xGx3EAK16Nw\\u002fbLcQFK4HoXLr9xAcT0K1+Ou3EAzMzMz07PcQEjhehROr9xA9ihcj1Kp3EDD9ShcL6fcQOF6FK5XntxAH4XrUZil3EAK16NwzaLcQD0K16Ogn9xAMzMzM3Ob3EAfhetRCJLcQOxRuB7Vg9xA4XoUrreC3EAfhetR2H\\u002fcQHsUrkdRiNxASOF6FG6N3ECkcD0Kt4ncQLgeheuBitxA16NwPbqI3EA9CtejQJfcQGZmZmZ2mNxA4XoUrkeb3EB7FK5HMZncQOF6FK43mdxA9ihcj8Kc3EAUrkfhOp7cQAAAAAAAndxA16NwPUqb3EBxPQrXY5bcQFK4HoU7j9xAPQrXo9CQ3EDXo3A9ipncQFK4HoULldxAzczMzGye3ECF61G4HqTcQD0K16OwndxAXI\\u002fC9YiS3EBxPQrX44\\u002fcQMP1KFy\\u002fjdxAAAAAAGCV3EDD9Shcr5jcQM3MzMxMmdxAXI\\u002fC9Xie3EAfhetRiKHcQD0K16MwotxAw\\u002fUoXL+e3EDD9ShcL5\\u002fcQI\\u002fC9ShcodxACtejcN2f3EDD9Shcb6TcQKRwPQrnn9xAw\\u002fUoXL+i3EDsUbgeRa3cQHE9CtcDp9xA16NwPYqp3EBxPQrX063cQHE9CtfTrdxAcT0K19Ot3EC4HoXrsbTcQPYoXI+ittxAPQrXoxCv3EB7FK5HIarcQArXo3CNr9xAw\\u002fUoXO+r3EDXo3A9mqvcQAAAAACgq9xAAAAAAMCt3EDNzMzM\\u002fK7cQLgehetRtNxAZmZmZjav3EB7FK5HMbHcQFK4HoU7rNxAH4XrUfiw3ECF61G4bq7cQDMzMzOjttxA7FG4HkWw3ECamZmZOa\\u002fcQGZmZmZmsNxAMzMzM6O23EBxPQrXk7vcQPYoXI\\u002fyu9xAcT0K19O43EApXI\\u002fCdbTcQJqZmZm5tNxAXI\\u002fC9Ti63ECF61G4Pr7cQEjhehTuvtxA7FG4HhW\\u002f3EApXI\\u002fCFbbcQFyPwvVItdxAhetRuJ613EAAAAAA8LLcQDMzMzOzsNxA4XoUrqeu3ED2KFyPMrDcQNejcD36r9xAj8L1KKyx3EBI4XoU3rPcQFyPwvW4ttxA16NwPRq03ECF61G4vrTcQDMzMzNjtNxAcT0K14Ox3EBSuB6FG7LcQClcj8JVttxA7FG4HtW03ECamZmZSbbcQFK4HoUbtNxAhetRuG663EAUrkfhOrrcQIXrUbj+utxAw\\u002fUoXC+63EBxPQrXs7ncQOF6FK5HudxACtejcN233ECkcD0Kl67cQKRwPQqnrNxA7FG4HsWn3EAUrkfhqqncQFK4HoWbp9xA16NwPdqq3EAzMzMz06jcQIXrUbiurdxApHA9Cler3EBmZmZm9qXcQOF6FK6HodxAKVyPwoWe3EBmZmZmRqDcQEjhehTOndxAZmZmZqae3ECuR+F65J\\u002fcQJqZmZm5ndxAzczMzMyS3EBSuB6Fi4vcQLgehesxlNxAAAAAAJCT3EAUrkfhWpPcQFyPwvUoktxAmpmZmYmO3ECuR+F61G3cQOF6FK6HdNxA7FG4HgV33EAAAAAAIHvcQEjhehQ+gdxAuB6F6+GA3ECuR+F6ZIDcQEjhehSOgdxA9ihcj9KJ3EDsUbge9YPcQK5H4XqUgtxAcT0K13OA3EAfhetRCIDcQB+F61Foe9xA\"},\"increasing\":{\"line\":{\"color\":\"#db4052\"}},\"low\":{\"dtype\":\"f8\",\"bdata\":\"MzMzM6Pi20DD9Shcf+XbQFyPwvUo39tAUrgehUvj20BSuB6Fq9\\u002fbQFK4HoXb39tASOF6FH7a20CuR+F6hOPbQI\\u002fC9Sh869tAj8L1KBzp20AUrkfhyvXbQPYoXI8C\\u002fttA7FG4HoX620DsUbgehQHcQFyPwvXo\\u002fttASOF6FF7620DD9Shcb\\u002f7bQFK4HoWrAtxAKVyPwvUE3EDNzMzMfALcQDMzMzPj+dtA16NwPVoB3EBI4XoULhTcQHE9CtdzFNxAexSuR4ET3EB7FK5H0RLcQAAAAADAFdxAFK5H4WoT3EC4HoXr8RXcQGZmZmY2FdxA16NwPToZ3EDXo3A9mhXcQHsUrkdBFtxAmpmZmQkY3EBSuB6FmxzcQPYoXI+yGdxAXI\\u002fC9agX3ECF61G4Hh3cQEjhehTuGtxArkfhegQb3ECuR+F6BBvcQBSuR+EKGNxAUrgehdsX3EApXI\\u002fClRjcQMP1KFw\\u002fGNxAKVyPwnUe3EAAAAAAQCHcQArXo3ANJtxAhetRuB4m3EDD9Shc7yrcQJqZmZnpLNxAPQrXo2Ax3EC4HoXrYSzcQI\\u002fC9ShMJNxArkfhetQp3EDhehSudzHcQKRwPQqHMtxAXI\\u002fC9egw3EBSuB6F2zbcQAAAAAAAOdxApHA9Chc43EB7FK5H0S\\u002fcQGZmZmYmI9xAZmZmZrYd3EAUrkfhChrcQKRwPQoXHdxA7FG4HkUq3EBmZmZmdivcQJqZmZnpKNxAzczMzFwq3ECF61G4bi3cQJqZmZm5MdxAZmZmZhYy3EAAAAAAEDTcQArXo3CtJdxAzczMzGwm3EAK16Nw3SzcQMP1KFz\\u002fMtxAH4XrUWg73EDsUbgeVUDcQKRwPQo3QtxAw\\u002fUoXG9H3EDhehSu50jcQEjhehRuR9xAFK5H4VpI3EDD9Shcf0rcQMP1KFwPRdxAexSuR+E73ECPwvUoHEHcQBSuR+HKRdxAPQrXowBN3EBmZmZmNlHcQNejcD06VNxA7FG4HqVW3ECamZmZGVXcQAAAAAAAUtxA9ihcjwJR3EA9CtejgE7cQD0K16NAUdxAzczMzIxQ3EA9CtejQEvcQIXrUbhuSdxA9ihcj5JI3EA9CtejUETcQClcj8L1RNxAj8L1KJxH3EAK16NwvUTcQClcj8IVQ9xAw\\u002fUoXA9D3EBcj8L1SEfcQIXrUbguRtxAhetRuD5K3EA9CtejcEfcQDMzMzNjVtxAuB6F60FP3ECF61G4PkPcQHsUrkeBQdxAXI\\u002fC9fg\\u002f3EAAAAAAgDvcQFyPwvWIQNxAw\\u002fUoXK9B3EDXo3A9ukXcQHE9CtdzRNxAexSuR0FF3ECF61G4TkHcQFyPwvVoPtxArkfhenQ\\u002f3ECkcD0K50HcQOxRuB5lRdxAzczMzExH3EA9Ctej0E7cQHsUrkfhU9xAcT0K11NV3EAfhetR+FXcQAAAAAAAUtxAXI\\u002fC9QhF3EBmZmZm1j\\u002fcQK5H4XpkQ9xAUrgehZtL3EDD9Shcf0bcQLgehetBStxA16NwPfo\\u002f3EDXo3A9ikPcQK5H4XokRtxAexSuR3FJ3EAK16Nw\\u002fUvcQFK4HoWLRNxA4XoUrkdC3EBmZmZmtkXcQGZmZmbWQtxAKVyPwjVC3EA9CtejAEDcQKRwPQo3R9xAPQrXo6BG3ECuR+F6lEXcQArXo3ANSNxAexSuR4FJ3EBmZmZmxkzcQDMzMzOTUNxAexSuR6FT3EBxPQrXY1LcQAAAAAAAUtxA9ihcjyJS3ECuR+F6xFLcQAAAAAAAUtxAXI\\u002fC9ehQ3ECamZmZqVDcQAAAAACAT9xApHA9CodK3EBI4XoUDkrcQLgeheuhStxA7FG4HvVR3EDhehSud1zcQDMzMzOjZdxApHA9Cndk3EDsUbgedWTcQB+F61FYbNxAXI\\u002fC9fhu3EB7FK5HkW\\u002fcQArXo3BNe9xAXI\\u002fC9Xh13EDsUbge5WfcQJqZmZlZWtxAj8L1KKxW3EAAAAAA4FjcQM3MzMzsRNxAexSuRxFM3EC4HoXrwVDcQAAAAAAAUtxAMzMzM+NS3EBmZmZm5lvcQHE9CtdDXNxAmpmZmbld3ECkcD0Kx17cQJqZmZmZXtxAzczMzFxk3EAK16NwjWjcQFK4HoWratxAUrgehWtw3EAfhetRWHXcQFyPwvX4c9xAuB6F6\\u002fF13EDNzMzMzGzcQHsUrkfxbtxAw\\u002fUoXM9z3EBcj8L16HHcQOxRuB4ld9xA7FG4HsV03EAUrkfhunPcQHsUrkdRdtxAAAAAAAB13EA9Ctej8HjcQKRwPQoXetxAPQrXoyB+3ECuR+F6xIHcQAAAAACwdNxAhetRuC5s3EBmZmZmBmfcQB+F61H4ZNxAUrgehTtg3EBmZmZmVmTcQB+F61HoaNxASOF6FA5l3EB7FK5HcWfcQGZmZmYWXdxA16NwPdpe3EAAAAAAIFrcQKRwPQoHWdxAw\\u002fUoXF9R3EAzMzMzU1DcQPYoXI8yW9xAUrgehdto3EBxPQrXo2bcQClcj8JFWdxAUrgehYtW3EAfhetReFrcQHsUrkeBWNxAj8L1KLxO3ECuR+F65E\\u002fcQFK4HoULUNxAZmZmZuZO3ECuR+F61FrcQClcj8KFXNxAuB6F64Fg3EAzMzMzA1LcQNejcD0KUtxAPQrXo1BE3EBxPQrXU0TcQLgehesBRdxArkfhenRJ3EDXo3A9Sk\\u002fcQOF6FK53UNxAFK5H4dpQ3EBI4XoUTlrcQEjhehQOYtxA9ihcj5Jm3ECPwvUovGfcQOxRuB7lZ9xA16NwPWpp3EDD9Shcr2ncQD0K16PAadxA4XoUrrde3EDNzMzMbGjcQB+F61FYadxApHA9Cvds3EBI4XoUfnDcQKRwPQoXc9xAcT0K1\\u002fNx3EDD9Shcj3PcQNejcD3qa9xAAAAAAABr3EDNzMzMHGncQOF6FK5XZdxAMzMzM6Nq3EDsUbgexXHcQB+F61HIcdxAAAAAAGB03EDsUbgeJXXcQBSuR+E6e9xAw\\u002fUoXE953EAAAAAA4HLcQDMzMzMDd9xAexSuR2F43ECPwvUorHPcQPYoXI9SdNxA16NwPdp33EB7FK5HMXLcQLgehesxctxA7FG4HjVy3EAUrkfhWnTcQDMzMzPDdNxAAAAAAAB13ECPwvUorHXcQFK4HoU7d9xArkfheuR23EApXI\\u002fC9XbcQAAAAAAAeNxAH4XrUeh53ED2KFyPgnvcQFyPwvXYb9xAhetRuB5n3ECPwvUoDFrcQFyPwvU4R9xApHA9CudW3EAK16NwPVrcQDMzMzPzV9xAj8L1KOxc3EDD9Shcn17cQM3MzMzMYtxAmpmZmalf3EDsUbge5WbcQGZmZmbWZNxACtejcF1r3EAAAAAAYG\\u002fcQBSuR+FqbtxAAAAAAHBt3ECkcD0K527cQPYoXI8SctxAhetRuK5w3EC4HoXrMXPcQJqZmZlJdNxA7FG4HjVn3ECuR+F6JGDcQArXo3DNX9xApHA9Cgdi3EDhehSud17cQAAAAAAAUtxASOF6FF5S3EDhehSuJ1XcQOF6FK53W9xAPQrXoxBJ3EC4HoXrMVDcQFK4HoXLS9xA9ihcj9JR3EA9CtejMFfcQK5H4XpUV9xAPQrXo2BY3EAAAAAAAFLcQEjhehTeUNxAzczMzBxU3ECuR+F6JFvcQGZmZmbGWdxAAAAAAMBV3EA9CtejAE3cQGZmZmaWM9xAw\\u002fUoXO8q3EA9CtejkDLcQI\\u002fC9Sj8Q9xAj8L1KKxK3EDsUbge5UzcQDMzMzPTUdxAAAAAAABS3EAfhetR6FLcQHE9CtdjV9xArkfheiRa3EC4HoXrcVjcQLgehevRW9xAPQrXo9BX3EDhehSuB1LcQOxRuB51StxAXI\\u002fC9chR3EBxPQrX01PcQFyPwvUIWdxAAAAAAMBW3ECkcD0K51rcQOxRuB6VTdxACtejcC1R3ED2KFyPwk3cQArXo3CNQtxAmpmZmYk73EC4HoXr0TncQMP1KFzvKtxA16NwPUo33EAAAAAAACDcQFyPwvWoGdxAFK5H4Tog3EAUrkfhGivcQBSuR+GqLtxAAAAAAGAw3EBSuB6F+zPcQK5H4XqEItxASOF6FL4g3EDhehSuhy3cQD0K16PQMNxAH4XrURg33EC4HoXr0TrcQGZmZmaWONxAAAAAAAA53EDD9Shc\\u002fzfcQNejcD2aM9xApHA9Cgc53EAK16NwzUDcQIXrUbhuQNxASOF6FL5B3EDNzMzMbELcQArXo3AdRtxAZmZmZgZK3EDhehSuR03cQB+F61HIStxA7FG4HnVI3EAAAAAA0EncQKRwPQqnTtxAFK5H4WpM3EAUrkfhmk\\u002fcQD0K16NQUdxA16NwPfpK3EB7FK5HgUzcQKRwPQqHUtxAhetRuG5U3EC4HoXrIVXcQArXo3DtV9xAZmZmZqZU3EApXI\\u002fCZVXcQOF6FK4nWdxA9ihcj6JW3EDhehSu51bcQD0K16OwVdxAH4XrUXhe3EDNzMzMDGXcQFK4HoVLX9xAPQrXo8Bd3ECkcD0Kl1TcQDMzMzPTW9xAAAAAABBf3EBcj8L1eF\\u002fcQGZmZmYGb9xA4XoUrsdy3EAK16NwzW\\u002fcQAAAAADwdNxA16NwPap33EBcj8L1qH3cQFyPwvW4hdxAuB6F62GO3EAfhetRCJfcQLgehesRn9xASOF6FK6u3EDNzMzMDKvcQKRwPQoHqtxAH4XrUWio3EAK16NwjZ\\u002fcQClcj8I1ndxAPQrXo8Cm3EBI4XoUvpncQI\\u002fC9Siso9xAAAAAAICr3EB7FK5HsabcQM3MzMwMqNxAzczMzEyi3EDhehSuV6\\u002fcQJqZmZnJttxAMzMzM3PB3EDNzMzMXLbcQNejcD3qudxApHA9Cret3EBxPQrX07XcQLgehethtNxA16NwPVq83ECF61G4jsTcQI\\u002fC9ShszNxAexSuRxGz3EBxPQrXo7\\u002fcQD0K16MQuNxAAAAAAGC43EAfhetRqLbcQK5H4Xo0stxAXI\\u002fC9diw3EBxPQrX87bcQClcj8IFvdxA4XoUrse63EDD9Shcj7vcQIXrUbj+utxAUrgehVu\\u002f3ECF61G47rjcQKRwPQqnudxAAAAAANC\\u002f3EBmZmZm5r\\u002fcQM3MzMy8vdxACtejcL3D3EBxPQrXE8fcQJqZmZmJxtxAXI\\u002fC9RjL3EB7FK5HkdDcQPYoXI8ixtxAZmZmZka+3EDD9ShcH8HcQBSuR+FqvdxAuB6F6wG93EBcj8L16LjcQFyPwvUou9xAuB6F6zG73ECuR+F6xL\\u002fcQKRwPQoHu9xA16NwPeq53ECkcD0KB6XcQM3MzMw8nNxAXI\\u002fC9Yim3EA9CtejEKzcQFK4HoXrqdxAuB6F6yGu3EBSuB6Fi7PcQArXo3Dtr9xAUrgehVuw3EAK16NwXbLcQLgehesxtNxACtejcN253EDNzMzMjLHcQFK4HoWLs9xAKVyPwrWw3EB7FK5HgajcQArXo3C9qNxAAAAAAACX3EAAAAAAAJfcQAAAAACAmNxAKVyPwnWT3ECuR+F6dJXcQNejcD0qmtxAFK5H4ZqY3EDhehSuZ57cQAAAAAAAndxAcT0K13OX3EDsUbgehZncQClcj8JVgdxAH4XrUciS3EDD9Shcb5ncQFK4HoWboNxAzczMzEyh3EBcj8L1+KDcQDMzMzNjntxACtejcH2l3EDXo3A9iqjcQFK4HoW7q9xAuB6F63Gg3EDXo3A9GqDcQHsUrkfBmdxAAAAAAPCP3EDNzMzMzI\\u002fcQGZmZma2hdxAFK5H4VqL3ECamZmZOY7cQHE9CtcDjNxA7FG4HtWN3EDXo3A9qpXcQD0K16PwlNxAXI\\u002fC9SiV3EAfhetReJfcQMP1KFyfm9xAzczMzMyd3EAAAAAA8J\\u002fcQI\\u002fC9Shsm9xAzczMzKyY3EAzMzMzQ6HcQNejcD2Ko9xAKVyPwhWm3EAK16NwjaPcQDMzMzNzotxAZmZmZgak3EB7FK5HEaXcQLgehesho9xAH4XrUYif3EAAAAAA8J3cQK5H4Xp0m9xAcT0K12Ob3ECuR+F6BJrcQD0K16OQlNxAPQrXo1CU3EC4HoXrAZvcQMP1KFxfkdxApHA9CieI3EAAAAAAcIvcQFyPwvVokdxAj8L1KGyR3EBcj8L1CJDcQGZmZmYWlNxAhetRuG6c3EAUrkfhSprcQOF6FK63mdxAMzMzM3Of3ECuR+F6BKPcQBSuR+Fqm9xAzczMzIyc3ECkcD0K157cQLgehesBstxA4XoUrjer3EB7FK5HsavcQJqZmZkpptxA9ihcjzKm3EDD9ShcD6PcQPYoXI8ypdxA16NwPfqn3EAUrkfhyqTcQB+F61EIodxAuB6F6zGe3ECPwvUofKHcQLgehevRpNxAZmZmZrao3EDsUbge9azcQI\\u002fC9SjcrtxAj8L1KNyu3EBI4XoUvqncQB+F61FoqNxAZmZmZvap3EC4HoXr0azcQJqZmZnZsNxAFK5H4eqq3EApXI\\u002fCha3cQBSuR+HKqNxAKVyPwuWs3EBmZmZmVqrcQBSuR+Har9xAFK5H4Vqu3EDNzMzMPK\\u002fcQI\\u002fC9SgMsdxAw\\u002fUoXA+t3ECuR+F6NKzcQM3MzMwMqdxAPQrXo5Cr3ECF61G4vrjcQAAAAAAgudxAzczMzDy63EAzMzMzI7zcQMP1KFzPtNxAj8L1KCy33EDD9ShcH7vcQClcj8KVttxAZmZmZja03EAK16NwvbjcQEjhehTuu9xApHA9Che73EBcj8L1WLvcQI\\u002fC9Si8tNxAPQrXo3C43EBmZmZmlqvcQFK4HoVrrtxA9ihcj6Ka3ECF61G4XpvcQAAAAABgm9xAuB6F61Gb3EAzMzMz85TcQGZmZmZ2k9xA4XoUrqeT3EAAAAAAAJPcQMP1KFzvgdxAMzMzM3Nw3ECamZmZmYPcQBSuR+EqjdxA4XoUrgeP3EAK16NwPZHcQKRwPQo3kdxAj8L1KNyU3EBI4XoUbo7cQK5H4XrklNxAKVyPwpWV3ED2KFyPEpfcQOxRuB4FltxAZmZmZnaX3EApXI\\u002fChZfcQHE9CtfTltxAUrgehcuR3EBxPQrXQ5fcQAAAAABwltxAmpmZmQmW3EDD9Shcv5LcQHsUrkexitxAuB6F63GG3ECamZmZ+YfcQFK4HoWritxAUrgehSuL3EApXI\\u002fCRYjcQIXrUbhugNxApHA9Crd53EAUrkfhunvcQBSuR+EKfNxA7FG4HgV93ECamZmZ+XvcQJqZmZkJfNxAAAAAAGB\\u002f3ECkcD0K54XcQEjhehR+g9xAzczMzLyA3EBSuB6Fe4PcQEjhehRuhtxAAAAAACCF3ECkcD0Kx4bcQAAAAAAghdxAH4XrUfiG3EAzMzMzU4ncQHsUrkdxjdxA7FG4HtWD3EBcj8L1OIXcQNejcD0qiNxAuB6F61GI3EBmZmZm1orcQOF6FK7HiNxAZmZmZlaB3EB7FK5HcYTcQClcj8L1fNxAhetRuO5+3ECuR+F6dITcQFK4HoXLhtxAzczMzIyR3EAUrkfhOovcQLgehevhhdxAzczMzAyP3EAfhetRuIvcQK5H4Xp0jdxAw\\u002fUoXA+N3EAK16NwHYzcQOF6FK4njNxArkfheoSQ3EDsUbgehZDcQOxRuB7VkdxArkfhekSJ3EDD9Shc\\u002f4fcQK5H4XqUg9xAPQrXo+CD3ECamZmZ+YPcQMP1KFxvg9xAUrgehcuE3EDsUbgetYvcQOxRuB5ljdxAZmZmZoaO3EDXo3A92o3cQIXrUbi+ldxAMzMzM9OT3EBmZmZmlpncQI\\u002fC9Sh8m9xAw\\u002fUoXL+b3EB7FK5HMZrcQHsUrkcxmtxAw\\u002fUoXM+T3ECamZmZmZfcQBSuR+EaltxA7FG4HuWW3ECF61G47pPcQKRwPQonlNxA4XoUroeT3EDD9ShcD5XcQLgehesBjNxAhetRuB6O3EAfhetReIbcQKRwPQrXh9xA16NwPWqN3EC4HoXrYY\\u002fcQDMzMzODhdxAMzMzM4OF3EAfhetRaIXcQAAAAAAAhNxAzczMzByD3EAAAAAAAITcQD0K16MggNxAj8L1KLx63EAfhetRuIPcQD0K16PwhNxAMzMzM4N73EBcj8L1KH3cQMP1KFxfitxAmpmZmamI3EDD9Shcn4rcQOF6FK5niNxApHA9CqeI3EDhehSuZ4jcQJqZmZn5h9xAexSuR+GL3ED2KFyPQozcQOF6FK6XjtxAmpmZmcmO3EBxPQrX44zcQClcj8KViNxACtejcA2H3EBSuB6F24vcQB+F61EoiNxACtejcL2I3EAfhetRyIjcQLgehesBhNxAhetRuB553EBcj8L1iHzcQGZmZmYWftxAZmZmZmaB3EC4HoXrYYfcQJqZmZnZh9xAPQrXo8CH3EA9CtejwIfcQHE9CtejjtxAKVyPwnWL3EAzMzMzk4vcQPYoXI\\u002fyg9xAzczMzEyC3EApXI\\u002fClXzcQK5H4XpkX9xAFK5H4Zpl3EDXo3A9KjjcQJqZmZlZTNxAuB6F66FY3EAUrkfhKlrcQOxRuB5lS9xA4XoUrrdO3EBmZmZmZlTcQKRwPQpnXtxAZmZmZpZl3EAfhetRiGLcQI\\u002fC9SjsXdxAXI\\u002fC9bhe3EBxPQrX42HcQHsUrkfxYdxAexSuR8Fm3EDsUbgexWbcQD0K16OQadxAPQrXowBj3ED2KFyPwmPcQI\\u002fC9SgcZNxA16NwPdpk3ED2KFyPwmPcQKRwPQrXZtxAmpmZmXls3ECF61G4Xm\\u002fcQOxRuB51cNxAZmZmZnZw3EBmZmZm1nDcQLgehevxcNxAKVyPwuVz3EDhehSuF3fcQArXo3BtetxAzczMzHx43EDhehSuF3fcQD0K16MgddxAhetRuA563EAAAAAAIHXcQKRwPQr3ddxAAAAAACB13EBmZmZmVnTcQKRwPQrndNxA4XoUrhd63EAzMzMzU3vcQDMzMzNTe9xAMzMzM1N73EAK16NwfXncQMP1KFw\\u002fetxAUrgehXt+3EA9CtejkHvcQBSuR+FKfdxAFK5H4Up93EA9CtejsIXcQArXo3CtgdxAKVyPwiWD3ECuR+F6dHrcQArXo3C9etxAmpmZmVlw3EAAAAAAAGvcQOxRuB6FaNxApHA9Cids3EA9Ctej8GvcQArXo3BtaNxAPQrXo2Bf3ECuR+F61GTcQLgehesBX9xAuB6F6wFf3EBSuB6Fq1bcQKRwPQoXX9xACtejcE1W3ECPwvUonE3cQI\\u002fC9SicTdxAzczMzOxE3EAfhetRqEXcQOF6FK7HU9xAAAAAABBb3EBI4XoUPlzcQAAAAACwXNxAFK5H4fpi3EBxPQrXI2bcQPYoXI8yatxApHA9Ctdq3EC4HoXrYXDcQDMzMzOTdNxAAAAAADB53ECamZmZ+XjcQGZmZmbmc9xAXI\\u002fC9dhv3EBSuB6Fe2\\u002fcQFK4HoV7b9xASOF6FM5w3EDXo3A9ynTcQHsUrkcBcNxApHA9Cmdt3ECkcD0KZ17cQOxRuB61W9xASOF6FL5S3ECuR+F6ZFbcQKRwPQoXXdxAZmZmZlZf3EB7FK5HEWfcQOF6FK73Y9xAexSuR2Fs3ECPwvUofGvcQI\\u002fC9ShcbNxAzczMzFxs3EAAAAAAoGzcQJqZmZkJcdxAAAAAAEBx3EB7FK5HAWvcQM3MzMxMZdxAKVyPwuVb3ECkcD0Kl2rcQPYoXI8CbNxAZmZmZhZz3EBcj8L1SHLcQAAAAACAd9xAAAAAAIB33ECuR+F6JHzcQClcj8L1eNxAAAAAAIB33EAAAAAAgHfcQFyPwvVoc9xA16NwPSpy3EApXI\\u002fCVYHcQAAAAADwgdxAj8L1KNyC3EDD9Shcr3\\u002fcQD0K16Mwg9xA7FG4HgV93EAfhetRCILcQOxRuB7lgtxASOF6FC6M3EBSuB6Fu4ncQIXrUbheidxAFK5H4TqM3ECPwvUo\\u002fIvcQIXrUbhek9xAPQrXoxCX3ECPwvUorJXcQLgehetBk9xAAAAAACCR3EAzMzMzQ5TcQOF6FK4nmdxAAAAAAACd3EAUrkfh6p3cQAAAAAAAp9xAcT0K1yOn3EAAAAAAgKncQK5H4XoEqNxAAAAAAACn3EAAAAAAAKfcQAAAAAAAp9xAhetRuB6f3ED2KFyPMp\\u002fcQAAAAAAAndxA7FG4HuWd3ECF61G4zqHcQAAAAADgodxAFK5H4Wqi3ECPwvUobKTcQB+F61EYn9xAj8L1KFyh3EDNzMzMvJ7cQMP1KFxPldxAzczMzByW3ECuR+F69JncQBSuR+HalNxAcT0K10OW3EB7FK5HQZfcQFyPwvXol9xAuB6F60GX3EB7FK5H4ZHcQIXrUbjultxAuB6F63Gf3EBI4XoUnpvcQM3MzMzcktxAAAAAAJCM3EC4HoXr4Y\\u002fcQI\\u002fC9SjckdxAPQrXoyCV3EAfhetRWJ3cQAAAAAAQqdxA4XoUrqeh3ECamZmZyafcQArXo3Bdo9xAKVyPwoWn3EBxPQrXc6rcQOF6FK7nq9xAmpmZmWmq3EDhehSuJ6jcQHE9CtcTptxArkfherSf3EDsUbgexZ7cQIXrUbh+n9xAZmZmZpad3EDXo3A9Cp7cQI\\u002fC9Sgsn9xAj8L1KCyf3EC4HoXrsZ\\u002fcQAAAAAAAndxAMzMzM8Oa3EDsUbgeZZ7cQHsUrkdhndxAj8L1KKyZ3EAK16NwzZrcQOF6FK4Hm9xASOF6FF6e3EDNzMzMPKDcQKRwPQo3pNxASOF6FK6j3EBSuB6Fi6rcQFyPwvUIsNxAZmZmZkam3EAzMzMz06bcQDMzMzPTptxACtejcO2o3EDsUbgeBafcQB+F61FIodxA4XoUrkee3EDhehSux53cQIXrUbjeqdxA9ihcjyKs3ECF61G47qXcQDMzMzMDqNxApHA9Cgem3EB7FK5HoabcQD0K16NQptxAMzMzMyOi3EB7FK5HgaLcQK5H4Xo0mtxAFK5H4Xqc3EDD9ShcT6LcQI\\u002fC9ShMqdxAexSuR6Go3EBmZmZmZqXcQPYoXI\\u002fSpdxAUrgehcun3EBI4XoUjqfcQPYoXI8yr9xACtejcN2v3ED2KFyP4q\\u002fcQB+F61F4sNxA9ihcjzKw3ECamZmZya\\u002fcQOF6FK53sNxAMzMzM1Ox3EAAAAAAgKncQClcj8KlqdxApHA9Cpeu3ECPwvUo\\u002fK7cQM3MzMwctNxA9ihcjxK33ECamZmZibrcQJqZmZlZutxA9ihcj8K63ECPwvUo\\u002fLncQLgeheshvNxAUrgehYu+3EDNzMzMfLncQAAAAAAAttxAFK5H4YrD3ECuR+F6VMPcQAAAAAAAttxAMzMzM2O23EB7FK5HYbHcQKRwPQonp9xASOF6FJ6l3EAUrkfh2qfcQOF6FK7nqtxA16NwPUqt3EAfhetRqKzcQFyPwvXYrtxAPQrXo8Cy3EBI4XoUPrLcQClcj8IFp9xAcT0K13Of3ED2KFyPcqTcQOF6FK6npdxArkfhenSn3ECkcD0KN6jcQFK4HoVbq9xAPQrXo6Cr3EAzMzMz06fcQLgeheuRpdxA4XoUrnel3ECamZmZKajcQIXrUbg+rtxAFK5H4Tqs3EBcj8L1aKzcQOF6FK6nsdxAexSuR1Gw3EBxPQrXs7DcQAAAAABwrdxAj8L1KMyh3ED2KFyPQqLcQAAAAACAldxAexSuRyGa3EDD9ShcH5jcQClcj8JFnNxA9ihcj+KZ3EDNzMzMDJ7cQOF6FK7XqNxAXI\\u002fC9Xil3ECPwvUoHKfcQClcj8Ilp9xAKVyPwuWj3EAfhetRaKLcQLgeheuxqNxA9ihcj5Ku3ECPwvUo7LHcQHsUrkfht9xAexSuR2G+3EApXI\\u002fCtbrcQD0K16MgwNxArkfhemTF3EBmZmZmNsvcQHsUrkcRx9xA16NwPRrG3EB7FK5HUcjcQBSuR+FqzdxAUrgehQvU3ED2KFyP4t3cQOF6FK6n49xA4XoUrtfj3EBSuB6FG+HcQPYoXI+S5NxA4XoUrjfs3EAfhetR2PbcQPYoXI+C7txAPQrXo4Dt3EBI4XoUju7cQClcj8LV3dxAexSuRyHR3EBSuB6Fa9PcQKRwPQp32NxAexSuRyHR3EA9CtejAM\\u002fcQHE9CtcD1dxAuB6F6zHc3EAAAAAAUNXcQIXrUbjewtxAcT0K19Ot3EApXI\\u002fCdZPcQK5H4Xr0ndxAmpmZmVmM3ECPwvUozJncQNejcD2anNxAhetRuO6X3ECPwvUonJvcQEjhehTOndxAexSuR5GZ3EAzMzMzk6ncQPYoXI\\u002fSrNxACtejcF2s3EBcj8L1WKzcQFyPwvUYsNxAPQrXo5C03ED2KFyPArDcQPYoXI\\u002fitNxA7FG4HqW33EDsUbgepbbcQM3MzMycvNxAzczMzKyz3ECamZmZqbTcQFK4HoVLv9xAXI\\u002fC9Yi\\u002f3EDNzMzMvL7cQD0K16MQxtxAPQrXo5C+3EDNzMzMPLvcQLgeheuBs9xA7FG4HoW03EDD9ShcD7PcQK5H4XrUuNxAhetRuD613ECuR+F6xL7cQGZmZmb2uNxACtejcD233EAAAAAAILzcQBSuR+HqxNxAH4XrUUjF3EAfhetRqMfcQBSuR+FayNxAmpmZmSnF3EAAAAAAUMPcQFK4HoUbxNxAZmZmZma\\u002f3EBI4XoUzsXcQOxRuB7lxtxAKVyPwjXM3EDhehSux8vcQK5H4Xq0y9xAcT0K19PE3EBSuB6Fq8PcQFK4HoWrw9xAuB6F6yHJ3EB7FK5H8dDcQD0K16NA0dxA7FG4HkXW3ECPwvUozNPcQKRwPQr30txAMzMzM+PV3EBSuB6F+9HcQFyPwvUY09xA16NwPYrT3ED2KFyPctDcQD0K16PA1dxAexSuR8HV3EDNzMzMHNXcQOxRuB5V19xA9ihcj8LY3EAAAAAAALvcQBSuR+EKwdxAXI\\u002fC9SjH3EBmZmZmds\\u002fcQOF6FK7n0NxA9ihcj\\u002fLZ3EAAAAAAgODcQI\\u002fC9Sjs3txAPQrXo2DY3ECamZmZydPcQAAAAAAAz9xArkfherTT3ECkcD0Kd9TcQK5H4Xq01dxAXI\\u002fC9VjR3EAfhetRWMzcQD0K16OAytxAZmZmZkbN3EA9CtejIM7cQOxRuB5F0dxAPQrXo7DT3EBcj8L12NXcQMP1KFwP1NxA4XoUrtfN3EBI4XoUzs7cQHsUrkdxz9xAKVyPwhXT3ECF61G4ntTcQArXo3AN1NxAAAAAAKDR3ED2KFyPYtLcQPYoXI8Sy9xAAAAAAEDA3EAzMzMzo7bcQM3MzMxsvNxAhetRuL6\\u002f3EAAAAAAoMXcQMP1KFyPwtxAUrgehRvH3ECamZmZScXcQEjhehSOydxA7FG4HsXK3EDNzMzMDMXcQLgeheuhx9xAw\\u002fUoXK++3EAzMzMzo7bcQKRwPQoXvNxA7FG4HvW73EDD9ShcP7ncQM3MzMz8utxAcT0K1yO63EBmZmZmJq\\u002fcQEjhehTOptxAexSuR+Gs3EDNzMzMHLLcQKRwPQr3rtxA16NwPZqw3EBSuB6FC67cQK5H4Xo0sdxAmpmZmemu3EDNzMzM\\u002fKvcQB+F61Eoo9xAPQrXowCi3EApXI\\u002fCdZPcQK5H4XpEpNxAj8L1KJyy3EDNzMzMjLPcQDMzMzOTs9xAhetRuK603ED2KFyP0rLcQArXo3DdtNxASOF6FE673EAUrkfhmrncQKRwPQoXudxAw\\u002fUoXL+43EDD9Shcv7jcQK5H4XpkudxAuB6F6wG63ECkcD0KV7rcQI\\u002fC9Sjsn9xA9ihcj9Km3EDhehSux7DcQB+F61EIqtxAKVyPwmWq3EBSuB6Fa6vcQJqZmZn5l9xAXI\\u002fC9fif3ECF61G4\\u002fqncQHsUrkexitxAmpmZmSmi3EBI4XoUTp\\u002fcQJqZmZk5ltxAuB6F62Ga3EBxPQrXM5vcQAAAAADQmNxAexSuR7GK3EAzMzMzc3DcQHE9CtdzcNxAzczMzDxy3EAAAAAAAGvcQJqZmZk5fdxAAAAAAAB\\u002f3EC4HoXrEYLcQFK4HoXrgtxAZmZmZlaC3EDhehSut4rcQD0K16PQkdxAPQrXo1CW3ED2KFyPQpTcQOxRuB41kNxAmpmZmfmV3EDXo3A9upjcQFyPwvWol9xAZmZmZjaQ3EA9CtejEI7cQLgehesBiNxAXI\\u002fC9YiI3ECkcD0KF5DcQMP1KFx\\u002fjdxA16NwPQqQ3ECPwvUoLJrcQHE9CtezjdxAj8L1KKyA3ECamZmZ6YPcQD0K16PAfdxAPQrXozCO3EBI4XoUXpHcQArXo3BNkdxAmpmZmbmU3EA9CtejwJrcQArXo3CtmdxAAAAAAACY3EBxPQrXM5rcQEjhehROmtxAhetRuE6a3ECuR+F6xJvcQOxRuB4lnNxA16NwPcqc3ECkcD0KN5\\u002fcQAAAAAAAotxAAAAAAJCk3ECamZmZGaXcQHsUrkdBptxAFK5H4Sqp3ECPwvUoXKrcQFyPwvVosNxA16NwPaqq3EBI4XoUXqXcQD0K16PQqtxA9ihcj4Kk3EAAAAAAAKLcQGZmZmYmqNxA4XoUrieo3EBSuB6FO6zcQGZmZma2rdxAXI\\u002fC9Tir3ECkcD0K96ncQM3MzMycptxArkfhelSr3EAUrkfhSqrcQAAAAADwp9xAexSuRxGr3ECuR+F6RKzcQK5H4XpErNxAj8L1KGyv3EAzMzMzo7bcQPYoXI8SttxApHA9Cse13EBI4XoUnrHcQM3MzMzcr9xA4XoUruew3EAK16NwPbfcQLgeheshutxAZmZmZia13EBxPQrXw6\\u002fcQAAAAACQsdxAPQrXo+Cy3ECF61G4fqvcQOxRuB61qdxAZmZmZian3EBmZmZmdqncQJqZmZm5qtxASOF6FC6r3EAfhetRmLDcQGZmZmaGr9xAcT0K1\\u002fOw3EBI4XoUTrLcQK5H4XokrdxAuB6F6yGq3EB7FK5HIa3cQPYoXI8SrtxAZmZmZnaw3EBmZmZmdrDcQArXo3D9r9xAAAAAAFCy3EAUrkfhOrXcQD0K16Pgs9xAAAAAADC23EAAAAAAQLHcQD0K16PQr9xA4XoUroeu3ECamZmZiaTcQNejcD0qptxA16NwPaqj3ECkcD0KR6PcQPYoXI+yn9xAj8L1KJyj3EAAAAAAMKbcQKRwPQonpNxAmpmZmXml3ECamZmZSZ7cQKRwPQpHndxAhetRuG6V3EAUrkfhWpbcQOF6FK4nlNxApHA9CveZ3EDD9Shc\\u002f5zcQFK4HoUbkdxA4XoUrheK3EAAAAAAAITcQFK4HoUrhtxAAAAAAICG3ECkcD0KB43cQHsUrkfBjNxAAAAAAABm3EAAAAAAAFLcQOxRuB6lZdxAMzMzMxNs3EDhehSuV3PcQI\\u002fC9SjsddxAPQrXo\\u002fB43EDD9ShcH3rcQIXrUbg+fdxAexSuR1F\\u002f3ECkcD0KV33cQB+F61GYfdxA16NwPZp03EB7FK5HEXXcQBSuR+HactxA\"},\"name\":\"BTC\",\"open\":{\"dtype\":\"f8\",\"bdata\":\"ZmZmZlbp20ApXI\\u002fCZe7bQAAAAABQ5ttACtejcL3k20BmZmZmZuTbQGZmZmZm5NtAj8L1KLzh20B7FK5H4e\\u002fbQGZmZmaG9NtAFK5H4cr120AK16NwrfrbQFyPwvXIA9xASOF6FK4B3EB7FK5H8QHcQAAAAADAANxAuB6F62H620DNzMzMDATcQM3MzMwMBdxAFK5H4coF3EBcj8L1CAjcQI\\u002fC9Sh8\\u002fNtAcT0K1zMS3EBcj8L1qBncQBSuR+GaF9xAXI\\u002fC9TgW3EAAAAAA0BbcQM3MzMxcF9xAFK5H4WoT3EDNzMzM7B3cQB+F61FoGtxAj8L1KJwl3EDXo3A9GhjcQJqZmZkJGNxAuB6F64Ec3EA9CtejQCDcQB+F61H4GdxACtejcO0a3ECF61G4Hh3cQK5H4XoEG9xApHA9Clcd3ECuR+F6BBvcQI\\u002fC9SjcGNxAKVyPwpUY3EBSuB6FqxrcQOxRuB7VHdxAKVyPwnUe3EAAAAAAECfcQIXrUbgeJtxAmpmZmUkw3EAK16NwvS\\u002fcQHE9CtdDMNxAXI\\u002fC9cgy3EBxPQrXEzLcQFyPwvW4KdxA4XoUrncx3ECPwvUoLDbcQBSuR+FaONxAhetRuN493EDXo3A9SjrcQIXrUbg+PtxAzczMzEw43EB7FK5H0S\\u002fcQKRwPQpXJ9xAH4XrUegh3ECPwvUo7CHcQEjhehQeLdxAFK5H4Ro13EBI4XoUTi3cQK5H4XpULdxAMzMzM1Mx3ECuR+F6RDHcQHE9CtdjNdxAH4XrUTg13EAAAAAAEDTcQAAAAAAAKtxAKVyPwqU03EAfhetRuDHcQGZmZmZGP9xA9ihcj1JB3EDsUbgeVUDcQAAAAADAS9xAMzMzM4NK3EDNzMzMXEzcQHsUrkexTdxAw\\u002fUoXH9K3EAzMzMzY0\\u002fcQMP1KFwPRdxAuB6F65FG3ECPwvUoHEHcQB+F61EYTtxArkfhepRU3EAK16NwTVbcQOxRuB6lVtxAPQrXo0Bc3ECamZmZGVXcQJqZmZmJVNxA9ihcjwJR3EB7FK5H0VHcQBSuR+F6UdxAcT0K16NS3EBcj8L1iE3cQMP1KFyfUNxACtejcB1J3EDD9ShcX03cQClcj8K1R9xAH4XrUXhK3EAAAAAAwETcQK5H4XpER9xArkfhelRK3EBxPQrXQ1DcQClcj8K1R9xAhetRuI5N3EDNzMzMnFHcQNejcD0qXdxAUrgehbtS3EC4HoXrYUjcQDMzMzMTSdxAXI\\u002fC9fg\\u002f3ECPwvUorD\\u002fcQLgehetBRdxA4XoUrudF3EAUrkfhekjcQHE9CtdzRNxAXI\\u002fC9bhG3ECPwvUoPELcQNejcD16QdxAw\\u002fUoXO9B3EAfhetROEvcQMP1KFw\\u002fTNxA9ihcj\\u002fJS3EBSuB6F+1fcQOxRuB5VVdxA7FG4HlVW3EBcj8L12FjcQOxRuB4lW9xA9ihcj5JK3EAUrkfhikncQIXrUbg+TdxAUrgehZtL3EAzMzMz407cQLgehetBStxAj8L1KFxI3ED2KFyPIkbcQLgehetxSdxACtejcP1L3EAfhetRGEzcQAAAAAAgRtxAKVyPwlVI3EAUrkfhGkfcQFyPwvW4SdxAj8L1KMxD3EBI4XoUzkjcQK5H4XrkSNxAPQrXo6BG3EBSuB6Fa0jcQAAAAACATNxAAAAAAIBK3EAAAAAAgFHcQHsUrkehU9xApHA9CodV3EAUrkfhelXcQHsUrkehVdxAw\\u002fUoXD9V3EDNzMzM\\u002fFbcQAAAAAAAUtxAMzMzM0NS3EDXo3A9alLcQM3MzMxsUdxApHA9CodK3EB7FK5HEU7cQArXo3DdVNxAj8L1KLxb3EDhehSu92rcQAAAAAAAa9xAKVyPwmVp3ECF61G43mrcQKRwPQq3cNxAcT0K19Nz3EAK16NwTXvcQClcj8KVg9xAXI\\u002fC9Zh\\u002f3ECuR+F6pG3cQOxRuB4lW9xA9ihcj+Jg3ED2KFyP4ljcQEjhehT+UNxACtejcO1T3ECamZmZWVbcQFyPwvV4WdxAFK5H4Wpe3EBmZmZmdmHcQJqZmZkZZ9xAH4XrUQhi3EDhehSuh2XcQMP1KFz\\u002fatxAhetRuJ5q3EBxPQrXw27cQEjhehQuedxAj8L1KEx13EDD9Shc74HcQFyPwvX4c9xAH4XrUVh83EB7FK5H8W7cQFyPwvW4dtxAKVyPwkV13EBxPQrXo3LcQOxRuB71fNxAXI\\u002fC9Xh33EBSuB6FK3fcQDMzMzNTdtxAzczMzCx93ECF61G4ToTcQFK4HoVbgtxArkfheoSC3EDD9Shcv4PcQAAAAACwdNxA9ihcj8Jy3EAUrkfhamfcQD0K16NQaNxAexSuR1Fj3EBI4XoUDm3cQJqZmZnJbdxAj8L1KJxq3EAUrkfh+mncQI\\u002fC9SgcZNxA9ihcj9Jg3EBmZmZmRlzcQBSuR+GaXNxASOF6FK5Z3EAAAAAAoFncQOxRuB7VcNxA4XoUrpdp3EBmZmZmRmrcQOF6FK7HY9xAKVyPwhVg3ECamZmZqWPcQDMzMzODXdxAj8L1KLxO3ECamZmZeVfcQFK4HoULUNxA9ihcjyJb3ECPwvUovGDcQD0K16PAZNxAUrgehQti3EAK16NwvVXcQPYoXI9CWtxA9ihcj4JJ3EB7FK5HAUXcQIXrUbjOTtxArkfhegRT3EAAAAAAAFLcQAAAAACwVNxAzczMzExa3EApXI\\u002fCNWjcQPYoXI+SZtxAw\\u002fUoXL9q3ECamZmZOW3cQEjhehRebtxA16NwPapp3EBmZmZmZm3cQD0K16PAadxAmpmZmXlt3EBI4XoUPm7cQDMzMzNzcNxAMzMzM1N13EAAAAAAgHbcQOF6FK6Hc9xAAAAAADB53EB7FK5HkXPcQBSuR+Hqa9xAAAAAAABr3EAK16NwHWncQAAAAAAAa9xAj8L1KKxw3EBmZmZmRnPcQJqZmZkpedxAAAAAADB53EC4HoXr4XfcQM3MzMycgdxAw\\u002fUoXE953ECPwvUoPHbcQB+F61GYf9xAw\\u002fUoXK9\\u002f3ECkcD0Kd3rcQPYoXI9CfNxAhetRuG5\\u002f3EB7FK5HMXLcQK5H4Xo0ctxAexSuR+F53EB7FK5H4XncQNejcD1qe9xAcT0K1+N43ED2KFyPQnncQGZmZmaWeNxAhetRuO523ED2KFyP0nfcQAAAAAAgfNxAexSuR4F73EBI4XoUDoDcQHE9CtcjdtxASOF6FJ5n3ECPwvUoDFrcQMP1KFzfWdxAmpmZmYlf3ECF61G4HmfcQFK4HoVLZdxA9ihcj1Jg3ECF61G4jmXcQAAAAAAAa9xAhetRuB5n3EAAAAAAAGvcQGZmZmYGbtxApHA9Cjd03EAAAAAAYG\\u002fcQFK4HoWbc9xAAAAAAEBx3EA9Ctej4G\\u002fcQDMzMzPjdNxAzczMzHxx3EAAAAAAQHfcQJqZmZkpedxApHA9Cvdo3EBSuB6F62DcQKRwPQrXYtxAFK5H4dpj3EDhehSud17cQClcj8KlXNxAzczMzOxW3ED2KFyPclvcQHE9CtezYdxAhetRuI5R3EDNzMzM3FncQM3MzMxcVdxASOF6FD5c3EA9CtejkFvcQFyPwvVIWNxAKVyPwmVe3EAAAAAAAFLcQGZmZmZGVtxAKVyPwqVe3EC4HoXroVzcQI\\u002fC9SgMYNxAUrgehetY3EC4HoXrYVHcQOxRuB4lOtxAzczMzJw43EAfhetRGEncQD0K16NASNxAw\\u002fUoXD9P3ECkcD0K51fcQK5H4XqUVdxApHA9CqdT3EBxPQrXY1fcQD0K16NgXtxAZmZmZgZb3EB7FK5HAV\\u002fcQLgehevhW9xA9ihcjzJd3EDhehSuB1LcQPYoXI8yUNxAcT0K15NT3EBI4XoU3mbcQFyPwvX4WtxAH4XrUQhe3ECPwvUoTF3cQAAAAADgUdxApHA9CldR3EBmZmZmlk\\u002fcQDMzMzNjQ9xA16NwPWpC3EAfhetRSD\\u002fcQClcj8IVNtxAw\\u002fUoXM843EA9CtejwCLcQMP1KFyvKNxAzczMzFwm3EApXI\\u002fCVTfcQHsUrkchNtxAH4XrUZg43EB7FK5HIT3cQOxRuB71JtxAcT0K1xMt3ECuR+F6VDbcQFyPwvXYPdxAuB6F69E63EBSuB6FG0HcQD0K16MQPtxAUrgehZs83ECuR+F6BDncQOF6FK63O9xAAAAAAIBF3EAK16NwzUDcQArXo3D9RNxA9ihcj7JL3ECuR+F6BEbcQHsUrkfxUdxAUrgehUtS3EBI4XoU7k3cQB+F61HIStxAzczMzJxL3EDD9ShcP1HcQKRwPQqnTtxAcT0K19NP3EA9CtejUFHcQArXo3BNVtxAPQrXo4BM3ECkcD0KF1PcQPYoXI+SV9xA7FG4HsVU3EDsUbge5VfcQArXo3DtV9xAKVyPwmVV3EA9CtejQF7cQGZmZmZmXtxAw\\u002fUoXE9a3EDsUbgelVjcQArXo3DdW9xACtejcP1j3EA9CtejAGjcQI\\u002fC9Sg8YNxAPQrXo8Bd3ED2KFyPglncQM3MzMw8Y9xAXI\\u002fC9Xhf3ED2KFyPQm\\u002fcQAAAAADAeNxArkfhehR33ECuR+F6JHPcQPYoXI+SgdxAmpmZmal93EBxPQrXY4TcQArXo3B9kdxA16NwPfqb3EDhehSuJ5vcQNejcD1audxA7FG4HnW\\u002f3EA9CtejoLbcQD0K16MgstxAAAAAAACx3ED2KFyPcqTcQMP1KFz\\u002ftNxA9ihcj4Ku3ECkcD0KN6rcQK5H4XrUrdxA4XoUruex3EDXo3A9arHcQM3MzMwMqNxAMzMzM8Ot3EDhehSup7bcQDMzMzNzwdxAAAAAAMDN3EDNzMzMXLbcQDMzMzPzvtxAcT0K17O53ED2KFyP8r7cQD0K16Mgt9xAexSuR5HF3ECkcD0KV8zcQEjhehQ+1dxAuB6F6\\u002fHD3EBmZmZm9sLcQKRwPQrnwNxA16NwPYq\\u002f3EAfhetRmMDcQFyPwvXYttxArkfhehS63EApXI\\u002fCZb3cQNejcD2KvtxAPQrXoxC73EAzMzMz88TcQI\\u002fC9Shcv9xASOF6FM7B3EB7FK5HEbncQClcj8IVw9xAKVyPwkXD3ECF61G4zsTcQM3MzMy8vdxAPQrXo6DO3EBSuB6FO8ncQOF6FK7HydxA7FG4HqXT3EBI4XoU7tXcQMP1KFw\\u002fxtxAw\\u002fUoXC\\u002fE3EAzMzMzs8PcQNejcD3Kv9xA9ihcjwK93EDXo3A9Kr\\u002fcQI\\u002fC9ShcvdxAAAAAAIDC3EAAAAAAUMDcQMP1KFwvwNxAFK5H4eq53ECPwvUoXKfcQHE9Ctfzo9xAAAAAAKCu3EA9CtejEKzcQKRwPQrnsdxAZmZmZmay3EA9CtejILvcQFK4HoVbsNxAZmZmZpaw3ED2KFyPMrTcQLgehetxt9xAZmZmZga73EBI4XoULrfcQOF6FK53udxAKVyPwrWw3EDhehSuh6jcQAAAAABAqtxAAAAAAACX3EAAAAAAwJ7cQAAAAACAmNxACtejcP2Z3EBSuB6Fm5ncQI\\u002fC9SicoNxAexSuRzGi3EDXo3A9eqHcQM3MzMwcodxA7FG4HjWZ3ECPwvUoXJzcQK5H4XrkjNxAw\\u002fUoXB+b3EApXI\\u002fCBaPcQAAAAACwpNxAj8L1KDym3EDsUbgedabcQB+F61F4o9xAXI\\u002fC9Yir3EDXo3A9arTcQDMzMzMjrtxAKVyPwiWk3ECamZmZaaPcQHsUrkfBmdxAAAAAAPCP3EDNzMzMzI\\u002fcQOxRuB51k9xAZmZmZtaT3ECamZmZOY7cQOxRuB5VkNxA4XoUroeX3EBxPQrXQ5ncQJqZmZnJl9xAzczMzGyb3ECPwvUoXKDcQJqZmZkpoNxApHA9Cneh3EAAAAAA8J\\u002fcQM3MzMxsm9xAH4XrUXii3ECkcD0KN6TcQOF6FK4HqNxACtejcI2m3EAfhetRCKncQGZmZmYGpNxAzczMzEyw3EB7FK5HEaXcQGZmZmYGpNxAH4XrUYif3EApXI\\u002fCJZ7cQK5H4Xp0m9xAH4XrUWih3ECuR+F6BJrcQLgehevBl9xAzczMzAyg3ECF61G43p\\u002fcQMP1KFxfkdxAuB6F65GN3ECF61G4HpHcQIXrUbjOmdxAj8L1KIyS3ED2KFyPApfcQPYoXI+yndxASOF6FH6c3EBmZmZmxprcQDMzMzNzn9xAj8L1KByk3EC4HoXrYaPcQBSuR+Fqm9xAFK5H4Qqe3EDD9Shc\\u002f7XcQJqZmZkZttxA7FG4HjWv3EB7FK5HsavcQFK4HoXLqdxAuB6F67Gm3EAUrkfhmqbcQOF6FK5npdxAMzMzM8Or3EBxPQrXU6jcQPYoXI9yodxAj8L1KHyh3EC4HoXr0aTcQGZmZmbGqtxAPQrXozCz3EDsUbgeVbDcQK5H4XpEs9xACtejcD2w3EAAAAAAAK3cQB+F61FoqNxAKVyPwpWy3EA9Ctej4LfcQIXrUbh+s9xAmpmZmfmw3EAUrkfhiq7cQOxRuB51rdxA7FG4HnWv3EB7FK5H4bLcQD0K16MQsNxAhetRuD6v3EDD9ShcP7TcQAAAAACwstxAuB6F67Gu3EC4HoXrEbLcQM3MzMwMqdxAmpmZmWm53EApXI\\u002fChb3cQM3MzMzcudxAUrgehSu+3EDsUbgeVcDcQFyPwvWYvNxA4XoUrge53EAzMzMzw7\\u002fcQClcj8KVttxAUrgeheu93EAfhetRWL3cQM3MzMx8vtxApHA9Che73EBSuB6FS77cQHE9Ctezt9xA4XoUrie63EBmZmZmlqvcQClcj8LlrtxAMzMzM7Of3EAzMzMzg6DcQOxRuB71m9xAuB6F61Gb3ECamZmZCZzcQI\\u002fC9SjslNxAPQrXo2CV3EAAAAAAAJPcQMP1KFzvgdxASOF6FD6K3EAUrkfh+o7cQLgeheshkdxAFK5H4TqR3EDsUbgeRZLcQNejcD0amtxAmpmZmRmV3EBI4XoUzpHcQDMzMzMDmtxAAAAAABCW3EBcj8L1OJncQClcj8JVmNxApHA9CheZ3EAzMzMzI5ncQK5H4XrEmtxA4XoUrmeV3EBI4XoU\\u002fpvcQB+F61GYmtxA4XoUroeX3EBcj8L12JbcQFyPwvVIj9xAFK5H4aqH3ECuR+F6dIrcQOxRuB7ljNxAKVyPwsWP3EDD9Shc74rcQIXrUbhugNxAXI\\u002fC9Zh83ECkcD0KZ3\\u002fcQHE9CtcjgNxAPQrXo8CA3ECamZmZ+XvcQLgehevRgNxAAAAAAHCH3ECkcD0K54XcQMP1KFxfh9xAXI\\u002fC9UiE3EBSuB6F+4ncQHE9CtdzhtxA4XoUrieH3ECkcD0Kx4bcQD0K16MghdxA7FG4HqWJ3EB7FK5HUY3cQHsUrkdxjdxApHA9CteH3EAK16Nw3YfcQGZmZmbWitxAuB6F61GI3ECamZmZaY3cQLgehetRi9xA16NwPVqD3EBmZmZmpoTcQIXrUbgOgNxArkfhenSE3EBI4XoUnoXcQB+F61E4lNxAzczMzIyR3EAUrkfhOovcQNejcD26idxACtejcG2S3EBxPQrX847cQK5H4Xp0jdxAcT0K1xON3EDD9Shcb47cQHE9CtfTjNxAMzMzM2OU3EDsUbgehZDcQFK4HoXrkdxAzczMzNyJ3EDD9Shc\\u002f4fcQFK4HoW7g9xAuB6F6yGG3EDhehSud4vcQEjhehRuhNxAH4XrUViJ3EDsUbgelY\\u002fcQGZmZmaGjtxAH4XrUWiT3EBmZmZm9pXcQAAAAADAldxAexSuR3Gc3EAK16NwrZ\\u002fcQAAAAADAndxACtejcL2e3EB7FK5HMZrcQD0K16NAmtxAw\\u002fUoXM+T3EBmZmZmRpjcQBSuR+EaltxAhetRuD6X3EBcj8L1eJTcQPYoXI+SltxA4XoUroeT3ECPwvUoPJXcQLgehesBjNxAhetRuF6O3ECkcD0K14fcQHsUrkdhkNxAmpmZmWmQ3ECamZmZaZDcQM3MzMwMh9xAPQrXo5CM3EAfhetRaIXcQAAAAAAAhNxA16NwPRqF3EAAAAAAAITcQD0K16MggNxAZmZmZqaJ3EA9CtejcIbcQK5H4XqEhtxAXI\\u002fC9Sh93EAfhetRSIbcQKRwPQrnjNxAUrgehcuN3EDNzMzM7IrcQB+F61HojNxAKVyPwmWJ3EBmZmZmRorcQArXo3B9i9xAuB6F60GM3EAzMzMzA5HcQAAAAAAQkdxAAAAAAJCP3ECF61G4Lo\\u002fcQClcj8KViNxAZmZmZqaP3EBI4XoU7ozcQGZmZmaGiNxAcT0K18OI3EAfhetRCIncQHE9CtcjidxArkfhevR83ECuR+F6JIPcQKRwPQpngdxAMzMzMwOH3ECamZmZ2YfcQPYoXI9ij9xAPQrXo8CH3EDXo3A9qpDcQGZmZmZmkdxAZmZmZnaL3EDNzMzMDI\\u002fcQI\\u002fC9Si8hNxAzczMzEyC3EAfhetR+HzcQClcj8JladxArkfhevRs3EDXo3A9OlHcQAAAAAAAXtxAhetRuL5Z3ED2KFyP0l\\u002fcQClcj8KFUtxA16NwPTpe3EDNzMzMrFfcQJqZmZm5Z9xAXI\\u002fC9fhq3EC4HoXrIWjcQFK4HoWLY9xAcT0K1+Nh3EA9CtejYGXcQB+F61G4YtxAhetRuF5r3EDXo3A96mzcQD0K16OQadxA9ihcj8Jj3EBSuB6FW2vcQFK4HoX7ZdxA4XoUrgdp3ECPwvUonGbcQJqZmZl5bNxAAAAAAHBw3EBmZmZmdnDcQGZmZmZ2cNxAPQrXoyB23ECuR+F6pHTcQI\\u002fC9Sj8dNxA4XoUrhd33ECamZmZKXjcQGZmZmbmetxA9ihcj7J+3EBcj8L1WHrcQIXrUbgOetxAXI\\u002fC9Xh63ECF61G4XnbcQClcj8K1d9xAAAAAACB13ED2KFyPgnncQAAAAACAftxArkfheiR83EBcj8L1qH\\u002fcQDMzMzNTe9xAMzMzM1N73EDD9ShcP3rcQFK4HoV7ftxA4XoUrgeA3EAUrkfhSn3cQBSuR+FKfdxAPQrXo7CF3ECamZmZ2Y\\u002fcQArXo3CtgdxAAAAAAECE3EDNzMzMnH3cQPYoXI\\u002fifdxAPQrXo5B03EBcj8L1+G7cQAAAAADgbNxA16NwPbpv3EA9Ctej8GvcQM3MzMzcbdxA9ihcj+Jk3EB7FK5HoWjcQBSuR+EqYtxAKVyPwkVf3EAzMzMzs1jcQDMzMzOjX9xACtejcE1W3EAUrkfhmlHcQI\\u002fC9SicTdxAXI\\u002fC9chP3EBI4XoU7lncQD0K16NQXdxACtejcG1l3EBI4XoUPlzcQOxRuB41YtxAXI\\u002fC9Xht3EBSuB6FS2zcQFK4HoVLbNxACtejcF1w3EAAAAAAMHncQEjhehTueNxASOF6FP5+3ED2KFyP4n\\u002fcQPYoXI8CdtxA7FG4HoVw3EBSuB6Fe2\\u002fcQB+F61H4b9xAXI\\u002fC9Th33ECkcD0KB3rcQClcj8LVcNxAXI\\u002fC9Xht3EAK16Nw\\u002fV7cQOxRuB61W9xAPQrXo8BW3ECuR+F6BGDcQK5H4XoEZNxACtejcA1t3EB7FK5HEWfcQOxRuB71bNxACtejcB1t3EDXo3A9qmvcQPYoXI8ScdxAAAAAAKBs3EBSuB6Fq3XcQOF6FK4XddxAAAAAAEBx3ECPwvUo\\u002fHTcQM3MzMxMZdxACtejcJ1q3EB7FK5HYWzcQMP1KFx\\u002fd9xAFK5H4Xp23EBmZmZmJnzcQAAAAACAd9xA9ihcj3J83EC4HoXrgXzcQAAAAACwedxAH4XrUYh33EAAAAAAgHfcQArXo3Bdd9xAFK5H4WqA3EC4HoXrwYjcQAAAAADwgdxAj8L1KNyC3EB7FK5HAYXcQDMzMzOzg9xAAAAAAACE3EDXo3A9yoTcQEjhehQujNxAH4XrUaiO3ECamZmZCZDcQBSuR+E6jNxArkfhetSM3EApXI\\u002fCRZLcQOF6FK7XldxAexSuR3Gc3EAK16NwXZfcQLgehetBk9xArkfhevSY3EC4HoXrAaDcQEjhehR+oNxASOF6FB6i3EDXo3A9CqjcQHE9Ctcjp9xAAAAAAICp3EAK16Nw3bLcQLgeheuxsNxAuB6F6wGn3EAAAAAAAKfcQAAAAAAAp9xAH4XrUQij3EA9Ctej4KDcQNejcD3KntxAMzMzM2Ok3EAAAAAA4KHcQDMzMzNjpNxAH4XrUcim3ECPwvUobKTcQPYoXI8CotxAj8L1KFyh3EDNzMzMvJ7cQAAAAAAQnNxAuB6F63GX3EDD9Shc\\u002f5zcQM3MzMycldxACtejcL2Y3EApXI\\u002fCxZvcQOF6FK6nmNxAcT0K10OX3EAfhetRqJLcQClcj8LVnNxAuB6F63Gf3EAK16NwvZ7cQBSuR+Eqk9xArkfheoSP3ECF61G4jpTcQIXrUbiOlNxArkfhemSe3EAzMzMzo7bcQPYoXI\\u002fir9xAMzMzM1Or3ECamZmZyafcQK5H4XpEptxAZmZmZsau3ECPwvUonKrcQHE9Ctczr9xAuB6F65Gq3EC4HoXrMazcQEjhehQuqNxAKVyPwmWl3EDsUbgexZ7cQIXrUbh+n9xA16NwPQqe3EB7FK5HgaHcQFK4HoW7n9xAhetRuK6f3ECF61G4zqncQAAAAAAAndxArkfhevSf3ECF61G4rp\\u002fcQKRwPQpXoNxA9ihcj7Kd3ECkcD0KV57cQPYoXI\\u002fyodxA9ihcj\\u002fKi3EBmZmZmZqfcQKRwPQo3pNxArkfheoSr3ED2KFyPorHcQJqZmZkJsNxAFK5H4aqq3EAzMzMz06bcQClcj8LVptxAH4XrUUiq3EBcj8L1OKvcQI\\u002fC9ShMo9xAAAAAAJCg3ECF61G43qncQNejcD2qs9xAzczMzJyt3EAAAAAAgKzcQI\\u002fC9SjsqtxASOF6FC6n3EBxPQrXM6zcQKRwPQrXp9xAH4XrUbin3EBxPQrXY6fcQNejcD2KodxAAAAAAHCo3EAAAAAAULHcQK5H4XqUsNxAexSuR6Go3ED2KFyP0qXcQDMzMzPTqNxAzczMzJyu3ECamZmZSa\\u002fcQJqZmZnZudxAZmZmZia03ED2KFyP4q\\u002fcQMP1KFwfstxA9ihcjzKw3ECamZmZGbfcQB+F61HYsNxAmpmZmbmy3EAAAAAAgKncQDMzMzOzsdxApHA9Cpeu3EBxPQrX87PcQB+F61H4udxAZmZmZsa73ECkcD0KJ73cQOxRuB7Vu9xAuB6F6zG\\u002f3EDhehSuB73cQFyPwvWowNxAcT0K1\\u002fPB3EDNzMzMfLncQOxRuB6FxdxAAAAAAIDM3ECuR+F6VMPcQJqZmZk5u9xAMzMzM8O23ED2KFyPsrfcQMP1KFw\\u002fp9xACtejcP2w3EApXI\\u002fCpazcQDMzMzNTsNxAH4XrUdiv3EBI4XoUHrLcQD0K16PAstxAH4XrUdiy3EAAAAAAQLLcQGZmZmamqdxAzczMzByn3ECkcD0Kh6fcQI\\u002fC9Sj8rNxA7FG4HuWp3ECF61G4PqvcQBSuR+EasNxAcT0K1+Ou3EBcj8L1eKrcQM3MzMzcqtxAMzMzM2On3ECuR+F6BK7cQD0K16MAsNxAcT0K11Ow3ECkcD0Kx7TcQClcj8KVs9xAPQrXo8Cz3EBmZmZmtrPcQAAAAABwrdxAj8L1KMyh3EDsUbge9aPcQFyPwvXIm9xAAAAAAPCc3EDsUbgeFaDcQJqZmZl5nNxAzczMzAye3EDhehSuB6jcQIXrUbguqdxAmpmZmcmp3EBSuB6FS6zcQB+F61FIqdxA4XoUroek3EC4HoXrsajcQFyPwvV4rdxAj8L1KOyx3EDD9Shcr7ncQDMzMzODxNxAexSuR2G+3EAK16NwTcvcQB+F61GIw9xAAAAAAADP3EC4HoXrAdPcQLgehesxztxAZmZmZkbN3EAzMzMzg87cQHE9Ctcz09xAMzMzMyPZ3EC4HoXrcfPcQIXrUbiu7dxA7FG4HnXr3EA9CtejcOncQHE9Ctej8NxAAAAAAMD63ED2KFyPkvncQPYoXI+C7txA16NwPWrv3EBSuB6Fe\\u002fHcQClcj8LV3dxAAAAAAODV3EDXo3A9OuXcQJqZmZmZ5dxAexSuRyHR3EDNzMzM\\u002fN3cQFK4HoV73dxApHA9Cnfi3ECuR+F6pNjcQIXrUbjewtxAcT0K19Ot3EAUrkfhWrHcQArXo3D9p9xA16NwPRqP3EAzMzMzc6DcQAAAAACAn9xAUrgehUug3EDhehSuZ6TcQHsUrkdxoNxAMzMzMwOq3ECF61G43qzcQArXo3CdudxACtejcP2v3EDNzMzMzK7cQHsUrkcBt9xAPQrXo5C03ECF61G43rTcQGZmZmZGt9xASOF6FJ643EDsUbge5b3cQM3MzMycvNxAUrgehau33EApXI\\u002fCxcLcQNejcD1KyNxACtejcF3D3EDXo3A9GsjcQHsUrkcRxtxA9ihcj4K\\u002f3EAK16Nwnb\\u002fcQAAAAABAtdxA7FG4HoW03ECuR+F61LjcQDMzMzPDwNxAhetRuC653EApXI\\u002fC9cTcQK5H4XqUvdxAw\\u002fUoXB+83EApXI\\u002fC9cTcQLgehesxy9xAzczMzKzF3EBmZmZmNsncQM3MzMxszNxAw\\u002fUoXF\\u002fF3EDXo3A92sjcQFK4HoUbxNxAexSuR3HK3EAAAAAAEMjcQD0K16OgzNxAKVyPwjXM3ECPwvUoDM\\u002fcQD0K16MgzdxASOF6FE7F3EAzMzMzE8TcQPYoXI8iydxApHA9ClfP3EAzMzMzs9TcQFK4HoX72dxAUrgehfvZ3EBI4XoUHtXcQM3MzMys2dxAzczMzBzZ3EBcj8L1KNfcQJqZmZkp19xAAAAAANDV3EDNzMzMzNfcQArXo3A92NxAmpmZmenb3EB7FK5H0djcQBSuR+G62NxAw\\u002fUoXB\\u002fZ3EB7FK5H0cXcQHE9CtcDytxAhetRuF7P3EBcj8L1SNfcQK5H4XrU3dxAexSuR3Hf3EDsUbgepercQGZmZmam5dxAPQrXo2DY3ECF61G4DtXcQLgehevR1NxAUrgehbvX3ECF61G4TuLcQOxRuB4F29xApHA9CrfT3EAfhetR+MzcQK5H4Xr0ztxAuB6F67HR3EAfhetRONfcQD0K16Ow09xAXI\\u002fC9djV3EAUrkfhStbcQNejcD062txAmpmZmSnS3EBI4XoUDtPcQFK4HoW71txAj8L1KNzT3EBmZmZmBtbcQOxRuB6F1NxAw\\u002fUoXL\\u002fU3EC4HoXrEdPcQM3MzMzMzdxAAAAAAEDA3EDNzMzMbLzcQGZmZmZGwtxAhetRuL7I3EBI4XoUPsjcQOxRuB4ly9xApHA9CnfI3EB7FK5HsczcQArXo3A9zdxA7FG4HsXK3EB7FK5HocvcQKRwPQo3yNxAw\\u002fUoXK++3EBcj8L16L3cQPYoXI8Sw9xA7FG4HvW73EBcj8L1SMHcQNejcD0Ku9xArkfheiS63EAUrkfhCrTcQFyPwvUYq9xA16NwPTqw3EApXI\\u002fCZbbcQM3MzMwss9xAAAAAAACx3EBxPQrXc6\\u002fcQI\\u002fC9ShstdxAKVyPwnWx3EDNzMzM\\u002fKvcQB+F61Eoo9xA4XoUrlet3EApXI\\u002fCxaPcQGZmZmb2rtxAzczMzIyz3EAK16NwrbTcQMP1KFzfttxAw\\u002fUoXK+03ED2KFyPIrbcQM3MzMwMxNxAXI\\u002fC9Xi\\u002f3EAAAAAAsL3cQEjhehQuvNxAw\\u002fUoXL+43EBI4XoULr7cQNejcD0au9xAPQrXoxC93EBxPQrXw7\\u002fcQI\\u002fC9Shss9xAAAAAAACz3EA9CtejkLPcQMP1KFzfrNxAFK5H4bqu3EAK16Nw\\u002fbLcQM3MzMzMp9xAH4XrUcir3EAfhetRaK7cQOF6FK4nq9xAmpmZmSmi3ECF61G4Tp\\u002fcQOF6FK5XntxAw\\u002fUoXE+k3EA9CtejoJ\\u002fcQJqZmZkZm9xAKVyPwhWL3EBI4XoU7nfcQArXo3BtfNxAzczMzDxy3EDsUbge1XvcQM3MzMwMhdxASOF6FG6N3ECkcD0Kt4ncQFK4HoXrgtxAAAAAAMCH3ECamZmZKZXcQIXrUbgek9xAhetRuL6a3EB7FK5HMZncQAAAAADQmNxA9ihcj8Kc3EBSuB6Fa5zcQLgehetRmtxArkfhelSY3EApXI\\u002fCpZDcQHsUrkfBjNxApHA9CheQ3EDXo3A9ipncQArXo3B9k9xAhetRuA6e3EA9CtejEKDcQFyPwvWIktxAAAAAAKCG3EAUrkfhmojcQFK4HoWbidxAAAAAAGCV3EDD9Shcr5jcQDMzMzMjl9xAAAAAAACd3ECPwvUoTJ3cQClcj8I1ndxAcT0K1zOa3EBSuB6FS53cQMP1KFy\\u002fmtxArkfhesSb3ECamZmZuZ7cQKRwPQrnn9xA16NwPcqc3ECamZmZiajcQOxRuB4lpdxA16NwPeqo3EBxPQrX063cQEjhehT+qtxAw\\u002fUoXM+r3ECuR+F6BLLcQM3MzMwcs9xA16NwPaqq3EAAAAAAgKfcQMP1KFzvq9xAMzMzM0Oo3ECF61G4zqfcQAAAAACgq9xAAAAAAMCt3EDNzMzM\\u002fK7cQPYoXI9yr9xAw\\u002fUoXE+t3EDNzMzMDKzcQArXo3Ctq9xAmpmZmXmu3EAUrkfhSqrcQDMzMzPzq9xAhetRuF6u3ECuR+F6RKzcQLgehetRrtxAMzMzM6O23EApXI\\u002fChbrcQEjhehTOu9xAXI\\u002fC9di13ECuR+F6ZLTcQAAAAABQtNxAXI\\u002fC9Ti63ECF61G4Pr7cQArXo3C9u9xAKVyPwhW23EDD9Shcr7HcQD0K16NwtNxAzczMzEy13ECF61G4fqvcQKRwPQo3sNxAZmZmZian3EBmZmZmVqzcQNejcD06rtxAj8L1KKyx3EA9CtejcLLcQPYoXI+is9xA16NwPRq03EA9CtejoLPcQHE9CteDsdxAexSuRyGt3EBSuB6Fe6\\u002fcQFyPwvWYtdxAmpmZmcmz3EAfhetRKLPcQEjhehT+r9xAPQrXoxC63EBI4XoU3rfcQD0K16MwutxArkfheoS53ECamZmZybTcQArXo3Ddt9xAj8L1KOyw3EDNzMzMjKTcQM3MzMx8q9xA7FG4HsWn3EBcj8L1WKXcQI\\u002fC9SiMptxAuB6F66Gm3EAzMzMz06jcQHsUrkdRrdxAFK5H4Sqq3EDhehSuh6HcQClcj8KFntxAZmZmZmaY3ECkcD0Kp5rcQEjhehTOndxAZmZmZqae3EDXo3A9Op7cQM3MzMzMktxA4XoUrheK3EB7FK5HEYfcQFyPwvUoktxAmpmZmWmS3ECkcD0KB43cQM3MzMzMjtxAAAAAAABm3EAzMzMzY2bcQBSuR+HKbtxA7FG4HgV33EAAAAAAIHvcQAAAAABggNxASOF6FJ5\\u002f3ECuR+F6ZIDcQEjhehQ+gNxAj8L1KLyD3ECPwvUo3IHcQBSuR+FqgNxAAAAAAIB93ECamZmZeXzcQKRwPQqXetxA\"},\"x\":[\"2021-01-01T00:00:00.000000000\",\"2021-01-01T00:01:00.000000000\",\"2021-01-01T00:02:00.000000000\",\"2021-01-01T00:03:00.000000000\",\"2021-01-01T00:04:00.000000000\",\"2021-01-01T00:05:00.000000000\",\"2021-01-01T00:06:00.000000000\",\"2021-01-01T00:07:00.000000000\",\"2021-01-01T00:08:00.000000000\",\"2021-01-01T00:09:00.000000000\",\"2021-01-01T00:10:00.000000000\",\"2021-01-01T00:11:00.000000000\",\"2021-01-01T00:12:00.000000000\",\"2021-01-01T00:13:00.000000000\",\"2021-01-01T00:14:00.000000000\",\"2021-01-01T00:15:00.000000000\",\"2021-01-01T00:16:00.000000000\",\"2021-01-01T00:17:00.000000000\",\"2021-01-01T00:18:00.000000000\",\"2021-01-01T00:19:00.000000000\",\"2021-01-01T00:20:00.000000000\",\"2021-01-01T00:21:00.000000000\",\"2021-01-01T00:22:00.000000000\",\"2021-01-01T00:23:00.000000000\",\"2021-01-01T00:24:00.000000000\",\"2021-01-01T00:25:00.000000000\",\"2021-01-01T00:26:00.000000000\",\"2021-01-01T00:27:00.000000000\",\"2021-01-01T00:28:00.000000000\",\"2021-01-01T00:29:00.000000000\",\"2021-01-01T00:30:00.000000000\",\"2021-01-01T00:31:00.000000000\",\"2021-01-01T00:32:00.000000000\",\"2021-01-01T00:33:00.000000000\",\"2021-01-01T00:34:00.000000000\",\"2021-01-01T00:35:00.000000000\",\"2021-01-01T00:36:00.000000000\",\"2021-01-01T00:37:00.000000000\",\"2021-01-01T00:38:00.000000000\",\"2021-01-01T00:39:00.000000000\",\"2021-01-01T00:40:00.000000000\",\"2021-01-01T00:41:00.000000000\",\"2021-01-01T00:42:00.000000000\",\"2021-01-01T00:43:00.000000000\",\"2021-01-01T00:44:00.000000000\",\"2021-01-01T00:45:00.000000000\",\"2021-01-01T00:46:00.000000000\",\"2021-01-01T00:47:00.000000000\",\"2021-01-01T00:48:00.000000000\",\"2021-01-01T00:49:00.000000000\",\"2021-01-01T00:50:00.000000000\",\"2021-01-01T00:51:00.000000000\",\"2021-01-01T00:52:00.000000000\",\"2021-01-01T00:53:00.000000000\",\"2021-01-01T00:54:00.000000000\",\"2021-01-01T00:55:00.000000000\",\"2021-01-01T00:56:00.000000000\",\"2021-01-01T00:57:00.000000000\",\"2021-01-01T00:58:00.000000000\",\"2021-01-01T00:59:00.000000000\",\"2021-01-01T01:00:00.000000000\",\"2021-01-01T01:01:00.000000000\",\"2021-01-01T01:02:00.000000000\",\"2021-01-01T01:03:00.000000000\",\"2021-01-01T01:04:00.000000000\",\"2021-01-01T01:05:00.000000000\",\"2021-01-01T01:06:00.000000000\",\"2021-01-01T01:07:00.000000000\",\"2021-01-01T01:08:00.000000000\",\"2021-01-01T01:09:00.000000000\",\"2021-01-01T01:10:00.000000000\",\"2021-01-01T01:11:00.000000000\",\"2021-01-01T01:12:00.000000000\",\"2021-01-01T01:13:00.000000000\",\"2021-01-01T01:14:00.000000000\",\"2021-01-01T01:15:00.000000000\",\"2021-01-01T01:16:00.000000000\",\"2021-01-01T01:17:00.000000000\",\"2021-01-01T01:18:00.000000000\",\"2021-01-01T01:19:00.000000000\",\"2021-01-01T01:20:00.000000000\",\"2021-01-01T01:21:00.000000000\",\"2021-01-01T01:22:00.000000000\",\"2021-01-01T01:23:00.000000000\",\"2021-01-01T01:24:00.000000000\",\"2021-01-01T01:25:00.000000000\",\"2021-01-01T01:26:00.000000000\",\"2021-01-01T01:27:00.000000000\",\"2021-01-01T01:28:00.000000000\",\"2021-01-01T01:29:00.000000000\",\"2021-01-01T01:30:00.000000000\",\"2021-01-01T01:31:00.000000000\",\"2021-01-01T01:32:00.000000000\",\"2021-01-01T01:33:00.000000000\",\"2021-01-01T01:34:00.000000000\",\"2021-01-01T01:35:00.000000000\",\"2021-01-01T01:36:00.000000000\",\"2021-01-01T01:37:00.000000000\",\"2021-01-01T01:38:00.000000000\",\"2021-01-01T01:39:00.000000000\",\"2021-01-01T01:40:00.000000000\",\"2021-01-01T01:41:00.000000000\",\"2021-01-01T01:42:00.000000000\",\"2021-01-01T01:43:00.000000000\",\"2021-01-01T01:44:00.000000000\",\"2021-01-01T01:45:00.000000000\",\"2021-01-01T01:46:00.000000000\",\"2021-01-01T01:47:00.000000000\",\"2021-01-01T01:48:00.000000000\",\"2021-01-01T01:49:00.000000000\",\"2021-01-01T01:50:00.000000000\",\"2021-01-01T01:51:00.000000000\",\"2021-01-01T01:52:00.000000000\",\"2021-01-01T01:53:00.000000000\",\"2021-01-01T01:54:00.000000000\",\"2021-01-01T01:55:00.000000000\",\"2021-01-01T01:56:00.000000000\",\"2021-01-01T01:57:00.000000000\",\"2021-01-01T01:58:00.000000000\",\"2021-01-01T01:59:00.000000000\",\"2021-01-01T02:00:00.000000000\",\"2021-01-01T02:01:00.000000000\",\"2021-01-01T02:02:00.000000000\",\"2021-01-01T02:03:00.000000000\",\"2021-01-01T02:04:00.000000000\",\"2021-01-01T02:05:00.000000000\",\"2021-01-01T02:06:00.000000000\",\"2021-01-01T02:07:00.000000000\",\"2021-01-01T02:08:00.000000000\",\"2021-01-01T02:09:00.000000000\",\"2021-01-01T02:10:00.000000000\",\"2021-01-01T02:11:00.000000000\",\"2021-01-01T02:12:00.000000000\",\"2021-01-01T02:13:00.000000000\",\"2021-01-01T02:14:00.000000000\",\"2021-01-01T02:15:00.000000000\",\"2021-01-01T02:16:00.000000000\",\"2021-01-01T02:17:00.000000000\",\"2021-01-01T02:18:00.000000000\",\"2021-01-01T02:19:00.000000000\",\"2021-01-01T02:20:00.000000000\",\"2021-01-01T02:21:00.000000000\",\"2021-01-01T02:22:00.000000000\",\"2021-01-01T02:23:00.000000000\",\"2021-01-01T02:24:00.000000000\",\"2021-01-01T02:25:00.000000000\",\"2021-01-01T02:26:00.000000000\",\"2021-01-01T02:27:00.000000000\",\"2021-01-01T02:28:00.000000000\",\"2021-01-01T02:29:00.000000000\",\"2021-01-01T02:30:00.000000000\",\"2021-01-01T02:31:00.000000000\",\"2021-01-01T02:32:00.000000000\",\"2021-01-01T02:33:00.000000000\",\"2021-01-01T02:34:00.000000000\",\"2021-01-01T02:35:00.000000000\",\"2021-01-01T02:36:00.000000000\",\"2021-01-01T02:37:00.000000000\",\"2021-01-01T02:38:00.000000000\",\"2021-01-01T02:39:00.000000000\",\"2021-01-01T02:40:00.000000000\",\"2021-01-01T02:41:00.000000000\",\"2021-01-01T02:42:00.000000000\",\"2021-01-01T02:43:00.000000000\",\"2021-01-01T02:44:00.000000000\",\"2021-01-01T02:45:00.000000000\",\"2021-01-01T02:46:00.000000000\",\"2021-01-01T02:47:00.000000000\",\"2021-01-01T02:48:00.000000000\",\"2021-01-01T02:49:00.000000000\",\"2021-01-01T02:50:00.000000000\",\"2021-01-01T02:51:00.000000000\",\"2021-01-01T02:52:00.000000000\",\"2021-01-01T02:53:00.000000000\",\"2021-01-01T02:54:00.000000000\",\"2021-01-01T02:55:00.000000000\",\"2021-01-01T02:56:00.000000000\",\"2021-01-01T02:57:00.000000000\",\"2021-01-01T02:58:00.000000000\",\"2021-01-01T02:59:00.000000000\",\"2021-01-01T03:00:00.000000000\",\"2021-01-01T03:01:00.000000000\",\"2021-01-01T03:02:00.000000000\",\"2021-01-01T03:03:00.000000000\",\"2021-01-01T03:04:00.000000000\",\"2021-01-01T03:05:00.000000000\",\"2021-01-01T03:06:00.000000000\",\"2021-01-01T03:07:00.000000000\",\"2021-01-01T03:08:00.000000000\",\"2021-01-01T03:09:00.000000000\",\"2021-01-01T03:10:00.000000000\",\"2021-01-01T03:11:00.000000000\",\"2021-01-01T03:12:00.000000000\",\"2021-01-01T03:13:00.000000000\",\"2021-01-01T03:14:00.000000000\",\"2021-01-01T03:15:00.000000000\",\"2021-01-01T03:16:00.000000000\",\"2021-01-01T03:17:00.000000000\",\"2021-01-01T03:18:00.000000000\",\"2021-01-01T03:19:00.000000000\",\"2021-01-01T03:20:00.000000000\",\"2021-01-01T03:21:00.000000000\",\"2021-01-01T03:22:00.000000000\",\"2021-01-01T03:23:00.000000000\",\"2021-01-01T03:24:00.000000000\",\"2021-01-01T03:25:00.000000000\",\"2021-01-01T03:26:00.000000000\",\"2021-01-01T03:27:00.000000000\",\"2021-01-01T03:28:00.000000000\",\"2021-01-01T03:29:00.000000000\",\"2021-01-01T03:30:00.000000000\",\"2021-01-01T03:31:00.000000000\",\"2021-01-01T03:32:00.000000000\",\"2021-01-01T03:33:00.000000000\",\"2021-01-01T03:34:00.000000000\",\"2021-01-01T03:35:00.000000000\",\"2021-01-01T03:36:00.000000000\",\"2021-01-01T03:37:00.000000000\",\"2021-01-01T03:38:00.000000000\",\"2021-01-01T03:39:00.000000000\",\"2021-01-01T03:40:00.000000000\",\"2021-01-01T03:41:00.000000000\",\"2021-01-01T03:42:00.000000000\",\"2021-01-01T03:43:00.000000000\",\"2021-01-01T03:44:00.000000000\",\"2021-01-01T03:45:00.000000000\",\"2021-01-01T03:46:00.000000000\",\"2021-01-01T03:47:00.000000000\",\"2021-01-01T03:48:00.000000000\",\"2021-01-01T03:49:00.000000000\",\"2021-01-01T03:50:00.000000000\",\"2021-01-01T03:51:00.000000000\",\"2021-01-01T03:52:00.000000000\",\"2021-01-01T03:53:00.000000000\",\"2021-01-01T03:54:00.000000000\",\"2021-01-01T03:55:00.000000000\",\"2021-01-01T03:56:00.000000000\",\"2021-01-01T03:57:00.000000000\",\"2021-01-01T03:58:00.000000000\",\"2021-01-01T03:59:00.000000000\",\"2021-01-01T04:00:00.000000000\",\"2021-01-01T04:01:00.000000000\",\"2021-01-01T04:02:00.000000000\",\"2021-01-01T04:03:00.000000000\",\"2021-01-01T04:04:00.000000000\",\"2021-01-01T04:05:00.000000000\",\"2021-01-01T04:06:00.000000000\",\"2021-01-01T04:07:00.000000000\",\"2021-01-01T04:08:00.000000000\",\"2021-01-01T04:09:00.000000000\",\"2021-01-01T04:10:00.000000000\",\"2021-01-01T04:11:00.000000000\",\"2021-01-01T04:12:00.000000000\",\"2021-01-01T04:13:00.000000000\",\"2021-01-01T04:14:00.000000000\",\"2021-01-01T04:15:00.000000000\",\"2021-01-01T04:16:00.000000000\",\"2021-01-01T04:17:00.000000000\",\"2021-01-01T04:18:00.000000000\",\"2021-01-01T04:19:00.000000000\",\"2021-01-01T04:20:00.000000000\",\"2021-01-01T04:21:00.000000000\",\"2021-01-01T04:22:00.000000000\",\"2021-01-01T04:23:00.000000000\",\"2021-01-01T04:24:00.000000000\",\"2021-01-01T04:25:00.000000000\",\"2021-01-01T04:26:00.000000000\",\"2021-01-01T04:27:00.000000000\",\"2021-01-01T04:28:00.000000000\",\"2021-01-01T04:29:00.000000000\",\"2021-01-01T04:30:00.000000000\",\"2021-01-01T04:31:00.000000000\",\"2021-01-01T04:32:00.000000000\",\"2021-01-01T04:33:00.000000000\",\"2021-01-01T04:34:00.000000000\",\"2021-01-01T04:35:00.000000000\",\"2021-01-01T04:36:00.000000000\",\"2021-01-01T04:37:00.000000000\",\"2021-01-01T04:38:00.000000000\",\"2021-01-01T04:39:00.000000000\",\"2021-01-01T04:40:00.000000000\",\"2021-01-01T04:41:00.000000000\",\"2021-01-01T04:42:00.000000000\",\"2021-01-01T04:43:00.000000000\",\"2021-01-01T04:44:00.000000000\",\"2021-01-01T04:45:00.000000000\",\"2021-01-01T04:46:00.000000000\",\"2021-01-01T04:47:00.000000000\",\"2021-01-01T04:48:00.000000000\",\"2021-01-01T04:49:00.000000000\",\"2021-01-01T04:50:00.000000000\",\"2021-01-01T04:51:00.000000000\",\"2021-01-01T04:52:00.000000000\",\"2021-01-01T04:53:00.000000000\",\"2021-01-01T04:54:00.000000000\",\"2021-01-01T04:55:00.000000000\",\"2021-01-01T04:56:00.000000000\",\"2021-01-01T04:57:00.000000000\",\"2021-01-01T04:58:00.000000000\",\"2021-01-01T04:59:00.000000000\",\"2021-01-01T05:00:00.000000000\",\"2021-01-01T05:01:00.000000000\",\"2021-01-01T05:02:00.000000000\",\"2021-01-01T05:03:00.000000000\",\"2021-01-01T05:04:00.000000000\",\"2021-01-01T05:05:00.000000000\",\"2021-01-01T05:06:00.000000000\",\"2021-01-01T05:07:00.000000000\",\"2021-01-01T05:08:00.000000000\",\"2021-01-01T05:09:00.000000000\",\"2021-01-01T05:10:00.000000000\",\"2021-01-01T05:11:00.000000000\",\"2021-01-01T05:12:00.000000000\",\"2021-01-01T05:13:00.000000000\",\"2021-01-01T05:14:00.000000000\",\"2021-01-01T05:15:00.000000000\",\"2021-01-01T05:16:00.000000000\",\"2021-01-01T05:17:00.000000000\",\"2021-01-01T05:18:00.000000000\",\"2021-01-01T05:19:00.000000000\",\"2021-01-01T05:20:00.000000000\",\"2021-01-01T05:21:00.000000000\",\"2021-01-01T05:22:00.000000000\",\"2021-01-01T05:23:00.000000000\",\"2021-01-01T05:24:00.000000000\",\"2021-01-01T05:25:00.000000000\",\"2021-01-01T05:26:00.000000000\",\"2021-01-01T05:27:00.000000000\",\"2021-01-01T05:28:00.000000000\",\"2021-01-01T05:29:00.000000000\",\"2021-01-01T05:30:00.000000000\",\"2021-01-01T05:31:00.000000000\",\"2021-01-01T05:32:00.000000000\",\"2021-01-01T05:33:00.000000000\",\"2021-01-01T05:34:00.000000000\",\"2021-01-01T05:35:00.000000000\",\"2021-01-01T05:36:00.000000000\",\"2021-01-01T05:37:00.000000000\",\"2021-01-01T05:38:00.000000000\",\"2021-01-01T05:39:00.000000000\",\"2021-01-01T05:40:00.000000000\",\"2021-01-01T05:41:00.000000000\",\"2021-01-01T05:42:00.000000000\",\"2021-01-01T05:43:00.000000000\",\"2021-01-01T05:44:00.000000000\",\"2021-01-01T05:45:00.000000000\",\"2021-01-01T05:46:00.000000000\",\"2021-01-01T05:47:00.000000000\",\"2021-01-01T05:48:00.000000000\",\"2021-01-01T05:49:00.000000000\",\"2021-01-01T05:50:00.000000000\",\"2021-01-01T05:51:00.000000000\",\"2021-01-01T05:52:00.000000000\",\"2021-01-01T05:53:00.000000000\",\"2021-01-01T05:54:00.000000000\",\"2021-01-01T05:55:00.000000000\",\"2021-01-01T05:56:00.000000000\",\"2021-01-01T05:57:00.000000000\",\"2021-01-01T05:58:00.000000000\",\"2021-01-01T05:59:00.000000000\",\"2021-01-01T06:00:00.000000000\",\"2021-01-01T06:01:00.000000000\",\"2021-01-01T06:02:00.000000000\",\"2021-01-01T06:03:00.000000000\",\"2021-01-01T06:04:00.000000000\",\"2021-01-01T06:05:00.000000000\",\"2021-01-01T06:06:00.000000000\",\"2021-01-01T06:07:00.000000000\",\"2021-01-01T06:08:00.000000000\",\"2021-01-01T06:09:00.000000000\",\"2021-01-01T06:10:00.000000000\",\"2021-01-01T06:11:00.000000000\",\"2021-01-01T06:12:00.000000000\",\"2021-01-01T06:13:00.000000000\",\"2021-01-01T06:14:00.000000000\",\"2021-01-01T06:15:00.000000000\",\"2021-01-01T06:16:00.000000000\",\"2021-01-01T06:17:00.000000000\",\"2021-01-01T06:18:00.000000000\",\"2021-01-01T06:19:00.000000000\",\"2021-01-01T06:20:00.000000000\",\"2021-01-01T06:21:00.000000000\",\"2021-01-01T06:22:00.000000000\",\"2021-01-01T06:23:00.000000000\",\"2021-01-01T06:24:00.000000000\",\"2021-01-01T06:25:00.000000000\",\"2021-01-01T06:26:00.000000000\",\"2021-01-01T06:27:00.000000000\",\"2021-01-01T06:28:00.000000000\",\"2021-01-01T06:29:00.000000000\",\"2021-01-01T06:30:00.000000000\",\"2021-01-01T06:31:00.000000000\",\"2021-01-01T06:32:00.000000000\",\"2021-01-01T06:33:00.000000000\",\"2021-01-01T06:34:00.000000000\",\"2021-01-01T06:35:00.000000000\",\"2021-01-01T06:36:00.000000000\",\"2021-01-01T06:37:00.000000000\",\"2021-01-01T06:38:00.000000000\",\"2021-01-01T06:39:00.000000000\",\"2021-01-01T06:40:00.000000000\",\"2021-01-01T06:41:00.000000000\",\"2021-01-01T06:42:00.000000000\",\"2021-01-01T06:43:00.000000000\",\"2021-01-01T06:44:00.000000000\",\"2021-01-01T06:45:00.000000000\",\"2021-01-01T06:46:00.000000000\",\"2021-01-01T06:47:00.000000000\",\"2021-01-01T06:48:00.000000000\",\"2021-01-01T06:49:00.000000000\",\"2021-01-01T06:50:00.000000000\",\"2021-01-01T06:51:00.000000000\",\"2021-01-01T06:52:00.000000000\",\"2021-01-01T06:53:00.000000000\",\"2021-01-01T06:54:00.000000000\",\"2021-01-01T06:55:00.000000000\",\"2021-01-01T06:56:00.000000000\",\"2021-01-01T06:57:00.000000000\",\"2021-01-01T06:58:00.000000000\",\"2021-01-01T06:59:00.000000000\",\"2021-01-01T07:00:00.000000000\",\"2021-01-01T07:01:00.000000000\",\"2021-01-01T07:02:00.000000000\",\"2021-01-01T07:03:00.000000000\",\"2021-01-01T07:04:00.000000000\",\"2021-01-01T07:05:00.000000000\",\"2021-01-01T07:06:00.000000000\",\"2021-01-01T07:07:00.000000000\",\"2021-01-01T07:08:00.000000000\",\"2021-01-01T07:09:00.000000000\",\"2021-01-01T07:10:00.000000000\",\"2021-01-01T07:11:00.000000000\",\"2021-01-01T07:12:00.000000000\",\"2021-01-01T07:13:00.000000000\",\"2021-01-01T07:14:00.000000000\",\"2021-01-01T07:15:00.000000000\",\"2021-01-01T07:16:00.000000000\",\"2021-01-01T07:17:00.000000000\",\"2021-01-01T07:18:00.000000000\",\"2021-01-01T07:19:00.000000000\",\"2021-01-01T07:20:00.000000000\",\"2021-01-01T07:21:00.000000000\",\"2021-01-01T07:22:00.000000000\",\"2021-01-01T07:23:00.000000000\",\"2021-01-01T07:24:00.000000000\",\"2021-01-01T07:25:00.000000000\",\"2021-01-01T07:26:00.000000000\",\"2021-01-01T07:27:00.000000000\",\"2021-01-01T07:28:00.000000000\",\"2021-01-01T07:29:00.000000000\",\"2021-01-01T07:30:00.000000000\",\"2021-01-01T07:31:00.000000000\",\"2021-01-01T07:32:00.000000000\",\"2021-01-01T07:33:00.000000000\",\"2021-01-01T07:34:00.000000000\",\"2021-01-01T07:35:00.000000000\",\"2021-01-01T07:36:00.000000000\",\"2021-01-01T07:37:00.000000000\",\"2021-01-01T07:38:00.000000000\",\"2021-01-01T07:39:00.000000000\",\"2021-01-01T07:40:00.000000000\",\"2021-01-01T07:41:00.000000000\",\"2021-01-01T07:42:00.000000000\",\"2021-01-01T07:43:00.000000000\",\"2021-01-01T07:44:00.000000000\",\"2021-01-01T07:45:00.000000000\",\"2021-01-01T07:46:00.000000000\",\"2021-01-01T07:47:00.000000000\",\"2021-01-01T07:48:00.000000000\",\"2021-01-01T07:49:00.000000000\",\"2021-01-01T07:50:00.000000000\",\"2021-01-01T07:51:00.000000000\",\"2021-01-01T07:52:00.000000000\",\"2021-01-01T07:53:00.000000000\",\"2021-01-01T07:54:00.000000000\",\"2021-01-01T07:55:00.000000000\",\"2021-01-01T07:56:00.000000000\",\"2021-01-01T07:57:00.000000000\",\"2021-01-01T07:58:00.000000000\",\"2021-01-01T07:59:00.000000000\",\"2021-01-01T08:00:00.000000000\",\"2021-01-01T08:01:00.000000000\",\"2021-01-01T08:02:00.000000000\",\"2021-01-01T08:03:00.000000000\",\"2021-01-01T08:04:00.000000000\",\"2021-01-01T08:05:00.000000000\",\"2021-01-01T08:06:00.000000000\",\"2021-01-01T08:07:00.000000000\",\"2021-01-01T08:08:00.000000000\",\"2021-01-01T08:09:00.000000000\",\"2021-01-01T08:10:00.000000000\",\"2021-01-01T08:11:00.000000000\",\"2021-01-01T08:12:00.000000000\",\"2021-01-01T08:13:00.000000000\",\"2021-01-01T08:14:00.000000000\",\"2021-01-01T08:15:00.000000000\",\"2021-01-01T08:16:00.000000000\",\"2021-01-01T08:17:00.000000000\",\"2021-01-01T08:18:00.000000000\",\"2021-01-01T08:19:00.000000000\",\"2021-01-01T08:20:00.000000000\",\"2021-01-01T08:21:00.000000000\",\"2021-01-01T08:22:00.000000000\",\"2021-01-01T08:23:00.000000000\",\"2021-01-01T08:24:00.000000000\",\"2021-01-01T08:25:00.000000000\",\"2021-01-01T08:26:00.000000000\",\"2021-01-01T08:27:00.000000000\",\"2021-01-01T08:28:00.000000000\",\"2021-01-01T08:29:00.000000000\",\"2021-01-01T08:30:00.000000000\",\"2021-01-01T08:31:00.000000000\",\"2021-01-01T08:32:00.000000000\",\"2021-01-01T08:33:00.000000000\",\"2021-01-01T08:34:00.000000000\",\"2021-01-01T08:35:00.000000000\",\"2021-01-01T08:36:00.000000000\",\"2021-01-01T08:37:00.000000000\",\"2021-01-01T08:38:00.000000000\",\"2021-01-01T08:39:00.000000000\",\"2021-01-01T08:40:00.000000000\",\"2021-01-01T08:41:00.000000000\",\"2021-01-01T08:42:00.000000000\",\"2021-01-01T08:43:00.000000000\",\"2021-01-01T08:44:00.000000000\",\"2021-01-01T08:45:00.000000000\",\"2021-01-01T08:46:00.000000000\",\"2021-01-01T08:47:00.000000000\",\"2021-01-01T08:48:00.000000000\",\"2021-01-01T08:49:00.000000000\",\"2021-01-01T08:50:00.000000000\",\"2021-01-01T08:51:00.000000000\",\"2021-01-01T08:52:00.000000000\",\"2021-01-01T08:53:00.000000000\",\"2021-01-01T08:54:00.000000000\",\"2021-01-01T08:55:00.000000000\",\"2021-01-01T08:56:00.000000000\",\"2021-01-01T08:57:00.000000000\",\"2021-01-01T08:58:00.000000000\",\"2021-01-01T08:59:00.000000000\",\"2021-01-01T09:00:00.000000000\",\"2021-01-01T09:01:00.000000000\",\"2021-01-01T09:02:00.000000000\",\"2021-01-01T09:03:00.000000000\",\"2021-01-01T09:04:00.000000000\",\"2021-01-01T09:05:00.000000000\",\"2021-01-01T09:06:00.000000000\",\"2021-01-01T09:07:00.000000000\",\"2021-01-01T09:08:00.000000000\",\"2021-01-01T09:09:00.000000000\",\"2021-01-01T09:10:00.000000000\",\"2021-01-01T09:11:00.000000000\",\"2021-01-01T09:12:00.000000000\",\"2021-01-01T09:13:00.000000000\",\"2021-01-01T09:14:00.000000000\",\"2021-01-01T09:15:00.000000000\",\"2021-01-01T09:16:00.000000000\",\"2021-01-01T09:17:00.000000000\",\"2021-01-01T09:18:00.000000000\",\"2021-01-01T09:19:00.000000000\",\"2021-01-01T09:20:00.000000000\",\"2021-01-01T09:21:00.000000000\",\"2021-01-01T09:22:00.000000000\",\"2021-01-01T09:23:00.000000000\",\"2021-01-01T09:24:00.000000000\",\"2021-01-01T09:25:00.000000000\",\"2021-01-01T09:26:00.000000000\",\"2021-01-01T09:27:00.000000000\",\"2021-01-01T09:28:00.000000000\",\"2021-01-01T09:29:00.000000000\",\"2021-01-01T09:30:00.000000000\",\"2021-01-01T09:31:00.000000000\",\"2021-01-01T09:32:00.000000000\",\"2021-01-01T09:33:00.000000000\",\"2021-01-01T09:34:00.000000000\",\"2021-01-01T09:35:00.000000000\",\"2021-01-01T09:36:00.000000000\",\"2021-01-01T09:37:00.000000000\",\"2021-01-01T09:38:00.000000000\",\"2021-01-01T09:39:00.000000000\",\"2021-01-01T09:40:00.000000000\",\"2021-01-01T09:41:00.000000000\",\"2021-01-01T09:42:00.000000000\",\"2021-01-01T09:43:00.000000000\",\"2021-01-01T09:44:00.000000000\",\"2021-01-01T09:45:00.000000000\",\"2021-01-01T09:46:00.000000000\",\"2021-01-01T09:47:00.000000000\",\"2021-01-01T09:48:00.000000000\",\"2021-01-01T09:49:00.000000000\",\"2021-01-01T09:50:00.000000000\",\"2021-01-01T09:51:00.000000000\",\"2021-01-01T09:52:00.000000000\",\"2021-01-01T09:53:00.000000000\",\"2021-01-01T09:54:00.000000000\",\"2021-01-01T09:55:00.000000000\",\"2021-01-01T09:56:00.000000000\",\"2021-01-01T09:57:00.000000000\",\"2021-01-01T09:58:00.000000000\",\"2021-01-01T09:59:00.000000000\",\"2021-01-01T10:00:00.000000000\",\"2021-01-01T10:01:00.000000000\",\"2021-01-01T10:02:00.000000000\",\"2021-01-01T10:03:00.000000000\",\"2021-01-01T10:04:00.000000000\",\"2021-01-01T10:05:00.000000000\",\"2021-01-01T10:06:00.000000000\",\"2021-01-01T10:07:00.000000000\",\"2021-01-01T10:08:00.000000000\",\"2021-01-01T10:09:00.000000000\",\"2021-01-01T10:10:00.000000000\",\"2021-01-01T10:11:00.000000000\",\"2021-01-01T10:12:00.000000000\",\"2021-01-01T10:13:00.000000000\",\"2021-01-01T10:14:00.000000000\",\"2021-01-01T10:15:00.000000000\",\"2021-01-01T10:16:00.000000000\",\"2021-01-01T10:17:00.000000000\",\"2021-01-01T10:18:00.000000000\",\"2021-01-01T10:19:00.000000000\",\"2021-01-01T10:20:00.000000000\",\"2021-01-01T10:21:00.000000000\",\"2021-01-01T10:22:00.000000000\",\"2021-01-01T10:23:00.000000000\",\"2021-01-01T10:24:00.000000000\",\"2021-01-01T10:25:00.000000000\",\"2021-01-01T10:26:00.000000000\",\"2021-01-01T10:27:00.000000000\",\"2021-01-01T10:28:00.000000000\",\"2021-01-01T10:29:00.000000000\",\"2021-01-01T10:30:00.000000000\",\"2021-01-01T10:31:00.000000000\",\"2021-01-01T10:32:00.000000000\",\"2021-01-01T10:33:00.000000000\",\"2021-01-01T10:34:00.000000000\",\"2021-01-01T10:35:00.000000000\",\"2021-01-01T10:36:00.000000000\",\"2021-01-01T10:37:00.000000000\",\"2021-01-01T10:38:00.000000000\",\"2021-01-01T10:39:00.000000000\",\"2021-01-01T10:40:00.000000000\",\"2021-01-01T10:41:00.000000000\",\"2021-01-01T10:42:00.000000000\",\"2021-01-01T10:43:00.000000000\",\"2021-01-01T10:44:00.000000000\",\"2021-01-01T10:45:00.000000000\",\"2021-01-01T10:46:00.000000000\",\"2021-01-01T10:47:00.000000000\",\"2021-01-01T10:48:00.000000000\",\"2021-01-01T10:49:00.000000000\",\"2021-01-01T10:50:00.000000000\",\"2021-01-01T10:51:00.000000000\",\"2021-01-01T10:52:00.000000000\",\"2021-01-01T10:53:00.000000000\",\"2021-01-01T10:54:00.000000000\",\"2021-01-01T10:55:00.000000000\",\"2021-01-01T10:56:00.000000000\",\"2021-01-01T10:57:00.000000000\",\"2021-01-01T10:58:00.000000000\",\"2021-01-01T10:59:00.000000000\",\"2021-01-01T11:00:00.000000000\",\"2021-01-01T11:01:00.000000000\",\"2021-01-01T11:02:00.000000000\",\"2021-01-01T11:03:00.000000000\",\"2021-01-01T11:04:00.000000000\",\"2021-01-01T11:05:00.000000000\",\"2021-01-01T11:06:00.000000000\",\"2021-01-01T11:07:00.000000000\",\"2021-01-01T11:08:00.000000000\",\"2021-01-01T11:09:00.000000000\",\"2021-01-01T11:10:00.000000000\",\"2021-01-01T11:11:00.000000000\",\"2021-01-01T11:12:00.000000000\",\"2021-01-01T11:13:00.000000000\",\"2021-01-01T11:14:00.000000000\",\"2021-01-01T11:15:00.000000000\",\"2021-01-01T11:16:00.000000000\",\"2021-01-01T11:17:00.000000000\",\"2021-01-01T11:18:00.000000000\",\"2021-01-01T11:19:00.000000000\",\"2021-01-01T11:20:00.000000000\",\"2021-01-01T11:21:00.000000000\",\"2021-01-01T11:22:00.000000000\",\"2021-01-01T11:23:00.000000000\",\"2021-01-01T11:24:00.000000000\",\"2021-01-01T11:25:00.000000000\",\"2021-01-01T11:26:00.000000000\",\"2021-01-01T11:27:00.000000000\",\"2021-01-01T11:28:00.000000000\",\"2021-01-01T11:29:00.000000000\",\"2021-01-01T11:30:00.000000000\",\"2021-01-01T11:31:00.000000000\",\"2021-01-01T11:32:00.000000000\",\"2021-01-01T11:33:00.000000000\",\"2021-01-01T11:34:00.000000000\",\"2021-01-01T11:35:00.000000000\",\"2021-01-01T11:36:00.000000000\",\"2021-01-01T11:37:00.000000000\",\"2021-01-01T11:38:00.000000000\",\"2021-01-01T11:39:00.000000000\",\"2021-01-01T11:40:00.000000000\",\"2021-01-01T11:41:00.000000000\",\"2021-01-01T11:42:00.000000000\",\"2021-01-01T11:43:00.000000000\",\"2021-01-01T11:44:00.000000000\",\"2021-01-01T11:45:00.000000000\",\"2021-01-01T11:46:00.000000000\",\"2021-01-01T11:47:00.000000000\",\"2021-01-01T11:48:00.000000000\",\"2021-01-01T11:49:00.000000000\",\"2021-01-01T11:50:00.000000000\",\"2021-01-01T11:51:00.000000000\",\"2021-01-01T11:52:00.000000000\",\"2021-01-01T11:53:00.000000000\",\"2021-01-01T11:54:00.000000000\",\"2021-01-01T11:55:00.000000000\",\"2021-01-01T11:56:00.000000000\",\"2021-01-01T11:57:00.000000000\",\"2021-01-01T11:58:00.000000000\",\"2021-01-01T11:59:00.000000000\",\"2021-01-01T12:00:00.000000000\",\"2021-01-01T12:01:00.000000000\",\"2021-01-01T12:02:00.000000000\",\"2021-01-01T12:03:00.000000000\",\"2021-01-01T12:04:00.000000000\",\"2021-01-01T12:05:00.000000000\",\"2021-01-01T12:06:00.000000000\",\"2021-01-01T12:07:00.000000000\",\"2021-01-01T12:08:00.000000000\",\"2021-01-01T12:09:00.000000000\",\"2021-01-01T12:10:00.000000000\",\"2021-01-01T12:11:00.000000000\",\"2021-01-01T12:12:00.000000000\",\"2021-01-01T12:13:00.000000000\",\"2021-01-01T12:14:00.000000000\",\"2021-01-01T12:15:00.000000000\",\"2021-01-01T12:16:00.000000000\",\"2021-01-01T12:17:00.000000000\",\"2021-01-01T12:18:00.000000000\",\"2021-01-01T12:19:00.000000000\",\"2021-01-01T12:20:00.000000000\",\"2021-01-01T12:21:00.000000000\",\"2021-01-01T12:22:00.000000000\",\"2021-01-01T12:23:00.000000000\",\"2021-01-01T12:24:00.000000000\",\"2021-01-01T12:25:00.000000000\",\"2021-01-01T12:26:00.000000000\",\"2021-01-01T12:27:00.000000000\",\"2021-01-01T12:28:00.000000000\",\"2021-01-01T12:29:00.000000000\",\"2021-01-01T12:30:00.000000000\",\"2021-01-01T12:31:00.000000000\",\"2021-01-01T12:32:00.000000000\",\"2021-01-01T12:33:00.000000000\",\"2021-01-01T12:34:00.000000000\",\"2021-01-01T12:35:00.000000000\",\"2021-01-01T12:36:00.000000000\",\"2021-01-01T12:37:00.000000000\",\"2021-01-01T12:38:00.000000000\",\"2021-01-01T12:39:00.000000000\",\"2021-01-01T12:40:00.000000000\",\"2021-01-01T12:41:00.000000000\",\"2021-01-01T12:42:00.000000000\",\"2021-01-01T12:43:00.000000000\",\"2021-01-01T12:44:00.000000000\",\"2021-01-01T12:45:00.000000000\",\"2021-01-01T12:46:00.000000000\",\"2021-01-01T12:47:00.000000000\",\"2021-01-01T12:48:00.000000000\",\"2021-01-01T12:49:00.000000000\",\"2021-01-01T12:50:00.000000000\",\"2021-01-01T12:51:00.000000000\",\"2021-01-01T12:52:00.000000000\",\"2021-01-01T12:53:00.000000000\",\"2021-01-01T12:54:00.000000000\",\"2021-01-01T12:55:00.000000000\",\"2021-01-01T12:56:00.000000000\",\"2021-01-01T12:57:00.000000000\",\"2021-01-01T12:58:00.000000000\",\"2021-01-01T12:59:00.000000000\",\"2021-01-01T13:00:00.000000000\",\"2021-01-01T13:01:00.000000000\",\"2021-01-01T13:02:00.000000000\",\"2021-01-01T13:03:00.000000000\",\"2021-01-01T13:04:00.000000000\",\"2021-01-01T13:05:00.000000000\",\"2021-01-01T13:06:00.000000000\",\"2021-01-01T13:07:00.000000000\",\"2021-01-01T13:08:00.000000000\",\"2021-01-01T13:09:00.000000000\",\"2021-01-01T13:10:00.000000000\",\"2021-01-01T13:11:00.000000000\",\"2021-01-01T13:12:00.000000000\",\"2021-01-01T13:13:00.000000000\",\"2021-01-01T13:14:00.000000000\",\"2021-01-01T13:15:00.000000000\",\"2021-01-01T13:16:00.000000000\",\"2021-01-01T13:17:00.000000000\",\"2021-01-01T13:18:00.000000000\",\"2021-01-01T13:19:00.000000000\",\"2021-01-01T13:20:00.000000000\",\"2021-01-01T13:21:00.000000000\",\"2021-01-01T13:22:00.000000000\",\"2021-01-01T13:23:00.000000000\",\"2021-01-01T13:24:00.000000000\",\"2021-01-01T13:25:00.000000000\",\"2021-01-01T13:26:00.000000000\",\"2021-01-01T13:27:00.000000000\",\"2021-01-01T13:28:00.000000000\",\"2021-01-01T13:29:00.000000000\",\"2021-01-01T13:30:00.000000000\",\"2021-01-01T13:31:00.000000000\",\"2021-01-01T13:32:00.000000000\",\"2021-01-01T13:33:00.000000000\",\"2021-01-01T13:34:00.000000000\",\"2021-01-01T13:35:00.000000000\",\"2021-01-01T13:36:00.000000000\",\"2021-01-01T13:37:00.000000000\",\"2021-01-01T13:38:00.000000000\",\"2021-01-01T13:39:00.000000000\",\"2021-01-01T13:40:00.000000000\",\"2021-01-01T13:41:00.000000000\",\"2021-01-01T13:42:00.000000000\",\"2021-01-01T13:43:00.000000000\",\"2021-01-01T13:44:00.000000000\",\"2021-01-01T13:45:00.000000000\",\"2021-01-01T13:46:00.000000000\",\"2021-01-01T13:47:00.000000000\",\"2021-01-01T13:48:00.000000000\",\"2021-01-01T13:49:00.000000000\",\"2021-01-01T13:50:00.000000000\",\"2021-01-01T13:51:00.000000000\",\"2021-01-01T13:52:00.000000000\",\"2021-01-01T13:53:00.000000000\",\"2021-01-01T13:54:00.000000000\",\"2021-01-01T13:55:00.000000000\",\"2021-01-01T13:56:00.000000000\",\"2021-01-01T13:57:00.000000000\",\"2021-01-01T13:58:00.000000000\",\"2021-01-01T13:59:00.000000000\",\"2021-01-01T14:00:00.000000000\",\"2021-01-01T14:01:00.000000000\",\"2021-01-01T14:02:00.000000000\",\"2021-01-01T14:03:00.000000000\",\"2021-01-01T14:04:00.000000000\",\"2021-01-01T14:05:00.000000000\",\"2021-01-01T14:06:00.000000000\",\"2021-01-01T14:07:00.000000000\",\"2021-01-01T14:08:00.000000000\",\"2021-01-01T14:09:00.000000000\",\"2021-01-01T14:10:00.000000000\",\"2021-01-01T14:11:00.000000000\",\"2021-01-01T14:12:00.000000000\",\"2021-01-01T14:13:00.000000000\",\"2021-01-01T14:14:00.000000000\",\"2021-01-01T14:15:00.000000000\",\"2021-01-01T14:16:00.000000000\",\"2021-01-01T14:17:00.000000000\",\"2021-01-01T14:18:00.000000000\",\"2021-01-01T14:19:00.000000000\",\"2021-01-01T14:20:00.000000000\",\"2021-01-01T14:21:00.000000000\",\"2021-01-01T14:22:00.000000000\",\"2021-01-01T14:23:00.000000000\",\"2021-01-01T14:24:00.000000000\",\"2021-01-01T14:25:00.000000000\",\"2021-01-01T14:26:00.000000000\",\"2021-01-01T14:27:00.000000000\",\"2021-01-01T14:28:00.000000000\",\"2021-01-01T14:29:00.000000000\",\"2021-01-01T14:30:00.000000000\",\"2021-01-01T14:31:00.000000000\",\"2021-01-01T14:32:00.000000000\",\"2021-01-01T14:33:00.000000000\",\"2021-01-01T14:34:00.000000000\",\"2021-01-01T14:35:00.000000000\",\"2021-01-01T14:36:00.000000000\",\"2021-01-01T14:37:00.000000000\",\"2021-01-01T14:38:00.000000000\",\"2021-01-01T14:39:00.000000000\",\"2021-01-01T14:40:00.000000000\",\"2021-01-01T14:41:00.000000000\",\"2021-01-01T14:42:00.000000000\",\"2021-01-01T14:43:00.000000000\",\"2021-01-01T14:44:00.000000000\",\"2021-01-01T14:45:00.000000000\",\"2021-01-01T14:46:00.000000000\",\"2021-01-01T14:47:00.000000000\",\"2021-01-01T14:48:00.000000000\",\"2021-01-01T14:49:00.000000000\",\"2021-01-01T14:50:00.000000000\",\"2021-01-01T14:51:00.000000000\",\"2021-01-01T14:52:00.000000000\",\"2021-01-01T14:53:00.000000000\",\"2021-01-01T14:54:00.000000000\",\"2021-01-01T14:55:00.000000000\",\"2021-01-01T14:56:00.000000000\",\"2021-01-01T14:57:00.000000000\",\"2021-01-01T14:58:00.000000000\",\"2021-01-01T14:59:00.000000000\",\"2021-01-01T15:00:00.000000000\",\"2021-01-01T15:01:00.000000000\",\"2021-01-01T15:02:00.000000000\",\"2021-01-01T15:03:00.000000000\",\"2021-01-01T15:04:00.000000000\",\"2021-01-01T15:05:00.000000000\",\"2021-01-01T15:06:00.000000000\",\"2021-01-01T15:07:00.000000000\",\"2021-01-01T15:08:00.000000000\",\"2021-01-01T15:09:00.000000000\",\"2021-01-01T15:10:00.000000000\",\"2021-01-01T15:11:00.000000000\",\"2021-01-01T15:12:00.000000000\",\"2021-01-01T15:13:00.000000000\",\"2021-01-01T15:14:00.000000000\",\"2021-01-01T15:15:00.000000000\",\"2021-01-01T15:16:00.000000000\",\"2021-01-01T15:17:00.000000000\",\"2021-01-01T15:18:00.000000000\",\"2021-01-01T15:19:00.000000000\",\"2021-01-01T15:20:00.000000000\",\"2021-01-01T15:21:00.000000000\",\"2021-01-01T15:22:00.000000000\",\"2021-01-01T15:23:00.000000000\",\"2021-01-01T15:24:00.000000000\",\"2021-01-01T15:25:00.000000000\",\"2021-01-01T15:26:00.000000000\",\"2021-01-01T15:27:00.000000000\",\"2021-01-01T15:28:00.000000000\",\"2021-01-01T15:29:00.000000000\",\"2021-01-01T15:30:00.000000000\",\"2021-01-01T15:31:00.000000000\",\"2021-01-01T15:32:00.000000000\",\"2021-01-01T15:33:00.000000000\",\"2021-01-01T15:34:00.000000000\",\"2021-01-01T15:35:00.000000000\",\"2021-01-01T15:36:00.000000000\",\"2021-01-01T15:37:00.000000000\",\"2021-01-01T15:38:00.000000000\",\"2021-01-01T15:39:00.000000000\",\"2021-01-01T15:40:00.000000000\",\"2021-01-01T15:41:00.000000000\",\"2021-01-01T15:42:00.000000000\",\"2021-01-01T15:43:00.000000000\",\"2021-01-01T15:44:00.000000000\",\"2021-01-01T15:45:00.000000000\",\"2021-01-01T15:46:00.000000000\",\"2021-01-01T15:47:00.000000000\",\"2021-01-01T15:48:00.000000000\",\"2021-01-01T15:49:00.000000000\",\"2021-01-01T15:50:00.000000000\",\"2021-01-01T15:51:00.000000000\",\"2021-01-01T15:52:00.000000000\",\"2021-01-01T15:53:00.000000000\",\"2021-01-01T15:54:00.000000000\",\"2021-01-01T15:55:00.000000000\",\"2021-01-01T15:56:00.000000000\",\"2021-01-01T15:57:00.000000000\",\"2021-01-01T15:58:00.000000000\",\"2021-01-01T15:59:00.000000000\",\"2021-01-01T16:00:00.000000000\",\"2021-01-01T16:01:00.000000000\",\"2021-01-01T16:02:00.000000000\",\"2021-01-01T16:03:00.000000000\",\"2021-01-01T16:04:00.000000000\",\"2021-01-01T16:05:00.000000000\",\"2021-01-01T16:06:00.000000000\",\"2021-01-01T16:07:00.000000000\",\"2021-01-01T16:08:00.000000000\",\"2021-01-01T16:09:00.000000000\",\"2021-01-01T16:10:00.000000000\",\"2021-01-01T16:11:00.000000000\",\"2021-01-01T16:12:00.000000000\",\"2021-01-01T16:13:00.000000000\",\"2021-01-01T16:14:00.000000000\",\"2021-01-01T16:15:00.000000000\",\"2021-01-01T16:16:00.000000000\",\"2021-01-01T16:17:00.000000000\",\"2021-01-01T16:18:00.000000000\",\"2021-01-01T16:19:00.000000000\",\"2021-01-01T16:20:00.000000000\",\"2021-01-01T16:21:00.000000000\",\"2021-01-01T16:22:00.000000000\",\"2021-01-01T16:23:00.000000000\",\"2021-01-01T16:24:00.000000000\",\"2021-01-01T16:25:00.000000000\",\"2021-01-01T16:26:00.000000000\",\"2021-01-01T16:27:00.000000000\",\"2021-01-01T16:28:00.000000000\",\"2021-01-01T16:29:00.000000000\",\"2021-01-01T16:30:00.000000000\",\"2021-01-01T16:31:00.000000000\",\"2021-01-01T16:32:00.000000000\",\"2021-01-01T16:33:00.000000000\",\"2021-01-01T16:34:00.000000000\",\"2021-01-01T16:35:00.000000000\",\"2021-01-01T16:36:00.000000000\",\"2021-01-01T16:37:00.000000000\",\"2021-01-01T16:38:00.000000000\",\"2021-01-01T16:39:00.000000000\",\"2021-01-01T16:40:00.000000000\",\"2021-01-01T16:41:00.000000000\",\"2021-01-01T16:42:00.000000000\",\"2021-01-01T16:43:00.000000000\",\"2021-01-01T16:44:00.000000000\",\"2021-01-01T16:45:00.000000000\",\"2021-01-01T16:46:00.000000000\",\"2021-01-01T16:47:00.000000000\",\"2021-01-01T16:48:00.000000000\",\"2021-01-01T16:49:00.000000000\",\"2021-01-01T16:50:00.000000000\",\"2021-01-01T16:51:00.000000000\",\"2021-01-01T16:52:00.000000000\",\"2021-01-01T16:53:00.000000000\",\"2021-01-01T16:54:00.000000000\",\"2021-01-01T16:55:00.000000000\",\"2021-01-01T16:56:00.000000000\",\"2021-01-01T16:57:00.000000000\",\"2021-01-01T16:58:00.000000000\",\"2021-01-01T16:59:00.000000000\",\"2021-01-01T17:00:00.000000000\",\"2021-01-01T17:01:00.000000000\",\"2021-01-01T17:02:00.000000000\",\"2021-01-01T17:03:00.000000000\",\"2021-01-01T17:04:00.000000000\",\"2021-01-01T17:05:00.000000000\",\"2021-01-01T17:06:00.000000000\",\"2021-01-01T17:07:00.000000000\",\"2021-01-01T17:08:00.000000000\",\"2021-01-01T17:09:00.000000000\",\"2021-01-01T17:10:00.000000000\",\"2021-01-01T17:11:00.000000000\",\"2021-01-01T17:12:00.000000000\",\"2021-01-01T17:13:00.000000000\",\"2021-01-01T17:14:00.000000000\",\"2021-01-01T17:15:00.000000000\",\"2021-01-01T17:16:00.000000000\",\"2021-01-01T17:17:00.000000000\",\"2021-01-01T17:18:00.000000000\",\"2021-01-01T17:19:00.000000000\",\"2021-01-01T17:20:00.000000000\",\"2021-01-01T17:21:00.000000000\",\"2021-01-01T17:22:00.000000000\",\"2021-01-01T17:23:00.000000000\",\"2021-01-01T17:24:00.000000000\",\"2021-01-01T17:25:00.000000000\",\"2021-01-01T17:26:00.000000000\",\"2021-01-01T17:27:00.000000000\",\"2021-01-01T17:28:00.000000000\",\"2021-01-01T17:29:00.000000000\",\"2021-01-01T17:30:00.000000000\",\"2021-01-01T17:31:00.000000000\",\"2021-01-01T17:32:00.000000000\",\"2021-01-01T17:33:00.000000000\",\"2021-01-01T17:34:00.000000000\",\"2021-01-01T17:35:00.000000000\",\"2021-01-01T17:36:00.000000000\",\"2021-01-01T17:37:00.000000000\",\"2021-01-01T17:38:00.000000000\",\"2021-01-01T17:39:00.000000000\",\"2021-01-01T17:40:00.000000000\",\"2021-01-01T17:41:00.000000000\",\"2021-01-01T17:42:00.000000000\",\"2021-01-01T17:43:00.000000000\",\"2021-01-01T17:44:00.000000000\",\"2021-01-01T17:45:00.000000000\",\"2021-01-01T17:46:00.000000000\",\"2021-01-01T17:47:00.000000000\",\"2021-01-01T17:48:00.000000000\",\"2021-01-01T17:49:00.000000000\",\"2021-01-01T17:50:00.000000000\",\"2021-01-01T17:51:00.000000000\",\"2021-01-01T17:52:00.000000000\",\"2021-01-01T17:53:00.000000000\",\"2021-01-01T17:54:00.000000000\",\"2021-01-01T17:55:00.000000000\",\"2021-01-01T17:56:00.000000000\",\"2021-01-01T17:57:00.000000000\",\"2021-01-01T17:58:00.000000000\",\"2021-01-01T17:59:00.000000000\",\"2021-01-01T18:00:00.000000000\",\"2021-01-01T18:01:00.000000000\",\"2021-01-01T18:02:00.000000000\",\"2021-01-01T18:03:00.000000000\",\"2021-01-01T18:04:00.000000000\",\"2021-01-01T18:05:00.000000000\",\"2021-01-01T18:06:00.000000000\",\"2021-01-01T18:07:00.000000000\",\"2021-01-01T18:08:00.000000000\",\"2021-01-01T18:09:00.000000000\",\"2021-01-01T18:10:00.000000000\",\"2021-01-01T18:11:00.000000000\",\"2021-01-01T18:12:00.000000000\",\"2021-01-01T18:13:00.000000000\",\"2021-01-01T18:14:00.000000000\",\"2021-01-01T18:15:00.000000000\",\"2021-01-01T18:16:00.000000000\",\"2021-01-01T18:17:00.000000000\",\"2021-01-01T18:18:00.000000000\",\"2021-01-01T18:19:00.000000000\",\"2021-01-01T18:20:00.000000000\",\"2021-01-01T18:21:00.000000000\",\"2021-01-01T18:22:00.000000000\",\"2021-01-01T18:23:00.000000000\",\"2021-01-01T18:24:00.000000000\",\"2021-01-01T18:25:00.000000000\",\"2021-01-01T18:26:00.000000000\",\"2021-01-01T18:27:00.000000000\",\"2021-01-01T18:28:00.000000000\",\"2021-01-01T18:29:00.000000000\",\"2021-01-01T18:30:00.000000000\",\"2021-01-01T18:31:00.000000000\",\"2021-01-01T18:32:00.000000000\",\"2021-01-01T18:33:00.000000000\",\"2021-01-01T18:34:00.000000000\",\"2021-01-01T18:35:00.000000000\",\"2021-01-01T18:36:00.000000000\",\"2021-01-01T18:37:00.000000000\",\"2021-01-01T18:38:00.000000000\",\"2021-01-01T18:39:00.000000000\",\"2021-01-01T18:40:00.000000000\",\"2021-01-01T18:41:00.000000000\",\"2021-01-01T18:42:00.000000000\",\"2021-01-01T18:43:00.000000000\",\"2021-01-01T18:44:00.000000000\",\"2021-01-01T18:45:00.000000000\",\"2021-01-01T18:46:00.000000000\",\"2021-01-01T18:47:00.000000000\",\"2021-01-01T18:48:00.000000000\",\"2021-01-01T18:49:00.000000000\",\"2021-01-01T18:50:00.000000000\",\"2021-01-01T18:51:00.000000000\",\"2021-01-01T18:52:00.000000000\",\"2021-01-01T18:53:00.000000000\",\"2021-01-01T18:54:00.000000000\",\"2021-01-01T18:55:00.000000000\",\"2021-01-01T18:56:00.000000000\",\"2021-01-01T18:57:00.000000000\",\"2021-01-01T18:58:00.000000000\",\"2021-01-01T18:59:00.000000000\",\"2021-01-01T19:00:00.000000000\",\"2021-01-01T19:01:00.000000000\",\"2021-01-01T19:02:00.000000000\",\"2021-01-01T19:03:00.000000000\",\"2021-01-01T19:04:00.000000000\",\"2021-01-01T19:05:00.000000000\",\"2021-01-01T19:06:00.000000000\",\"2021-01-01T19:07:00.000000000\",\"2021-01-01T19:08:00.000000000\",\"2021-01-01T19:09:00.000000000\",\"2021-01-01T19:10:00.000000000\",\"2021-01-01T19:11:00.000000000\",\"2021-01-01T19:12:00.000000000\",\"2021-01-01T19:13:00.000000000\",\"2021-01-01T19:14:00.000000000\",\"2021-01-01T19:15:00.000000000\",\"2021-01-01T19:16:00.000000000\",\"2021-01-01T19:17:00.000000000\",\"2021-01-01T19:18:00.000000000\",\"2021-01-01T19:19:00.000000000\",\"2021-01-01T19:20:00.000000000\",\"2021-01-01T19:21:00.000000000\",\"2021-01-01T19:22:00.000000000\",\"2021-01-01T19:23:00.000000000\",\"2021-01-01T19:24:00.000000000\",\"2021-01-01T19:25:00.000000000\",\"2021-01-01T19:26:00.000000000\",\"2021-01-01T19:27:00.000000000\",\"2021-01-01T19:28:00.000000000\",\"2021-01-01T19:29:00.000000000\",\"2021-01-01T19:30:00.000000000\",\"2021-01-01T19:31:00.000000000\",\"2021-01-01T19:32:00.000000000\",\"2021-01-01T19:33:00.000000000\",\"2021-01-01T19:34:00.000000000\",\"2021-01-01T19:35:00.000000000\",\"2021-01-01T19:36:00.000000000\",\"2021-01-01T19:37:00.000000000\",\"2021-01-01T19:38:00.000000000\",\"2021-01-01T19:39:00.000000000\",\"2021-01-01T19:40:00.000000000\",\"2021-01-01T19:41:00.000000000\",\"2021-01-01T19:42:00.000000000\",\"2021-01-01T19:43:00.000000000\",\"2021-01-01T19:44:00.000000000\",\"2021-01-01T19:45:00.000000000\",\"2021-01-01T19:46:00.000000000\",\"2021-01-01T19:47:00.000000000\",\"2021-01-01T19:48:00.000000000\",\"2021-01-01T19:49:00.000000000\",\"2021-01-01T19:50:00.000000000\",\"2021-01-01T19:51:00.000000000\",\"2021-01-01T19:52:00.000000000\",\"2021-01-01T19:53:00.000000000\",\"2021-01-01T19:54:00.000000000\",\"2021-01-01T19:55:00.000000000\",\"2021-01-01T19:56:00.000000000\",\"2021-01-01T19:57:00.000000000\",\"2021-01-01T19:58:00.000000000\",\"2021-01-01T19:59:00.000000000\",\"2021-01-01T20:00:00.000000000\",\"2021-01-01T20:01:00.000000000\",\"2021-01-01T20:02:00.000000000\",\"2021-01-01T20:03:00.000000000\",\"2021-01-01T20:04:00.000000000\",\"2021-01-01T20:05:00.000000000\",\"2021-01-01T20:06:00.000000000\",\"2021-01-01T20:07:00.000000000\",\"2021-01-01T20:08:00.000000000\",\"2021-01-01T20:09:00.000000000\",\"2021-01-01T20:10:00.000000000\",\"2021-01-01T20:11:00.000000000\",\"2021-01-01T20:12:00.000000000\",\"2021-01-01T20:13:00.000000000\",\"2021-01-01T20:14:00.000000000\",\"2021-01-01T20:15:00.000000000\",\"2021-01-01T20:16:00.000000000\",\"2021-01-01T20:17:00.000000000\",\"2021-01-01T20:18:00.000000000\",\"2021-01-01T20:19:00.000000000\",\"2021-01-01T20:20:00.000000000\",\"2021-01-01T20:21:00.000000000\",\"2021-01-01T20:22:00.000000000\",\"2021-01-01T20:23:00.000000000\",\"2021-01-01T20:24:00.000000000\",\"2021-01-01T20:25:00.000000000\",\"2021-01-01T20:26:00.000000000\",\"2021-01-01T20:27:00.000000000\",\"2021-01-01T20:28:00.000000000\",\"2021-01-01T20:29:00.000000000\",\"2021-01-01T20:30:00.000000000\",\"2021-01-01T20:31:00.000000000\",\"2021-01-01T20:32:00.000000000\",\"2021-01-01T20:33:00.000000000\",\"2021-01-01T20:34:00.000000000\",\"2021-01-01T20:35:00.000000000\",\"2021-01-01T20:36:00.000000000\",\"2021-01-01T20:37:00.000000000\",\"2021-01-01T20:38:00.000000000\",\"2021-01-01T20:39:00.000000000\",\"2021-01-01T20:40:00.000000000\",\"2021-01-01T20:41:00.000000000\",\"2021-01-01T20:42:00.000000000\",\"2021-01-01T20:43:00.000000000\",\"2021-01-01T20:44:00.000000000\",\"2021-01-01T20:45:00.000000000\",\"2021-01-01T20:46:00.000000000\",\"2021-01-01T20:47:00.000000000\",\"2021-01-01T20:48:00.000000000\",\"2021-01-01T20:49:00.000000000\",\"2021-01-01T20:50:00.000000000\",\"2021-01-01T20:51:00.000000000\",\"2021-01-01T20:52:00.000000000\",\"2021-01-01T20:53:00.000000000\",\"2021-01-01T20:54:00.000000000\",\"2021-01-01T20:55:00.000000000\",\"2021-01-01T20:56:00.000000000\",\"2021-01-01T20:57:00.000000000\",\"2021-01-01T20:58:00.000000000\",\"2021-01-01T20:59:00.000000000\",\"2021-01-01T21:00:00.000000000\",\"2021-01-01T21:01:00.000000000\",\"2021-01-01T21:02:00.000000000\",\"2021-01-01T21:03:00.000000000\",\"2021-01-01T21:04:00.000000000\",\"2021-01-01T21:05:00.000000000\",\"2021-01-01T21:06:00.000000000\",\"2021-01-01T21:07:00.000000000\",\"2021-01-01T21:08:00.000000000\",\"2021-01-01T21:09:00.000000000\",\"2021-01-01T21:10:00.000000000\",\"2021-01-01T21:11:00.000000000\",\"2021-01-01T21:12:00.000000000\",\"2021-01-01T21:13:00.000000000\",\"2021-01-01T21:14:00.000000000\",\"2021-01-01T21:15:00.000000000\",\"2021-01-01T21:16:00.000000000\",\"2021-01-01T21:17:00.000000000\",\"2021-01-01T21:18:00.000000000\",\"2021-01-01T21:19:00.000000000\",\"2021-01-01T21:20:00.000000000\",\"2021-01-01T21:21:00.000000000\",\"2021-01-01T21:22:00.000000000\",\"2021-01-01T21:23:00.000000000\",\"2021-01-01T21:24:00.000000000\",\"2021-01-01T21:25:00.000000000\",\"2021-01-01T21:26:00.000000000\",\"2021-01-01T21:27:00.000000000\",\"2021-01-01T21:28:00.000000000\",\"2021-01-01T21:29:00.000000000\",\"2021-01-01T21:30:00.000000000\",\"2021-01-01T21:31:00.000000000\",\"2021-01-01T21:32:00.000000000\",\"2021-01-01T21:33:00.000000000\",\"2021-01-01T21:34:00.000000000\",\"2021-01-01T21:35:00.000000000\",\"2021-01-01T21:36:00.000000000\",\"2021-01-01T21:37:00.000000000\",\"2021-01-01T21:38:00.000000000\",\"2021-01-01T21:39:00.000000000\",\"2021-01-01T21:40:00.000000000\",\"2021-01-01T21:41:00.000000000\",\"2021-01-01T21:42:00.000000000\",\"2021-01-01T21:43:00.000000000\",\"2021-01-01T21:44:00.000000000\",\"2021-01-01T21:45:00.000000000\",\"2021-01-01T21:46:00.000000000\",\"2021-01-01T21:47:00.000000000\",\"2021-01-01T21:48:00.000000000\",\"2021-01-01T21:49:00.000000000\",\"2021-01-01T21:50:00.000000000\",\"2021-01-01T21:51:00.000000000\",\"2021-01-01T21:52:00.000000000\",\"2021-01-01T21:53:00.000000000\",\"2021-01-01T21:54:00.000000000\",\"2021-01-01T21:55:00.000000000\",\"2021-01-01T21:56:00.000000000\",\"2021-01-01T21:57:00.000000000\",\"2021-01-01T21:58:00.000000000\",\"2021-01-01T21:59:00.000000000\",\"2021-01-01T22:00:00.000000000\",\"2021-01-01T22:01:00.000000000\",\"2021-01-01T22:02:00.000000000\",\"2021-01-01T22:03:00.000000000\",\"2021-01-01T22:04:00.000000000\",\"2021-01-01T22:05:00.000000000\",\"2021-01-01T22:06:00.000000000\",\"2021-01-01T22:07:00.000000000\",\"2021-01-01T22:08:00.000000000\",\"2021-01-01T22:09:00.000000000\",\"2021-01-01T22:10:00.000000000\",\"2021-01-01T22:11:00.000000000\",\"2021-01-01T22:12:00.000000000\",\"2021-01-01T22:13:00.000000000\",\"2021-01-01T22:14:00.000000000\",\"2021-01-01T22:15:00.000000000\",\"2021-01-01T22:16:00.000000000\",\"2021-01-01T22:17:00.000000000\",\"2021-01-01T22:18:00.000000000\",\"2021-01-01T22:19:00.000000000\",\"2021-01-01T22:20:00.000000000\",\"2021-01-01T22:21:00.000000000\",\"2021-01-01T22:22:00.000000000\",\"2021-01-01T22:23:00.000000000\",\"2021-01-01T22:24:00.000000000\",\"2021-01-01T22:25:00.000000000\",\"2021-01-01T22:26:00.000000000\",\"2021-01-01T22:27:00.000000000\",\"2021-01-01T22:28:00.000000000\",\"2021-01-01T22:29:00.000000000\",\"2021-01-01T22:30:00.000000000\",\"2021-01-01T22:31:00.000000000\",\"2021-01-01T22:32:00.000000000\",\"2021-01-01T22:33:00.000000000\",\"2021-01-01T22:34:00.000000000\",\"2021-01-01T22:35:00.000000000\",\"2021-01-01T22:36:00.000000000\",\"2021-01-01T22:37:00.000000000\",\"2021-01-01T22:38:00.000000000\",\"2021-01-01T22:39:00.000000000\",\"2021-01-01T22:40:00.000000000\",\"2021-01-01T22:41:00.000000000\",\"2021-01-01T22:42:00.000000000\",\"2021-01-01T22:43:00.000000000\",\"2021-01-01T22:44:00.000000000\",\"2021-01-01T22:45:00.000000000\",\"2021-01-01T22:46:00.000000000\",\"2021-01-01T22:47:00.000000000\",\"2021-01-01T22:48:00.000000000\",\"2021-01-01T22:49:00.000000000\",\"2021-01-01T22:50:00.000000000\",\"2021-01-01T22:51:00.000000000\",\"2021-01-01T22:52:00.000000000\",\"2021-01-01T22:53:00.000000000\",\"2021-01-01T22:54:00.000000000\",\"2021-01-01T22:55:00.000000000\",\"2021-01-01T22:56:00.000000000\",\"2021-01-01T22:57:00.000000000\",\"2021-01-01T22:58:00.000000000\",\"2021-01-01T22:59:00.000000000\",\"2021-01-01T23:00:00.000000000\",\"2021-01-01T23:01:00.000000000\",\"2021-01-01T23:02:00.000000000\",\"2021-01-01T23:03:00.000000000\",\"2021-01-01T23:04:00.000000000\",\"2021-01-01T23:05:00.000000000\",\"2021-01-01T23:06:00.000000000\",\"2021-01-01T23:07:00.000000000\",\"2021-01-01T23:08:00.000000000\",\"2021-01-01T23:09:00.000000000\",\"2021-01-01T23:10:00.000000000\",\"2021-01-01T23:11:00.000000000\",\"2021-01-01T23:12:00.000000000\",\"2021-01-01T23:13:00.000000000\",\"2021-01-01T23:14:00.000000000\",\"2021-01-01T23:15:00.000000000\",\"2021-01-01T23:16:00.000000000\",\"2021-01-01T23:17:00.000000000\",\"2021-01-01T23:18:00.000000000\",\"2021-01-01T23:19:00.000000000\",\"2021-01-01T23:20:00.000000000\",\"2021-01-01T23:21:00.000000000\",\"2021-01-01T23:22:00.000000000\",\"2021-01-01T23:23:00.000000000\",\"2021-01-01T23:24:00.000000000\",\"2021-01-01T23:25:00.000000000\",\"2021-01-01T23:26:00.000000000\",\"2021-01-01T23:27:00.000000000\",\"2021-01-01T23:28:00.000000000\",\"2021-01-01T23:29:00.000000000\",\"2021-01-01T23:30:00.000000000\",\"2021-01-01T23:31:00.000000000\",\"2021-01-01T23:32:00.000000000\",\"2021-01-01T23:33:00.000000000\",\"2021-01-01T23:34:00.000000000\",\"2021-01-01T23:35:00.000000000\",\"2021-01-01T23:36:00.000000000\",\"2021-01-01T23:37:00.000000000\",\"2021-01-01T23:38:00.000000000\",\"2021-01-01T23:39:00.000000000\",\"2021-01-01T23:40:00.000000000\",\"2021-01-01T23:41:00.000000000\",\"2021-01-01T23:42:00.000000000\",\"2021-01-01T23:43:00.000000000\",\"2021-01-01T23:44:00.000000000\",\"2021-01-01T23:45:00.000000000\",\"2021-01-01T23:46:00.000000000\",\"2021-01-01T23:47:00.000000000\",\"2021-01-01T23:48:00.000000000\",\"2021-01-01T23:49:00.000000000\",\"2021-01-01T23:50:00.000000000\",\"2021-01-01T23:51:00.000000000\",\"2021-01-01T23:52:00.000000000\",\"2021-01-01T23:53:00.000000000\",\"2021-01-01T23:54:00.000000000\",\"2021-01-01T23:55:00.000000000\",\"2021-01-01T23:56:00.000000000\",\"2021-01-01T23:57:00.000000000\",\"2021-01-01T23:58:00.000000000\",\"2021-01-01T23:59:00.000000000\"],\"type\":\"candlestick\"}],                        {\"height\":1000,\"showlegend\":true,\"title\":{\"text\":\"Technical Analysis\"},\"template\":{\"data\":{\"histogram2dcontour\":[{\"type\":\"histogram2dcontour\",\"colorbar\":{\"outlinewidth\":0,\"ticks\":\"\"},\"colorscale\":[[0.0,\"#0d0887\"],[0.1111111111111111,\"#46039f\"],[0.2222222222222222,\"#7201a8\"],[0.3333333333333333,\"#9c179e\"],[0.4444444444444444,\"#bd3786\"],[0.5555555555555556,\"#d8576b\"],[0.6666666666666666,\"#ed7953\"],[0.7777777777777778,\"#fb9f3a\"],[0.8888888888888888,\"#fdca26\"],[1.0,\"#f0f921\"]]}],\"choropleth\":[{\"type\":\"choropleth\",\"colorbar\":{\"outlinewidth\":0,\"ticks\":\"\"}}],\"histogram2d\":[{\"type\":\"histogram2d\",\"colorbar\":{\"outlinewidth\":0,\"ticks\":\"\"},\"colorscale\":[[0.0,\"#0d0887\"],[0.1111111111111111,\"#46039f\"],[0.2222222222222222,\"#7201a8\"],[0.3333333333333333,\"#9c179e\"],[0.4444444444444444,\"#bd3786\"],[0.5555555555555556,\"#d8576b\"],[0.6666666666666666,\"#ed7953\"],[0.7777777777777778,\"#fb9f3a\"],[0.8888888888888888,\"#fdca26\"],[1.0,\"#f0f921\"]]}],\"heatmap\":[{\"type\":\"heatmap\",\"colorbar\":{\"outlinewidth\":0,\"ticks\":\"\"},\"colorscale\":[[0.0,\"#0d0887\"],[0.1111111111111111,\"#46039f\"],[0.2222222222222222,\"#7201a8\"],[0.3333333333333333,\"#9c179e\"],[0.4444444444444444,\"#bd3786\"],[0.5555555555555556,\"#d8576b\"],[0.6666666666666666,\"#ed7953\"],[0.7777777777777778,\"#fb9f3a\"],[0.8888888888888888,\"#fdca26\"],[1.0,\"#f0f921\"]]}],\"contourcarpet\":[{\"type\":\"contourcarpet\",\"colorbar\":{\"outlinewidth\":0,\"ticks\":\"\"}}],\"contour\":[{\"type\":\"contour\",\"colorbar\":{\"outlinewidth\":0,\"ticks\":\"\"},\"colorscale\":[[0.0,\"#0d0887\"],[0.1111111111111111,\"#46039f\"],[0.2222222222222222,\"#7201a8\"],[0.3333333333333333,\"#9c179e\"],[0.4444444444444444,\"#bd3786\"],[0.5555555555555556,\"#d8576b\"],[0.6666666666666666,\"#ed7953\"],[0.7777777777777778,\"#fb9f3a\"],[0.8888888888888888,\"#fdca26\"],[1.0,\"#f0f921\"]]}],\"surface\":[{\"type\":\"surface\",\"colorbar\":{\"outlinewidth\":0,\"ticks\":\"\"},\"colorscale\":[[0.0,\"#0d0887\"],[0.1111111111111111,\"#46039f\"],[0.2222222222222222,\"#7201a8\"],[0.3333333333333333,\"#9c179e\"],[0.4444444444444444,\"#bd3786\"],[0.5555555555555556,\"#d8576b\"],[0.6666666666666666,\"#ed7953\"],[0.7777777777777778,\"#fb9f3a\"],[0.8888888888888888,\"#fdca26\"],[1.0,\"#f0f921\"]]}],\"mesh3d\":[{\"type\":\"mesh3d\",\"colorbar\":{\"outlinewidth\":0,\"ticks\":\"\"}}],\"scatter\":[{\"fillpattern\":{\"fillmode\":\"overlay\",\"size\":10,\"solidity\":0.2},\"type\":\"scatter\"}],\"parcoords\":[{\"type\":\"parcoords\",\"line\":{\"colorbar\":{\"outlinewidth\":0,\"ticks\":\"\"}}}],\"scatterpolargl\":[{\"type\":\"scatterpolargl\",\"marker\":{\"colorbar\":{\"outlinewidth\":0,\"ticks\":\"\"}}}],\"bar\":[{\"error_x\":{\"color\":\"#2a3f5f\"},\"error_y\":{\"color\":\"#2a3f5f\"},\"marker\":{\"line\":{\"color\":\"#E5ECF6\",\"width\":0.5},\"pattern\":{\"fillmode\":\"overlay\",\"size\":10,\"solidity\":0.2}},\"type\":\"bar\"}],\"scattergeo\":[{\"type\":\"scattergeo\",\"marker\":{\"colorbar\":{\"outlinewidth\":0,\"ticks\":\"\"}}}],\"scatterpolar\":[{\"type\":\"scatterpolar\",\"marker\":{\"colorbar\":{\"outlinewidth\":0,\"ticks\":\"\"}}}],\"histogram\":[{\"marker\":{\"pattern\":{\"fillmode\":\"overlay\",\"size\":10,\"solidity\":0.2}},\"type\":\"histogram\"}],\"scattergl\":[{\"type\":\"scattergl\",\"marker\":{\"colorbar\":{\"outlinewidth\":0,\"ticks\":\"\"}}}],\"scatter3d\":[{\"type\":\"scatter3d\",\"line\":{\"colorbar\":{\"outlinewidth\":0,\"ticks\":\"\"}},\"marker\":{\"colorbar\":{\"outlinewidth\":0,\"ticks\":\"\"}}}],\"scattermap\":[{\"type\":\"scattermap\",\"marker\":{\"colorbar\":{\"outlinewidth\":0,\"ticks\":\"\"}}}],\"scattermapbox\":[{\"type\":\"scattermapbox\",\"marker\":{\"colorbar\":{\"outlinewidth\":0,\"ticks\":\"\"}}}],\"scatterternary\":[{\"type\":\"scatterternary\",\"marker\":{\"colorbar\":{\"outlinewidth\":0,\"ticks\":\"\"}}}],\"scattercarpet\":[{\"type\":\"scattercarpet\",\"marker\":{\"colorbar\":{\"outlinewidth\":0,\"ticks\":\"\"}}}],\"carpet\":[{\"aaxis\":{\"endlinecolor\":\"#2a3f5f\",\"gridcolor\":\"white\",\"linecolor\":\"white\",\"minorgridcolor\":\"white\",\"startlinecolor\":\"#2a3f5f\"},\"baxis\":{\"endlinecolor\":\"#2a3f5f\",\"gridcolor\":\"white\",\"linecolor\":\"white\",\"minorgridcolor\":\"white\",\"startlinecolor\":\"#2a3f5f\"},\"type\":\"carpet\"}],\"table\":[{\"cells\":{\"fill\":{\"color\":\"#EBF0F8\"},\"line\":{\"color\":\"white\"}},\"header\":{\"fill\":{\"color\":\"#C8D4E3\"},\"line\":{\"color\":\"white\"}},\"type\":\"table\"}],\"barpolar\":[{\"marker\":{\"line\":{\"color\":\"#E5ECF6\",\"width\":0.5},\"pattern\":{\"fillmode\":\"overlay\",\"size\":10,\"solidity\":0.2}},\"type\":\"barpolar\"}],\"pie\":[{\"automargin\":true,\"type\":\"pie\"}]},\"layout\":{\"autotypenumbers\":\"strict\",\"colorway\":[\"#636efa\",\"#EF553B\",\"#00cc96\",\"#ab63fa\",\"#FFA15A\",\"#19d3f3\",\"#FF6692\",\"#B6E880\",\"#FF97FF\",\"#FECB52\"],\"font\":{\"color\":\"#2a3f5f\"},\"hovermode\":\"closest\",\"hoverlabel\":{\"align\":\"left\"},\"paper_bgcolor\":\"white\",\"plot_bgcolor\":\"#E5ECF6\",\"polar\":{\"bgcolor\":\"#E5ECF6\",\"angularaxis\":{\"gridcolor\":\"white\",\"linecolor\":\"white\",\"ticks\":\"\"},\"radialaxis\":{\"gridcolor\":\"white\",\"linecolor\":\"white\",\"ticks\":\"\"}},\"ternary\":{\"bgcolor\":\"#E5ECF6\",\"aaxis\":{\"gridcolor\":\"white\",\"linecolor\":\"white\",\"ticks\":\"\"},\"baxis\":{\"gridcolor\":\"white\",\"linecolor\":\"white\",\"ticks\":\"\"},\"caxis\":{\"gridcolor\":\"white\",\"linecolor\":\"white\",\"ticks\":\"\"}},\"coloraxis\":{\"colorbar\":{\"outlinewidth\":0,\"ticks\":\"\"}},\"colorscale\":{\"sequential\":[[0.0,\"#0d0887\"],[0.1111111111111111,\"#46039f\"],[0.2222222222222222,\"#7201a8\"],[0.3333333333333333,\"#9c179e\"],[0.4444444444444444,\"#bd3786\"],[0.5555555555555556,\"#d8576b\"],[0.6666666666666666,\"#ed7953\"],[0.7777777777777778,\"#fb9f3a\"],[0.8888888888888888,\"#fdca26\"],[1.0,\"#f0f921\"]],\"sequentialminus\":[[0.0,\"#0d0887\"],[0.1111111111111111,\"#46039f\"],[0.2222222222222222,\"#7201a8\"],[0.3333333333333333,\"#9c179e\"],[0.4444444444444444,\"#bd3786\"],[0.5555555555555556,\"#d8576b\"],[0.6666666666666666,\"#ed7953\"],[0.7777777777777778,\"#fb9f3a\"],[0.8888888888888888,\"#fdca26\"],[1.0,\"#f0f921\"]],\"diverging\":[[0,\"#8e0152\"],[0.1,\"#c51b7d\"],[0.2,\"#de77ae\"],[0.3,\"#f1b6da\"],[0.4,\"#fde0ef\"],[0.5,\"#f7f7f7\"],[0.6,\"#e6f5d0\"],[0.7,\"#b8e186\"],[0.8,\"#7fbc41\"],[0.9,\"#4d9221\"],[1,\"#276419\"]]},\"xaxis\":{\"gridcolor\":\"white\",\"linecolor\":\"white\",\"ticks\":\"\",\"title\":{\"standoff\":15},\"zerolinecolor\":\"white\",\"automargin\":true,\"zerolinewidth\":2},\"yaxis\":{\"gridcolor\":\"white\",\"linecolor\":\"white\",\"ticks\":\"\",\"title\":{\"standoff\":15},\"zerolinecolor\":\"white\",\"automargin\":true,\"zerolinewidth\":2},\"scene\":{\"xaxis\":{\"backgroundcolor\":\"#E5ECF6\",\"gridcolor\":\"white\",\"linecolor\":\"white\",\"showbackground\":true,\"ticks\":\"\",\"zerolinecolor\":\"white\",\"gridwidth\":2},\"yaxis\":{\"backgroundcolor\":\"#E5ECF6\",\"gridcolor\":\"white\",\"linecolor\":\"white\",\"showbackground\":true,\"ticks\":\"\",\"zerolinecolor\":\"white\",\"gridwidth\":2},\"zaxis\":{\"backgroundcolor\":\"#E5ECF6\",\"gridcolor\":\"white\",\"linecolor\":\"white\",\"showbackground\":true,\"ticks\":\"\",\"zerolinecolor\":\"white\",\"gridwidth\":2}},\"shapedefaults\":{\"line\":{\"color\":\"#2a3f5f\"}},\"annotationdefaults\":{\"arrowcolor\":\"#2a3f5f\",\"arrowhead\":0,\"arrowwidth\":1},\"geo\":{\"bgcolor\":\"white\",\"landcolor\":\"#E5ECF6\",\"subunitcolor\":\"white\",\"showland\":true,\"showlakes\":true,\"lakecolor\":\"white\"},\"title\":{\"x\":0.05},\"mapbox\":{\"style\":\"light\"}}}},                        {\"responsive\": true}                    ).then(function(){\n",
              "                            \n",
              "var gd = document.getElementById('7dd34d80-24f9-4a16-83fd-464a38dff03e');\n",
              "var x = new MutationObserver(function (mutations, observer) {{\n",
              "        var display = window.getComputedStyle(gd).display;\n",
              "        if (!display || display === 'none') {{\n",
              "            console.log([gd, 'removed!']);\n",
              "            Plotly.purge(gd);\n",
              "            observer.disconnect();\n",
              "        }}\n",
              "}});\n",
              "\n",
              "// Listen for the removal of the full notebook cells\n",
              "var notebookContainer = gd.closest('#notebook-container');\n",
              "if (notebookContainer) {{\n",
              "    x.observe(notebookContainer, {childList: true});\n",
              "}}\n",
              "\n",
              "// Listen for the clearing of the current output cell\n",
              "var outputEl = gd.closest('.output');\n",
              "if (outputEl) {{\n",
              "    x.observe(outputEl, {childList: true});\n",
              "}}\n",
              "\n",
              "                        })                };            </script>        </div>"
            ]
          },
          "metadata": {},
          "output_type": "display_data"
        }
      ],
      "source": [
        "plot_candlestick(dfp)"
      ]
    },
    {
      "cell_type": "markdown",
      "metadata": {
        "id": "YxGOfykpVXqB"
      },
      "source": [
        "####  Extra - Propose your analysis\n",
        "\n",
        "\n",
        "\n",
        "<p align=\"justify\">\n",
        "<font size=\"3\">\n",
        "Think about a new analysis on this set of data to run on your data and run it showing a graph\n",
        "</font>\n",
        "</p>\n",
        "\n"
      ]
    },
    {
      "cell_type": "code",
      "execution_count": 41,
      "metadata": {
        "id": "ewmVzLeuVXqB"
      },
      "outputs": [
        {
          "data": {
            "application/vnd.plotly.v1+json": {
              "config": {
                "plotlyServerURL": "https://plot.ly"
              },
              "data": [
                {
                  "hovertemplate": "Hour=%{x}<br>Volume BTC=%{y}<extra></extra>",
                  "legendgroup": "",
                  "marker": {
                    "color": "#636efa",
                    "pattern": {
                      "shape": ""
                    }
                  },
                  "name": "",
                  "orientation": "v",
                  "showlegend": false,
                  "textposition": "auto",
                  "type": "bar",
                  "x": {
                    "bdata": "AAAAAAEAAAACAAAAAwAAAAQAAAAFAAAABgAAAAcAAAAIAAAACQAAAAoAAAALAAAADAAAAA0AAAAOAAAADwAAABAAAAARAAAAEgAAABMAAAAUAAAAFQAAABYAAAAXAAAA",
                    "dtype": "i4"
                  },
                  "xaxis": "x",
                  "y": {
                    "bdata": "GW/Q44pN40BQItt8tTPjQHXb8EHsKOVAfPFmyXKP3kBju/eHmp7YQLyqWGHzYdZAt84iyENX10DwcQGDLWzYQFHChkbl+NZAlAoRjTQy0kDu19eZelzSQL9CSTVVR9NAOJ3H1fSJ1EDPwjuMnVzZQIjH8mz+y9pADs8atSYB4UDVuy6ymBbjQJ70GWuFrOBA8ffmEqtc5kA4JSj38hTnQGsETXFdOO5AVhfH027Y60AshgadIFjlQMliMHnwv+JA",
                    "dtype": "f8"
                  },
                  "yaxis": "y"
                }
              ],
              "layout": {
                "barmode": "relative",
                "height": 500,
                "legend": {
                  "tracegroupgap": 0
                },
                "template": {
                  "data": {
                    "bar": [
                      {
                        "error_x": {
                          "color": "#2a3f5f"
                        },
                        "error_y": {
                          "color": "#2a3f5f"
                        },
                        "marker": {
                          "line": {
                            "color": "#E5ECF6",
                            "width": 0.5
                          },
                          "pattern": {
                            "fillmode": "overlay",
                            "size": 10,
                            "solidity": 0.2
                          }
                        },
                        "type": "bar"
                      }
                    ],
                    "barpolar": [
                      {
                        "marker": {
                          "line": {
                            "color": "#E5ECF6",
                            "width": 0.5
                          },
                          "pattern": {
                            "fillmode": "overlay",
                            "size": 10,
                            "solidity": 0.2
                          }
                        },
                        "type": "barpolar"
                      }
                    ],
                    "carpet": [
                      {
                        "aaxis": {
                          "endlinecolor": "#2a3f5f",
                          "gridcolor": "white",
                          "linecolor": "white",
                          "minorgridcolor": "white",
                          "startlinecolor": "#2a3f5f"
                        },
                        "baxis": {
                          "endlinecolor": "#2a3f5f",
                          "gridcolor": "white",
                          "linecolor": "white",
                          "minorgridcolor": "white",
                          "startlinecolor": "#2a3f5f"
                        },
                        "type": "carpet"
                      }
                    ],
                    "choropleth": [
                      {
                        "colorbar": {
                          "outlinewidth": 0,
                          "ticks": ""
                        },
                        "type": "choropleth"
                      }
                    ],
                    "contour": [
                      {
                        "colorbar": {
                          "outlinewidth": 0,
                          "ticks": ""
                        },
                        "colorscale": [
                          [
                            0,
                            "#0d0887"
                          ],
                          [
                            0.1111111111111111,
                            "#46039f"
                          ],
                          [
                            0.2222222222222222,
                            "#7201a8"
                          ],
                          [
                            0.3333333333333333,
                            "#9c179e"
                          ],
                          [
                            0.4444444444444444,
                            "#bd3786"
                          ],
                          [
                            0.5555555555555556,
                            "#d8576b"
                          ],
                          [
                            0.6666666666666666,
                            "#ed7953"
                          ],
                          [
                            0.7777777777777778,
                            "#fb9f3a"
                          ],
                          [
                            0.8888888888888888,
                            "#fdca26"
                          ],
                          [
                            1,
                            "#f0f921"
                          ]
                        ],
                        "type": "contour"
                      }
                    ],
                    "contourcarpet": [
                      {
                        "colorbar": {
                          "outlinewidth": 0,
                          "ticks": ""
                        },
                        "type": "contourcarpet"
                      }
                    ],
                    "heatmap": [
                      {
                        "colorbar": {
                          "outlinewidth": 0,
                          "ticks": ""
                        },
                        "colorscale": [
                          [
                            0,
                            "#0d0887"
                          ],
                          [
                            0.1111111111111111,
                            "#46039f"
                          ],
                          [
                            0.2222222222222222,
                            "#7201a8"
                          ],
                          [
                            0.3333333333333333,
                            "#9c179e"
                          ],
                          [
                            0.4444444444444444,
                            "#bd3786"
                          ],
                          [
                            0.5555555555555556,
                            "#d8576b"
                          ],
                          [
                            0.6666666666666666,
                            "#ed7953"
                          ],
                          [
                            0.7777777777777778,
                            "#fb9f3a"
                          ],
                          [
                            0.8888888888888888,
                            "#fdca26"
                          ],
                          [
                            1,
                            "#f0f921"
                          ]
                        ],
                        "type": "heatmap"
                      }
                    ],
                    "histogram": [
                      {
                        "marker": {
                          "pattern": {
                            "fillmode": "overlay",
                            "size": 10,
                            "solidity": 0.2
                          }
                        },
                        "type": "histogram"
                      }
                    ],
                    "histogram2d": [
                      {
                        "colorbar": {
                          "outlinewidth": 0,
                          "ticks": ""
                        },
                        "colorscale": [
                          [
                            0,
                            "#0d0887"
                          ],
                          [
                            0.1111111111111111,
                            "#46039f"
                          ],
                          [
                            0.2222222222222222,
                            "#7201a8"
                          ],
                          [
                            0.3333333333333333,
                            "#9c179e"
                          ],
                          [
                            0.4444444444444444,
                            "#bd3786"
                          ],
                          [
                            0.5555555555555556,
                            "#d8576b"
                          ],
                          [
                            0.6666666666666666,
                            "#ed7953"
                          ],
                          [
                            0.7777777777777778,
                            "#fb9f3a"
                          ],
                          [
                            0.8888888888888888,
                            "#fdca26"
                          ],
                          [
                            1,
                            "#f0f921"
                          ]
                        ],
                        "type": "histogram2d"
                      }
                    ],
                    "histogram2dcontour": [
                      {
                        "colorbar": {
                          "outlinewidth": 0,
                          "ticks": ""
                        },
                        "colorscale": [
                          [
                            0,
                            "#0d0887"
                          ],
                          [
                            0.1111111111111111,
                            "#46039f"
                          ],
                          [
                            0.2222222222222222,
                            "#7201a8"
                          ],
                          [
                            0.3333333333333333,
                            "#9c179e"
                          ],
                          [
                            0.4444444444444444,
                            "#bd3786"
                          ],
                          [
                            0.5555555555555556,
                            "#d8576b"
                          ],
                          [
                            0.6666666666666666,
                            "#ed7953"
                          ],
                          [
                            0.7777777777777778,
                            "#fb9f3a"
                          ],
                          [
                            0.8888888888888888,
                            "#fdca26"
                          ],
                          [
                            1,
                            "#f0f921"
                          ]
                        ],
                        "type": "histogram2dcontour"
                      }
                    ],
                    "mesh3d": [
                      {
                        "colorbar": {
                          "outlinewidth": 0,
                          "ticks": ""
                        },
                        "type": "mesh3d"
                      }
                    ],
                    "parcoords": [
                      {
                        "line": {
                          "colorbar": {
                            "outlinewidth": 0,
                            "ticks": ""
                          }
                        },
                        "type": "parcoords"
                      }
                    ],
                    "pie": [
                      {
                        "automargin": true,
                        "type": "pie"
                      }
                    ],
                    "scatter": [
                      {
                        "fillpattern": {
                          "fillmode": "overlay",
                          "size": 10,
                          "solidity": 0.2
                        },
                        "type": "scatter"
                      }
                    ],
                    "scatter3d": [
                      {
                        "line": {
                          "colorbar": {
                            "outlinewidth": 0,
                            "ticks": ""
                          }
                        },
                        "marker": {
                          "colorbar": {
                            "outlinewidth": 0,
                            "ticks": ""
                          }
                        },
                        "type": "scatter3d"
                      }
                    ],
                    "scattercarpet": [
                      {
                        "marker": {
                          "colorbar": {
                            "outlinewidth": 0,
                            "ticks": ""
                          }
                        },
                        "type": "scattercarpet"
                      }
                    ],
                    "scattergeo": [
                      {
                        "marker": {
                          "colorbar": {
                            "outlinewidth": 0,
                            "ticks": ""
                          }
                        },
                        "type": "scattergeo"
                      }
                    ],
                    "scattergl": [
                      {
                        "marker": {
                          "colorbar": {
                            "outlinewidth": 0,
                            "ticks": ""
                          }
                        },
                        "type": "scattergl"
                      }
                    ],
                    "scattermap": [
                      {
                        "marker": {
                          "colorbar": {
                            "outlinewidth": 0,
                            "ticks": ""
                          }
                        },
                        "type": "scattermap"
                      }
                    ],
                    "scattermapbox": [
                      {
                        "marker": {
                          "colorbar": {
                            "outlinewidth": 0,
                            "ticks": ""
                          }
                        },
                        "type": "scattermapbox"
                      }
                    ],
                    "scatterpolar": [
                      {
                        "marker": {
                          "colorbar": {
                            "outlinewidth": 0,
                            "ticks": ""
                          }
                        },
                        "type": "scatterpolar"
                      }
                    ],
                    "scatterpolargl": [
                      {
                        "marker": {
                          "colorbar": {
                            "outlinewidth": 0,
                            "ticks": ""
                          }
                        },
                        "type": "scatterpolargl"
                      }
                    ],
                    "scatterternary": [
                      {
                        "marker": {
                          "colorbar": {
                            "outlinewidth": 0,
                            "ticks": ""
                          }
                        },
                        "type": "scatterternary"
                      }
                    ],
                    "surface": [
                      {
                        "colorbar": {
                          "outlinewidth": 0,
                          "ticks": ""
                        },
                        "colorscale": [
                          [
                            0,
                            "#0d0887"
                          ],
                          [
                            0.1111111111111111,
                            "#46039f"
                          ],
                          [
                            0.2222222222222222,
                            "#7201a8"
                          ],
                          [
                            0.3333333333333333,
                            "#9c179e"
                          ],
                          [
                            0.4444444444444444,
                            "#bd3786"
                          ],
                          [
                            0.5555555555555556,
                            "#d8576b"
                          ],
                          [
                            0.6666666666666666,
                            "#ed7953"
                          ],
                          [
                            0.7777777777777778,
                            "#fb9f3a"
                          ],
                          [
                            0.8888888888888888,
                            "#fdca26"
                          ],
                          [
                            1,
                            "#f0f921"
                          ]
                        ],
                        "type": "surface"
                      }
                    ],
                    "table": [
                      {
                        "cells": {
                          "fill": {
                            "color": "#EBF0F8"
                          },
                          "line": {
                            "color": "white"
                          }
                        },
                        "header": {
                          "fill": {
                            "color": "#C8D4E3"
                          },
                          "line": {
                            "color": "white"
                          }
                        },
                        "type": "table"
                      }
                    ]
                  },
                  "layout": {
                    "annotationdefaults": {
                      "arrowcolor": "#2a3f5f",
                      "arrowhead": 0,
                      "arrowwidth": 1
                    },
                    "autotypenumbers": "strict",
                    "coloraxis": {
                      "colorbar": {
                        "outlinewidth": 0,
                        "ticks": ""
                      }
                    },
                    "colorscale": {
                      "diverging": [
                        [
                          0,
                          "#8e0152"
                        ],
                        [
                          0.1,
                          "#c51b7d"
                        ],
                        [
                          0.2,
                          "#de77ae"
                        ],
                        [
                          0.3,
                          "#f1b6da"
                        ],
                        [
                          0.4,
                          "#fde0ef"
                        ],
                        [
                          0.5,
                          "#f7f7f7"
                        ],
                        [
                          0.6,
                          "#e6f5d0"
                        ],
                        [
                          0.7,
                          "#b8e186"
                        ],
                        [
                          0.8,
                          "#7fbc41"
                        ],
                        [
                          0.9,
                          "#4d9221"
                        ],
                        [
                          1,
                          "#276419"
                        ]
                      ],
                      "sequential": [
                        [
                          0,
                          "#0d0887"
                        ],
                        [
                          0.1111111111111111,
                          "#46039f"
                        ],
                        [
                          0.2222222222222222,
                          "#7201a8"
                        ],
                        [
                          0.3333333333333333,
                          "#9c179e"
                        ],
                        [
                          0.4444444444444444,
                          "#bd3786"
                        ],
                        [
                          0.5555555555555556,
                          "#d8576b"
                        ],
                        [
                          0.6666666666666666,
                          "#ed7953"
                        ],
                        [
                          0.7777777777777778,
                          "#fb9f3a"
                        ],
                        [
                          0.8888888888888888,
                          "#fdca26"
                        ],
                        [
                          1,
                          "#f0f921"
                        ]
                      ],
                      "sequentialminus": [
                        [
                          0,
                          "#0d0887"
                        ],
                        [
                          0.1111111111111111,
                          "#46039f"
                        ],
                        [
                          0.2222222222222222,
                          "#7201a8"
                        ],
                        [
                          0.3333333333333333,
                          "#9c179e"
                        ],
                        [
                          0.4444444444444444,
                          "#bd3786"
                        ],
                        [
                          0.5555555555555556,
                          "#d8576b"
                        ],
                        [
                          0.6666666666666666,
                          "#ed7953"
                        ],
                        [
                          0.7777777777777778,
                          "#fb9f3a"
                        ],
                        [
                          0.8888888888888888,
                          "#fdca26"
                        ],
                        [
                          1,
                          "#f0f921"
                        ]
                      ]
                    },
                    "colorway": [
                      "#636efa",
                      "#EF553B",
                      "#00cc96",
                      "#ab63fa",
                      "#FFA15A",
                      "#19d3f3",
                      "#FF6692",
                      "#B6E880",
                      "#FF97FF",
                      "#FECB52"
                    ],
                    "font": {
                      "color": "#2a3f5f"
                    },
                    "geo": {
                      "bgcolor": "white",
                      "lakecolor": "white",
                      "landcolor": "#E5ECF6",
                      "showlakes": true,
                      "showland": true,
                      "subunitcolor": "white"
                    },
                    "hoverlabel": {
                      "align": "left"
                    },
                    "hovermode": "closest",
                    "mapbox": {
                      "style": "light"
                    },
                    "paper_bgcolor": "white",
                    "plot_bgcolor": "#E5ECF6",
                    "polar": {
                      "angularaxis": {
                        "gridcolor": "white",
                        "linecolor": "white",
                        "ticks": ""
                      },
                      "bgcolor": "#E5ECF6",
                      "radialaxis": {
                        "gridcolor": "white",
                        "linecolor": "white",
                        "ticks": ""
                      }
                    },
                    "scene": {
                      "xaxis": {
                        "backgroundcolor": "#E5ECF6",
                        "gridcolor": "white",
                        "gridwidth": 2,
                        "linecolor": "white",
                        "showbackground": true,
                        "ticks": "",
                        "zerolinecolor": "white"
                      },
                      "yaxis": {
                        "backgroundcolor": "#E5ECF6",
                        "gridcolor": "white",
                        "gridwidth": 2,
                        "linecolor": "white",
                        "showbackground": true,
                        "ticks": "",
                        "zerolinecolor": "white"
                      },
                      "zaxis": {
                        "backgroundcolor": "#E5ECF6",
                        "gridcolor": "white",
                        "gridwidth": 2,
                        "linecolor": "white",
                        "showbackground": true,
                        "ticks": "",
                        "zerolinecolor": "white"
                      }
                    },
                    "shapedefaults": {
                      "line": {
                        "color": "#2a3f5f"
                      }
                    },
                    "ternary": {
                      "aaxis": {
                        "gridcolor": "white",
                        "linecolor": "white",
                        "ticks": ""
                      },
                      "baxis": {
                        "gridcolor": "white",
                        "linecolor": "white",
                        "ticks": ""
                      },
                      "bgcolor": "#E5ECF6",
                      "caxis": {
                        "gridcolor": "white",
                        "linecolor": "white",
                        "ticks": ""
                      }
                    },
                    "title": {
                      "x": 0.05
                    },
                    "xaxis": {
                      "automargin": true,
                      "gridcolor": "white",
                      "linecolor": "white",
                      "ticks": "",
                      "title": {
                        "standoff": 15
                      },
                      "zerolinecolor": "white",
                      "zerolinewidth": 2
                    },
                    "yaxis": {
                      "automargin": true,
                      "gridcolor": "white",
                      "linecolor": "white",
                      "ticks": "",
                      "title": {
                        "standoff": 15
                      },
                      "zerolinecolor": "white",
                      "zerolinewidth": 2
                    }
                  }
                },
                "title": {
                  "text": "Volume échangé par heure"
                },
                "xaxis": {
                  "anchor": "y",
                  "domain": [
                    0,
                    1
                  ],
                  "title": {
                    "text": "Hour"
                  }
                },
                "yaxis": {
                  "anchor": "x",
                  "domain": [
                    0,
                    1
                  ],
                  "title": {
                    "text": "Volume BTC"
                  }
                }
              }
            },
            "text/html": [
              "<div>            <script src=\"https://cdnjs.cloudflare.com/ajax/libs/mathjax/2.7.5/MathJax.js?config=TeX-AMS-MML_SVG\"></script><script type=\"text/javascript\">if (window.MathJax && window.MathJax.Hub && window.MathJax.Hub.Config) {window.MathJax.Hub.Config({SVG: {font: \"STIX-Web\"}});}</script>                <script type=\"text/javascript\">window.PlotlyConfig = {MathJaxConfig: 'local'};</script>\n",
              "        <script charset=\"utf-8\" src=\"https://cdn.plot.ly/plotly-3.0.1.min.js\"></script>                <div id=\"a9456015-c2ce-4012-adce-61502da53ff5\" class=\"plotly-graph-div\" style=\"height:500px; width:100%;\"></div>            <script type=\"text/javascript\">                window.PLOTLYENV=window.PLOTLYENV || {};                                if (document.getElementById(\"a9456015-c2ce-4012-adce-61502da53ff5\")) {                    Plotly.newPlot(                        \"a9456015-c2ce-4012-adce-61502da53ff5\",                        [{\"hovertemplate\":\"Hour=%{x}\\u003cbr\\u003eVolume BTC=%{y}\\u003cextra\\u003e\\u003c\\u002fextra\\u003e\",\"legendgroup\":\"\",\"marker\":{\"color\":\"#636efa\",\"pattern\":{\"shape\":\"\"}},\"name\":\"\",\"orientation\":\"v\",\"showlegend\":false,\"textposition\":\"auto\",\"x\":{\"dtype\":\"i4\",\"bdata\":\"AAAAAAEAAAACAAAAAwAAAAQAAAAFAAAABgAAAAcAAAAIAAAACQAAAAoAAAALAAAADAAAAA0AAAAOAAAADwAAABAAAAARAAAAEgAAABMAAAAUAAAAFQAAABYAAAAXAAAA\"},\"xaxis\":\"x\",\"y\":{\"dtype\":\"f8\",\"bdata\":\"GW\\u002fQ44pN40BQItt8tTPjQHXb8EHsKOVAfPFmyXKP3kBju\\u002feHmp7YQLyqWGHzYdZAt84iyENX10DwcQGDLWzYQFHChkbl+NZAlAoRjTQy0kDu19eZelzSQL9CSTVVR9NAOJ3H1fSJ1EDPwjuMnVzZQIjH8mz+y9pADs8atSYB4UDVuy6ymBbjQJ70GWuFrOBA8ffmEqtc5kA4JSj38hTnQGsETXFdOO5AVhfH027Y60AshgadIFjlQMliMHnwv+JA\"},\"yaxis\":\"y\",\"type\":\"bar\"}],                        {\"template\":{\"data\":{\"histogram2dcontour\":[{\"type\":\"histogram2dcontour\",\"colorbar\":{\"outlinewidth\":0,\"ticks\":\"\"},\"colorscale\":[[0.0,\"#0d0887\"],[0.1111111111111111,\"#46039f\"],[0.2222222222222222,\"#7201a8\"],[0.3333333333333333,\"#9c179e\"],[0.4444444444444444,\"#bd3786\"],[0.5555555555555556,\"#d8576b\"],[0.6666666666666666,\"#ed7953\"],[0.7777777777777778,\"#fb9f3a\"],[0.8888888888888888,\"#fdca26\"],[1.0,\"#f0f921\"]]}],\"choropleth\":[{\"type\":\"choropleth\",\"colorbar\":{\"outlinewidth\":0,\"ticks\":\"\"}}],\"histogram2d\":[{\"type\":\"histogram2d\",\"colorbar\":{\"outlinewidth\":0,\"ticks\":\"\"},\"colorscale\":[[0.0,\"#0d0887\"],[0.1111111111111111,\"#46039f\"],[0.2222222222222222,\"#7201a8\"],[0.3333333333333333,\"#9c179e\"],[0.4444444444444444,\"#bd3786\"],[0.5555555555555556,\"#d8576b\"],[0.6666666666666666,\"#ed7953\"],[0.7777777777777778,\"#fb9f3a\"],[0.8888888888888888,\"#fdca26\"],[1.0,\"#f0f921\"]]}],\"heatmap\":[{\"type\":\"heatmap\",\"colorbar\":{\"outlinewidth\":0,\"ticks\":\"\"},\"colorscale\":[[0.0,\"#0d0887\"],[0.1111111111111111,\"#46039f\"],[0.2222222222222222,\"#7201a8\"],[0.3333333333333333,\"#9c179e\"],[0.4444444444444444,\"#bd3786\"],[0.5555555555555556,\"#d8576b\"],[0.6666666666666666,\"#ed7953\"],[0.7777777777777778,\"#fb9f3a\"],[0.8888888888888888,\"#fdca26\"],[1.0,\"#f0f921\"]]}],\"contourcarpet\":[{\"type\":\"contourcarpet\",\"colorbar\":{\"outlinewidth\":0,\"ticks\":\"\"}}],\"contour\":[{\"type\":\"contour\",\"colorbar\":{\"outlinewidth\":0,\"ticks\":\"\"},\"colorscale\":[[0.0,\"#0d0887\"],[0.1111111111111111,\"#46039f\"],[0.2222222222222222,\"#7201a8\"],[0.3333333333333333,\"#9c179e\"],[0.4444444444444444,\"#bd3786\"],[0.5555555555555556,\"#d8576b\"],[0.6666666666666666,\"#ed7953\"],[0.7777777777777778,\"#fb9f3a\"],[0.8888888888888888,\"#fdca26\"],[1.0,\"#f0f921\"]]}],\"surface\":[{\"type\":\"surface\",\"colorbar\":{\"outlinewidth\":0,\"ticks\":\"\"},\"colorscale\":[[0.0,\"#0d0887\"],[0.1111111111111111,\"#46039f\"],[0.2222222222222222,\"#7201a8\"],[0.3333333333333333,\"#9c179e\"],[0.4444444444444444,\"#bd3786\"],[0.5555555555555556,\"#d8576b\"],[0.6666666666666666,\"#ed7953\"],[0.7777777777777778,\"#fb9f3a\"],[0.8888888888888888,\"#fdca26\"],[1.0,\"#f0f921\"]]}],\"mesh3d\":[{\"type\":\"mesh3d\",\"colorbar\":{\"outlinewidth\":0,\"ticks\":\"\"}}],\"scatter\":[{\"fillpattern\":{\"fillmode\":\"overlay\",\"size\":10,\"solidity\":0.2},\"type\":\"scatter\"}],\"parcoords\":[{\"type\":\"parcoords\",\"line\":{\"colorbar\":{\"outlinewidth\":0,\"ticks\":\"\"}}}],\"scatterpolargl\":[{\"type\":\"scatterpolargl\",\"marker\":{\"colorbar\":{\"outlinewidth\":0,\"ticks\":\"\"}}}],\"bar\":[{\"error_x\":{\"color\":\"#2a3f5f\"},\"error_y\":{\"color\":\"#2a3f5f\"},\"marker\":{\"line\":{\"color\":\"#E5ECF6\",\"width\":0.5},\"pattern\":{\"fillmode\":\"overlay\",\"size\":10,\"solidity\":0.2}},\"type\":\"bar\"}],\"scattergeo\":[{\"type\":\"scattergeo\",\"marker\":{\"colorbar\":{\"outlinewidth\":0,\"ticks\":\"\"}}}],\"scatterpolar\":[{\"type\":\"scatterpolar\",\"marker\":{\"colorbar\":{\"outlinewidth\":0,\"ticks\":\"\"}}}],\"histogram\":[{\"marker\":{\"pattern\":{\"fillmode\":\"overlay\",\"size\":10,\"solidity\":0.2}},\"type\":\"histogram\"}],\"scattergl\":[{\"type\":\"scattergl\",\"marker\":{\"colorbar\":{\"outlinewidth\":0,\"ticks\":\"\"}}}],\"scatter3d\":[{\"type\":\"scatter3d\",\"line\":{\"colorbar\":{\"outlinewidth\":0,\"ticks\":\"\"}},\"marker\":{\"colorbar\":{\"outlinewidth\":0,\"ticks\":\"\"}}}],\"scattermap\":[{\"type\":\"scattermap\",\"marker\":{\"colorbar\":{\"outlinewidth\":0,\"ticks\":\"\"}}}],\"scattermapbox\":[{\"type\":\"scattermapbox\",\"marker\":{\"colorbar\":{\"outlinewidth\":0,\"ticks\":\"\"}}}],\"scatterternary\":[{\"type\":\"scatterternary\",\"marker\":{\"colorbar\":{\"outlinewidth\":0,\"ticks\":\"\"}}}],\"scattercarpet\":[{\"type\":\"scattercarpet\",\"marker\":{\"colorbar\":{\"outlinewidth\":0,\"ticks\":\"\"}}}],\"carpet\":[{\"aaxis\":{\"endlinecolor\":\"#2a3f5f\",\"gridcolor\":\"white\",\"linecolor\":\"white\",\"minorgridcolor\":\"white\",\"startlinecolor\":\"#2a3f5f\"},\"baxis\":{\"endlinecolor\":\"#2a3f5f\",\"gridcolor\":\"white\",\"linecolor\":\"white\",\"minorgridcolor\":\"white\",\"startlinecolor\":\"#2a3f5f\"},\"type\":\"carpet\"}],\"table\":[{\"cells\":{\"fill\":{\"color\":\"#EBF0F8\"},\"line\":{\"color\":\"white\"}},\"header\":{\"fill\":{\"color\":\"#C8D4E3\"},\"line\":{\"color\":\"white\"}},\"type\":\"table\"}],\"barpolar\":[{\"marker\":{\"line\":{\"color\":\"#E5ECF6\",\"width\":0.5},\"pattern\":{\"fillmode\":\"overlay\",\"size\":10,\"solidity\":0.2}},\"type\":\"barpolar\"}],\"pie\":[{\"automargin\":true,\"type\":\"pie\"}]},\"layout\":{\"autotypenumbers\":\"strict\",\"colorway\":[\"#636efa\",\"#EF553B\",\"#00cc96\",\"#ab63fa\",\"#FFA15A\",\"#19d3f3\",\"#FF6692\",\"#B6E880\",\"#FF97FF\",\"#FECB52\"],\"font\":{\"color\":\"#2a3f5f\"},\"hovermode\":\"closest\",\"hoverlabel\":{\"align\":\"left\"},\"paper_bgcolor\":\"white\",\"plot_bgcolor\":\"#E5ECF6\",\"polar\":{\"bgcolor\":\"#E5ECF6\",\"angularaxis\":{\"gridcolor\":\"white\",\"linecolor\":\"white\",\"ticks\":\"\"},\"radialaxis\":{\"gridcolor\":\"white\",\"linecolor\":\"white\",\"ticks\":\"\"}},\"ternary\":{\"bgcolor\":\"#E5ECF6\",\"aaxis\":{\"gridcolor\":\"white\",\"linecolor\":\"white\",\"ticks\":\"\"},\"baxis\":{\"gridcolor\":\"white\",\"linecolor\":\"white\",\"ticks\":\"\"},\"caxis\":{\"gridcolor\":\"white\",\"linecolor\":\"white\",\"ticks\":\"\"}},\"coloraxis\":{\"colorbar\":{\"outlinewidth\":0,\"ticks\":\"\"}},\"colorscale\":{\"sequential\":[[0.0,\"#0d0887\"],[0.1111111111111111,\"#46039f\"],[0.2222222222222222,\"#7201a8\"],[0.3333333333333333,\"#9c179e\"],[0.4444444444444444,\"#bd3786\"],[0.5555555555555556,\"#d8576b\"],[0.6666666666666666,\"#ed7953\"],[0.7777777777777778,\"#fb9f3a\"],[0.8888888888888888,\"#fdca26\"],[1.0,\"#f0f921\"]],\"sequentialminus\":[[0.0,\"#0d0887\"],[0.1111111111111111,\"#46039f\"],[0.2222222222222222,\"#7201a8\"],[0.3333333333333333,\"#9c179e\"],[0.4444444444444444,\"#bd3786\"],[0.5555555555555556,\"#d8576b\"],[0.6666666666666666,\"#ed7953\"],[0.7777777777777778,\"#fb9f3a\"],[0.8888888888888888,\"#fdca26\"],[1.0,\"#f0f921\"]],\"diverging\":[[0,\"#8e0152\"],[0.1,\"#c51b7d\"],[0.2,\"#de77ae\"],[0.3,\"#f1b6da\"],[0.4,\"#fde0ef\"],[0.5,\"#f7f7f7\"],[0.6,\"#e6f5d0\"],[0.7,\"#b8e186\"],[0.8,\"#7fbc41\"],[0.9,\"#4d9221\"],[1,\"#276419\"]]},\"xaxis\":{\"gridcolor\":\"white\",\"linecolor\":\"white\",\"ticks\":\"\",\"title\":{\"standoff\":15},\"zerolinecolor\":\"white\",\"automargin\":true,\"zerolinewidth\":2},\"yaxis\":{\"gridcolor\":\"white\",\"linecolor\":\"white\",\"ticks\":\"\",\"title\":{\"standoff\":15},\"zerolinecolor\":\"white\",\"automargin\":true,\"zerolinewidth\":2},\"scene\":{\"xaxis\":{\"backgroundcolor\":\"#E5ECF6\",\"gridcolor\":\"white\",\"linecolor\":\"white\",\"showbackground\":true,\"ticks\":\"\",\"zerolinecolor\":\"white\",\"gridwidth\":2},\"yaxis\":{\"backgroundcolor\":\"#E5ECF6\",\"gridcolor\":\"white\",\"linecolor\":\"white\",\"showbackground\":true,\"ticks\":\"\",\"zerolinecolor\":\"white\",\"gridwidth\":2},\"zaxis\":{\"backgroundcolor\":\"#E5ECF6\",\"gridcolor\":\"white\",\"linecolor\":\"white\",\"showbackground\":true,\"ticks\":\"\",\"zerolinecolor\":\"white\",\"gridwidth\":2}},\"shapedefaults\":{\"line\":{\"color\":\"#2a3f5f\"}},\"annotationdefaults\":{\"arrowcolor\":\"#2a3f5f\",\"arrowhead\":0,\"arrowwidth\":1},\"geo\":{\"bgcolor\":\"white\",\"landcolor\":\"#E5ECF6\",\"subunitcolor\":\"white\",\"showland\":true,\"showlakes\":true,\"lakecolor\":\"white\"},\"title\":{\"x\":0.05},\"mapbox\":{\"style\":\"light\"}}},\"xaxis\":{\"anchor\":\"y\",\"domain\":[0.0,1.0],\"title\":{\"text\":\"Hour\"}},\"yaxis\":{\"anchor\":\"x\",\"domain\":[0.0,1.0],\"title\":{\"text\":\"Volume BTC\"}},\"legend\":{\"tracegroupgap\":0},\"title\":{\"text\":\"Volume \\u00e9chang\\u00e9 par heure\"},\"barmode\":\"relative\",\"height\":500},                        {\"responsive\": true}                    ).then(function(){\n",
              "                            \n",
              "var gd = document.getElementById('a9456015-c2ce-4012-adce-61502da53ff5');\n",
              "var x = new MutationObserver(function (mutations, observer) {{\n",
              "        var display = window.getComputedStyle(gd).display;\n",
              "        if (!display || display === 'none') {{\n",
              "            console.log([gd, 'removed!']);\n",
              "            Plotly.purge(gd);\n",
              "            observer.disconnect();\n",
              "        }}\n",
              "}});\n",
              "\n",
              "// Listen for the removal of the full notebook cells\n",
              "var notebookContainer = gd.closest('#notebook-container');\n",
              "if (notebookContainer) {{\n",
              "    x.observe(notebookContainer, {childList: true});\n",
              "}}\n",
              "\n",
              "// Listen for the clearing of the current output cell\n",
              "var outputEl = gd.closest('.output');\n",
              "if (outputEl) {{\n",
              "    x.observe(outputEl, {childList: true});\n",
              "}}\n",
              "\n",
              "                        })                };            </script>        </div>"
            ]
          },
          "metadata": {},
          "output_type": "display_data"
        }
      ],
      "source": [
        "#'''############## WRITE YOUR ANSWER HERE ##############'''\n",
        "\n",
        "#Dans cette analyse, on cherche à comprendre à quels moments de la journée le volume de Bitcoin échangé est le plus élevé.\n",
        "# année 2024\n",
        "\n",
        "import datetime as dt\n",
        "import plotly.express as px\n",
        "\n",
        "# Définir le début et la fin de l’année\n",
        "beg = dt.datetime(2024, 1, 1)\n",
        "end = dt.datetime(2025, 1, 1)\n",
        "\n",
        "df_spark_filtered = df_spark.filter((col(\"Date_Time\") >= beg) & (col(\"Date_Time\") < end))\n",
        "\n",
        "# Convertir en pandas\n",
        "dfp = df_spark_filtered.toPandas()\n",
        "\n",
        "dfp[\"Date_Time\"] = pa.to_datetime(dfp[\"Date_Time\"])\n",
        "\n",
        "# Extraire l'heure pour regrouper par heure de la journée\n",
        "dfp[\"Hour\"] = dfp[\"Date_Time\"].dt.hour\n",
        "\n",
        "# Regrouper par heure et sommer les volumes\n",
        "volume_per_hour = dfp.groupby(\"Hour\")[\"Volume_BTC\"].sum().reset_index()\n",
        "\n",
        "# Affichage du volume par heure\n",
        "fig = px.bar(volume_per_hour, x=\"Hour\", y=\"Volume_BTC\", title=\"Volume échangé par heure\", labels={\"Volume_BTC\": \"Volume BTC\"})\n",
        "fig.update_layout(height=500)\n",
        "fig.show()\n",
        "\n",
        "#'''############## END OF THE EXERCISE ##############'''"
      ]
    },
    {
      "cell_type": "markdown",
      "metadata": {
        "id": "524h_jgeVXqB"
      },
      "source": [
        "### Conclusion\n",
        "\n",
        "<p align=\"justify\">\n",
        "<font size=\"3\">\n",
        "$ApplyinPandas$ can be very powerful when you need to apply advanced Python code or Python libraries (i.e. <a href=\"https://scikit-learn.org/stable/\">scikit-learn</a>  otherwise you can use Pyspark routines relying on most powerful storage techniques for example using Parquet.\n",
        "\n",
        "    \n",
        "</font>\n",
        "</p>"
      ]
    }
  ],
  "metadata": {
    "colab": {
      "provenance": []
    },
    "kernelspec": {
      "display_name": "spark",
      "language": "python",
      "name": "python3"
    },
    "language_info": {
      "codemirror_mode": {
        "name": "ipython",
        "version": 3
      },
      "file_extension": ".py",
      "mimetype": "text/x-python",
      "name": "python",
      "nbconvert_exporter": "python",
      "pygments_lexer": "ipython3",
      "version": "3.10.12"
    }
  },
  "nbformat": 4,
  "nbformat_minor": 0
}
